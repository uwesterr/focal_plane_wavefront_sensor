{
  "cells": [
    {
      "cell_type": "markdown",
      "source": [
        "# 🚀 Install, Import, and Log in"
      ],
      "metadata": {
        "id": "PIIQxWeVW4Pj"
      }
    },
    {
      "cell_type": "markdown",
      "source": [
        "### Step 0️⃣: Install W&B"
      ],
      "metadata": {
        "id": "wmlhYoBlOxYd"
      }
    },
    {
      "cell_type": "code",
      "execution_count": 13,
      "source": [
        "%%capture\n",
        "#!pip install wandb\n",
        "!pip install pandas"
      ],
      "outputs": [],
      "metadata": {
        "id": "sAZBTFNQq0ys"
      }
    },
    {
      "cell_type": "markdown",
      "source": [
        "### Step 1️⃣: Import W&B and Login"
      ],
      "metadata": {
        "id": "Tu-KHLAeO3wi"
      }
    },
    {
      "cell_type": "code",
      "execution_count": 14,
      "source": [
        "import tensorflow as tf\n",
        "from tensorflow import keras\n",
        "from tensorflow.keras import layers\n",
        "\n",
        "import os\n",
        "import numpy as np\n",
        "import pandas as pd\n",
        "#import matplotlib.pyplot as plt\n",
        "import pickle5 as pickle\n",
        "\n",
        "from sklearn.model_selection import train_test_split \n",
        "\n",
        "#%matplotlib inline"
      ],
      "outputs": [],
      "metadata": {
        "id": "jkWTZxIyysDm"
      }
    },
    {
      "cell_type": "code",
      "execution_count": 15,
      "source": [
        "import wandb\n",
        "from wandb.keras import WandbCallback\n",
        "\n",
        "#wandb.init()  # defaults are over-ridden during the sweep\n",
        "\n",
        "\n",
        "wandb.login()"
      ],
      "outputs": [
        {
          "output_type": "execute_result",
          "data": {
            "text/plain": [
              "True"
            ]
          },
          "metadata": {},
          "execution_count": 15
        }
      ],
      "metadata": {
        "id": "XmVkQbw_q_07"
      }
    },
    {
      "cell_type": "code",
      "execution_count": 16,
      "source": [
        "\n",
        "fluxData_df =pd.read_hdf(\"data/fluxData_df.h5\", key=\"fluxData_df\")\n",
        "zernikeData_df =pd.read_hdf(\"data/zernikeData_df.h5\", key=\"zernikeData_df\")"
      ],
      "outputs": [],
      "metadata": {}
    },
    {
      "cell_type": "markdown",
      "source": [
        "Read data in"
      ],
      "metadata": {
        "id": "hNw4gP_Oqx7c"
      }
    },
    {
      "cell_type": "markdown",
      "source": [
        "# 👩‍🍳 Prepare Dataset"
      ],
      "metadata": {
        "id": "Nhe7pVMlwv4H"
      }
    },
    {
      "cell_type": "code",
      "execution_count": 17,
      "source": [
        "# Prepare the training dataset\n",
        "X = fluxData_df\n",
        "y = zernikeData_df\n",
        "x_train, x_test, y_train, y_test = train_test_split(\n",
        "    X, y, test_size=0.1, random_state=42)\n"
      ],
      "outputs": [],
      "metadata": {
        "id": "xnxsNbPmMvqr"
      }
    },
    {
      "cell_type": "markdown",
      "source": [
        "# Build simple Model"
      ],
      "metadata": {}
    },
    {
      "cell_type": "code",
      "execution_count": 18,
      "source": [
        "AoModel = keras.Sequential([\n",
        "     keras.layers.InputLayer(19, name=\"digits\"),\n",
        "     keras.layers.Dense(2000, activation=\"relu\"),\n",
        "     keras.layers.Dense(1050, activation=\"relu\"),\n",
        "     keras.layers.Dense(100, activation=\"relu\"),\n",
        "     keras.layers.Dense(9, activation=\"linear\", name=\"predictions\"),\n",
        "\n",
        "])\n",
        "AoModel.summary()"
      ],
      "outputs": [
        {
          "output_type": "stream",
          "name": "stdout",
          "text": [
            "Model: \"sequential_1\"\n",
            "_________________________________________________________________\n",
            "Layer (type)                 Output Shape              Param #   \n",
            "=================================================================\n",
            "dense_3 (Dense)              (None, 2000)              40000     \n",
            "_________________________________________________________________\n",
            "dense_4 (Dense)              (None, 1050)              2101050   \n",
            "_________________________________________________________________\n",
            "dense_5 (Dense)              (None, 100)               105100    \n",
            "_________________________________________________________________\n",
            "predictions (Dense)          (None, 9)                 909       \n",
            "=================================================================\n",
            "Total params: 2,247,059\n",
            "Trainable params: 2,247,059\n",
            "Non-trainable params: 0\n",
            "_________________________________________________________________\n"
          ]
        }
      ],
      "metadata": {}
    },
    {
      "cell_type": "code",
      "execution_count": 19,
      "source": [
        "batch_size = 128\n",
        "epochs = 200\n",
        "\n",
        "\n",
        "    # optimizer='sgd',\n",
        "    # loss='mse',\n",
        "    # metrics=[tf.keras.metrics.RootMeanSquaredError()])\n",
        "\n",
        "\n",
        "\n",
        "AoModel.compile(loss= keras.losses.MeanSquaredError(), optimizer=\"adam\", metrics= [tf.keras.metrics.RootMeanSquaredError()])\n",
        "#AoModel.fit(x_train, y_train, batch_size=batch_size, epochs=epochs, verbose = 2,  callbacks=[WandbCallback()])\n",
        "\n",
        "#AoModel.fit(x_train, y_train, batch_size=batch_size, epochs=epochs, validation_split=0.1, callbacks=[WandbCallback()])"
      ],
      "outputs": [],
      "metadata": {}
    },
    {
      "cell_type": "markdown",
      "source": [
        "# 🧠 Define the wandb sweep"
      ],
      "metadata": {
        "id": "ftU5d82stSdV"
      }
    },
    {
      "cell_type": "markdown",
      "source": [],
      "metadata": {}
    },
    {
      "cell_type": "code",
      "execution_count": 20,
      "source": [
        "os.environ[\"WANDB_NOTEBOOK_NAME\"] = \"AoKerasStudio.ipynb\"\n",
        "\n",
        "sweep_config = {\n",
        "    \"method\": \"random\", # try grid or random\n",
        "\n",
        "    \"parameters\": {\n",
        "        \"booster\": {\n",
        "            \"values\": [\"gbtree\"]\n",
        "        },\n",
        "        \"max_depth\": {\n",
        "      \"min\": 6,\n",
        "      \"max\": 10\n",
        "        },\n",
        "\n",
        "    \"learning_rate\" :{\n",
        "        \"values\": [0.04954]\n",
        "        },        \n",
        "    \"subsample\": {\n",
        "        \"values\": [0.4372]\n",
        "    },\n",
        "    \"colsample_bynode\": {\n",
        "        \"values\": [0.7597]\n",
        "    },    \n",
        "    \"n_estimators\": {\n",
        "        \"values\": [3000, 10000, 20000]\n",
        "    },\n",
        "    \"reg_alpha\": {\n",
        "        \"values\": [0.1668]\n",
        "    },    \n",
        "    \"reg_lambda\": {\n",
        "        \"values\": [0.5222]\n",
        "    }                \n",
        "    }\n",
        "}"
      ],
      "outputs": [],
      "metadata": {}
    },
    {
      "cell_type": "code",
      "execution_count": 21,
      "source": [
        "## Define training loop"
      ],
      "outputs": [],
      "metadata": {}
    },
    {
      "cell_type": "code",
      "execution_count": 22,
      "source": [
        "def train():\n",
        "  config_defaults = {\n",
        "  \"booster\": \"gbtree\",\n",
        "  \"max_depth\": 3,\n",
        "  \"learning_rate\": 0.1,\n",
        "  \"subsample\": 1,\n",
        "  \"seed\": 117,\n",
        "  \"test_size\": 0.33,\n",
        "}\n",
        "  wandb.init(config=config_defaults)  # defaults are over-ridden during the sweep\n",
        "  #config = wandb.config\n",
        "  AoModel.fit(x_train, y_train, batch_size=batch_size, epochs=epochs, verbose = 2,  callbacks=[WandbCallback()])\n",
        "  wandb.log()"
      ],
      "outputs": [],
      "metadata": {}
    },
    {
      "cell_type": "markdown",
      "source": [
        "## Initialize sweep"
      ],
      "metadata": {}
    },
    {
      "cell_type": "code",
      "execution_count": 23,
      "source": [
        "sweep_id = wandb.sweep(sweep_config, entity = \"uwe-sterr\",project=\"KerasAoSweep\")\n",
        "wandb.run"
      ],
      "outputs": [
        {
          "output_type": "stream",
          "name": "stdout",
          "text": [
            "Create sweep with ID: xzrv0sqq\n",
            "Sweep URL: https://wandb.ai/uwe-sterr/KerasAoSweep/sweeps/xzrv0sqq\n"
          ]
        }
      ],
      "metadata": {}
    },
    {
      "cell_type": "markdown",
      "source": [
        "## Run sweep"
      ],
      "metadata": {}
    },
    {
      "cell_type": "code",
      "execution_count": 24,
      "source": [
        "wandb.agent(sweep_id, train, count=2)"
      ],
      "outputs": [
        {
          "output_type": "stream",
          "name": "stderr",
          "text": [
            "\u001b[34m\u001b[1mwandb\u001b[0m: Agent Starting Run: 54mf4d6o with config:\n",
            "\u001b[34m\u001b[1mwandb\u001b[0m: \tbooster: gbtree\n",
            "\u001b[34m\u001b[1mwandb\u001b[0m: \tcolsample_bynode: 0.7597\n",
            "\u001b[34m\u001b[1mwandb\u001b[0m: \tlearning_rate: 0.04954\n",
            "\u001b[34m\u001b[1mwandb\u001b[0m: \tmax_depth: 8\n",
            "\u001b[34m\u001b[1mwandb\u001b[0m: \tn_estimators: 20000\n",
            "\u001b[34m\u001b[1mwandb\u001b[0m: \treg_alpha: 0.1668\n",
            "\u001b[34m\u001b[1mwandb\u001b[0m: \treg_lambda: 0.5222\n",
            "\u001b[34m\u001b[1mwandb\u001b[0m: \tsubsample: 0.4372\n"
          ]
        },
        {
          "output_type": "display_data",
          "data": {
            "text/plain": [
              "<IPython.core.display.HTML object>"
            ],
            "text/html": [
              "\n",
              "                Tracking run with wandb version 0.10.33<br/>\n",
              "                Syncing run <strong style=\"color:#cdcd00\">super-sweep-1</strong> to <a href=\"https://wandb.ai\" target=\"_blank\">Weights & Biases</a> <a href=\"https://docs.wandb.com/integrations/jupyter.html\" target=\"_blank\">(Documentation)</a>.<br/>\n",
              "                Project page: <a href=\"https://wandb.ai/uwe-sterr/KerasAoSweep\" target=\"_blank\">https://wandb.ai/uwe-sterr/KerasAoSweep</a><br/>\n",
              "                Sweep page: <a href=\"https://wandb.ai/uwe-sterr/KerasAoSweep/sweeps/xzrv0sqq\" target=\"_blank\">https://wandb.ai/uwe-sterr/KerasAoSweep/sweeps/xzrv0sqq</a><br/>\n",
              "Run page: <a href=\"https://wandb.ai/uwe-sterr/KerasAoSweep/runs/54mf4d6o\" target=\"_blank\">https://wandb.ai/uwe-sterr/KerasAoSweep/runs/54mf4d6o</a><br/>\n",
              "                Run data is saved locally in <code>/home/uwe/Documents/AoSydneyGitHub/focal_plane_wavefront_sensor/source/wandb/run-20210709_121412-54mf4d6o</code><br/><br/>\n",
              "            "
            ]
          },
          "metadata": {}
        },
        {
          "output_type": "display_data",
          "data": {
            "text/plain": [
              "<IPython.core.display.HTML object>"
            ],
            "text/html": [
              "<br/>Waiting for W&B process to finish, PID 5116<br/>Program failed with code 1.  Press ctrl-c to abort syncing."
            ]
          },
          "metadata": {}
        },
        {
          "output_type": "display_data",
          "data": {
            "text/plain": [
              "VBox(children=(Label(value=' 0.16MB of 0.16MB uploaded (0.00MB deduped)\\r'), FloatProgress(value=1.0, max=1.0)…"
            ],
            "application/vnd.jupyter.widget-view+json": {
              "version_major": 2,
              "version_minor": 0,
              "model_id": "9c36672d8a4b4c1db9dbf6e0857df191"
            }
          },
          "metadata": {}
        },
        {
          "output_type": "display_data",
          "data": {
            "text/plain": [
              "<IPython.core.display.HTML object>"
            ],
            "text/html": [
              "Find user logs for this run at: <code>/home/uwe/Documents/AoSydneyGitHub/focal_plane_wavefront_sensor/source/wandb/run-20210709_121412-54mf4d6o/logs/debug.log</code>"
            ]
          },
          "metadata": {}
        },
        {
          "output_type": "display_data",
          "data": {
            "text/plain": [
              "<IPython.core.display.HTML object>"
            ],
            "text/html": [
              "Find internal logs for this run at: <code>/home/uwe/Documents/AoSydneyGitHub/focal_plane_wavefront_sensor/source/wandb/run-20210709_121412-54mf4d6o/logs/debug-internal.log</code>"
            ]
          },
          "metadata": {}
        },
        {
          "output_type": "display_data",
          "data": {
            "text/plain": [
              "<IPython.core.display.HTML object>"
            ],
            "text/html": [
              "Synced 6 W&B file(s), 0 media file(s), 2 artifact file(s) and 1 other file(s)"
            ]
          },
          "metadata": {}
        },
        {
          "output_type": "display_data",
          "data": {
            "text/plain": [
              "<IPython.core.display.HTML object>"
            ],
            "text/html": [
              "\n",
              "                    <br/>Synced <strong style=\"color:#cdcd00\">super-sweep-1</strong>: <a href=\"https://wandb.ai/uwe-sterr/KerasAoSweep/runs/54mf4d6o\" target=\"_blank\">https://wandb.ai/uwe-sterr/KerasAoSweep/runs/54mf4d6o</a><br/>\n",
              "                "
            ]
          },
          "metadata": {}
        },
        {
          "output_type": "stream",
          "name": "stderr",
          "text": [
            "Run 54mf4d6o errored: ValueError('Tensor(\"Adam_1/dense_3/kernel/m:0\", shape=(), dtype=resource) must be from the same graph as Tensor(\"dense_3/kernel:0\", shape=(), dtype=resource).')\n",
            "\u001b[34m\u001b[1mwandb\u001b[0m: \u001b[32m\u001b[41mERROR\u001b[0m Run 54mf4d6o errored: ValueError('Tensor(\"Adam_1/dense_3/kernel/m:0\", shape=(), dtype=resource) must be from the same graph as Tensor(\"dense_3/kernel:0\", shape=(), dtype=resource).')\n",
            "\u001b[34m\u001b[1mwandb\u001b[0m: Agent Starting Run: igpz422o with config:\n",
            "\u001b[34m\u001b[1mwandb\u001b[0m: \tbooster: gbtree\n",
            "\u001b[34m\u001b[1mwandb\u001b[0m: \tcolsample_bynode: 0.7597\n",
            "\u001b[34m\u001b[1mwandb\u001b[0m: \tlearning_rate: 0.04954\n",
            "\u001b[34m\u001b[1mwandb\u001b[0m: \tmax_depth: 8\n",
            "\u001b[34m\u001b[1mwandb\u001b[0m: \tn_estimators: 10000\n",
            "\u001b[34m\u001b[1mwandb\u001b[0m: \treg_alpha: 0.1668\n",
            "\u001b[34m\u001b[1mwandb\u001b[0m: \treg_lambda: 0.5222\n",
            "\u001b[34m\u001b[1mwandb\u001b[0m: \tsubsample: 0.4372\n"
          ]
        },
        {
          "output_type": "display_data",
          "data": {
            "text/plain": [
              "<IPython.core.display.HTML object>"
            ],
            "text/html": [
              "\n",
              "                Tracking run with wandb version 0.10.33<br/>\n",
              "                Syncing run <strong style=\"color:#cdcd00\">dauntless-sweep-2</strong> to <a href=\"https://wandb.ai\" target=\"_blank\">Weights & Biases</a> <a href=\"https://docs.wandb.com/integrations/jupyter.html\" target=\"_blank\">(Documentation)</a>.<br/>\n",
              "                Project page: <a href=\"https://wandb.ai/uwe-sterr/KerasAoSweep\" target=\"_blank\">https://wandb.ai/uwe-sterr/KerasAoSweep</a><br/>\n",
              "                Sweep page: <a href=\"https://wandb.ai/uwe-sterr/KerasAoSweep/sweeps/xzrv0sqq\" target=\"_blank\">https://wandb.ai/uwe-sterr/KerasAoSweep/sweeps/xzrv0sqq</a><br/>\n",
              "Run page: <a href=\"https://wandb.ai/uwe-sterr/KerasAoSweep/runs/igpz422o\" target=\"_blank\">https://wandb.ai/uwe-sterr/KerasAoSweep/runs/igpz422o</a><br/>\n",
              "                Run data is saved locally in <code>/home/uwe/Documents/AoSydneyGitHub/focal_plane_wavefront_sensor/source/wandb/run-20210709_121421-igpz422o</code><br/><br/>\n",
              "            "
            ]
          },
          "metadata": {}
        },
        {
          "output_type": "display_data",
          "data": {
            "text/plain": [
              "<IPython.core.display.HTML object>"
            ],
            "text/html": [
              "<br/>Waiting for W&B process to finish, PID 5177<br/>Program failed with code 1.  Press ctrl-c to abort syncing."
            ]
          },
          "metadata": {}
        },
        {
          "output_type": "display_data",
          "data": {
            "text/plain": [
              "VBox(children=(Label(value=' 0.16MB of 0.16MB uploaded (0.00MB deduped)\\r'), FloatProgress(value=1.0, max=1.0)…"
            ],
            "application/vnd.jupyter.widget-view+json": {
              "version_major": 2,
              "version_minor": 0,
              "model_id": "b437c04172e247788bec9d0bc27b87c7"
            }
          },
          "metadata": {}
        },
        {
          "output_type": "display_data",
          "data": {
            "text/plain": [
              "<IPython.core.display.HTML object>"
            ],
            "text/html": [
              "Find user logs for this run at: <code>/home/uwe/Documents/AoSydneyGitHub/focal_plane_wavefront_sensor/source/wandb/run-20210709_121421-igpz422o/logs/debug.log</code>"
            ]
          },
          "metadata": {}
        },
        {
          "output_type": "display_data",
          "data": {
            "text/plain": [
              "<IPython.core.display.HTML object>"
            ],
            "text/html": [
              "Find internal logs for this run at: <code>/home/uwe/Documents/AoSydneyGitHub/focal_plane_wavefront_sensor/source/wandb/run-20210709_121421-igpz422o/logs/debug-internal.log</code>"
            ]
          },
          "metadata": {}
        },
        {
          "output_type": "display_data",
          "data": {
            "text/plain": [
              "<IPython.core.display.HTML object>"
            ],
            "text/html": [
              "Synced 6 W&B file(s), 0 media file(s), 2 artifact file(s) and 1 other file(s)"
            ]
          },
          "metadata": {}
        },
        {
          "output_type": "display_data",
          "data": {
            "text/plain": [
              "<IPython.core.display.HTML object>"
            ],
            "text/html": [
              "\n",
              "                    <br/>Synced <strong style=\"color:#cdcd00\">dauntless-sweep-2</strong>: <a href=\"https://wandb.ai/uwe-sterr/KerasAoSweep/runs/igpz422o\" target=\"_blank\">https://wandb.ai/uwe-sterr/KerasAoSweep/runs/igpz422o</a><br/>\n",
              "                "
            ]
          },
          "metadata": {}
        },
        {
          "output_type": "stream",
          "name": "stderr",
          "text": [
            "Run igpz422o errored: ValueError('Tensor(\"Adam_1/dense_3/kernel/m:0\", shape=(), dtype=resource) must be from the same graph as Tensor(\"dense_3/kernel:0\", shape=(), dtype=resource).')\n",
            "\u001b[34m\u001b[1mwandb\u001b[0m: \u001b[32m\u001b[41mERROR\u001b[0m Run igpz422o errored: ValueError('Tensor(\"Adam_1/dense_3/kernel/m:0\", shape=(), dtype=resource) must be from the same graph as Tensor(\"dense_3/kernel:0\", shape=(), dtype=resource).')\n"
          ]
        }
      ],
      "metadata": {}
    },
    {
      "cell_type": "markdown",
      "source": [],
      "metadata": {}
    }
  ],
  "metadata": {
    "accelerator": "GPU",
    "colab": {
      "collapsed_sections": [],
      "name": "Hyperparameter Optimization in TensorFlow using W&B Sweeps",
      "private_outputs": true,
      "provenance": [],
      "toc_visible": true
    },
    "interpreter": {
      "hash": "480a8e7f8b1be068d409ea33b890b25d8a792f4fc9f032a903f32caf5295501b"
    },
    "kernelspec": {
      "display_name": "Python 3.7.10 64-bit ('tf-gpu-cuda8': conda)",
      "name": "python3"
    },
    "language_info": {
      "codemirror_mode": {
        "name": "ipython",
        "version": 3
      },
      "file_extension": ".py",
      "mimetype": "text/x-python",
      "name": "python",
      "nbconvert_exporter": "python",
      "pygments_lexer": "ipython3",
      "version": "3.7.10"
    }
  },
  "nbformat": 4,
  "nbformat_minor": 2
}