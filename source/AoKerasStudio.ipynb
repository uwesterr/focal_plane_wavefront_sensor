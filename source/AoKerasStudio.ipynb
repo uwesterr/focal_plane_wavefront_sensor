{
  "cells": [
    {
      "cell_type": "markdown",
      "metadata": {
        "id": "PIIQxWeVW4Pj"
      },
      "source": [
        "# 🚀 Install, Import, and Log in"
      ]
    },
    {
      "cell_type": "markdown",
      "metadata": {
        "id": "wmlhYoBlOxYd"
      },
      "source": [
        "### Step 0️⃣: Install W&B"
      ]
    },
    {
      "cell_type": "code",
      "execution_count": 1,
      "metadata": {
        "id": "sAZBTFNQq0ys"
      },
      "outputs": [],
      "source": [
        "%%capture\n",
        "#!pip install wandb\n",
        "!pip install pandas"
      ]
    },
    {
      "cell_type": "markdown",
      "metadata": {
        "id": "Tu-KHLAeO3wi"
      },
      "source": [
        "### Step 1️⃣: Import W&B and Login"
      ]
    },
    {
      "cell_type": "code",
      "execution_count": 2,
      "metadata": {
        "id": "jkWTZxIyysDm"
      },
      "outputs": [],
      "source": [
        "import tensorflow as tf\n",
        "from tensorflow import keras\n",
        "from tensorflow.keras import layers\n",
        "\n",
        "import os\n",
        "import numpy as np\n",
        "import pandas as pd\n",
        "#import matplotlib.pyplot as plt\n",
        "\n",
        "from sklearn.model_selection import train_test_split \n",
        "\n",
        "#%matplotlib inline"
      ]
    },
    {
      "cell_type": "code",
      "execution_count": 3,
      "metadata": {
        "id": "XmVkQbw_q_07"
      },
      "outputs": [],
      "source": [
        "import wandb\n",
        "from wandb.keras import WandbCallback\n",
        "\n",
        "#wandb.init()  # defaults are over-ridden during the sweep\n",
        "\n",
        "\n",
        "#wandb.login()"
      ]
    },
    {
      "cell_type": "code",
      "execution_count": 4,
      "metadata": {},
      "outputs": [],
      "source": [
        "\n",
        "fluxData_df =pd.read_hdf(\"data/fluxData_df.h5\", key=\"fluxData_df\")\n",
        "\n",
        "zernikeData_df =pd.read_hdf(\"data/zernikeData_df.h5\", key=\"zernikeData_df\")"
      ]
    },
    {
      "cell_type": "markdown",
      "metadata": {
        "id": "hNw4gP_Oqx7c"
      },
      "source": [
        "Read data in"
      ]
    },
    {
      "cell_type": "markdown",
      "metadata": {
        "id": "Nhe7pVMlwv4H"
      },
      "source": [
        "# 👩‍🍳 Prepare Dataset"
      ]
    },
    {
      "cell_type": "code",
      "execution_count": 5,
      "metadata": {
        "id": "xnxsNbPmMvqr"
      },
      "outputs": [],
      "source": [
        "# Prepare the training dataset\n",
        "X = fluxData_df\n",
        "y = zernikeData_df\n",
        "x_train, x_test, y_train, y_test = train_test_split(\n",
        "    X, y, test_size=0.1, random_state=42)\n"
      ]
    },
    {
      "cell_type": "markdown",
      "metadata": {},
      "source": [
        "# Build simple Model"
      ]
    },
    {
      "cell_type": "code",
      "execution_count": 6,
      "metadata": {},
      "outputs": [
        {
          "name": "stdout",
          "output_type": "stream",
          "text": [
            "Model: \"sequential\"\n",
            "_________________________________________________________________\n",
            "Layer (type)                 Output Shape              Param #   \n",
            "=================================================================\n",
            "dense (Dense)                (None, 2000)              40000     \n",
            "_________________________________________________________________\n",
            "dense_1 (Dense)              (None, 1050)              2101050   \n",
            "_________________________________________________________________\n",
            "dense_2 (Dense)              (None, 100)               105100    \n",
            "_________________________________________________________________\n",
            "predictions (Dense)          (None, 9)                 909       \n",
            "=================================================================\n",
            "Total params: 2,247,059\n",
            "Trainable params: 2,247,059\n",
            "Non-trainable params: 0\n",
            "_________________________________________________________________\n"
          ]
        }
      ],
      "source": [
        "AoModel = keras.Sequential([\n",
        "     keras.layers.InputLayer(19, name=\"digits\"),\n",
        "     keras.layers.Dense(2000, activation=\"relu\"),\n",
        "     keras.layers.Dense(1050, activation=\"relu\"),\n",
        "     keras.layers.Dense(100, activation=\"relu\"),\n",
        "     keras.layers.Dense(9, activation=\"linear\", name=\"predictions\"),\n",
        "\n",
        "])\n",
        "AoModel.summary()"
      ]
    },
    {
      "cell_type": "code",
      "execution_count": 7,
      "metadata": {},
      "outputs": [],
      "source": [
        "batch_size = 128\n",
        "epochs = 200\n",
        "\n",
        "\n",
        "    # optimizer='sgd',\n",
        "    # loss='mse',\n",
        "    # metrics=[tf.keras.metrics.RootMeanSquaredError()])\n",
        "\n",
        "\n",
        "\n",
        "AoModel.compile(loss= keras.losses.MeanSquaredError(), optimizer=\"adam\", metrics= [tf.keras.metrics.RootMeanSquaredError()])\n",
        "#AoModel.fit(x_train, y_train, batch_size=batch_size, epochs=epochs, verbose = 2,  callbacks=[WandbCallback()])\n",
        "\n",
        "#AoModel.fit(x_train, y_train, batch_size=batch_size, epochs=epochs, validation_split=0.1, callbacks=[WandbCallback()])"
      ]
    },
    {
      "cell_type": "markdown",
      "metadata": {
        "id": "ftU5d82stSdV"
      },
      "source": [
        "# 🧠 Define the wandb sweep"
      ]
    },
    {
      "cell_type": "markdown",
      "metadata": {},
      "source": []
    },
    {
      "cell_type": "code",
      "execution_count": 8,
      "metadata": {},
      "outputs": [],
      "source": [
        "os.environ[\"WANDB_NOTEBOOK_NAME\"] = \"AoKerasStudio.ipynb\"\n",
        "\n",
        "sweep_config = {\n",
        "    \"method\": \"random\", # try grid or random\n",
        "    \"metric\": {\n",
        "        \"name\": \"val_root_mean_squared_error\",\n",
        "        \"goal\": \"minimize\"\n",
        "    },\n",
        "    \"parameters\": {\n",
        "        \"booster\": {\n",
        "            \"values\": [\"gbtree\"]\n",
        "        },\n",
        "        \"max_depth\": {\n",
        "      \"min\": 6,\n",
        "      \"max\": 10\n",
        "        },\n",
        "\n",
        "\n",
        "    \"learning_rate\" :{\n",
        "        \"values\": [0.04954]\n",
        "        },        \n",
        "    \"subsample\": {\n",
        "        \"values\": [0.4372]\n",
        "    },\n",
        "    \"colsample_bynode\": {\n",
        "        \"values\": [0.7597]\n",
        "    },    \n",
        "    \"n_estimators\": {\n",
        "        \"values\": [3000, 10000, 20000]\n",
        "    },\n",
        "    \"reg_alpha\": {\n",
        "        \"values\": [0.1668]\n",
        "    },    \n",
        "    \"reg_lambda\": {\n",
        "        \"values\": [0.5222]\n",
        "    }                \n",
        "    }\n",
        "}"
      ]
    },
    {
      "cell_type": "code",
      "execution_count": 9,
      "metadata": {},
      "outputs": [],
      "source": [
        "## Define training loop"
      ]
    },
    {
      "cell_type": "code",
      "execution_count": 10,
      "metadata": {},
      "outputs": [],
      "source": [
        "def train():\n",
        "  config_defaults = {\n",
        "  \"booster\": \"gbtree\",\n",
        "  \"max_depth\": 3,\n",
        "  \"learning_rate\": 0.1,\n",
        "  \"subsample\": 1,\n",
        "  \"seed\": 117,\n",
        "  \"test_size\": 0.33,\n",
        "}\n",
        "  wandb.init(config=config_defaults)  # defaults are over-ridden during the sweep\n",
        "  #config = wandb.config\n",
        "  AoModel.fit(x_train, y_train, batch_size=batch_size, epochs=epochs, verbose = 2,validation_split = 0.2 , callbacks=[WandbCallback()])\n",
        "  wandb.log({\"error\": \"val_root_mean_squared_error\"})"
      ]
    },
    {
      "cell_type": "markdown",
      "metadata": {},
      "source": [
        "## Initialize sweep"
      ]
    },
    {
      "cell_type": "code",
      "execution_count": 11,
      "metadata": {},
      "outputs": [
        {
          "name": "stdout",
          "output_type": "stream",
          "text": [
            "Create sweep with ID: sy5zaaoc\n",
            "Sweep URL: https://wandb.ai/uwe-sterr/KerasAoSweep/sweeps/sy5zaaoc\n"
          ]
        }
      ],
      "source": [
        "sweep_id = wandb.sweep(sweep_config, entity = \"uwe-sterr\",project=\"KerasAoSweep\")\n",
        "wandb.run"
      ]
    },
    {
      "cell_type": "markdown",
      "metadata": {},
      "source": [
        "## Run sweep"
      ]
    },
    {
      "cell_type": "code",
      "execution_count": 12,
      "metadata": {},
      "outputs": [
        {
          "name": "stderr",
          "output_type": "stream",
          "text": [
            "\u001b[34m\u001b[1mwandb\u001b[0m: Agent Starting Run: eew3xood with config:\n",
            "\u001b[34m\u001b[1mwandb\u001b[0m: \tbooster: gbtree\n",
            "\u001b[34m\u001b[1mwandb\u001b[0m: \tcolsample_bynode: 0.7597\n",
            "\u001b[34m\u001b[1mwandb\u001b[0m: \tlearning_rate: 0.04954\n",
            "\u001b[34m\u001b[1mwandb\u001b[0m: \tmax_depth: 9\n",
            "\u001b[34m\u001b[1mwandb\u001b[0m: \tn_estimators: 10000\n",
            "\u001b[34m\u001b[1mwandb\u001b[0m: \treg_alpha: 0.1668\n",
            "\u001b[34m\u001b[1mwandb\u001b[0m: \treg_lambda: 0.5222\n",
            "\u001b[34m\u001b[1mwandb\u001b[0m: \tsubsample: 0.4372\n",
            "\u001b[34m\u001b[1mwandb\u001b[0m: Currently logged in as: \u001b[33muwe-sterr\u001b[0m (use `wandb login --relogin` to force relogin)\n"
          ]
        },
        {
          "data": {
            "text/html": [
              "\n",
              "                Tracking run with wandb version 0.10.33<br/>\n",
              "                Syncing run <strong style=\"color:#cdcd00\">lively-sweep-1</strong> to <a href=\"https://wandb.ai\" target=\"_blank\">Weights & Biases</a> <a href=\"https://docs.wandb.com/integrations/jupyter.html\" target=\"_blank\">(Documentation)</a>.<br/>\n",
              "                Project page: <a href=\"https://wandb.ai/uwe-sterr/KerasAoSweep\" target=\"_blank\">https://wandb.ai/uwe-sterr/KerasAoSweep</a><br/>\n",
              "                Sweep page: <a href=\"https://wandb.ai/uwe-sterr/KerasAoSweep/sweeps/sy5zaaoc\" target=\"_blank\">https://wandb.ai/uwe-sterr/KerasAoSweep/sweeps/sy5zaaoc</a><br/>\n",
              "Run page: <a href=\"https://wandb.ai/uwe-sterr/KerasAoSweep/runs/eew3xood\" target=\"_blank\">https://wandb.ai/uwe-sterr/KerasAoSweep/runs/eew3xood</a><br/>\n",
              "                Run data is saved locally in <code>/Users/uwesterr/CloudProjectsUnderWork/ProjectsUnderWork/SydneyAO/focal_plane_wavefront_sensor/source/wandb/run-20210709_130559-eew3xood</code><br/><br/>\n",
              "            "
            ],
            "text/plain": [
              "<IPython.core.display.HTML object>"
            ]
          },
          "metadata": {},
          "output_type": "display_data"
        },
        {
          "name": "stdout",
          "output_type": "stream",
          "text": [
            "Epoch 1/200\n",
            "331/331 - 7s - loss: 0.0108 - root_mean_squared_error: 0.1039 - val_loss: 0.0048 - val_root_mean_squared_error: 0.0692\n",
            "Epoch 2/200\n",
            "331/331 - 7s - loss: 0.0039 - root_mean_squared_error: 0.0627 - val_loss: 0.0030 - val_root_mean_squared_error: 0.0548\n",
            "Epoch 3/200\n",
            "331/331 - 6s - loss: 0.0027 - root_mean_squared_error: 0.0523 - val_loss: 0.0022 - val_root_mean_squared_error: 0.0468\n",
            "Epoch 4/200\n",
            "331/331 - 6s - loss: 0.0021 - root_mean_squared_error: 0.0455 - val_loss: 0.0021 - val_root_mean_squared_error: 0.0456\n",
            "Epoch 5/200\n",
            "331/331 - 6s - loss: 0.0018 - root_mean_squared_error: 0.0420 - val_loss: 0.0015 - val_root_mean_squared_error: 0.0392\n",
            "Epoch 6/200\n",
            "331/331 - 6s - loss: 0.0015 - root_mean_squared_error: 0.0389 - val_loss: 0.0016 - val_root_mean_squared_error: 0.0395\n",
            "Epoch 7/200\n",
            "331/331 - 7s - loss: 0.0013 - root_mean_squared_error: 0.0362 - val_loss: 0.0021 - val_root_mean_squared_error: 0.0463\n",
            "Epoch 8/200\n",
            "331/331 - 7s - loss: 0.0012 - root_mean_squared_error: 0.0348 - val_loss: 0.0013 - val_root_mean_squared_error: 0.0363\n",
            "Epoch 9/200\n",
            "331/331 - 6s - loss: 0.0011 - root_mean_squared_error: 0.0333 - val_loss: 0.0012 - val_root_mean_squared_error: 0.0346\n",
            "Epoch 10/200\n",
            "331/331 - 6s - loss: 0.0011 - root_mean_squared_error: 0.0325 - val_loss: 0.0011 - val_root_mean_squared_error: 0.0339\n",
            "Epoch 11/200\n",
            "331/331 - 6s - loss: 9.5376e-04 - root_mean_squared_error: 0.0309 - val_loss: 9.5634e-04 - val_root_mean_squared_error: 0.0309\n",
            "Epoch 12/200\n"
          ]
        }
      ],
      "source": [
        "wandb.agent(sweep_id, train, count=2)"
      ]
    },
    {
      "cell_type": "markdown",
      "metadata": {},
      "source": []
    }
  ],
  "metadata": {
    "accelerator": "GPU",
    "colab": {
      "collapsed_sections": [],
      "name": "Hyperparameter Optimization in TensorFlow using W&B Sweeps",
      "private_outputs": true,
      "provenance": [],
      "toc_visible": true
    },
    "interpreter": {
      "hash": "7240fa07bd5f0492db6e5998fcde1467c49f289639e3a06c91ae7c487c9ff707"
    },
    "kernelspec": {
      "display_name": "Python 3.8.8 64-bit ('base': conda)",
      "name": "python3"
    },
    "language_info": {
      "codemirror_mode": {
        "name": "ipython",
        "version": 3
      },
      "file_extension": ".py",
      "mimetype": "text/x-python",
      "name": "python",
      "nbconvert_exporter": "python",
      "pygments_lexer": "ipython3",
      "version": "3.8.8"
    }
  },
  "nbformat": 4,
  "nbformat_minor": 2
}