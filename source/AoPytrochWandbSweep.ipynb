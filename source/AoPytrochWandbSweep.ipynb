{
  "cells": [
    {
      "cell_type": "markdown",
      "metadata": {
        "id": "4sP5RVh2b7Tb"
      },
      "source": [
        "# 🚀 Setup\n",
        "\n",
        "Start out by installing the experiment tracking library and setting up your free W&B account:\n",
        "\n",
        "1. Install with `!pip install`\n",
        "2. `import` the library into Python\n",
        "3. `.login()` so you can log metrics to your projects\n",
        "\n",
        "If you've never used Weights & Biases before,\n",
        "the call to `login` will give you a link to sign up for an account.\n",
        "W&B is free to use for personal and academic projects!"
      ]
    },
    {
      "cell_type": "code",
      "execution_count": 324,
      "metadata": {
        "id": "yxVNlItW_YpC"
      },
      "outputs": [],
      "source": [
        "%%capture\n",
        "!pip install wandb --upgrade\n",
        "\n",
        "# workaround to fetch MNIST data\n",
        "!wget www.di.ens.fr/~lelarge/MNIST.tar.gz\n",
        "!tar -zxvf MNIST.tar.gz"
      ]
    },
    {
      "cell_type": "code",
      "execution_count": 325,
      "metadata": {
        "id": "KUh5Y3O4Fot-"
      },
      "outputs": [
        {
          "name": "stdout",
          "output_type": "stream",
          "text": [
            "zsh: parse error near `()'\n"
          ]
        }
      ],
      "source": [
        "import wandb\n",
        "\n",
        "!wandb.login()"
      ]
    },
    {
      "cell_type": "markdown",
      "metadata": {
        "id": "0lt3pdawcASI"
      },
      "source": [
        "# Step 1️⃣. Define the Sweep\n",
        "\n",
        "Fundamentally, a Sweep combines a strategy for trying out a bunch of hyperparameter values with the code that evalutes them.\n",
        "Whether that strategy is as simple as trying every option\n",
        "or as complex as [BOHB](https://arxiv.org/abs/1807.01774),\n",
        "Weights & Biases Sweeps have you covered.\n",
        "You just need to _define your strategy_\n",
        "in the form of a [configuration](https://docs.wandb.com/sweeps/configuration).\n",
        "\n",
        "When you're setting up a Sweep in a notebook like this,\n",
        "that config object is a nested dictionary.\n",
        "When you run a Sweep via the command line,\n",
        "the config object is a\n",
        "[YAML file](https://docs.wandb.com/sweeps/quickstart#2-sweep-config).\n",
        "\n",
        "Let's walk through the definition of a Sweep config together.\n",
        "We'll do it slowly, so we get a chance to explain each component.\n",
        "In a typical Sweep pipeline,\n",
        "this step would be done in a single assignment."
      ]
    },
    {
      "cell_type": "markdown",
      "metadata": {
        "id": "IAJ8bYZ-eOH6"
      },
      "source": [
        "### 👈 Pick a `method`"
      ]
    },
    {
      "cell_type": "markdown",
      "metadata": {
        "id": "qLr3QzwPc1MM"
      },
      "source": [
        "The first thing we need to define is the `method`\n",
        "for choosing new parameter values.\n",
        "\n",
        "We provide the following search `methods`:\n",
        "*   **`grid` Search** – Iterate over every combination of hyperparameter values.\n",
        "Very effective, but can be computationally costly.\n",
        "*   **`random` Search** – Select each new combination at random according to provided `distribution`s. Surprisingly effective!\n",
        "*   **`bayes`ian Search** – Create a probabilistic model of metric score as a function of the hyperparameters, and choose parameters with high probability of improving the metric. Works well for small numbers of continuous parameters but scales poorly.\n",
        "\n",
        "We'll stick with `random`."
      ]
    },
    {
      "cell_type": "code",
      "execution_count": 326,
      "metadata": {
        "id": "G0jKcJON9ID2"
      },
      "outputs": [],
      "source": [
        "sweep_config = {\n",
        "    'method': 'random'\n",
        "    }"
      ]
    },
    {
      "cell_type": "markdown",
      "metadata": {
        "id": "qFYnhZEDiTv-"
      },
      "source": [
        "For `bayes`ian Sweeps,\n",
        "you also need to tell us a bit about your `metric`.\n",
        "We need to know its `name`, so we can find it in the model outputs\n",
        "and we need to know whether your `goal` is to `minimize` it\n",
        "(e.g. if it's the squared error)\n",
        "or to `maximize` it\n",
        "(e.g. if it's the accuracy)."
      ]
    },
    {
      "cell_type": "code",
      "execution_count": 327,
      "metadata": {
        "id": "AVBr0MsjdM77"
      },
      "outputs": [],
      "source": [
        "metric = {\n",
        "    'name': 'loss',\n",
        "    'goal': 'minimize'   \n",
        "    }\n",
        "\n",
        "sweep_config['metric'] = metric"
      ]
    },
    {
      "cell_type": "markdown",
      "metadata": {
        "id": "N2yHkInbmgb2"
      },
      "source": [
        "If you're not running a `bayes`ian Sweep, you don't have to,\n",
        "but it's not a bad idea to include this in your `sweep_config` anyway,\n",
        "in case you change your mind later.\n",
        "It's also good reproducibility practice to keep note of things like this,\n",
        "in case you, or someone else,\n",
        "come back to your Sweep in 6 months or 6 years\n",
        "and don't know whether `val_G_batch` is supposed to be high or low."
      ]
    },
    {
      "cell_type": "markdown",
      "metadata": {
        "id": "czI6CWeCeTmJ"
      },
      "source": [
        "### 📃 Name the hyper`parameters`"
      ]
    },
    {
      "cell_type": "markdown",
      "metadata": {
        "id": "_KqljukQiBty"
      },
      "source": [
        "Once you've picked a `method` to try out new values of the hyperparameters,\n",
        "you need to define what those `parameters` are.\n",
        "\n",
        "Most of the time, this step is straightforward:\n",
        "you just give the `parameter` a name\n",
        "and specify a list of legal `values`\n",
        "of the parameter.\n",
        "\n",
        "For example, when we choose the `optimizer` for our network,\n",
        "there's only a finite number of options.\n",
        "Here we stick with the two most popular choices, `adam` and `sgd`.\n",
        "Even for hyperparameters that have potentially infinite options,\n",
        "it usually only makes sense to try out\n",
        "a few select `values`,\n",
        "as we do here with the hidden `layer_size` and `dropout`."
      ]
    },
    {
      "cell_type": "code",
      "execution_count": 328,
      "metadata": {
        "id": "_fzZawC4cr2o"
      },
      "outputs": [],
      "source": [
        "parameters_dict = {\n",
        "    'optimizer': {\n",
        "        'values': ['adam', 'sgd']\n",
        "        },\n",
        "    'fc_layer_size': {\n",
        "        'values': [128, 256, 512]\n",
        "        },\n",
        "    'dropout': {\n",
        "          'values': [0.3, 0.4, 0.5]\n",
        "        },\n",
        "    }\n",
        "\n",
        "sweep_config['parameters'] = parameters_dict"
      ]
    },
    {
      "cell_type": "markdown",
      "metadata": {
        "id": "El6RNQPUo3SO"
      },
      "source": [
        "It's often the case that there are hyperparameters\n",
        "that we don't want to vary in this Sweep,\n",
        "but which we still want to set in our `sweep_config`.\n",
        "\n",
        "In that case, we just set the `value` directly:"
      ]
    },
    {
      "cell_type": "code",
      "execution_count": 329,
      "metadata": {
        "id": "NqtzuOfWk5YB"
      },
      "outputs": [],
      "source": [
        "parameters_dict.update({\n",
        "    'epochs': {\n",
        "        'value': 1}\n",
        "    })"
      ]
    },
    {
      "cell_type": "markdown",
      "metadata": {
        "id": "bFE6RqpUowSA"
      },
      "source": [
        "For a `grid` search, that's all you ever need.\n",
        "\n",
        "For a `random` search,\n",
        "all the `values` of a parameter are equally likely to be chosen on a given run.\n",
        "\n",
        "If that just won't do,\n",
        "you can instead specify a named `distribution`,\n",
        "plus its parameters, like the mean `mu`\n",
        "and standard deviation `sigma` of a `normal` distribution.\n",
        "\n",
        "See more on how to set the distributions of your random variables [here](https://docs.wandb.com/sweeps/configuration#distributions)."
      ]
    },
    {
      "cell_type": "code",
      "execution_count": 330,
      "metadata": {
        "id": "p0P2kqgBlS9E"
      },
      "outputs": [],
      "source": [
        "import math\n",
        "\n",
        "parameters_dict.update({\n",
        "    'learning_rate': {\n",
        "        # a flat distribution between 0 and 0.1\n",
        "        'distribution': 'uniform',\n",
        "        'min': 0.00001,\n",
        "        'max': 0.1\n",
        "      },\n",
        "    'batch_size': {\n",
        "        # integers between 32 and 256\n",
        "        # with evenly-distributed logarithms \n",
        "        'distribution': 'q_log_uniform',\n",
        "        'q': 1,\n",
        "        'min': math.log(32),\n",
        "        'max': math.log(256),\n",
        "      }\n",
        "    })"
      ]
    },
    {
      "cell_type": "markdown",
      "metadata": {
        "id": "wOX8uYUCuYkV"
      },
      "source": [
        "When we're finished, `sweep_config` is a nested dictionary\n",
        "that specifies exactly which `parameters` we're interested in trying\n",
        "and what `method` we're going to use to try them."
      ]
    },
    {
      "cell_type": "code",
      "execution_count": 331,
      "metadata": {
        "id": "UoYLgTG5pQwW"
      },
      "outputs": [
        {
          "name": "stdout",
          "output_type": "stream",
          "text": [
            "{'method': 'random',\n",
            " 'metric': {'goal': 'minimize', 'name': 'loss'},\n",
            " 'parameters': {'batch_size': {'distribution': 'q_log_uniform',\n",
            "                               'max': 5.545177444479562,\n",
            "                               'min': 3.4657359027997265,\n",
            "                               'q': 1},\n",
            "                'dropout': {'values': [0.3, 0.4, 0.5]},\n",
            "                'epochs': {'value': 1},\n",
            "                'fc_layer_size': {'values': [128, 256, 512]},\n",
            "                'learning_rate': {'distribution': 'uniform',\n",
            "                                  'max': 0.1,\n",
            "                                  'min': 1e-05},\n",
            "                'optimizer': {'values': ['adam', 'sgd']}}}\n"
          ]
        }
      ],
      "source": [
        "import pprint\n",
        "\n",
        "pprint.pprint(sweep_config)"
      ]
    },
    {
      "cell_type": "markdown",
      "metadata": {
        "id": "7E3fSsdWfnKe"
      },
      "source": [
        "But that's not all of the configuration options!\n",
        "\n",
        "For example, we also offer the option to `early_terminate` your runs with the [HyperBand](https://arxiv.org/pdf/1603.06560.pdf) scheduling algorithm. See more [here](https://docs.wandb.com/sweeps/configuration#stopping-criteria).\n",
        "\n",
        "You can find a list of all configuration options [here](https://docs.wandb.com/library/sweeps/configuration)\n",
        "and a big collection of examples in YAML format [here](https://github.com/wandb/examples/tree/master/examples/keras/keras-cnn-fashion).\n",
        "\n"
      ]
    },
    {
      "cell_type": "markdown",
      "metadata": {
        "id": "J6v7-Q7jdNEU"
      },
      "source": [
        "# Step 2️⃣. Initialize the Sweep"
      ]
    },
    {
      "cell_type": "markdown",
      "metadata": {
        "id": "1YKsGqyMjd86"
      },
      "source": [
        "Once you've defined the search strategy, it's time to set up something to implement it.\n",
        "\n",
        "The clockwork taskmaster in charge of our Sweep is known as the _Sweep Controller_.\n",
        "As each run completes, it will issue a new set of instructions\n",
        "describing a new run to execute.\n",
        "These instructions are picked up by _agents_\n",
        "who actually perform the runs.\n",
        "\n",
        "In a typical Sweep, the Controller lives on _our_ machine,\n",
        "while the agents who complete runs live on _your_ machine(s),\n",
        "like in the diagram below.\n",
        "This division of labor makes it super easy to scale up Sweeps\n",
        "by just adding more machines to run agents!"
      ]
    },
    {
      "cell_type": "markdown",
      "metadata": {
        "id": "ueUCL41OVQJR"
      },
      "source": [
        "<img src=\"https://i.imgur.com/zlbw3vQ.png\" alt=\"sweeps-diagram\" width=\"500\">"
      ]
    },
    {
      "cell_type": "markdown",
      "metadata": {
        "id": "EQcPaHUUUiuZ"
      },
      "source": [
        "We can wind up a Sweep Controller by calling `wandb.sweep` with the appropriate `sweep_config` and `project` name.\n",
        "\n",
        "This function returns a `sweep_id` that we will later user to assign agents to this Controller.\n",
        "\n",
        "> _Side Note_: on the command line, this function is replaced with\n",
        "```\n",
        "wandb sweep config.yaml\n",
        "```\n",
        "[Learn more about using Sweeps in the command line ➡](https://docs.wandb.com/sweeps/quickstart)"
      ]
    },
    {
      "cell_type": "code",
      "execution_count": 332,
      "metadata": {
        "id": "cc-06shTB2Vz"
      },
      "outputs": [
        {
          "name": "stdout",
          "output_type": "stream",
          "text": [
            "Create sweep with ID: 4btb82if\n",
            "Sweep URL: https://wandb.ai/uwe-sterr/pytorch-sweeps-demo/sweeps/4btb82if\n"
          ]
        }
      ],
      "source": [
        "sweep_id = wandb.sweep(sweep_config, project=\"pytorch-sweeps-demo\")"
      ]
    },
    {
      "cell_type": "markdown",
      "metadata": {
        "id": "nlkILpCrddRp"
      },
      "source": [
        "# Step 3️⃣. Run the Sweep agent"
      ]
    },
    {
      "cell_type": "markdown",
      "metadata": {
        "id": "d3cPz_DmdSJy"
      },
      "source": [
        "### 💻 Define Your Training Procedure\n",
        "\n",
        "Before we can actually execute the sweep,\n",
        "we need to define the training procedure that uses those values.\n",
        "\n",
        "In the functions below, we define a simple fully-connected neural network in PyTorch, and add the following `wandb` tools to log model metrics, visualize performance and output and track our experiments:\n",
        "* [**`wandb.init()`**](https://docs.wandb.com/library/init) – Initialize a new W&B Run. Each Run is a single execution of the training function.\n",
        "* [**`wandb.config`**](https://docs.wandb.com/library/config) – Save all your hyperparameters in a configuration object so they can be logged. Read more about how to use `wandb.config` [here](https://colab.research.google.com/github/wandb/examples/blob/master/colabs/wandb-config/Configs_in_W%26B.ipynb).\n",
        "* [**`wandb.log()`**](https://docs.wandb.com/library/log) – log model behavior to W&B. Here, we just log the performance; see [this Colab](https://colab.research.google.com/github/wandb/examples/blob/master/colabs/wandb-log/Log_(Almost)_Anything_with_W%26B_Media.ipynb) for all the other rich media that can be logged with `wandb.log`.\n",
        "\n",
        "For more details on instrumenting W&B with PyTorch, see [this Colab](https://colab.research.google.com/github/wandb/examples/blob/master/colabs/pytorch/Simple_PyTorch_Integration.ipynb)."
      ]
    },
    {
      "cell_type": "code",
      "execution_count": 333,
      "metadata": {
        "id": "r4VjKui20N3j"
      },
      "outputs": [],
      "source": [
        "import torch\n",
        "import torch.optim as optim\n",
        "import torch.nn.functional as F\n",
        "import torch.nn as nn\n",
        "from torchvision import datasets, transforms\n",
        "\n",
        "device = torch.device(\"cuda\" if torch.cuda.is_available() else \"cpu\")\n",
        "\n",
        "def train(config=None):\n",
        "    # Initialize a new wandb run\n",
        "    with wandb.init(config=config):\n",
        "        # If called by wandb.agent, as below,\n",
        "        # this config will be set by Sweep Controller\n",
        "        config = wandb.config\n",
        "\n",
        "        loader = build_dataset(config.batch_size)\n",
        "        network = build_network(config.fc_layer_size, config.dropout)\n",
        "        optimizer = build_optimizer(network, config.optimizer, config.learning_rate)\n",
        "\n",
        "        for epoch in range(config.epochs):\n",
        "            avg_loss = train_epoch(network, loader, optimizer)\n",
        "            wandb.log({\"loss\": avg_loss, \"epoch\": epoch})           "
      ]
    },
    {
      "cell_type": "markdown",
      "metadata": {},
      "source": [
        "# Build data loader"
      ]
    },
    {
      "cell_type": "code",
      "execution_count": 334,
      "metadata": {},
      "outputs": [],
      "source": [
        "import pyarrow.feather as feather\n",
        "import numpy as np\n",
        "\n",
        "# fluxData_df = feather.read_feather('data/fluxData.feather')\n",
        "# zernikeData_df = feather.read_feather('data/zernikeData.feather')\n",
        "\n",
        "\n",
        "# train_target = torch.tensor(zernikeData_df.values.astype(np.float32))\n",
        "# train = torch.tensor(fluxData_df.values.astype(np.float32))\n",
        "\n",
        "# train_tensor = torch.utils.data.TensorDataset(train, train_target) \n",
        "# loader = torch.utils.data.DataLoader(dataset = train_tensor, batch_size = 2, shuffle = True)\n",
        "\n"
      ]
    },
    {
      "cell_type": "code",
      "execution_count": 335,
      "metadata": {},
      "outputs": [],
      "source": [
        "# (data, target) =next(iter(loader))\n",
        "# network = nn.Sequential(  # fully-connected, single hidden layer\n",
        "#     nn.Linear(19, 33), nn.ReLU(),\n",
        "#     nn.Dropout(.1),\n",
        "#     nn.Linear(33, 9))\n",
        "# model =network.to(device)    \n",
        "# print (model)\n",
        "# optimizer = optim.Adam(network.parameters(),\n",
        "#                         lr=0.1)"
      ]
    },
    {
      "cell_type": "code",
      "execution_count": 336,
      "metadata": {},
      "outputs": [],
      "source": [
        "# data, target = data.to(device), target.to(device)\n",
        "# optimizer.zero_grad()\n",
        "# a=network(data)\n",
        "# torch.subtract(a,target)\n",
        "# # ➡ Forward pass\n",
        "# loss = torch.subtract(network(data),target)\n",
        "#loss = nn.MSELoss(network(data), target)"
      ]
    },
    {
      "cell_type": "markdown",
      "metadata": {
        "id": "MB2x_e11Wzkq"
      },
      "source": [
        "This cell defines the four pieces of our training procedure:\n",
        "`build_dataset`, `build_network`, `build_optimizer`, and `train_epoch`.\n",
        "\n",
        "All of these are a standard part of a basic PyTorch pipeline,\n",
        "and their implementation is unaffected by the use of W&B,\n",
        "so we won't comment on them."
      ]
    },
    {
      "cell_type": "code",
      "execution_count": 337,
      "metadata": {
        "id": "4O8IjLcKUxkC"
      },
      "outputs": [],
      "source": [
        "def build_dataset1(batch_size):\n",
        "   \n",
        "    transform = transforms.Compose(\n",
        "        [transforms.ToTensor(),\n",
        "         transforms.Normalize((0.1307,), (0.3081,))])\n",
        "    # download MNIST training dataset\n",
        "    dataset = datasets.MNIST(\".\", train=True, download=True,\n",
        "                             transform=transform)\n",
        "    sub_dataset = torch.utils.data.Subset(\n",
        "        dataset, indices=range(0, len(dataset), 5))\n",
        "    loader = torch.utils.data.DataLoader(sub_dataset, batch_size=batch_size)\n",
        "\n",
        "    return loader\n",
        "\n",
        "def build_dataset(batch_size):\n",
        "    fluxData_df = feather.read_feather('data/fluxData.feather')\n",
        "    zernikeData_df = feather.read_feather('data/zernikeData.feather')\n",
        "\n",
        "\n",
        "    train_target = torch.tensor(zernikeData_df.values.astype(np.float32))\n",
        "    train = torch.tensor(fluxData_df.values.astype(np.float32))\n",
        "\n",
        "    train_tensor = torch.utils.data.TensorDataset(train, train_target) \n",
        "    loader = torch.utils.data.DataLoader(dataset = train_tensor, batch_size = batch_size, shuffle = True)\n",
        "   \n",
        "\n",
        "\n",
        "    return loader\n",
        "\n",
        "def build_network(fc_layer_size, dropout):\n",
        "    network = nn.Sequential(  # fully-connected, single hidden layer\n",
        "        nn.Linear(19, fc_layer_size), nn.ReLU(),\n",
        "        nn.Dropout(dropout),\n",
        "        nn.Linear(fc_layer_size, 9))\n",
        "\n",
        "    return network.to(device)\n",
        "        \n",
        "\n",
        "def build_optimizer(network, optimizer, learning_rate):\n",
        "    if optimizer == \"sgd\":\n",
        "        optimizer = optim.SGD(network.parameters(),\n",
        "                              lr=learning_rate, momentum=0.9)\n",
        "    elif optimizer == \"adam\":\n",
        "        optimizer = optim.Adam(network.parameters(),\n",
        "                               lr=learning_rate)\n",
        "    return optimizer\n",
        "\n",
        "\n",
        "def train_epoch(network, loader, optimizer):\n",
        "    cumu_loss = 0\n",
        "    for _, (data, target) in enumerate(loader):\n",
        "        data, target = data.to(device), target.to(device)\n",
        "        optimizer.zero_grad()\n",
        "\n",
        "        # ➡ Forward pass\n",
        "        loss = nn.MSELoss()\n",
        "        loss =loss(network(data), target)\n",
        "        cumu_loss += loss\n",
        "\n",
        "        # ⬅ Backward pass + weight update\n",
        "        loss.backward()\n",
        "        optimizer.step()\n",
        "\n",
        "        wandb.log({\"batch loss\": loss})\n",
        "\n",
        "    return cumu_loss / len(loader)"
      ]
    },
    {
      "cell_type": "code",
      "execution_count": 338,
      "metadata": {},
      "outputs": [],
      "source": [
        "# loader = build_dataset(2)\n",
        "# network = build_network(22, 0.1)\n",
        "# optimizer = build_optimizer(network, \"sgd\", 0.1)  \n",
        "# cumu_loss = 0\n",
        "\n",
        "\n",
        "# for epoch in range(2):\n",
        "#     for _, (data, target) in enumerate(loader):\n",
        "#             data, target = data.to(device), target.to(device)\n",
        "#             optimizer.zero_grad()\n",
        "\n",
        "#             # ➡ Forward pass\n",
        "#             loss = nn.MSELoss()\n",
        "#             loss =loss(network(data), target)\n",
        "#             cumu_loss += loss\n",
        "\n",
        "#             # ⬅ Backward pass + weight update\n",
        "#             loss.backward()\n",
        "#             optimizer.step()\n"
      ]
    },
    {
      "cell_type": "code",
      "execution_count": 339,
      "metadata": {},
      "outputs": [],
      "source": [
        "data, target = data.to(device), target.to(device)\n",
        "\n"
      ]
    },
    {
      "cell_type": "markdown",
      "metadata": {
        "id": "pLWPTp8zy2Xz"
      },
      "source": [
        "Now, we're ready to start sweeping! 🧹🧹🧹\n",
        "\n",
        "Sweep Controllers, like the one we made by running `wandb.sweep`,\n",
        "sit waiting for someone to ask them for a `config` to try out.\n",
        "\n",
        "That someone is an `agent`, and they are created with `wandb.agent`.\n",
        "To get going, the agent just needs to know\n",
        "1. which Sweep it's a part of (`sweep_id`)\n",
        "2. which function it's supposed to run (here, `train`)\n",
        "3. (optionally) how many configs to ask the Controller for (`count`)\n",
        "\n",
        "FYI, you can start multiple `agent`s with the same `sweep_id`\n",
        "on different compute resources,\n",
        "and the Controller will ensure that they work together\n",
        "according to the strategy laid out in the `sweep_config`.\n",
        "This makes it trivially easy to scale your Sweeps across as many nodes as you can get ahold of!\n",
        "\n",
        "> _Side Note:_ on the command line, this function is replaced with\n",
        "```\n",
        "wandb agent sweep_id\n",
        "```\n",
        "[Learn more about using Sweeps in the command line ➡](https://docs.wandb.com/sweeps/quickstart)"
      ]
    },
    {
      "cell_type": "markdown",
      "metadata": {
        "id": "37Z6hw8G2XII"
      },
      "source": [
        "The cell below will launch an `agent` that runs `train` 5 times,\n",
        "usingly the randomly-generated hyperparameter values returned by the Sweep Controller. Execution takes under 5 minutes."
      ]
    },
    {
      "cell_type": "code",
      "execution_count": 340,
      "metadata": {
        "id": "rHpan13W6UZD"
      },
      "outputs": [
        {
          "name": "stderr",
          "output_type": "stream",
          "text": [
            "\u001b[34m\u001b[1mwandb\u001b[0m: Agent Starting Run: n7xs9k0y with config:\n",
            "\u001b[34m\u001b[1mwandb\u001b[0m: \tbatch_size: 81\n",
            "\u001b[34m\u001b[1mwandb\u001b[0m: \tdropout: 0.5\n",
            "\u001b[34m\u001b[1mwandb\u001b[0m: \tepochs: 1\n",
            "\u001b[34m\u001b[1mwandb\u001b[0m: \tfc_layer_size: 512\n",
            "\u001b[34m\u001b[1mwandb\u001b[0m: \tlearning_rate: 0.0662375496841738\n",
            "\u001b[34m\u001b[1mwandb\u001b[0m: \toptimizer: sgd\n"
          ]
        },
        {
          "data": {
            "text/html": [
              "\n",
              "                Tracking run with wandb version 0.10.33<br/>\n",
              "                Syncing run <strong style=\"color:#cdcd00\">fearless-sweep-1</strong> to <a href=\"https://wandb.ai\" target=\"_blank\">Weights & Biases</a> <a href=\"https://docs.wandb.com/integrations/jupyter.html\" target=\"_blank\">(Documentation)</a>.<br/>\n",
              "                Project page: <a href=\"https://wandb.ai/uwe-sterr/pytorch-sweeps-demo\" target=\"_blank\">https://wandb.ai/uwe-sterr/pytorch-sweeps-demo</a><br/>\n",
              "                Sweep page: <a href=\"https://wandb.ai/uwe-sterr/pytorch-sweeps-demo/sweeps/4btb82if\" target=\"_blank\">https://wandb.ai/uwe-sterr/pytorch-sweeps-demo/sweeps/4btb82if</a><br/>\n",
              "Run page: <a href=\"https://wandb.ai/uwe-sterr/pytorch-sweeps-demo/runs/n7xs9k0y\" target=\"_blank\">https://wandb.ai/uwe-sterr/pytorch-sweeps-demo/runs/n7xs9k0y</a><br/>\n",
              "                Run data is saved locally in <code>/Users/uwesterr/CloudProjectsUnderWork/ProjectsUnderWork/SydneyAO/pytorchtestStudio/wandb/run-20210701_194738-n7xs9k0y</code><br/><br/>\n",
              "            "
            ],
            "text/plain": [
              "<IPython.core.display.HTML object>"
            ]
          },
          "metadata": {},
          "output_type": "display_data"
        },
        {
          "data": {
            "text/html": [
              "<br/>Waiting for W&B process to finish, PID 21179<br/>Program ended successfully."
            ],
            "text/plain": [
              "<IPython.core.display.HTML object>"
            ]
          },
          "metadata": {},
          "output_type": "display_data"
        },
        {
          "data": {
            "application/vnd.jupyter.widget-view+json": {
              "model_id": "4029d8c7e9ea41f4832180fc1f91f96a",
              "version_major": 2,
              "version_minor": 0
            },
            "text/plain": [
              "VBox(children=(Label(value=' 0.00MB of 0.00MB uploaded (0.00MB deduped)\\r'), FloatProgress(value=0.0, max=1.0)…"
            ]
          },
          "metadata": {},
          "output_type": "display_data"
        },
        {
          "data": {
            "text/html": [
              "Find user logs for this run at: <code>/Users/uwesterr/CloudProjectsUnderWork/ProjectsUnderWork/SydneyAO/pytorchtestStudio/wandb/run-20210701_194738-n7xs9k0y/logs/debug.log</code>"
            ],
            "text/plain": [
              "<IPython.core.display.HTML object>"
            ]
          },
          "metadata": {},
          "output_type": "display_data"
        },
        {
          "data": {
            "text/html": [
              "Find internal logs for this run at: <code>/Users/uwesterr/CloudProjectsUnderWork/ProjectsUnderWork/SydneyAO/pytorchtestStudio/wandb/run-20210701_194738-n7xs9k0y/logs/debug-internal.log</code>"
            ],
            "text/plain": [
              "<IPython.core.display.HTML object>"
            ]
          },
          "metadata": {},
          "output_type": "display_data"
        },
        {
          "data": {
            "text/html": [
              "<h3>Run summary:</h3><br/><style>\n",
              "    table.wandb td:nth-child(1) { padding: 0 10px; text-align: right }\n",
              "    </style><table class=\"wandb\">\n",
              "<tr><td>batch loss</td><td>0.01199</td></tr><tr><td>_runtime</td><td>7</td></tr><tr><td>_timestamp</td><td>1625161665</td></tr><tr><td>_step</td><td>726</td></tr><tr><td>loss</td><td>0.01975</td></tr><tr><td>epoch</td><td>0</td></tr></table>"
            ],
            "text/plain": [
              "<IPython.core.display.HTML object>"
            ]
          },
          "metadata": {},
          "output_type": "display_data"
        },
        {
          "data": {
            "text/html": [
              "<h3>Run history:</h3><br/><style>\n",
              "    table.wandb td:nth-child(1) { padding: 0 10px; text-align: right }\n",
              "    </style><table class=\"wandb\">\n",
              "<tr><td>batch loss</td><td>█▁▁▁▁▁▁▁▁▁▁▁▁▁▁▁▁▁▁▁▁▁▁▁▁▁▁▁▁▁▁▁▁▁▁▁▁▁▁▁</td></tr><tr><td>_runtime</td><td>▁▁▁█████████████████████████████████████</td></tr><tr><td>_timestamp</td><td>▁▁▁█████████████████████████████████████</td></tr><tr><td>_step</td><td>▁▁▁▁▂▂▂▂▂▃▃▃▃▃▃▄▄▄▄▄▅▅▅▅▅▅▆▆▆▆▆▇▇▇▇▇▇███</td></tr><tr><td>loss</td><td>▁</td></tr><tr><td>epoch</td><td>▁</td></tr></table><br/>"
            ],
            "text/plain": [
              "<IPython.core.display.HTML object>"
            ]
          },
          "metadata": {},
          "output_type": "display_data"
        },
        {
          "data": {
            "text/html": [
              "Synced 5 W&B file(s), 0 media file(s), 0 artifact file(s) and 0 other file(s)"
            ],
            "text/plain": [
              "<IPython.core.display.HTML object>"
            ]
          },
          "metadata": {},
          "output_type": "display_data"
        },
        {
          "data": {
            "text/html": [
              "\n",
              "                    <br/>Synced <strong style=\"color:#cdcd00\">fearless-sweep-1</strong>: <a href=\"https://wandb.ai/uwe-sterr/pytorch-sweeps-demo/runs/n7xs9k0y\" target=\"_blank\">https://wandb.ai/uwe-sterr/pytorch-sweeps-demo/runs/n7xs9k0y</a><br/>\n",
              "                "
            ],
            "text/plain": [
              "<IPython.core.display.HTML object>"
            ]
          },
          "metadata": {},
          "output_type": "display_data"
        },
        {
          "name": "stderr",
          "output_type": "stream",
          "text": [
            "\u001b[34m\u001b[1mwandb\u001b[0m: Agent Starting Run: s0za9buq with config:\n",
            "\u001b[34m\u001b[1mwandb\u001b[0m: \tbatch_size: 41\n",
            "\u001b[34m\u001b[1mwandb\u001b[0m: \tdropout: 0.3\n",
            "\u001b[34m\u001b[1mwandb\u001b[0m: \tepochs: 1\n",
            "\u001b[34m\u001b[1mwandb\u001b[0m: \tfc_layer_size: 512\n",
            "\u001b[34m\u001b[1mwandb\u001b[0m: \tlearning_rate: 0.08555615013500485\n",
            "\u001b[34m\u001b[1mwandb\u001b[0m: \toptimizer: sgd\n"
          ]
        },
        {
          "data": {
            "text/html": [
              "\n",
              "                Tracking run with wandb version 0.10.33<br/>\n",
              "                Syncing run <strong style=\"color:#cdcd00\">earthy-sweep-2</strong> to <a href=\"https://wandb.ai\" target=\"_blank\">Weights & Biases</a> <a href=\"https://docs.wandb.com/integrations/jupyter.html\" target=\"_blank\">(Documentation)</a>.<br/>\n",
              "                Project page: <a href=\"https://wandb.ai/uwe-sterr/pytorch-sweeps-demo\" target=\"_blank\">https://wandb.ai/uwe-sterr/pytorch-sweeps-demo</a><br/>\n",
              "                Sweep page: <a href=\"https://wandb.ai/uwe-sterr/pytorch-sweeps-demo/sweeps/4btb82if\" target=\"_blank\">https://wandb.ai/uwe-sterr/pytorch-sweeps-demo/sweeps/4btb82if</a><br/>\n",
              "Run page: <a href=\"https://wandb.ai/uwe-sterr/pytorch-sweeps-demo/runs/s0za9buq\" target=\"_blank\">https://wandb.ai/uwe-sterr/pytorch-sweeps-demo/runs/s0za9buq</a><br/>\n",
              "                Run data is saved locally in <code>/Users/uwesterr/CloudProjectsUnderWork/ProjectsUnderWork/SydneyAO/pytorchtestStudio/wandb/run-20210701_194751-s0za9buq</code><br/><br/>\n",
              "            "
            ],
            "text/plain": [
              "<IPython.core.display.HTML object>"
            ]
          },
          "metadata": {},
          "output_type": "display_data"
        },
        {
          "data": {
            "text/html": [
              "<br/>Waiting for W&B process to finish, PID 21189<br/>Program ended successfully."
            ],
            "text/plain": [
              "<IPython.core.display.HTML object>"
            ]
          },
          "metadata": {},
          "output_type": "display_data"
        },
        {
          "data": {
            "application/vnd.jupyter.widget-view+json": {
              "model_id": "6b6f4e342ee048debe39e42e81978de3",
              "version_major": 2,
              "version_minor": 0
            },
            "text/plain": [
              "VBox(children=(Label(value=' 0.00MB of 0.00MB uploaded (0.00MB deduped)\\r'), FloatProgress(value=1.0, max=1.0)…"
            ]
          },
          "metadata": {},
          "output_type": "display_data"
        },
        {
          "data": {
            "text/html": [
              "Find user logs for this run at: <code>/Users/uwesterr/CloudProjectsUnderWork/ProjectsUnderWork/SydneyAO/pytorchtestStudio/wandb/run-20210701_194751-s0za9buq/logs/debug.log</code>"
            ],
            "text/plain": [
              "<IPython.core.display.HTML object>"
            ]
          },
          "metadata": {},
          "output_type": "display_data"
        },
        {
          "data": {
            "text/html": [
              "Find internal logs for this run at: <code>/Users/uwesterr/CloudProjectsUnderWork/ProjectsUnderWork/SydneyAO/pytorchtestStudio/wandb/run-20210701_194751-s0za9buq/logs/debug-internal.log</code>"
            ],
            "text/plain": [
              "<IPython.core.display.HTML object>"
            ]
          },
          "metadata": {},
          "output_type": "display_data"
        },
        {
          "data": {
            "text/html": [
              "<h3>Run summary:</h3><br/><style>\n",
              "    table.wandb td:nth-child(1) { padding: 0 10px; text-align: right }\n",
              "    </style><table class=\"wandb\">\n",
              "<tr><td>batch loss</td><td>0.00873</td></tr><tr><td>_runtime</td><td>8</td></tr><tr><td>_timestamp</td><td>1625161679</td></tr><tr><td>_step</td><td>1433</td></tr><tr><td>loss</td><td>0.01845</td></tr><tr><td>epoch</td><td>0</td></tr></table>"
            ],
            "text/plain": [
              "<IPython.core.display.HTML object>"
            ]
          },
          "metadata": {},
          "output_type": "display_data"
        },
        {
          "data": {
            "text/html": [
              "<h3>Run history:</h3><br/><style>\n",
              "    table.wandb td:nth-child(1) { padding: 0 10px; text-align: right }\n",
              "    </style><table class=\"wandb\">\n",
              "<tr><td>batch loss</td><td>█▅▅▄▃▄▃▃▂▃▂▃▂▂▂▂▂▂▂▂▂▂▁▂▁▂▂▂▂▂▂▂▂▂▂▂▁▁▁▂</td></tr><tr><td>_runtime</td><td>▁▅▅▅▅▅▅▅▅▅▅▅▅▅▅▅▅▅▅▅▅▅▅▅▅▅▅▅████████████</td></tr><tr><td>_timestamp</td><td>▁▅▅▅▅▅▅▅▅▅▅▅▅▅▅▅▅▅▅▅▅▅▅▅▅▅▅▅████████████</td></tr><tr><td>_step</td><td>▁▁▁▁▂▂▂▂▂▃▃▃▃▃▃▄▄▄▄▄▅▅▅▅▅▅▆▆▆▆▆▆▇▇▇▇▇███</td></tr><tr><td>loss</td><td>▁</td></tr><tr><td>epoch</td><td>▁</td></tr></table><br/>"
            ],
            "text/plain": [
              "<IPython.core.display.HTML object>"
            ]
          },
          "metadata": {},
          "output_type": "display_data"
        },
        {
          "data": {
            "text/html": [
              "Synced 5 W&B file(s), 0 media file(s), 0 artifact file(s) and 0 other file(s)"
            ],
            "text/plain": [
              "<IPython.core.display.HTML object>"
            ]
          },
          "metadata": {},
          "output_type": "display_data"
        },
        {
          "data": {
            "text/html": [
              "\n",
              "                    <br/>Synced <strong style=\"color:#cdcd00\">earthy-sweep-2</strong>: <a href=\"https://wandb.ai/uwe-sterr/pytorch-sweeps-demo/runs/s0za9buq\" target=\"_blank\">https://wandb.ai/uwe-sterr/pytorch-sweeps-demo/runs/s0za9buq</a><br/>\n",
              "                "
            ],
            "text/plain": [
              "<IPython.core.display.HTML object>"
            ]
          },
          "metadata": {},
          "output_type": "display_data"
        },
        {
          "name": "stderr",
          "output_type": "stream",
          "text": [
            "\u001b[34m\u001b[1mwandb\u001b[0m: Agent Starting Run: 8vhfpomt with config:\n",
            "\u001b[34m\u001b[1mwandb\u001b[0m: \tbatch_size: 191\n",
            "\u001b[34m\u001b[1mwandb\u001b[0m: \tdropout: 0.5\n",
            "\u001b[34m\u001b[1mwandb\u001b[0m: \tepochs: 1\n",
            "\u001b[34m\u001b[1mwandb\u001b[0m: \tfc_layer_size: 128\n",
            "\u001b[34m\u001b[1mwandb\u001b[0m: \tlearning_rate: 0.05604115307161723\n",
            "\u001b[34m\u001b[1mwandb\u001b[0m: \toptimizer: sgd\n"
          ]
        },
        {
          "data": {
            "text/html": [
              "\n",
              "                Tracking run with wandb version 0.10.33<br/>\n",
              "                Syncing run <strong style=\"color:#cdcd00\">dutiful-sweep-3</strong> to <a href=\"https://wandb.ai\" target=\"_blank\">Weights & Biases</a> <a href=\"https://docs.wandb.com/integrations/jupyter.html\" target=\"_blank\">(Documentation)</a>.<br/>\n",
              "                Project page: <a href=\"https://wandb.ai/uwe-sterr/pytorch-sweeps-demo\" target=\"_blank\">https://wandb.ai/uwe-sterr/pytorch-sweeps-demo</a><br/>\n",
              "                Sweep page: <a href=\"https://wandb.ai/uwe-sterr/pytorch-sweeps-demo/sweeps/4btb82if\" target=\"_blank\">https://wandb.ai/uwe-sterr/pytorch-sweeps-demo/sweeps/4btb82if</a><br/>\n",
              "Run page: <a href=\"https://wandb.ai/uwe-sterr/pytorch-sweeps-demo/runs/8vhfpomt\" target=\"_blank\">https://wandb.ai/uwe-sterr/pytorch-sweeps-demo/runs/8vhfpomt</a><br/>\n",
              "                Run data is saved locally in <code>/Users/uwesterr/CloudProjectsUnderWork/ProjectsUnderWork/SydneyAO/pytorchtestStudio/wandb/run-20210701_194805-8vhfpomt</code><br/><br/>\n",
              "            "
            ],
            "text/plain": [
              "<IPython.core.display.HTML object>"
            ]
          },
          "metadata": {},
          "output_type": "display_data"
        },
        {
          "data": {
            "text/html": [
              "<br/>Waiting for W&B process to finish, PID 21199<br/>Program ended successfully."
            ],
            "text/plain": [
              "<IPython.core.display.HTML object>"
            ]
          },
          "metadata": {},
          "output_type": "display_data"
        },
        {
          "data": {
            "application/vnd.jupyter.widget-view+json": {
              "model_id": "01efc02adf6a4e2b99db558dc89842d8",
              "version_major": 2,
              "version_minor": 0
            },
            "text/plain": [
              "VBox(children=(Label(value=' 0.00MB of 0.00MB uploaded (0.00MB deduped)\\r'), FloatProgress(value=1.0, max=1.0)…"
            ]
          },
          "metadata": {},
          "output_type": "display_data"
        },
        {
          "data": {
            "text/html": [
              "Find user logs for this run at: <code>/Users/uwesterr/CloudProjectsUnderWork/ProjectsUnderWork/SydneyAO/pytorchtestStudio/wandb/run-20210701_194805-8vhfpomt/logs/debug.log</code>"
            ],
            "text/plain": [
              "<IPython.core.display.HTML object>"
            ]
          },
          "metadata": {},
          "output_type": "display_data"
        },
        {
          "data": {
            "text/html": [
              "Find internal logs for this run at: <code>/Users/uwesterr/CloudProjectsUnderWork/ProjectsUnderWork/SydneyAO/pytorchtestStudio/wandb/run-20210701_194805-8vhfpomt/logs/debug-internal.log</code>"
            ],
            "text/plain": [
              "<IPython.core.display.HTML object>"
            ]
          },
          "metadata": {},
          "output_type": "display_data"
        },
        {
          "data": {
            "text/html": [
              "<h3>Run summary:</h3><br/><style>\n",
              "    table.wandb td:nth-child(1) { padding: 0 10px; text-align: right }\n",
              "    </style><table class=\"wandb\">\n",
              "<tr><td>batch loss</td><td>0.02014</td></tr><tr><td>_runtime</td><td>6</td></tr><tr><td>_timestamp</td><td>1625161691</td></tr><tr><td>_step</td><td>308</td></tr><tr><td>loss</td><td>0.02631</td></tr><tr><td>epoch</td><td>0</td></tr></table>"
            ],
            "text/plain": [
              "<IPython.core.display.HTML object>"
            ]
          },
          "metadata": {},
          "output_type": "display_data"
        },
        {
          "data": {
            "text/html": [
              "<h3>Run history:</h3><br/><style>\n",
              "    table.wandb td:nth-child(1) { padding: 0 10px; text-align: right }\n",
              "    </style><table class=\"wandb\">\n",
              "<tr><td>batch loss</td><td>█▃▂▁▁▁▁▁▁▁▁▁▁▁▁▁▁▁▁▁▁▁▁▁▁▁▁▁▁▁▁▁▁▁▁▁▁▁▁▁</td></tr><tr><td>_runtime</td><td>▁▁▁▁▁▁▁▁▁▁▁▁▁▁▁▁▁▁▁▁▁▁▁▁▁▁▁▁▁▁▁▁▁▁▁▁▁▁▁▁</td></tr><tr><td>_timestamp</td><td>▁▁▁▁▁▁▁▁▁▁▁▁▁▁▁▁▁▁▁▁▁▁▁▁▁▁▁▁▁▁▁▁▁▁▁▁▁▁▁▁</td></tr><tr><td>_step</td><td>▁▁▁▁▂▂▂▂▂▃▃▃▃▃▃▄▄▄▄▄▅▅▅▅▅▅▆▆▆▆▆▇▇▇▇▇▇███</td></tr><tr><td>loss</td><td>▁</td></tr><tr><td>epoch</td><td>▁</td></tr></table><br/>"
            ],
            "text/plain": [
              "<IPython.core.display.HTML object>"
            ]
          },
          "metadata": {},
          "output_type": "display_data"
        },
        {
          "data": {
            "text/html": [
              "Synced 5 W&B file(s), 0 media file(s), 0 artifact file(s) and 0 other file(s)"
            ],
            "text/plain": [
              "<IPython.core.display.HTML object>"
            ]
          },
          "metadata": {},
          "output_type": "display_data"
        },
        {
          "data": {
            "text/html": [
              "\n",
              "                    <br/>Synced <strong style=\"color:#cdcd00\">dutiful-sweep-3</strong>: <a href=\"https://wandb.ai/uwe-sterr/pytorch-sweeps-demo/runs/8vhfpomt\" target=\"_blank\">https://wandb.ai/uwe-sterr/pytorch-sweeps-demo/runs/8vhfpomt</a><br/>\n",
              "                "
            ],
            "text/plain": [
              "<IPython.core.display.HTML object>"
            ]
          },
          "metadata": {},
          "output_type": "display_data"
        },
        {
          "name": "stderr",
          "output_type": "stream",
          "text": [
            "\u001b[34m\u001b[1mwandb\u001b[0m: Agent Starting Run: vf6ocqb8 with config:\n",
            "\u001b[34m\u001b[1mwandb\u001b[0m: \tbatch_size: 39\n",
            "\u001b[34m\u001b[1mwandb\u001b[0m: \tdropout: 0.3\n",
            "\u001b[34m\u001b[1mwandb\u001b[0m: \tepochs: 1\n",
            "\u001b[34m\u001b[1mwandb\u001b[0m: \tfc_layer_size: 512\n",
            "\u001b[34m\u001b[1mwandb\u001b[0m: \tlearning_rate: 0.07945404749154265\n",
            "\u001b[34m\u001b[1mwandb\u001b[0m: \toptimizer: adam\n"
          ]
        },
        {
          "data": {
            "text/html": [
              "\n",
              "                Tracking run with wandb version 0.10.33<br/>\n",
              "                Syncing run <strong style=\"color:#cdcd00\">zany-sweep-4</strong> to <a href=\"https://wandb.ai\" target=\"_blank\">Weights & Biases</a> <a href=\"https://docs.wandb.com/integrations/jupyter.html\" target=\"_blank\">(Documentation)</a>.<br/>\n",
              "                Project page: <a href=\"https://wandb.ai/uwe-sterr/pytorch-sweeps-demo\" target=\"_blank\">https://wandb.ai/uwe-sterr/pytorch-sweeps-demo</a><br/>\n",
              "                Sweep page: <a href=\"https://wandb.ai/uwe-sterr/pytorch-sweeps-demo/sweeps/4btb82if\" target=\"_blank\">https://wandb.ai/uwe-sterr/pytorch-sweeps-demo/sweeps/4btb82if</a><br/>\n",
              "Run page: <a href=\"https://wandb.ai/uwe-sterr/pytorch-sweeps-demo/runs/vf6ocqb8\" target=\"_blank\">https://wandb.ai/uwe-sterr/pytorch-sweeps-demo/runs/vf6ocqb8</a><br/>\n",
              "                Run data is saved locally in <code>/Users/uwesterr/CloudProjectsUnderWork/ProjectsUnderWork/SydneyAO/pytorchtestStudio/wandb/run-20210701_194817-vf6ocqb8</code><br/><br/>\n",
              "            "
            ],
            "text/plain": [
              "<IPython.core.display.HTML object>"
            ]
          },
          "metadata": {},
          "output_type": "display_data"
        },
        {
          "data": {
            "text/html": [
              "<br/>Waiting for W&B process to finish, PID 21212<br/>Program ended successfully."
            ],
            "text/plain": [
              "<IPython.core.display.HTML object>"
            ]
          },
          "metadata": {},
          "output_type": "display_data"
        },
        {
          "data": {
            "application/vnd.jupyter.widget-view+json": {
              "model_id": "9c1ccd2bf3d84a4b9a58209cc74c56bb",
              "version_major": 2,
              "version_minor": 0
            },
            "text/plain": [
              "VBox(children=(Label(value=' 0.00MB of 0.00MB uploaded (0.00MB deduped)\\r'), FloatProgress(value=1.0, max=1.0)…"
            ]
          },
          "metadata": {},
          "output_type": "display_data"
        },
        {
          "data": {
            "text/html": [
              "Find user logs for this run at: <code>/Users/uwesterr/CloudProjectsUnderWork/ProjectsUnderWork/SydneyAO/pytorchtestStudio/wandb/run-20210701_194817-vf6ocqb8/logs/debug.log</code>"
            ],
            "text/plain": [
              "<IPython.core.display.HTML object>"
            ]
          },
          "metadata": {},
          "output_type": "display_data"
        },
        {
          "data": {
            "text/html": [
              "Find internal logs for this run at: <code>/Users/uwesterr/CloudProjectsUnderWork/ProjectsUnderWork/SydneyAO/pytorchtestStudio/wandb/run-20210701_194817-vf6ocqb8/logs/debug-internal.log</code>"
            ],
            "text/plain": [
              "<IPython.core.display.HTML object>"
            ]
          },
          "metadata": {},
          "output_type": "display_data"
        },
        {
          "data": {
            "text/html": [
              "<h3>Run summary:</h3><br/><style>\n",
              "    table.wandb td:nth-child(1) { padding: 0 10px; text-align: right }\n",
              "    </style><table class=\"wandb\">\n",
              "<tr><td>batch loss</td><td>0.03136</td></tr><tr><td>_runtime</td><td>8</td></tr><tr><td>_timestamp</td><td>1625161705</td></tr><tr><td>_step</td><td>1507</td></tr><tr><td>loss</td><td>0.35874</td></tr><tr><td>epoch</td><td>0</td></tr></table>"
            ],
            "text/plain": [
              "<IPython.core.display.HTML object>"
            ]
          },
          "metadata": {},
          "output_type": "display_data"
        },
        {
          "data": {
            "text/html": [
              "<h3>Run history:</h3><br/><style>\n",
              "    table.wandb td:nth-child(1) { padding: 0 10px; text-align: right }\n",
              "    </style><table class=\"wandb\">\n",
              "<tr><td>batch loss</td><td>▃▃▂▂█▂▂▂▂▁▁▁▂▁▁▃▂▂▂▂▂▂▂▂▃▂▂▂▃▂▃▂▂▂▂▂▂▂▂▂</td></tr><tr><td>_runtime</td><td>▁▁▁▁▁▁▁▁▁▁▁▁▁▁▁▁▁▁▁▁▅▅▅▅▅▅▅▅▅▅▅▅▅▅▅▅▅▅██</td></tr><tr><td>_timestamp</td><td>▁▁▁▁▁▁▁▁▁▁▁▁▁▁▁▁▁▁▁▁▅▅▅▅▅▅▅▅▅▅▅▅▅▅▅▅▅▅██</td></tr><tr><td>_step</td><td>▁▁▁▂▂▂▂▂▂▃▃▃▃▃▃▄▄▄▄▄▅▅▅▅▅▅▆▆▆▆▆▆▇▇▇▇▇███</td></tr><tr><td>loss</td><td>▁</td></tr><tr><td>epoch</td><td>▁</td></tr></table><br/>"
            ],
            "text/plain": [
              "<IPython.core.display.HTML object>"
            ]
          },
          "metadata": {},
          "output_type": "display_data"
        },
        {
          "data": {
            "text/html": [
              "Synced 5 W&B file(s), 0 media file(s), 0 artifact file(s) and 0 other file(s)"
            ],
            "text/plain": [
              "<IPython.core.display.HTML object>"
            ]
          },
          "metadata": {},
          "output_type": "display_data"
        },
        {
          "data": {
            "text/html": [
              "\n",
              "                    <br/>Synced <strong style=\"color:#cdcd00\">zany-sweep-4</strong>: <a href=\"https://wandb.ai/uwe-sterr/pytorch-sweeps-demo/runs/vf6ocqb8\" target=\"_blank\">https://wandb.ai/uwe-sterr/pytorch-sweeps-demo/runs/vf6ocqb8</a><br/>\n",
              "                "
            ],
            "text/plain": [
              "<IPython.core.display.HTML object>"
            ]
          },
          "metadata": {},
          "output_type": "display_data"
        },
        {
          "name": "stderr",
          "output_type": "stream",
          "text": [
            "\u001b[34m\u001b[1mwandb\u001b[0m: Agent Starting Run: 6qs3jhmc with config:\n",
            "\u001b[34m\u001b[1mwandb\u001b[0m: \tbatch_size: 66\n",
            "\u001b[34m\u001b[1mwandb\u001b[0m: \tdropout: 0.3\n",
            "\u001b[34m\u001b[1mwandb\u001b[0m: \tepochs: 1\n",
            "\u001b[34m\u001b[1mwandb\u001b[0m: \tfc_layer_size: 256\n",
            "\u001b[34m\u001b[1mwandb\u001b[0m: \tlearning_rate: 0.09428362230002618\n",
            "\u001b[34m\u001b[1mwandb\u001b[0m: \toptimizer: sgd\n"
          ]
        },
        {
          "data": {
            "text/html": [
              "\n",
              "                Tracking run with wandb version 0.10.33<br/>\n",
              "                Syncing run <strong style=\"color:#cdcd00\">neat-sweep-5</strong> to <a href=\"https://wandb.ai\" target=\"_blank\">Weights & Biases</a> <a href=\"https://docs.wandb.com/integrations/jupyter.html\" target=\"_blank\">(Documentation)</a>.<br/>\n",
              "                Project page: <a href=\"https://wandb.ai/uwe-sterr/pytorch-sweeps-demo\" target=\"_blank\">https://wandb.ai/uwe-sterr/pytorch-sweeps-demo</a><br/>\n",
              "                Sweep page: <a href=\"https://wandb.ai/uwe-sterr/pytorch-sweeps-demo/sweeps/4btb82if\" target=\"_blank\">https://wandb.ai/uwe-sterr/pytorch-sweeps-demo/sweeps/4btb82if</a><br/>\n",
              "Run page: <a href=\"https://wandb.ai/uwe-sterr/pytorch-sweeps-demo/runs/6qs3jhmc\" target=\"_blank\">https://wandb.ai/uwe-sterr/pytorch-sweeps-demo/runs/6qs3jhmc</a><br/>\n",
              "                Run data is saved locally in <code>/Users/uwesterr/CloudProjectsUnderWork/ProjectsUnderWork/SydneyAO/pytorchtestStudio/wandb/run-20210701_194830-6qs3jhmc</code><br/><br/>\n",
              "            "
            ],
            "text/plain": [
              "<IPython.core.display.HTML object>"
            ]
          },
          "metadata": {},
          "output_type": "display_data"
        },
        {
          "data": {
            "text/html": [
              "<br/>Waiting for W&B process to finish, PID 21225<br/>Program ended successfully."
            ],
            "text/plain": [
              "<IPython.core.display.HTML object>"
            ]
          },
          "metadata": {},
          "output_type": "display_data"
        },
        {
          "data": {
            "application/vnd.jupyter.widget-view+json": {
              "model_id": "965c3ffc059a4b788b5cf3b957221ba3",
              "version_major": 2,
              "version_minor": 0
            },
            "text/plain": [
              "VBox(children=(Label(value=' 0.00MB of 0.00MB uploaded (0.00MB deduped)\\r'), FloatProgress(value=1.0, max=1.0)…"
            ]
          },
          "metadata": {},
          "output_type": "display_data"
        },
        {
          "data": {
            "text/html": [
              "Find user logs for this run at: <code>/Users/uwesterr/CloudProjectsUnderWork/ProjectsUnderWork/SydneyAO/pytorchtestStudio/wandb/run-20210701_194830-6qs3jhmc/logs/debug.log</code>"
            ],
            "text/plain": [
              "<IPython.core.display.HTML object>"
            ]
          },
          "metadata": {},
          "output_type": "display_data"
        },
        {
          "data": {
            "text/html": [
              "Find internal logs for this run at: <code>/Users/uwesterr/CloudProjectsUnderWork/ProjectsUnderWork/SydneyAO/pytorchtestStudio/wandb/run-20210701_194830-6qs3jhmc/logs/debug-internal.log</code>"
            ],
            "text/plain": [
              "<IPython.core.display.HTML object>"
            ]
          },
          "metadata": {},
          "output_type": "display_data"
        },
        {
          "data": {
            "text/html": [
              "<h3>Run summary:</h3><br/><style>\n",
              "    table.wandb td:nth-child(1) { padding: 0 10px; text-align: right }\n",
              "    </style><table class=\"wandb\">\n",
              "<tr><td>batch loss</td><td>0.00773</td></tr><tr><td>_runtime</td><td>7</td></tr><tr><td>_timestamp</td><td>1625161717</td></tr><tr><td>_step</td><td>890</td></tr><tr><td>loss</td><td>0.01239</td></tr><tr><td>epoch</td><td>0</td></tr></table>"
            ],
            "text/plain": [
              "<IPython.core.display.HTML object>"
            ]
          },
          "metadata": {},
          "output_type": "display_data"
        },
        {
          "data": {
            "text/html": [
              "<h3>Run history:</h3><br/><style>\n",
              "    table.wandb td:nth-child(1) { padding: 0 10px; text-align: right }\n",
              "    </style><table class=\"wandb\">\n",
              "<tr><td>batch loss</td><td>█▃▂▂▁▂▂▁▁▁▁▁▁▁▂▁▁▁▁▁▁▁▁▁▁▁▁▁▁▁▁▁▁▁▁▁▁▁▁▁</td></tr><tr><td>_runtime</td><td>▁▁▁▁▁▁▁▁▁▁▁▁▁▁▁▁▁▁▁▁▁▁▁▁▁▁▁▁▁▁▁█████████</td></tr><tr><td>_timestamp</td><td>▁▁▁▁▁▁▁▁▁▁▁▁▁▁▁▁▁▁▁▁▁▁▁▁▁▁▁▁▁▁▁█████████</td></tr><tr><td>_step</td><td>▁▁▁▂▂▂▂▂▂▃▃▃▃▃▃▄▄▄▄▄▅▅▅▅▅▅▆▆▆▆▆▇▇▇▇▇▇███</td></tr><tr><td>loss</td><td>▁</td></tr><tr><td>epoch</td><td>▁</td></tr></table><br/>"
            ],
            "text/plain": [
              "<IPython.core.display.HTML object>"
            ]
          },
          "metadata": {},
          "output_type": "display_data"
        },
        {
          "data": {
            "text/html": [
              "Synced 5 W&B file(s), 0 media file(s), 0 artifact file(s) and 0 other file(s)"
            ],
            "text/plain": [
              "<IPython.core.display.HTML object>"
            ]
          },
          "metadata": {},
          "output_type": "display_data"
        },
        {
          "data": {
            "text/html": [
              "\n",
              "                    <br/>Synced <strong style=\"color:#cdcd00\">neat-sweep-5</strong>: <a href=\"https://wandb.ai/uwe-sterr/pytorch-sweeps-demo/runs/6qs3jhmc\" target=\"_blank\">https://wandb.ai/uwe-sterr/pytorch-sweeps-demo/runs/6qs3jhmc</a><br/>\n",
              "                "
            ],
            "text/plain": [
              "<IPython.core.display.HTML object>"
            ]
          },
          "metadata": {},
          "output_type": "display_data"
        },
        {
          "name": "stderr",
          "output_type": "stream",
          "text": [
            "\u001b[34m\u001b[1mwandb\u001b[0m: Agent Starting Run: gcub15wx with config:\n",
            "\u001b[34m\u001b[1mwandb\u001b[0m: \tbatch_size: 61\n",
            "\u001b[34m\u001b[1mwandb\u001b[0m: \tdropout: 0.3\n",
            "\u001b[34m\u001b[1mwandb\u001b[0m: \tepochs: 1\n",
            "\u001b[34m\u001b[1mwandb\u001b[0m: \tfc_layer_size: 128\n",
            "\u001b[34m\u001b[1mwandb\u001b[0m: \tlearning_rate: 0.08290027098339464\n",
            "\u001b[34m\u001b[1mwandb\u001b[0m: \toptimizer: adam\n"
          ]
        },
        {
          "data": {
            "text/html": [
              "\n",
              "                Tracking run with wandb version 0.10.33<br/>\n",
              "                Syncing run <strong style=\"color:#cdcd00\">neat-sweep-6</strong> to <a href=\"https://wandb.ai\" target=\"_blank\">Weights & Biases</a> <a href=\"https://docs.wandb.com/integrations/jupyter.html\" target=\"_blank\">(Documentation)</a>.<br/>\n",
              "                Project page: <a href=\"https://wandb.ai/uwe-sterr/pytorch-sweeps-demo\" target=\"_blank\">https://wandb.ai/uwe-sterr/pytorch-sweeps-demo</a><br/>\n",
              "                Sweep page: <a href=\"https://wandb.ai/uwe-sterr/pytorch-sweeps-demo/sweeps/4btb82if\" target=\"_blank\">https://wandb.ai/uwe-sterr/pytorch-sweeps-demo/sweeps/4btb82if</a><br/>\n",
              "Run page: <a href=\"https://wandb.ai/uwe-sterr/pytorch-sweeps-demo/runs/gcub15wx\" target=\"_blank\">https://wandb.ai/uwe-sterr/pytorch-sweeps-demo/runs/gcub15wx</a><br/>\n",
              "                Run data is saved locally in <code>/Users/uwesterr/CloudProjectsUnderWork/ProjectsUnderWork/SydneyAO/pytorchtestStudio/wandb/run-20210701_194842-gcub15wx</code><br/><br/>\n",
              "            "
            ],
            "text/plain": [
              "<IPython.core.display.HTML object>"
            ]
          },
          "metadata": {},
          "output_type": "display_data"
        },
        {
          "data": {
            "text/html": [
              "<br/>Waiting for W&B process to finish, PID 21235<br/>Program ended successfully."
            ],
            "text/plain": [
              "<IPython.core.display.HTML object>"
            ]
          },
          "metadata": {},
          "output_type": "display_data"
        },
        {
          "data": {
            "application/vnd.jupyter.widget-view+json": {
              "model_id": "8c35e45d5fee494cbcb424b384c85bd0",
              "version_major": 2,
              "version_minor": 0
            },
            "text/plain": [
              "VBox(children=(Label(value=' 0.00MB of 0.00MB uploaded (0.00MB deduped)\\r'), FloatProgress(value=1.0, max=1.0)…"
            ]
          },
          "metadata": {},
          "output_type": "display_data"
        },
        {
          "data": {
            "text/html": [
              "Find user logs for this run at: <code>/Users/uwesterr/CloudProjectsUnderWork/ProjectsUnderWork/SydneyAO/pytorchtestStudio/wandb/run-20210701_194842-gcub15wx/logs/debug.log</code>"
            ],
            "text/plain": [
              "<IPython.core.display.HTML object>"
            ]
          },
          "metadata": {},
          "output_type": "display_data"
        },
        {
          "data": {
            "text/html": [
              "Find internal logs for this run at: <code>/Users/uwesterr/CloudProjectsUnderWork/ProjectsUnderWork/SydneyAO/pytorchtestStudio/wandb/run-20210701_194842-gcub15wx/logs/debug-internal.log</code>"
            ],
            "text/plain": [
              "<IPython.core.display.HTML object>"
            ]
          },
          "metadata": {},
          "output_type": "display_data"
        },
        {
          "data": {
            "text/html": [
              "<h3>Run summary:</h3><br/><style>\n",
              "    table.wandb td:nth-child(1) { padding: 0 10px; text-align: right }\n",
              "    </style><table class=\"wandb\">\n",
              "<tr><td>batch loss</td><td>0.03676</td></tr><tr><td>_runtime</td><td>7</td></tr><tr><td>_timestamp</td><td>1625161729</td></tr><tr><td>_step</td><td>963</td></tr><tr><td>loss</td><td>0.07202</td></tr><tr><td>epoch</td><td>0</td></tr></table>"
            ],
            "text/plain": [
              "<IPython.core.display.HTML object>"
            ]
          },
          "metadata": {},
          "output_type": "display_data"
        },
        {
          "data": {
            "text/html": [
              "<h3>Run history:</h3><br/><style>\n",
              "    table.wandb td:nth-child(1) { padding: 0 10px; text-align: right }\n",
              "    </style><table class=\"wandb\">\n",
              "<tr><td>batch loss</td><td>█▄▃▂▁▂▂▂▂▂▁▂▁▁▂▂▂▁▁▂▂▂▂▂▁▂▂▂▃▂▂▂▂▂▂▄▂▂▂▂</td></tr><tr><td>_runtime</td><td>▁▁▁▁▁▁▁▁▁▁▁▁▁▁▁▁▁▁▁▁▁▁▁▁▁▁██████████████</td></tr><tr><td>_timestamp</td><td>▁▁▁▁▁▁▁▁▁▁▁▁▁▁▁▁▁▁▁▁▁▁▁▁▁▁██████████████</td></tr><tr><td>_step</td><td>▁▁▁▂▂▂▂▂▂▃▃▃▃▃▃▄▄▄▄▄▅▅▅▅▅▅▆▆▆▆▆▇▇▇▇▇▇███</td></tr><tr><td>loss</td><td>▁</td></tr><tr><td>epoch</td><td>▁</td></tr></table><br/>"
            ],
            "text/plain": [
              "<IPython.core.display.HTML object>"
            ]
          },
          "metadata": {},
          "output_type": "display_data"
        },
        {
          "data": {
            "text/html": [
              "Synced 5 W&B file(s), 0 media file(s), 0 artifact file(s) and 0 other file(s)"
            ],
            "text/plain": [
              "<IPython.core.display.HTML object>"
            ]
          },
          "metadata": {},
          "output_type": "display_data"
        },
        {
          "data": {
            "text/html": [
              "\n",
              "                    <br/>Synced <strong style=\"color:#cdcd00\">neat-sweep-6</strong>: <a href=\"https://wandb.ai/uwe-sterr/pytorch-sweeps-demo/runs/gcub15wx\" target=\"_blank\">https://wandb.ai/uwe-sterr/pytorch-sweeps-demo/runs/gcub15wx</a><br/>\n",
              "                "
            ],
            "text/plain": [
              "<IPython.core.display.HTML object>"
            ]
          },
          "metadata": {},
          "output_type": "display_data"
        },
        {
          "name": "stderr",
          "output_type": "stream",
          "text": [
            "\u001b[34m\u001b[1mwandb\u001b[0m: Agent Starting Run: q0ei4mju with config:\n",
            "\u001b[34m\u001b[1mwandb\u001b[0m: \tbatch_size: 129\n",
            "\u001b[34m\u001b[1mwandb\u001b[0m: \tdropout: 0.3\n",
            "\u001b[34m\u001b[1mwandb\u001b[0m: \tepochs: 1\n",
            "\u001b[34m\u001b[1mwandb\u001b[0m: \tfc_layer_size: 512\n",
            "\u001b[34m\u001b[1mwandb\u001b[0m: \tlearning_rate: 0.05902241880467456\n",
            "\u001b[34m\u001b[1mwandb\u001b[0m: \toptimizer: adam\n"
          ]
        },
        {
          "data": {
            "text/html": [
              "\n",
              "                Tracking run with wandb version 0.10.33<br/>\n",
              "                Syncing run <strong style=\"color:#cdcd00\">smart-sweep-7</strong> to <a href=\"https://wandb.ai\" target=\"_blank\">Weights & Biases</a> <a href=\"https://docs.wandb.com/integrations/jupyter.html\" target=\"_blank\">(Documentation)</a>.<br/>\n",
              "                Project page: <a href=\"https://wandb.ai/uwe-sterr/pytorch-sweeps-demo\" target=\"_blank\">https://wandb.ai/uwe-sterr/pytorch-sweeps-demo</a><br/>\n",
              "                Sweep page: <a href=\"https://wandb.ai/uwe-sterr/pytorch-sweeps-demo/sweeps/4btb82if\" target=\"_blank\">https://wandb.ai/uwe-sterr/pytorch-sweeps-demo/sweeps/4btb82if</a><br/>\n",
              "Run page: <a href=\"https://wandb.ai/uwe-sterr/pytorch-sweeps-demo/runs/q0ei4mju\" target=\"_blank\">https://wandb.ai/uwe-sterr/pytorch-sweeps-demo/runs/q0ei4mju</a><br/>\n",
              "                Run data is saved locally in <code>/Users/uwesterr/CloudProjectsUnderWork/ProjectsUnderWork/SydneyAO/pytorchtestStudio/wandb/run-20210701_194854-q0ei4mju</code><br/><br/>\n",
              "            "
            ],
            "text/plain": [
              "<IPython.core.display.HTML object>"
            ]
          },
          "metadata": {},
          "output_type": "display_data"
        },
        {
          "data": {
            "text/html": [
              "<br/>Waiting for W&B process to finish, PID 21245<br/>Program ended successfully."
            ],
            "text/plain": [
              "<IPython.core.display.HTML object>"
            ]
          },
          "metadata": {},
          "output_type": "display_data"
        },
        {
          "data": {
            "application/vnd.jupyter.widget-view+json": {
              "model_id": "0918650a1f594d38b1f15ce5e807dd74",
              "version_major": 2,
              "version_minor": 0
            },
            "text/plain": [
              "VBox(children=(Label(value=' 0.00MB of 0.00MB uploaded (0.00MB deduped)\\r'), FloatProgress(value=0.0, max=1.0)…"
            ]
          },
          "metadata": {},
          "output_type": "display_data"
        },
        {
          "data": {
            "text/html": [
              "Find user logs for this run at: <code>/Users/uwesterr/CloudProjectsUnderWork/ProjectsUnderWork/SydneyAO/pytorchtestStudio/wandb/run-20210701_194854-q0ei4mju/logs/debug.log</code>"
            ],
            "text/plain": [
              "<IPython.core.display.HTML object>"
            ]
          },
          "metadata": {},
          "output_type": "display_data"
        },
        {
          "data": {
            "text/html": [
              "Find internal logs for this run at: <code>/Users/uwesterr/CloudProjectsUnderWork/ProjectsUnderWork/SydneyAO/pytorchtestStudio/wandb/run-20210701_194854-q0ei4mju/logs/debug-internal.log</code>"
            ],
            "text/plain": [
              "<IPython.core.display.HTML object>"
            ]
          },
          "metadata": {},
          "output_type": "display_data"
        },
        {
          "data": {
            "text/html": [
              "<h3>Run summary:</h3><br/><style>\n",
              "    table.wandb td:nth-child(1) { padding: 0 10px; text-align: right }\n",
              "    </style><table class=\"wandb\">\n",
              "<tr><td>batch loss</td><td>0.0242</td></tr><tr><td>_runtime</td><td>7</td></tr><tr><td>_timestamp</td><td>1625161741</td></tr><tr><td>_step</td><td>456</td></tr><tr><td>loss</td><td>0.49282</td></tr><tr><td>epoch</td><td>0</td></tr></table>"
            ],
            "text/plain": [
              "<IPython.core.display.HTML object>"
            ]
          },
          "metadata": {},
          "output_type": "display_data"
        },
        {
          "data": {
            "text/html": [
              "<h3>Run history:</h3><br/><style>\n",
              "    table.wandb td:nth-child(1) { padding: 0 10px; text-align: right }\n",
              "    </style><table class=\"wandb\">\n",
              "<tr><td>batch loss</td><td>█▂▁▁▁▁▁▁▁▁▁▁▁▁▁▁▁▁▁▁▁▁▁▁▁▁▁▁▁▁▁▁▁▁▁▁▁▁▁▁</td></tr><tr><td>_runtime</td><td>▁▁▁▁▁▁▁▁▁▁▁▁▁▁▁▁▁▁▁█████████████████████</td></tr><tr><td>_timestamp</td><td>▁▁▁▁▁▁▁▁▁▁▁▁▁▁▁▁▁▁▁█████████████████████</td></tr><tr><td>_step</td><td>▁▁▁▁▂▂▂▂▂▃▃▃▃▃▃▄▄▄▄▄▅▅▅▅▅▅▆▆▆▆▆▇▇▇▇▇▇███</td></tr><tr><td>loss</td><td>▁</td></tr><tr><td>epoch</td><td>▁</td></tr></table><br/>"
            ],
            "text/plain": [
              "<IPython.core.display.HTML object>"
            ]
          },
          "metadata": {},
          "output_type": "display_data"
        },
        {
          "data": {
            "text/html": [
              "Synced 5 W&B file(s), 0 media file(s), 0 artifact file(s) and 0 other file(s)"
            ],
            "text/plain": [
              "<IPython.core.display.HTML object>"
            ]
          },
          "metadata": {},
          "output_type": "display_data"
        },
        {
          "data": {
            "text/html": [
              "\n",
              "                    <br/>Synced <strong style=\"color:#cdcd00\">smart-sweep-7</strong>: <a href=\"https://wandb.ai/uwe-sterr/pytorch-sweeps-demo/runs/q0ei4mju\" target=\"_blank\">https://wandb.ai/uwe-sterr/pytorch-sweeps-demo/runs/q0ei4mju</a><br/>\n",
              "                "
            ],
            "text/plain": [
              "<IPython.core.display.HTML object>"
            ]
          },
          "metadata": {},
          "output_type": "display_data"
        },
        {
          "name": "stderr",
          "output_type": "stream",
          "text": [
            "\u001b[34m\u001b[1mwandb\u001b[0m: Agent Starting Run: p6e0ud5j with config:\n",
            "\u001b[34m\u001b[1mwandb\u001b[0m: \tbatch_size: 199\n",
            "\u001b[34m\u001b[1mwandb\u001b[0m: \tdropout: 0.4\n",
            "\u001b[34m\u001b[1mwandb\u001b[0m: \tepochs: 1\n",
            "\u001b[34m\u001b[1mwandb\u001b[0m: \tfc_layer_size: 512\n",
            "\u001b[34m\u001b[1mwandb\u001b[0m: \tlearning_rate: 0.07446961414179229\n",
            "\u001b[34m\u001b[1mwandb\u001b[0m: \toptimizer: adam\n"
          ]
        },
        {
          "data": {
            "text/html": [
              "\n",
              "                Tracking run with wandb version 0.10.33<br/>\n",
              "                Syncing run <strong style=\"color:#cdcd00\">avid-sweep-8</strong> to <a href=\"https://wandb.ai\" target=\"_blank\">Weights & Biases</a> <a href=\"https://docs.wandb.com/integrations/jupyter.html\" target=\"_blank\">(Documentation)</a>.<br/>\n",
              "                Project page: <a href=\"https://wandb.ai/uwe-sterr/pytorch-sweeps-demo\" target=\"_blank\">https://wandb.ai/uwe-sterr/pytorch-sweeps-demo</a><br/>\n",
              "                Sweep page: <a href=\"https://wandb.ai/uwe-sterr/pytorch-sweeps-demo/sweeps/4btb82if\" target=\"_blank\">https://wandb.ai/uwe-sterr/pytorch-sweeps-demo/sweeps/4btb82if</a><br/>\n",
              "Run page: <a href=\"https://wandb.ai/uwe-sterr/pytorch-sweeps-demo/runs/p6e0ud5j\" target=\"_blank\">https://wandb.ai/uwe-sterr/pytorch-sweeps-demo/runs/p6e0ud5j</a><br/>\n",
              "                Run data is saved locally in <code>/Users/uwesterr/CloudProjectsUnderWork/ProjectsUnderWork/SydneyAO/pytorchtestStudio/wandb/run-20210701_194905-p6e0ud5j</code><br/><br/>\n",
              "            "
            ],
            "text/plain": [
              "<IPython.core.display.HTML object>"
            ]
          },
          "metadata": {},
          "output_type": "display_data"
        },
        {
          "data": {
            "text/html": [
              "<br/>Waiting for W&B process to finish, PID 21255<br/>Program ended successfully."
            ],
            "text/plain": [
              "<IPython.core.display.HTML object>"
            ]
          },
          "metadata": {},
          "output_type": "display_data"
        },
        {
          "data": {
            "application/vnd.jupyter.widget-view+json": {
              "model_id": "3d9b158f44d648389b053dcc6ef93bef",
              "version_major": 2,
              "version_minor": 0
            },
            "text/plain": [
              "VBox(children=(Label(value=' 0.00MB of 0.00MB uploaded (0.00MB deduped)\\r'), FloatProgress(value=1.0, max=1.0)…"
            ]
          },
          "metadata": {},
          "output_type": "display_data"
        },
        {
          "data": {
            "text/html": [
              "Find user logs for this run at: <code>/Users/uwesterr/CloudProjectsUnderWork/ProjectsUnderWork/SydneyAO/pytorchtestStudio/wandb/run-20210701_194905-p6e0ud5j/logs/debug.log</code>"
            ],
            "text/plain": [
              "<IPython.core.display.HTML object>"
            ]
          },
          "metadata": {},
          "output_type": "display_data"
        },
        {
          "data": {
            "text/html": [
              "Find internal logs for this run at: <code>/Users/uwesterr/CloudProjectsUnderWork/ProjectsUnderWork/SydneyAO/pytorchtestStudio/wandb/run-20210701_194905-p6e0ud5j/logs/debug-internal.log</code>"
            ],
            "text/plain": [
              "<IPython.core.display.HTML object>"
            ]
          },
          "metadata": {},
          "output_type": "display_data"
        },
        {
          "data": {
            "text/html": [
              "<h3>Run summary:</h3><br/><style>\n",
              "    table.wandb td:nth-child(1) { padding: 0 10px; text-align: right }\n",
              "    </style><table class=\"wandb\">\n",
              "<tr><td>batch loss</td><td>0.02996</td></tr><tr><td>_runtime</td><td>7</td></tr><tr><td>_timestamp</td><td>1625161752</td></tr><tr><td>_step</td><td>296</td></tr><tr><td>loss</td><td>1.6475</td></tr><tr><td>epoch</td><td>0</td></tr></table>"
            ],
            "text/plain": [
              "<IPython.core.display.HTML object>"
            ]
          },
          "metadata": {},
          "output_type": "display_data"
        },
        {
          "data": {
            "text/html": [
              "<h3>Run history:</h3><br/><style>\n",
              "    table.wandb td:nth-child(1) { padding: 0 10px; text-align: right }\n",
              "    </style><table class=\"wandb\">\n",
              "<tr><td>batch loss</td><td>█▁▁▁▁▁▁▁▁▁▁▁▁▁▁▁▁▁▁▁▁▁▁▁▁▁▁▁▁▁▁▁▁▁▁▁▁▁▁▁</td></tr><tr><td>_runtime</td><td>▁▁▁▁▁▁▁▁▁▁▁█████████████████████████████</td></tr><tr><td>_timestamp</td><td>▁▁▁▁▁▁▁▁▁▁▁█████████████████████████████</td></tr><tr><td>_step</td><td>▁▁▁▁▂▂▂▂▂▃▃▃▃▃▃▄▄▄▄▄▅▅▅▅▅▅▆▆▆▆▆▇▇▇▇▇▇███</td></tr><tr><td>loss</td><td>▁</td></tr><tr><td>epoch</td><td>▁</td></tr></table><br/>"
            ],
            "text/plain": [
              "<IPython.core.display.HTML object>"
            ]
          },
          "metadata": {},
          "output_type": "display_data"
        },
        {
          "data": {
            "text/html": [
              "Synced 5 W&B file(s), 0 media file(s), 0 artifact file(s) and 0 other file(s)"
            ],
            "text/plain": [
              "<IPython.core.display.HTML object>"
            ]
          },
          "metadata": {},
          "output_type": "display_data"
        },
        {
          "data": {
            "text/html": [
              "\n",
              "                    <br/>Synced <strong style=\"color:#cdcd00\">avid-sweep-8</strong>: <a href=\"https://wandb.ai/uwe-sterr/pytorch-sweeps-demo/runs/p6e0ud5j\" target=\"_blank\">https://wandb.ai/uwe-sterr/pytorch-sweeps-demo/runs/p6e0ud5j</a><br/>\n",
              "                "
            ],
            "text/plain": [
              "<IPython.core.display.HTML object>"
            ]
          },
          "metadata": {},
          "output_type": "display_data"
        },
        {
          "name": "stderr",
          "output_type": "stream",
          "text": [
            "\u001b[34m\u001b[1mwandb\u001b[0m: Agent Starting Run: k1jh0iv6 with config:\n",
            "\u001b[34m\u001b[1mwandb\u001b[0m: \tbatch_size: 47\n",
            "\u001b[34m\u001b[1mwandb\u001b[0m: \tdropout: 0.3\n",
            "\u001b[34m\u001b[1mwandb\u001b[0m: \tepochs: 1\n",
            "\u001b[34m\u001b[1mwandb\u001b[0m: \tfc_layer_size: 512\n",
            "\u001b[34m\u001b[1mwandb\u001b[0m: \tlearning_rate: 0.01900921553169439\n",
            "\u001b[34m\u001b[1mwandb\u001b[0m: \toptimizer: adam\n"
          ]
        },
        {
          "data": {
            "text/html": [
              "\n",
              "                Tracking run with wandb version 0.10.33<br/>\n",
              "                Syncing run <strong style=\"color:#cdcd00\">splendid-sweep-9</strong> to <a href=\"https://wandb.ai\" target=\"_blank\">Weights & Biases</a> <a href=\"https://docs.wandb.com/integrations/jupyter.html\" target=\"_blank\">(Documentation)</a>.<br/>\n",
              "                Project page: <a href=\"https://wandb.ai/uwe-sterr/pytorch-sweeps-demo\" target=\"_blank\">https://wandb.ai/uwe-sterr/pytorch-sweeps-demo</a><br/>\n",
              "                Sweep page: <a href=\"https://wandb.ai/uwe-sterr/pytorch-sweeps-demo/sweeps/4btb82if\" target=\"_blank\">https://wandb.ai/uwe-sterr/pytorch-sweeps-demo/sweeps/4btb82if</a><br/>\n",
              "Run page: <a href=\"https://wandb.ai/uwe-sterr/pytorch-sweeps-demo/runs/k1jh0iv6\" target=\"_blank\">https://wandb.ai/uwe-sterr/pytorch-sweeps-demo/runs/k1jh0iv6</a><br/>\n",
              "                Run data is saved locally in <code>/Users/uwesterr/CloudProjectsUnderWork/ProjectsUnderWork/SydneyAO/pytorchtestStudio/wandb/run-20210701_194917-k1jh0iv6</code><br/><br/>\n",
              "            "
            ],
            "text/plain": [
              "<IPython.core.display.HTML object>"
            ]
          },
          "metadata": {},
          "output_type": "display_data"
        },
        {
          "data": {
            "text/html": [
              "<br/>Waiting for W&B process to finish, PID 21265<br/>Program ended successfully."
            ],
            "text/plain": [
              "<IPython.core.display.HTML object>"
            ]
          },
          "metadata": {},
          "output_type": "display_data"
        },
        {
          "data": {
            "application/vnd.jupyter.widget-view+json": {
              "model_id": "a75db88747ce44faacd727e03b81e4ad",
              "version_major": 2,
              "version_minor": 0
            },
            "text/plain": [
              "VBox(children=(Label(value=' 0.00MB of 0.00MB uploaded (0.00MB deduped)\\r'), FloatProgress(value=1.0, max=1.0)…"
            ]
          },
          "metadata": {},
          "output_type": "display_data"
        },
        {
          "data": {
            "text/html": [
              "Find user logs for this run at: <code>/Users/uwesterr/CloudProjectsUnderWork/ProjectsUnderWork/SydneyAO/pytorchtestStudio/wandb/run-20210701_194917-k1jh0iv6/logs/debug.log</code>"
            ],
            "text/plain": [
              "<IPython.core.display.HTML object>"
            ]
          },
          "metadata": {},
          "output_type": "display_data"
        },
        {
          "data": {
            "text/html": [
              "Find internal logs for this run at: <code>/Users/uwesterr/CloudProjectsUnderWork/ProjectsUnderWork/SydneyAO/pytorchtestStudio/wandb/run-20210701_194917-k1jh0iv6/logs/debug-internal.log</code>"
            ],
            "text/plain": [
              "<IPython.core.display.HTML object>"
            ]
          },
          "metadata": {},
          "output_type": "display_data"
        },
        {
          "data": {
            "text/html": [
              "<h3>Run summary:</h3><br/><style>\n",
              "    table.wandb td:nth-child(1) { padding: 0 10px; text-align: right }\n",
              "    </style><table class=\"wandb\">\n",
              "<tr><td>batch loss</td><td>0.02533</td></tr><tr><td>_runtime</td><td>7</td></tr><tr><td>_timestamp</td><td>1625161764</td></tr><tr><td>_step</td><td>1250</td></tr><tr><td>loss</td><td>0.03636</td></tr><tr><td>epoch</td><td>0</td></tr></table>"
            ],
            "text/plain": [
              "<IPython.core.display.HTML object>"
            ]
          },
          "metadata": {},
          "output_type": "display_data"
        },
        {
          "data": {
            "text/html": [
              "<h3>Run history:</h3><br/><style>\n",
              "    table.wandb td:nth-child(1) { padding: 0 10px; text-align: right }\n",
              "    </style><table class=\"wandb\">\n",
              "<tr><td>batch loss</td><td>█▅▆▅▃▃▃▃▃▂▃▂▃▂▂▂▂▁▂▁▂▃▂▃▂▁▂▂▃▂▂▂▂▃▃▂▂▂▂▂</td></tr><tr><td>_runtime</td><td>▁▁▁▁▁▁▁▁▁▁▁▁▁▁▁▁▁▁▁▁▁▁▁█████████████████</td></tr><tr><td>_timestamp</td><td>▁▁▁▁▁▁▁▁▁▁▁▁▁▁▁▁▁▁▁▁▁▁▁█████████████████</td></tr><tr><td>_step</td><td>▁▁▁▁▂▂▂▂▂▃▃▃▃▃▃▄▄▄▄▄▅▅▅▅▅▅▆▆▆▆▆▇▇▇▇▇▇███</td></tr><tr><td>loss</td><td>▁</td></tr><tr><td>epoch</td><td>▁</td></tr></table><br/>"
            ],
            "text/plain": [
              "<IPython.core.display.HTML object>"
            ]
          },
          "metadata": {},
          "output_type": "display_data"
        },
        {
          "data": {
            "text/html": [
              "Synced 5 W&B file(s), 0 media file(s), 0 artifact file(s) and 0 other file(s)"
            ],
            "text/plain": [
              "<IPython.core.display.HTML object>"
            ]
          },
          "metadata": {},
          "output_type": "display_data"
        },
        {
          "data": {
            "text/html": [
              "\n",
              "                    <br/>Synced <strong style=\"color:#cdcd00\">splendid-sweep-9</strong>: <a href=\"https://wandb.ai/uwe-sterr/pytorch-sweeps-demo/runs/k1jh0iv6\" target=\"_blank\">https://wandb.ai/uwe-sterr/pytorch-sweeps-demo/runs/k1jh0iv6</a><br/>\n",
              "                "
            ],
            "text/plain": [
              "<IPython.core.display.HTML object>"
            ]
          },
          "metadata": {},
          "output_type": "display_data"
        },
        {
          "name": "stderr",
          "output_type": "stream",
          "text": [
            "\u001b[34m\u001b[1mwandb\u001b[0m: Agent Starting Run: rpoal3ac with config:\n",
            "\u001b[34m\u001b[1mwandb\u001b[0m: \tbatch_size: 169\n",
            "\u001b[34m\u001b[1mwandb\u001b[0m: \tdropout: 0.5\n",
            "\u001b[34m\u001b[1mwandb\u001b[0m: \tepochs: 1\n",
            "\u001b[34m\u001b[1mwandb\u001b[0m: \tfc_layer_size: 128\n",
            "\u001b[34m\u001b[1mwandb\u001b[0m: \tlearning_rate: 0.028319633533109644\n",
            "\u001b[34m\u001b[1mwandb\u001b[0m: \toptimizer: sgd\n"
          ]
        },
        {
          "data": {
            "text/html": [
              "\n",
              "                Tracking run with wandb version 0.10.33<br/>\n",
              "                Syncing run <strong style=\"color:#cdcd00\">astral-sweep-10</strong> to <a href=\"https://wandb.ai\" target=\"_blank\">Weights & Biases</a> <a href=\"https://docs.wandb.com/integrations/jupyter.html\" target=\"_blank\">(Documentation)</a>.<br/>\n",
              "                Project page: <a href=\"https://wandb.ai/uwe-sterr/pytorch-sweeps-demo\" target=\"_blank\">https://wandb.ai/uwe-sterr/pytorch-sweeps-demo</a><br/>\n",
              "                Sweep page: <a href=\"https://wandb.ai/uwe-sterr/pytorch-sweeps-demo/sweeps/4btb82if\" target=\"_blank\">https://wandb.ai/uwe-sterr/pytorch-sweeps-demo/sweeps/4btb82if</a><br/>\n",
              "Run page: <a href=\"https://wandb.ai/uwe-sterr/pytorch-sweeps-demo/runs/rpoal3ac\" target=\"_blank\">https://wandb.ai/uwe-sterr/pytorch-sweeps-demo/runs/rpoal3ac</a><br/>\n",
              "                Run data is saved locally in <code>/Users/uwesterr/CloudProjectsUnderWork/ProjectsUnderWork/SydneyAO/pytorchtestStudio/wandb/run-20210701_194929-rpoal3ac</code><br/><br/>\n",
              "            "
            ],
            "text/plain": [
              "<IPython.core.display.HTML object>"
            ]
          },
          "metadata": {},
          "output_type": "display_data"
        },
        {
          "data": {
            "text/html": [
              "<br/>Waiting for W&B process to finish, PID 21277<br/>Program ended successfully."
            ],
            "text/plain": [
              "<IPython.core.display.HTML object>"
            ]
          },
          "metadata": {},
          "output_type": "display_data"
        },
        {
          "data": {
            "application/vnd.jupyter.widget-view+json": {
              "model_id": "836a6a84719f4deda35a9b02bcca2f97",
              "version_major": 2,
              "version_minor": 0
            },
            "text/plain": [
              "VBox(children=(Label(value=' 0.00MB of 0.00MB uploaded (0.00MB deduped)\\r'), FloatProgress(value=1.0, max=1.0)…"
            ]
          },
          "metadata": {},
          "output_type": "display_data"
        },
        {
          "data": {
            "text/html": [
              "Find user logs for this run at: <code>/Users/uwesterr/CloudProjectsUnderWork/ProjectsUnderWork/SydneyAO/pytorchtestStudio/wandb/run-20210701_194929-rpoal3ac/logs/debug.log</code>"
            ],
            "text/plain": [
              "<IPython.core.display.HTML object>"
            ]
          },
          "metadata": {},
          "output_type": "display_data"
        },
        {
          "data": {
            "text/html": [
              "Find internal logs for this run at: <code>/Users/uwesterr/CloudProjectsUnderWork/ProjectsUnderWork/SydneyAO/pytorchtestStudio/wandb/run-20210701_194929-rpoal3ac/logs/debug-internal.log</code>"
            ],
            "text/plain": [
              "<IPython.core.display.HTML object>"
            ]
          },
          "metadata": {},
          "output_type": "display_data"
        },
        {
          "data": {
            "text/html": [
              "<h3>Run summary:</h3><br/><style>\n",
              "    table.wandb td:nth-child(1) { padding: 0 10px; text-align: right }\n",
              "    </style><table class=\"wandb\">\n",
              "<tr><td>batch loss</td><td>0.01694</td></tr><tr><td>_runtime</td><td>6</td></tr><tr><td>_timestamp</td><td>1625161775</td></tr><tr><td>_step</td><td>348</td></tr><tr><td>loss</td><td>0.02538</td></tr><tr><td>epoch</td><td>0</td></tr></table>"
            ],
            "text/plain": [
              "<IPython.core.display.HTML object>"
            ]
          },
          "metadata": {},
          "output_type": "display_data"
        },
        {
          "data": {
            "text/html": [
              "<h3>Run history:</h3><br/><style>\n",
              "    table.wandb td:nth-child(1) { padding: 0 10px; text-align: right }\n",
              "    </style><table class=\"wandb\">\n",
              "<tr><td>batch loss</td><td>█▄▂▂▂▁▁▁▂▁▁▁▁▁▁▁▁▁▁▁▁▁▁▁▁▁▁▁▁▁▁▁▁▁▁▁▁▁▁▁</td></tr><tr><td>_runtime</td><td>▁▁▁▁▁▁▁▁▁▁▁▁▁▁▁▁▁▁▁▁▁▁▁▁▁▁▁▁▁▁▁▁▁▁▁▁▁▁▁▁</td></tr><tr><td>_timestamp</td><td>▁▁▁▁▁▁▁▁▁▁▁▁▁▁▁▁▁▁▁▁▁▁▁▁▁▁▁▁▁▁▁▁▁▁▁▁▁▁▁▁</td></tr><tr><td>_step</td><td>▁▁▁▁▂▂▂▂▂▃▃▃▃▃▃▄▄▄▄▄▅▅▅▅▅▅▆▆▆▆▆▇▇▇▇▇▇███</td></tr><tr><td>loss</td><td>▁</td></tr><tr><td>epoch</td><td>▁</td></tr></table><br/>"
            ],
            "text/plain": [
              "<IPython.core.display.HTML object>"
            ]
          },
          "metadata": {},
          "output_type": "display_data"
        },
        {
          "data": {
            "text/html": [
              "Synced 5 W&B file(s), 0 media file(s), 0 artifact file(s) and 0 other file(s)"
            ],
            "text/plain": [
              "<IPython.core.display.HTML object>"
            ]
          },
          "metadata": {},
          "output_type": "display_data"
        },
        {
          "data": {
            "text/html": [
              "\n",
              "                    <br/>Synced <strong style=\"color:#cdcd00\">astral-sweep-10</strong>: <a href=\"https://wandb.ai/uwe-sterr/pytorch-sweeps-demo/runs/rpoal3ac\" target=\"_blank\">https://wandb.ai/uwe-sterr/pytorch-sweeps-demo/runs/rpoal3ac</a><br/>\n",
              "                "
            ],
            "text/plain": [
              "<IPython.core.display.HTML object>"
            ]
          },
          "metadata": {},
          "output_type": "display_data"
        },
        {
          "name": "stderr",
          "output_type": "stream",
          "text": [
            "\u001b[34m\u001b[1mwandb\u001b[0m: Agent Starting Run: ukgkj2wb with config:\n",
            "\u001b[34m\u001b[1mwandb\u001b[0m: \tbatch_size: 119\n",
            "\u001b[34m\u001b[1mwandb\u001b[0m: \tdropout: 0.3\n",
            "\u001b[34m\u001b[1mwandb\u001b[0m: \tepochs: 1\n",
            "\u001b[34m\u001b[1mwandb\u001b[0m: \tfc_layer_size: 256\n",
            "\u001b[34m\u001b[1mwandb\u001b[0m: \tlearning_rate: 0.019223518395641265\n",
            "\u001b[34m\u001b[1mwandb\u001b[0m: \toptimizer: sgd\n"
          ]
        },
        {
          "data": {
            "text/html": [
              "\n",
              "                Tracking run with wandb version 0.10.33<br/>\n",
              "                Syncing run <strong style=\"color:#cdcd00\">vague-sweep-11</strong> to <a href=\"https://wandb.ai\" target=\"_blank\">Weights & Biases</a> <a href=\"https://docs.wandb.com/integrations/jupyter.html\" target=\"_blank\">(Documentation)</a>.<br/>\n",
              "                Project page: <a href=\"https://wandb.ai/uwe-sterr/pytorch-sweeps-demo\" target=\"_blank\">https://wandb.ai/uwe-sterr/pytorch-sweeps-demo</a><br/>\n",
              "                Sweep page: <a href=\"https://wandb.ai/uwe-sterr/pytorch-sweeps-demo/sweeps/4btb82if\" target=\"_blank\">https://wandb.ai/uwe-sterr/pytorch-sweeps-demo/sweeps/4btb82if</a><br/>\n",
              "Run page: <a href=\"https://wandb.ai/uwe-sterr/pytorch-sweeps-demo/runs/ukgkj2wb\" target=\"_blank\">https://wandb.ai/uwe-sterr/pytorch-sweeps-demo/runs/ukgkj2wb</a><br/>\n",
              "                Run data is saved locally in <code>/Users/uwesterr/CloudProjectsUnderWork/ProjectsUnderWork/SydneyAO/pytorchtestStudio/wandb/run-20210701_194940-ukgkj2wb</code><br/><br/>\n",
              "            "
            ],
            "text/plain": [
              "<IPython.core.display.HTML object>"
            ]
          },
          "metadata": {},
          "output_type": "display_data"
        },
        {
          "data": {
            "text/html": [
              "<br/>Waiting for W&B process to finish, PID 21287<br/>Program ended successfully."
            ],
            "text/plain": [
              "<IPython.core.display.HTML object>"
            ]
          },
          "metadata": {},
          "output_type": "display_data"
        },
        {
          "data": {
            "application/vnd.jupyter.widget-view+json": {
              "model_id": "e4f2afb773c14113b1022fb6623f58ff",
              "version_major": 2,
              "version_minor": 0
            },
            "text/plain": [
              "VBox(children=(Label(value=' 0.00MB of 0.00MB uploaded (0.00MB deduped)\\r'), FloatProgress(value=0.0, max=1.0)…"
            ]
          },
          "metadata": {},
          "output_type": "display_data"
        },
        {
          "data": {
            "text/html": [
              "Find user logs for this run at: <code>/Users/uwesterr/CloudProjectsUnderWork/ProjectsUnderWork/SydneyAO/pytorchtestStudio/wandb/run-20210701_194940-ukgkj2wb/logs/debug.log</code>"
            ],
            "text/plain": [
              "<IPython.core.display.HTML object>"
            ]
          },
          "metadata": {},
          "output_type": "display_data"
        },
        {
          "data": {
            "text/html": [
              "Find internal logs for this run at: <code>/Users/uwesterr/CloudProjectsUnderWork/ProjectsUnderWork/SydneyAO/pytorchtestStudio/wandb/run-20210701_194940-ukgkj2wb/logs/debug-internal.log</code>"
            ],
            "text/plain": [
              "<IPython.core.display.HTML object>"
            ]
          },
          "metadata": {},
          "output_type": "display_data"
        },
        {
          "data": {
            "text/html": [
              "<h3>Run summary:</h3><br/><style>\n",
              "    table.wandb td:nth-child(1) { padding: 0 10px; text-align: right }\n",
              "    </style><table class=\"wandb\">\n",
              "<tr><td>batch loss</td><td>0.013</td></tr><tr><td>_runtime</td><td>7</td></tr><tr><td>_timestamp</td><td>1625161787</td></tr><tr><td>_step</td><td>494</td></tr><tr><td>loss</td><td>0.02147</td></tr><tr><td>epoch</td><td>0</td></tr></table>"
            ],
            "text/plain": [
              "<IPython.core.display.HTML object>"
            ]
          },
          "metadata": {},
          "output_type": "display_data"
        },
        {
          "data": {
            "text/html": [
              "<h3>Run history:</h3><br/><style>\n",
              "    table.wandb td:nth-child(1) { padding: 0 10px; text-align: right }\n",
              "    </style><table class=\"wandb\">\n",
              "<tr><td>batch loss</td><td>█▄▂▂▂▂▁▁▁▁▁▁▁▁▁▁▁▁▁▁▁▁▁▁▁▁▁▁▁▁▁▁▁▁▁▁▁▁▁▁</td></tr><tr><td>_runtime</td><td>▁▁▁▁▁▁▁▁▁▁▁▁▁▁▁▁▁▁▁▁▁▁▁▁▁▁▁▁▁▁▁▁▁▁██████</td></tr><tr><td>_timestamp</td><td>▁▁▁▁▁▁▁▁▁▁▁▁▁▁▁▁▁▁▁▁▁▁▁▁▁▁▁▁▁▁▁▁▁▁██████</td></tr><tr><td>_step</td><td>▁▁▁▂▂▂▂▂▂▃▃▃▃▃▃▄▄▄▄▄▅▅▅▅▅▅▆▆▆▆▆▇▇▇▇▇▇███</td></tr><tr><td>loss</td><td>▁</td></tr><tr><td>epoch</td><td>▁</td></tr></table><br/>"
            ],
            "text/plain": [
              "<IPython.core.display.HTML object>"
            ]
          },
          "metadata": {},
          "output_type": "display_data"
        },
        {
          "data": {
            "text/html": [
              "Synced 5 W&B file(s), 0 media file(s), 0 artifact file(s) and 0 other file(s)"
            ],
            "text/plain": [
              "<IPython.core.display.HTML object>"
            ]
          },
          "metadata": {},
          "output_type": "display_data"
        },
        {
          "data": {
            "text/html": [
              "\n",
              "                    <br/>Synced <strong style=\"color:#cdcd00\">vague-sweep-11</strong>: <a href=\"https://wandb.ai/uwe-sterr/pytorch-sweeps-demo/runs/ukgkj2wb\" target=\"_blank\">https://wandb.ai/uwe-sterr/pytorch-sweeps-demo/runs/ukgkj2wb</a><br/>\n",
              "                "
            ],
            "text/plain": [
              "<IPython.core.display.HTML object>"
            ]
          },
          "metadata": {},
          "output_type": "display_data"
        },
        {
          "name": "stderr",
          "output_type": "stream",
          "text": [
            "\u001b[34m\u001b[1mwandb\u001b[0m: Agent Starting Run: z3wyafl1 with config:\n",
            "\u001b[34m\u001b[1mwandb\u001b[0m: \tbatch_size: 127\n",
            "\u001b[34m\u001b[1mwandb\u001b[0m: \tdropout: 0.3\n",
            "\u001b[34m\u001b[1mwandb\u001b[0m: \tepochs: 1\n",
            "\u001b[34m\u001b[1mwandb\u001b[0m: \tfc_layer_size: 256\n",
            "\u001b[34m\u001b[1mwandb\u001b[0m: \tlearning_rate: 0.05685811476795771\n",
            "\u001b[34m\u001b[1mwandb\u001b[0m: \toptimizer: adam\n"
          ]
        },
        {
          "data": {
            "text/html": [
              "\n",
              "                Tracking run with wandb version 0.10.33<br/>\n",
              "                Syncing run <strong style=\"color:#cdcd00\">wandering-sweep-12</strong> to <a href=\"https://wandb.ai\" target=\"_blank\">Weights & Biases</a> <a href=\"https://docs.wandb.com/integrations/jupyter.html\" target=\"_blank\">(Documentation)</a>.<br/>\n",
              "                Project page: <a href=\"https://wandb.ai/uwe-sterr/pytorch-sweeps-demo\" target=\"_blank\">https://wandb.ai/uwe-sterr/pytorch-sweeps-demo</a><br/>\n",
              "                Sweep page: <a href=\"https://wandb.ai/uwe-sterr/pytorch-sweeps-demo/sweeps/4btb82if\" target=\"_blank\">https://wandb.ai/uwe-sterr/pytorch-sweeps-demo/sweeps/4btb82if</a><br/>\n",
              "Run page: <a href=\"https://wandb.ai/uwe-sterr/pytorch-sweeps-demo/runs/z3wyafl1\" target=\"_blank\">https://wandb.ai/uwe-sterr/pytorch-sweeps-demo/runs/z3wyafl1</a><br/>\n",
              "                Run data is saved locally in <code>/Users/uwesterr/CloudProjectsUnderWork/ProjectsUnderWork/SydneyAO/pytorchtestStudio/wandb/run-20210701_194951-z3wyafl1</code><br/><br/>\n",
              "            "
            ],
            "text/plain": [
              "<IPython.core.display.HTML object>"
            ]
          },
          "metadata": {},
          "output_type": "display_data"
        },
        {
          "data": {
            "text/html": [
              "<br/>Waiting for W&B process to finish, PID 21297<br/>Program ended successfully."
            ],
            "text/plain": [
              "<IPython.core.display.HTML object>"
            ]
          },
          "metadata": {},
          "output_type": "display_data"
        },
        {
          "data": {
            "application/vnd.jupyter.widget-view+json": {
              "model_id": "a13851d84a6e4e4988648f7e9ddc59e5",
              "version_major": 2,
              "version_minor": 0
            },
            "text/plain": [
              "VBox(children=(Label(value=' 0.00MB of 0.00MB uploaded (0.00MB deduped)\\r'), FloatProgress(value=0.0, max=1.0)…"
            ]
          },
          "metadata": {},
          "output_type": "display_data"
        },
        {
          "data": {
            "text/html": [
              "Find user logs for this run at: <code>/Users/uwesterr/CloudProjectsUnderWork/ProjectsUnderWork/SydneyAO/pytorchtestStudio/wandb/run-20210701_194951-z3wyafl1/logs/debug.log</code>"
            ],
            "text/plain": [
              "<IPython.core.display.HTML object>"
            ]
          },
          "metadata": {},
          "output_type": "display_data"
        },
        {
          "data": {
            "text/html": [
              "Find internal logs for this run at: <code>/Users/uwesterr/CloudProjectsUnderWork/ProjectsUnderWork/SydneyAO/pytorchtestStudio/wandb/run-20210701_194951-z3wyafl1/logs/debug-internal.log</code>"
            ],
            "text/plain": [
              "<IPython.core.display.HTML object>"
            ]
          },
          "metadata": {},
          "output_type": "display_data"
        },
        {
          "data": {
            "text/html": [
              "<h3>Run summary:</h3><br/><style>\n",
              "    table.wandb td:nth-child(1) { padding: 0 10px; text-align: right }\n",
              "    </style><table class=\"wandb\">\n",
              "<tr><td>batch loss</td><td>0.03206</td></tr><tr><td>_runtime</td><td>7</td></tr><tr><td>_timestamp</td><td>1625161798</td></tr><tr><td>_step</td><td>463</td></tr><tr><td>loss</td><td>0.12436</td></tr><tr><td>epoch</td><td>0</td></tr></table>"
            ],
            "text/plain": [
              "<IPython.core.display.HTML object>"
            ]
          },
          "metadata": {},
          "output_type": "display_data"
        },
        {
          "data": {
            "text/html": [
              "<h3>Run history:</h3><br/><style>\n",
              "    table.wandb td:nth-child(1) { padding: 0 10px; text-align: right }\n",
              "    </style><table class=\"wandb\">\n",
              "<tr><td>batch loss</td><td>█▂▃▂▂▂▁▁▁▁▁▁▁▁▁▁▁▁▁▁▁▁▁▁▁▁▁▁▁▁▁▂▁▁▂▁▁▁▁▁</td></tr><tr><td>_runtime</td><td>▁▁▁▁▁▁▁▁████████████████████████████████</td></tr><tr><td>_timestamp</td><td>▁▁▁▁▁▁▁▁████████████████████████████████</td></tr><tr><td>_step</td><td>▁▁▁▁▂▂▂▂▂▃▃▃▃▃▃▄▄▄▄▄▅▅▅▅▅▅▆▆▆▆▆▇▇▇▇▇▇███</td></tr><tr><td>loss</td><td>▁</td></tr><tr><td>epoch</td><td>▁</td></tr></table><br/>"
            ],
            "text/plain": [
              "<IPython.core.display.HTML object>"
            ]
          },
          "metadata": {},
          "output_type": "display_data"
        },
        {
          "data": {
            "text/html": [
              "Synced 5 W&B file(s), 0 media file(s), 0 artifact file(s) and 0 other file(s)"
            ],
            "text/plain": [
              "<IPython.core.display.HTML object>"
            ]
          },
          "metadata": {},
          "output_type": "display_data"
        },
        {
          "data": {
            "text/html": [
              "\n",
              "                    <br/>Synced <strong style=\"color:#cdcd00\">wandering-sweep-12</strong>: <a href=\"https://wandb.ai/uwe-sterr/pytorch-sweeps-demo/runs/z3wyafl1\" target=\"_blank\">https://wandb.ai/uwe-sterr/pytorch-sweeps-demo/runs/z3wyafl1</a><br/>\n",
              "                "
            ],
            "text/plain": [
              "<IPython.core.display.HTML object>"
            ]
          },
          "metadata": {},
          "output_type": "display_data"
        },
        {
          "name": "stderr",
          "output_type": "stream",
          "text": [
            "\u001b[34m\u001b[1mwandb\u001b[0m: Agent Starting Run: 5osqwsad with config:\n",
            "\u001b[34m\u001b[1mwandb\u001b[0m: \tbatch_size: 226\n",
            "\u001b[34m\u001b[1mwandb\u001b[0m: \tdropout: 0.4\n",
            "\u001b[34m\u001b[1mwandb\u001b[0m: \tepochs: 1\n",
            "\u001b[34m\u001b[1mwandb\u001b[0m: \tfc_layer_size: 128\n",
            "\u001b[34m\u001b[1mwandb\u001b[0m: \tlearning_rate: 0.06729009143590564\n",
            "\u001b[34m\u001b[1mwandb\u001b[0m: \toptimizer: sgd\n"
          ]
        },
        {
          "data": {
            "text/html": [
              "\n",
              "                Tracking run with wandb version 0.10.33<br/>\n",
              "                Syncing run <strong style=\"color:#cdcd00\">effortless-sweep-13</strong> to <a href=\"https://wandb.ai\" target=\"_blank\">Weights & Biases</a> <a href=\"https://docs.wandb.com/integrations/jupyter.html\" target=\"_blank\">(Documentation)</a>.<br/>\n",
              "                Project page: <a href=\"https://wandb.ai/uwe-sterr/pytorch-sweeps-demo\" target=\"_blank\">https://wandb.ai/uwe-sterr/pytorch-sweeps-demo</a><br/>\n",
              "                Sweep page: <a href=\"https://wandb.ai/uwe-sterr/pytorch-sweeps-demo/sweeps/4btb82if\" target=\"_blank\">https://wandb.ai/uwe-sterr/pytorch-sweeps-demo/sweeps/4btb82if</a><br/>\n",
              "Run page: <a href=\"https://wandb.ai/uwe-sterr/pytorch-sweeps-demo/runs/5osqwsad\" target=\"_blank\">https://wandb.ai/uwe-sterr/pytorch-sweeps-demo/runs/5osqwsad</a><br/>\n",
              "                Run data is saved locally in <code>/Users/uwesterr/CloudProjectsUnderWork/ProjectsUnderWork/SydneyAO/pytorchtestStudio/wandb/run-20210701_195004-5osqwsad</code><br/><br/>\n",
              "            "
            ],
            "text/plain": [
              "<IPython.core.display.HTML object>"
            ]
          },
          "metadata": {},
          "output_type": "display_data"
        },
        {
          "data": {
            "text/html": [
              "<br/>Waiting for W&B process to finish, PID 21318<br/>Program ended successfully."
            ],
            "text/plain": [
              "<IPython.core.display.HTML object>"
            ]
          },
          "metadata": {},
          "output_type": "display_data"
        },
        {
          "data": {
            "application/vnd.jupyter.widget-view+json": {
              "model_id": "a6402287aed943aa8fa750a92968e38a",
              "version_major": 2,
              "version_minor": 0
            },
            "text/plain": [
              "VBox(children=(Label(value=' 0.00MB of 0.00MB uploaded (0.00MB deduped)\\r'), FloatProgress(value=1.0, max=1.0)…"
            ]
          },
          "metadata": {},
          "output_type": "display_data"
        },
        {
          "data": {
            "text/html": [
              "Find user logs for this run at: <code>/Users/uwesterr/CloudProjectsUnderWork/ProjectsUnderWork/SydneyAO/pytorchtestStudio/wandb/run-20210701_195004-5osqwsad/logs/debug.log</code>"
            ],
            "text/plain": [
              "<IPython.core.display.HTML object>"
            ]
          },
          "metadata": {},
          "output_type": "display_data"
        },
        {
          "data": {
            "text/html": [
              "Find internal logs for this run at: <code>/Users/uwesterr/CloudProjectsUnderWork/ProjectsUnderWork/SydneyAO/pytorchtestStudio/wandb/run-20210701_195004-5osqwsad/logs/debug-internal.log</code>"
            ],
            "text/plain": [
              "<IPython.core.display.HTML object>"
            ]
          },
          "metadata": {},
          "output_type": "display_data"
        },
        {
          "data": {
            "text/html": [
              "<h3>Run summary:</h3><br/><style>\n",
              "    table.wandb td:nth-child(1) { padding: 0 10px; text-align: right }\n",
              "    </style><table class=\"wandb\">\n",
              "<tr><td>batch loss</td><td>0.01526</td></tr><tr><td>_runtime</td><td>6</td></tr><tr><td>_timestamp</td><td>1625161810</td></tr><tr><td>_step</td><td>260</td></tr><tr><td>loss</td><td>0.022</td></tr><tr><td>epoch</td><td>0</td></tr></table>"
            ],
            "text/plain": [
              "<IPython.core.display.HTML object>"
            ]
          },
          "metadata": {},
          "output_type": "display_data"
        },
        {
          "data": {
            "text/html": [
              "<h3>Run history:</h3><br/><style>\n",
              "    table.wandb td:nth-child(1) { padding: 0 10px; text-align: right }\n",
              "    </style><table class=\"wandb\">\n",
              "<tr><td>batch loss</td><td>█▄▂▂▁▁▁▁▁▁▁▁▁▁▁▁▁▁▁▁▁▁▁▁▁▁▁▁▁▁▁▁▁▁▁▁▁▁▁▁</td></tr><tr><td>_runtime</td><td>▁▁▁▁▁▁▁▁▁▁▁▁▁▁▁▁▁▁▁▁▁▁▁▁▁▁▁▁▁▁▁▁▁▁▁▁▁▁▁▁</td></tr><tr><td>_timestamp</td><td>▁▁▁▁▁▁▁▁▁▁▁▁▁▁▁▁▁▁▁▁▁▁▁▁▁▁▁▁▁▁▁▁▁▁▁▁▁▁▁▁</td></tr><tr><td>_step</td><td>▁▁▁▁▂▂▂▂▂▃▃▃▃▃▃▄▄▄▄▄▅▅▅▅▅▅▆▆▆▆▆▆▇▇▇▇▇███</td></tr><tr><td>loss</td><td>▁</td></tr><tr><td>epoch</td><td>▁</td></tr></table><br/>"
            ],
            "text/plain": [
              "<IPython.core.display.HTML object>"
            ]
          },
          "metadata": {},
          "output_type": "display_data"
        },
        {
          "data": {
            "text/html": [
              "Synced 5 W&B file(s), 0 media file(s), 0 artifact file(s) and 0 other file(s)"
            ],
            "text/plain": [
              "<IPython.core.display.HTML object>"
            ]
          },
          "metadata": {},
          "output_type": "display_data"
        },
        {
          "data": {
            "text/html": [
              "\n",
              "                    <br/>Synced <strong style=\"color:#cdcd00\">effortless-sweep-13</strong>: <a href=\"https://wandb.ai/uwe-sterr/pytorch-sweeps-demo/runs/5osqwsad\" target=\"_blank\">https://wandb.ai/uwe-sterr/pytorch-sweeps-demo/runs/5osqwsad</a><br/>\n",
              "                "
            ],
            "text/plain": [
              "<IPython.core.display.HTML object>"
            ]
          },
          "metadata": {},
          "output_type": "display_data"
        },
        {
          "name": "stderr",
          "output_type": "stream",
          "text": [
            "\u001b[34m\u001b[1mwandb\u001b[0m: Agent Starting Run: znrqg3qr with config:\n",
            "\u001b[34m\u001b[1mwandb\u001b[0m: \tbatch_size: 34\n",
            "\u001b[34m\u001b[1mwandb\u001b[0m: \tdropout: 0.5\n",
            "\u001b[34m\u001b[1mwandb\u001b[0m: \tepochs: 1\n",
            "\u001b[34m\u001b[1mwandb\u001b[0m: \tfc_layer_size: 512\n",
            "\u001b[34m\u001b[1mwandb\u001b[0m: \tlearning_rate: 0.013264672119689508\n",
            "\u001b[34m\u001b[1mwandb\u001b[0m: \toptimizer: sgd\n"
          ]
        },
        {
          "data": {
            "text/html": [
              "\n",
              "                Tracking run with wandb version 0.10.33<br/>\n",
              "                Syncing run <strong style=\"color:#cdcd00\">worldly-sweep-14</strong> to <a href=\"https://wandb.ai\" target=\"_blank\">Weights & Biases</a> <a href=\"https://docs.wandb.com/integrations/jupyter.html\" target=\"_blank\">(Documentation)</a>.<br/>\n",
              "                Project page: <a href=\"https://wandb.ai/uwe-sterr/pytorch-sweeps-demo\" target=\"_blank\">https://wandb.ai/uwe-sterr/pytorch-sweeps-demo</a><br/>\n",
              "                Sweep page: <a href=\"https://wandb.ai/uwe-sterr/pytorch-sweeps-demo/sweeps/4btb82if\" target=\"_blank\">https://wandb.ai/uwe-sterr/pytorch-sweeps-demo/sweeps/4btb82if</a><br/>\n",
              "Run page: <a href=\"https://wandb.ai/uwe-sterr/pytorch-sweeps-demo/runs/znrqg3qr\" target=\"_blank\">https://wandb.ai/uwe-sterr/pytorch-sweeps-demo/runs/znrqg3qr</a><br/>\n",
              "                Run data is saved locally in <code>/Users/uwesterr/CloudProjectsUnderWork/ProjectsUnderWork/SydneyAO/pytorchtestStudio/wandb/run-20210701_195016-znrqg3qr</code><br/><br/>\n",
              "            "
            ],
            "text/plain": [
              "<IPython.core.display.HTML object>"
            ]
          },
          "metadata": {},
          "output_type": "display_data"
        },
        {
          "data": {
            "text/html": [
              "<br/>Waiting for W&B process to finish, PID 21331<br/>Program ended successfully."
            ],
            "text/plain": [
              "<IPython.core.display.HTML object>"
            ]
          },
          "metadata": {},
          "output_type": "display_data"
        },
        {
          "data": {
            "application/vnd.jupyter.widget-view+json": {
              "model_id": "f0594f3df31e4fac9bfe079d9c13ce98",
              "version_major": 2,
              "version_minor": 0
            },
            "text/plain": [
              "VBox(children=(Label(value=' 0.00MB of 0.00MB uploaded (0.00MB deduped)\\r'), FloatProgress(value=1.0, max=1.0)…"
            ]
          },
          "metadata": {},
          "output_type": "display_data"
        },
        {
          "data": {
            "text/html": [
              "Find user logs for this run at: <code>/Users/uwesterr/CloudProjectsUnderWork/ProjectsUnderWork/SydneyAO/pytorchtestStudio/wandb/run-20210701_195016-znrqg3qr/logs/debug.log</code>"
            ],
            "text/plain": [
              "<IPython.core.display.HTML object>"
            ]
          },
          "metadata": {},
          "output_type": "display_data"
        },
        {
          "data": {
            "text/html": [
              "Find internal logs for this run at: <code>/Users/uwesterr/CloudProjectsUnderWork/ProjectsUnderWork/SydneyAO/pytorchtestStudio/wandb/run-20210701_195016-znrqg3qr/logs/debug-internal.log</code>"
            ],
            "text/plain": [
              "<IPython.core.display.HTML object>"
            ]
          },
          "metadata": {},
          "output_type": "display_data"
        },
        {
          "data": {
            "text/html": [
              "<h3>Run summary:</h3><br/><style>\n",
              "    table.wandb td:nth-child(1) { padding: 0 10px; text-align: right }\n",
              "    </style><table class=\"wandb\">\n",
              "<tr><td>batch loss</td><td>0.0117</td></tr><tr><td>_runtime</td><td>8</td></tr><tr><td>_timestamp</td><td>1625161824</td></tr><tr><td>_step</td><td>1728</td></tr><tr><td>loss</td><td>0.01827</td></tr><tr><td>epoch</td><td>0</td></tr></table>"
            ],
            "text/plain": [
              "<IPython.core.display.HTML object>"
            ]
          },
          "metadata": {},
          "output_type": "display_data"
        },
        {
          "data": {
            "text/html": [
              "<h3>Run history:</h3><br/><style>\n",
              "    table.wandb td:nth-child(1) { padding: 0 10px; text-align: right }\n",
              "    </style><table class=\"wandb\">\n",
              "<tr><td>batch loss</td><td>█▂▂▂▂▁▁▁▁▁▁▁▁▁▁▁▁▁▁▁▁▁▁▁▁▁▁▁▁▁▁▁▁▁▁▁▁▁▁▁</td></tr><tr><td>_runtime</td><td>▁▁▁▁▁▁▁▁▁▁▁▁▅▅▅▅▅▅▅▅▅▅▅▅▅▅▅▅▅▅▅▅▅▅▅█████</td></tr><tr><td>_timestamp</td><td>▁▁▁▁▁▁▁▁▁▁▁▁▅▅▅▅▅▅▅▅▅▅▅▅▅▅▅▅▅▅▅▅▅▅▅█████</td></tr><tr><td>_step</td><td>▁▁▁▂▂▂▂▂▂▃▃▃▃▃▃▄▄▄▄▄▅▅▅▅▅▅▆▆▆▆▆▇▇▇▇▇▇███</td></tr><tr><td>loss</td><td>▁</td></tr><tr><td>epoch</td><td>▁</td></tr></table><br/>"
            ],
            "text/plain": [
              "<IPython.core.display.HTML object>"
            ]
          },
          "metadata": {},
          "output_type": "display_data"
        },
        {
          "data": {
            "text/html": [
              "Synced 5 W&B file(s), 0 media file(s), 0 artifact file(s) and 0 other file(s)"
            ],
            "text/plain": [
              "<IPython.core.display.HTML object>"
            ]
          },
          "metadata": {},
          "output_type": "display_data"
        },
        {
          "data": {
            "text/html": [
              "\n",
              "                    <br/>Synced <strong style=\"color:#cdcd00\">worldly-sweep-14</strong>: <a href=\"https://wandb.ai/uwe-sterr/pytorch-sweeps-demo/runs/znrqg3qr\" target=\"_blank\">https://wandb.ai/uwe-sterr/pytorch-sweeps-demo/runs/znrqg3qr</a><br/>\n",
              "                "
            ],
            "text/plain": [
              "<IPython.core.display.HTML object>"
            ]
          },
          "metadata": {},
          "output_type": "display_data"
        },
        {
          "name": "stderr",
          "output_type": "stream",
          "text": [
            "\u001b[34m\u001b[1mwandb\u001b[0m: Agent Starting Run: 0s5an37x with config:\n",
            "\u001b[34m\u001b[1mwandb\u001b[0m: \tbatch_size: 73\n",
            "\u001b[34m\u001b[1mwandb\u001b[0m: \tdropout: 0.5\n",
            "\u001b[34m\u001b[1mwandb\u001b[0m: \tepochs: 1\n",
            "\u001b[34m\u001b[1mwandb\u001b[0m: \tfc_layer_size: 256\n",
            "\u001b[34m\u001b[1mwandb\u001b[0m: \tlearning_rate: 0.018671891759852267\n",
            "\u001b[34m\u001b[1mwandb\u001b[0m: \toptimizer: adam\n"
          ]
        },
        {
          "data": {
            "text/html": [
              "\n",
              "                Tracking run with wandb version 0.10.33<br/>\n",
              "                Syncing run <strong style=\"color:#cdcd00\">hopeful-sweep-15</strong> to <a href=\"https://wandb.ai\" target=\"_blank\">Weights & Biases</a> <a href=\"https://docs.wandb.com/integrations/jupyter.html\" target=\"_blank\">(Documentation)</a>.<br/>\n",
              "                Project page: <a href=\"https://wandb.ai/uwe-sterr/pytorch-sweeps-demo\" target=\"_blank\">https://wandb.ai/uwe-sterr/pytorch-sweeps-demo</a><br/>\n",
              "                Sweep page: <a href=\"https://wandb.ai/uwe-sterr/pytorch-sweeps-demo/sweeps/4btb82if\" target=\"_blank\">https://wandb.ai/uwe-sterr/pytorch-sweeps-demo/sweeps/4btb82if</a><br/>\n",
              "Run page: <a href=\"https://wandb.ai/uwe-sterr/pytorch-sweeps-demo/runs/0s5an37x\" target=\"_blank\">https://wandb.ai/uwe-sterr/pytorch-sweeps-demo/runs/0s5an37x</a><br/>\n",
              "                Run data is saved locally in <code>/Users/uwesterr/CloudProjectsUnderWork/ProjectsUnderWork/SydneyAO/pytorchtestStudio/wandb/run-20210701_195029-0s5an37x</code><br/><br/>\n",
              "            "
            ],
            "text/plain": [
              "<IPython.core.display.HTML object>"
            ]
          },
          "metadata": {},
          "output_type": "display_data"
        },
        {
          "data": {
            "text/html": [
              "<br/>Waiting for W&B process to finish, PID 21344<br/>Program ended successfully."
            ],
            "text/plain": [
              "<IPython.core.display.HTML object>"
            ]
          },
          "metadata": {},
          "output_type": "display_data"
        },
        {
          "data": {
            "application/vnd.jupyter.widget-view+json": {
              "model_id": "d13fb602a0bf4b6ca2b6ef16d44930ce",
              "version_major": 2,
              "version_minor": 0
            },
            "text/plain": [
              "VBox(children=(Label(value=' 0.00MB of 0.00MB uploaded (0.00MB deduped)\\r'), FloatProgress(value=0.0, max=1.0)…"
            ]
          },
          "metadata": {},
          "output_type": "display_data"
        },
        {
          "data": {
            "text/html": [
              "Find user logs for this run at: <code>/Users/uwesterr/CloudProjectsUnderWork/ProjectsUnderWork/SydneyAO/pytorchtestStudio/wandb/run-20210701_195029-0s5an37x/logs/debug.log</code>"
            ],
            "text/plain": [
              "<IPython.core.display.HTML object>"
            ]
          },
          "metadata": {},
          "output_type": "display_data"
        },
        {
          "data": {
            "text/html": [
              "Find internal logs for this run at: <code>/Users/uwesterr/CloudProjectsUnderWork/ProjectsUnderWork/SydneyAO/pytorchtestStudio/wandb/run-20210701_195029-0s5an37x/logs/debug-internal.log</code>"
            ],
            "text/plain": [
              "<IPython.core.display.HTML object>"
            ]
          },
          "metadata": {},
          "output_type": "display_data"
        },
        {
          "data": {
            "text/html": [
              "<h3>Run summary:</h3><br/><style>\n",
              "    table.wandb td:nth-child(1) { padding: 0 10px; text-align: right }\n",
              "    </style><table class=\"wandb\">\n",
              "<tr><td>batch loss</td><td>0.02534</td></tr><tr><td>_runtime</td><td>7</td></tr><tr><td>_timestamp</td><td>1625161836</td></tr><tr><td>_step</td><td>805</td></tr><tr><td>loss</td><td>0.0315</td></tr><tr><td>epoch</td><td>0</td></tr></table>"
            ],
            "text/plain": [
              "<IPython.core.display.HTML object>"
            ]
          },
          "metadata": {},
          "output_type": "display_data"
        },
        {
          "data": {
            "text/html": [
              "<h3>Run history:</h3><br/><style>\n",
              "    table.wandb td:nth-child(1) { padding: 0 10px; text-align: right }\n",
              "    </style><table class=\"wandb\">\n",
              "<tr><td>batch loss</td><td>█▃▂▂▂▂▂▁▁▂▂▂▁▂▂▁▂▂▂▁▂▂▂▂▁▁▁▁▂▂▂▂▁▁▁▂▂▁▂▂</td></tr><tr><td>_runtime</td><td>▁▁▁▁▁▁▁▁████████████████████████████████</td></tr><tr><td>_timestamp</td><td>▁▁▁▁▁▁▁▁████████████████████████████████</td></tr><tr><td>_step</td><td>▁▁▁▁▂▂▂▂▂▃▃▃▃▃▃▄▄▄▄▄▅▅▅▅▅▅▆▆▆▆▆▇▇▇▇▇▇███</td></tr><tr><td>loss</td><td>▁</td></tr><tr><td>epoch</td><td>▁</td></tr></table><br/>"
            ],
            "text/plain": [
              "<IPython.core.display.HTML object>"
            ]
          },
          "metadata": {},
          "output_type": "display_data"
        },
        {
          "data": {
            "text/html": [
              "Synced 5 W&B file(s), 0 media file(s), 0 artifact file(s) and 0 other file(s)"
            ],
            "text/plain": [
              "<IPython.core.display.HTML object>"
            ]
          },
          "metadata": {},
          "output_type": "display_data"
        },
        {
          "data": {
            "text/html": [
              "\n",
              "                    <br/>Synced <strong style=\"color:#cdcd00\">hopeful-sweep-15</strong>: <a href=\"https://wandb.ai/uwe-sterr/pytorch-sweeps-demo/runs/0s5an37x\" target=\"_blank\">https://wandb.ai/uwe-sterr/pytorch-sweeps-demo/runs/0s5an37x</a><br/>\n",
              "                "
            ],
            "text/plain": [
              "<IPython.core.display.HTML object>"
            ]
          },
          "metadata": {},
          "output_type": "display_data"
        },
        {
          "name": "stderr",
          "output_type": "stream",
          "text": [
            "\u001b[34m\u001b[1mwandb\u001b[0m: Agent Starting Run: m58p3274 with config:\n",
            "\u001b[34m\u001b[1mwandb\u001b[0m: \tbatch_size: 192\n",
            "\u001b[34m\u001b[1mwandb\u001b[0m: \tdropout: 0.5\n",
            "\u001b[34m\u001b[1mwandb\u001b[0m: \tepochs: 1\n",
            "\u001b[34m\u001b[1mwandb\u001b[0m: \tfc_layer_size: 256\n",
            "\u001b[34m\u001b[1mwandb\u001b[0m: \tlearning_rate: 0.005646503898473968\n",
            "\u001b[34m\u001b[1mwandb\u001b[0m: \toptimizer: sgd\n"
          ]
        },
        {
          "data": {
            "text/html": [
              "\n",
              "                Tracking run with wandb version 0.10.33<br/>\n",
              "                Syncing run <strong style=\"color:#cdcd00\">fast-sweep-16</strong> to <a href=\"https://wandb.ai\" target=\"_blank\">Weights & Biases</a> <a href=\"https://docs.wandb.com/integrations/jupyter.html\" target=\"_blank\">(Documentation)</a>.<br/>\n",
              "                Project page: <a href=\"https://wandb.ai/uwe-sterr/pytorch-sweeps-demo\" target=\"_blank\">https://wandb.ai/uwe-sterr/pytorch-sweeps-demo</a><br/>\n",
              "                Sweep page: <a href=\"https://wandb.ai/uwe-sterr/pytorch-sweeps-demo/sweeps/4btb82if\" target=\"_blank\">https://wandb.ai/uwe-sterr/pytorch-sweeps-demo/sweeps/4btb82if</a><br/>\n",
              "Run page: <a href=\"https://wandb.ai/uwe-sterr/pytorch-sweeps-demo/runs/m58p3274\" target=\"_blank\">https://wandb.ai/uwe-sterr/pytorch-sweeps-demo/runs/m58p3274</a><br/>\n",
              "                Run data is saved locally in <code>/Users/uwesterr/CloudProjectsUnderWork/ProjectsUnderWork/SydneyAO/pytorchtestStudio/wandb/run-20210701_195042-m58p3274</code><br/><br/>\n",
              "            "
            ],
            "text/plain": [
              "<IPython.core.display.HTML object>"
            ]
          },
          "metadata": {},
          "output_type": "display_data"
        },
        {
          "data": {
            "text/html": [
              "<br/>Waiting for W&B process to finish, PID 21357<br/>Program ended successfully."
            ],
            "text/plain": [
              "<IPython.core.display.HTML object>"
            ]
          },
          "metadata": {},
          "output_type": "display_data"
        },
        {
          "data": {
            "application/vnd.jupyter.widget-view+json": {
              "model_id": "4e0a23f34f484c25b7efcde236941e22",
              "version_major": 2,
              "version_minor": 0
            },
            "text/plain": [
              "VBox(children=(Label(value=' 0.00MB of 0.00MB uploaded (0.00MB deduped)\\r'), FloatProgress(value=1.0, max=1.0)…"
            ]
          },
          "metadata": {},
          "output_type": "display_data"
        },
        {
          "data": {
            "text/html": [
              "Find user logs for this run at: <code>/Users/uwesterr/CloudProjectsUnderWork/ProjectsUnderWork/SydneyAO/pytorchtestStudio/wandb/run-20210701_195042-m58p3274/logs/debug.log</code>"
            ],
            "text/plain": [
              "<IPython.core.display.HTML object>"
            ]
          },
          "metadata": {},
          "output_type": "display_data"
        },
        {
          "data": {
            "text/html": [
              "Find internal logs for this run at: <code>/Users/uwesterr/CloudProjectsUnderWork/ProjectsUnderWork/SydneyAO/pytorchtestStudio/wandb/run-20210701_195042-m58p3274/logs/debug-internal.log</code>"
            ],
            "text/plain": [
              "<IPython.core.display.HTML object>"
            ]
          },
          "metadata": {},
          "output_type": "display_data"
        },
        {
          "data": {
            "text/html": [
              "<h3>Run summary:</h3><br/><style>\n",
              "    table.wandb td:nth-child(1) { padding: 0 10px; text-align: right }\n",
              "    </style><table class=\"wandb\">\n",
              "<tr><td>batch loss</td><td>0.02191</td></tr><tr><td>_runtime</td><td>6</td></tr><tr><td>_timestamp</td><td>1625161848</td></tr><tr><td>_step</td><td>306</td></tr><tr><td>loss</td><td>0.04131</td></tr><tr><td>epoch</td><td>0</td></tr></table>"
            ],
            "text/plain": [
              "<IPython.core.display.HTML object>"
            ]
          },
          "metadata": {},
          "output_type": "display_data"
        },
        {
          "data": {
            "text/html": [
              "<h3>Run history:</h3><br/><style>\n",
              "    table.wandb td:nth-child(1) { padding: 0 10px; text-align: right }\n",
              "    </style><table class=\"wandb\">\n",
              "<tr><td>batch loss</td><td>██▆▄▃▃▂▂▂▂▂▂▂▁▁▁▁▁▁▁▁▁▁▁▁▁▁▁▁▁▁▁▁▁▁▁▁▁▁▁</td></tr><tr><td>_runtime</td><td>▁▁▁▁▁▁▁▁▁▁▁▁▁▁▁▁▁▁▁▁▁▁▁▁▁▁▁▁▁▁▁▁▁▁▁▁▁▁▁▁</td></tr><tr><td>_timestamp</td><td>▁▁▁▁▁▁▁▁▁▁▁▁▁▁▁▁▁▁▁▁▁▁▁▁▁▁▁▁▁▁▁▁▁▁▁▁▁▁▁▁</td></tr><tr><td>_step</td><td>▁▁▁▁▂▂▂▂▂▃▃▃▃▃▃▄▄▄▄▄▅▅▅▅▅▅▆▆▆▆▆▇▇▇▇▇▇███</td></tr><tr><td>loss</td><td>▁</td></tr><tr><td>epoch</td><td>▁</td></tr></table><br/>"
            ],
            "text/plain": [
              "<IPython.core.display.HTML object>"
            ]
          },
          "metadata": {},
          "output_type": "display_data"
        },
        {
          "data": {
            "text/html": [
              "Synced 5 W&B file(s), 0 media file(s), 0 artifact file(s) and 0 other file(s)"
            ],
            "text/plain": [
              "<IPython.core.display.HTML object>"
            ]
          },
          "metadata": {},
          "output_type": "display_data"
        },
        {
          "data": {
            "text/html": [
              "\n",
              "                    <br/>Synced <strong style=\"color:#cdcd00\">fast-sweep-16</strong>: <a href=\"https://wandb.ai/uwe-sterr/pytorch-sweeps-demo/runs/m58p3274\" target=\"_blank\">https://wandb.ai/uwe-sterr/pytorch-sweeps-demo/runs/m58p3274</a><br/>\n",
              "                "
            ],
            "text/plain": [
              "<IPython.core.display.HTML object>"
            ]
          },
          "metadata": {},
          "output_type": "display_data"
        },
        {
          "name": "stderr",
          "output_type": "stream",
          "text": [
            "\u001b[34m\u001b[1mwandb\u001b[0m: Agent Starting Run: 2o3erkfg with config:\n",
            "\u001b[34m\u001b[1mwandb\u001b[0m: \tbatch_size: 39\n",
            "\u001b[34m\u001b[1mwandb\u001b[0m: \tdropout: 0.3\n",
            "\u001b[34m\u001b[1mwandb\u001b[0m: \tepochs: 1\n",
            "\u001b[34m\u001b[1mwandb\u001b[0m: \tfc_layer_size: 256\n",
            "\u001b[34m\u001b[1mwandb\u001b[0m: \tlearning_rate: 0.03813461326209082\n",
            "\u001b[34m\u001b[1mwandb\u001b[0m: \toptimizer: sgd\n"
          ]
        },
        {
          "data": {
            "text/html": [
              "\n",
              "                Tracking run with wandb version 0.10.33<br/>\n",
              "                Syncing run <strong style=\"color:#cdcd00\">treasured-sweep-17</strong> to <a href=\"https://wandb.ai\" target=\"_blank\">Weights & Biases</a> <a href=\"https://docs.wandb.com/integrations/jupyter.html\" target=\"_blank\">(Documentation)</a>.<br/>\n",
              "                Project page: <a href=\"https://wandb.ai/uwe-sterr/pytorch-sweeps-demo\" target=\"_blank\">https://wandb.ai/uwe-sterr/pytorch-sweeps-demo</a><br/>\n",
              "                Sweep page: <a href=\"https://wandb.ai/uwe-sterr/pytorch-sweeps-demo/sweeps/4btb82if\" target=\"_blank\">https://wandb.ai/uwe-sterr/pytorch-sweeps-demo/sweeps/4btb82if</a><br/>\n",
              "Run page: <a href=\"https://wandb.ai/uwe-sterr/pytorch-sweeps-demo/runs/2o3erkfg\" target=\"_blank\">https://wandb.ai/uwe-sterr/pytorch-sweeps-demo/runs/2o3erkfg</a><br/>\n",
              "                Run data is saved locally in <code>/Users/uwesterr/CloudProjectsUnderWork/ProjectsUnderWork/SydneyAO/pytorchtestStudio/wandb/run-20210701_195054-2o3erkfg</code><br/><br/>\n",
              "            "
            ],
            "text/plain": [
              "<IPython.core.display.HTML object>"
            ]
          },
          "metadata": {},
          "output_type": "display_data"
        },
        {
          "data": {
            "text/html": [
              "<br/>Waiting for W&B process to finish, PID 21376<br/>Program ended successfully."
            ],
            "text/plain": [
              "<IPython.core.display.HTML object>"
            ]
          },
          "metadata": {},
          "output_type": "display_data"
        },
        {
          "data": {
            "application/vnd.jupyter.widget-view+json": {
              "model_id": "a6a1b4e304604d9eb03fea79368f6c95",
              "version_major": 2,
              "version_minor": 0
            },
            "text/plain": [
              "VBox(children=(Label(value=' 0.00MB of 0.00MB uploaded (0.00MB deduped)\\r'), FloatProgress(value=1.0, max=1.0)…"
            ]
          },
          "metadata": {},
          "output_type": "display_data"
        },
        {
          "data": {
            "text/html": [
              "Find user logs for this run at: <code>/Users/uwesterr/CloudProjectsUnderWork/ProjectsUnderWork/SydneyAO/pytorchtestStudio/wandb/run-20210701_195054-2o3erkfg/logs/debug.log</code>"
            ],
            "text/plain": [
              "<IPython.core.display.HTML object>"
            ]
          },
          "metadata": {},
          "output_type": "display_data"
        },
        {
          "data": {
            "text/html": [
              "Find internal logs for this run at: <code>/Users/uwesterr/CloudProjectsUnderWork/ProjectsUnderWork/SydneyAO/pytorchtestStudio/wandb/run-20210701_195054-2o3erkfg/logs/debug-internal.log</code>"
            ],
            "text/plain": [
              "<IPython.core.display.HTML object>"
            ]
          },
          "metadata": {},
          "output_type": "display_data"
        },
        {
          "data": {
            "text/html": [
              "<h3>Run summary:</h3><br/><style>\n",
              "    table.wandb td:nth-child(1) { padding: 0 10px; text-align: right }\n",
              "    </style><table class=\"wandb\">\n",
              "<tr><td>batch loss</td><td>0.0078</td></tr><tr><td>_runtime</td><td>7</td></tr><tr><td>_timestamp</td><td>1625161861</td></tr><tr><td>_step</td><td>1507</td></tr><tr><td>loss</td><td>0.01341</td></tr><tr><td>epoch</td><td>0</td></tr></table>"
            ],
            "text/plain": [
              "<IPython.core.display.HTML object>"
            ]
          },
          "metadata": {},
          "output_type": "display_data"
        },
        {
          "data": {
            "text/html": [
              "<h3>Run history:</h3><br/><style>\n",
              "    table.wandb td:nth-child(1) { padding: 0 10px; text-align: right }\n",
              "    </style><table class=\"wandb\">\n",
              "<tr><td>batch loss</td><td>█▄▃▃▃▃▃▂▂▂▂▂▃▁▂▂▂▂▂▂▁▂▁▂▁▂▁▁▁▁▂▁▁▁▁▁▂▁▁▁</td></tr><tr><td>_runtime</td><td>▁▁▁▁▁▁▁▁▁▁▁▁▁███████████████████████████</td></tr><tr><td>_timestamp</td><td>▁▁▁▁▁▁▁▁▁▁▁▁▁███████████████████████████</td></tr><tr><td>_step</td><td>▁▁▁▂▂▂▂▂▂▃▃▃▃▃▃▄▄▄▄▄▅▅▅▅▅▅▆▆▆▆▆▆▇▇▇▇▇███</td></tr><tr><td>loss</td><td>▁</td></tr><tr><td>epoch</td><td>▁</td></tr></table><br/>"
            ],
            "text/plain": [
              "<IPython.core.display.HTML object>"
            ]
          },
          "metadata": {},
          "output_type": "display_data"
        },
        {
          "data": {
            "text/html": [
              "Synced 5 W&B file(s), 0 media file(s), 0 artifact file(s) and 0 other file(s)"
            ],
            "text/plain": [
              "<IPython.core.display.HTML object>"
            ]
          },
          "metadata": {},
          "output_type": "display_data"
        },
        {
          "data": {
            "text/html": [
              "\n",
              "                    <br/>Synced <strong style=\"color:#cdcd00\">treasured-sweep-17</strong>: <a href=\"https://wandb.ai/uwe-sterr/pytorch-sweeps-demo/runs/2o3erkfg\" target=\"_blank\">https://wandb.ai/uwe-sterr/pytorch-sweeps-demo/runs/2o3erkfg</a><br/>\n",
              "                "
            ],
            "text/plain": [
              "<IPython.core.display.HTML object>"
            ]
          },
          "metadata": {},
          "output_type": "display_data"
        },
        {
          "name": "stderr",
          "output_type": "stream",
          "text": [
            "\u001b[34m\u001b[1mwandb\u001b[0m: Agent Starting Run: vi5xytuo with config:\n",
            "\u001b[34m\u001b[1mwandb\u001b[0m: \tbatch_size: 41\n",
            "\u001b[34m\u001b[1mwandb\u001b[0m: \tdropout: 0.5\n",
            "\u001b[34m\u001b[1mwandb\u001b[0m: \tepochs: 1\n",
            "\u001b[34m\u001b[1mwandb\u001b[0m: \tfc_layer_size: 512\n",
            "\u001b[34m\u001b[1mwandb\u001b[0m: \tlearning_rate: 0.036839650380765254\n",
            "\u001b[34m\u001b[1mwandb\u001b[0m: \toptimizer: sgd\n"
          ]
        },
        {
          "data": {
            "text/html": [
              "\n",
              "                Tracking run with wandb version 0.10.33<br/>\n",
              "                Syncing run <strong style=\"color:#cdcd00\">noble-sweep-18</strong> to <a href=\"https://wandb.ai\" target=\"_blank\">Weights & Biases</a> <a href=\"https://docs.wandb.com/integrations/jupyter.html\" target=\"_blank\">(Documentation)</a>.<br/>\n",
              "                Project page: <a href=\"https://wandb.ai/uwe-sterr/pytorch-sweeps-demo\" target=\"_blank\">https://wandb.ai/uwe-sterr/pytorch-sweeps-demo</a><br/>\n",
              "                Sweep page: <a href=\"https://wandb.ai/uwe-sterr/pytorch-sweeps-demo/sweeps/4btb82if\" target=\"_blank\">https://wandb.ai/uwe-sterr/pytorch-sweeps-demo/sweeps/4btb82if</a><br/>\n",
              "Run page: <a href=\"https://wandb.ai/uwe-sterr/pytorch-sweeps-demo/runs/vi5xytuo\" target=\"_blank\">https://wandb.ai/uwe-sterr/pytorch-sweeps-demo/runs/vi5xytuo</a><br/>\n",
              "                Run data is saved locally in <code>/Users/uwesterr/CloudProjectsUnderWork/ProjectsUnderWork/SydneyAO/pytorchtestStudio/wandb/run-20210701_195106-vi5xytuo</code><br/><br/>\n",
              "            "
            ],
            "text/plain": [
              "<IPython.core.display.HTML object>"
            ]
          },
          "metadata": {},
          "output_type": "display_data"
        },
        {
          "data": {
            "text/html": [
              "<br/>Waiting for W&B process to finish, PID 21388<br/>Program ended successfully."
            ],
            "text/plain": [
              "<IPython.core.display.HTML object>"
            ]
          },
          "metadata": {},
          "output_type": "display_data"
        },
        {
          "data": {
            "application/vnd.jupyter.widget-view+json": {
              "model_id": "e47aff4e58654d52b6d1c32f735ea51d",
              "version_major": 2,
              "version_minor": 0
            },
            "text/plain": [
              "VBox(children=(Label(value=' 0.00MB of 0.00MB uploaded (0.00MB deduped)\\r'), FloatProgress(value=1.0, max=1.0)…"
            ]
          },
          "metadata": {},
          "output_type": "display_data"
        },
        {
          "data": {
            "text/html": [
              "Find user logs for this run at: <code>/Users/uwesterr/CloudProjectsUnderWork/ProjectsUnderWork/SydneyAO/pytorchtestStudio/wandb/run-20210701_195106-vi5xytuo/logs/debug.log</code>"
            ],
            "text/plain": [
              "<IPython.core.display.HTML object>"
            ]
          },
          "metadata": {},
          "output_type": "display_data"
        },
        {
          "data": {
            "text/html": [
              "Find internal logs for this run at: <code>/Users/uwesterr/CloudProjectsUnderWork/ProjectsUnderWork/SydneyAO/pytorchtestStudio/wandb/run-20210701_195106-vi5xytuo/logs/debug-internal.log</code>"
            ],
            "text/plain": [
              "<IPython.core.display.HTML object>"
            ]
          },
          "metadata": {},
          "output_type": "display_data"
        },
        {
          "data": {
            "text/html": [
              "<h3>Run summary:</h3><br/><style>\n",
              "    table.wandb td:nth-child(1) { padding: 0 10px; text-align: right }\n",
              "    </style><table class=\"wandb\">\n",
              "<tr><td>batch loss</td><td>0.01155</td></tr><tr><td>_runtime</td><td>8</td></tr><tr><td>_timestamp</td><td>1625161874</td></tr><tr><td>_step</td><td>1433</td></tr><tr><td>loss</td><td>0.01494</td></tr><tr><td>epoch</td><td>0</td></tr></table>"
            ],
            "text/plain": [
              "<IPython.core.display.HTML object>"
            ]
          },
          "metadata": {},
          "output_type": "display_data"
        },
        {
          "data": {
            "text/html": [
              "<h3>Run history:</h3><br/><style>\n",
              "    table.wandb td:nth-child(1) { padding: 0 10px; text-align: right }\n",
              "    </style><table class=\"wandb\">\n",
              "<tr><td>batch loss</td><td>█▃▂▂▂▂▂▂▁▁▁▂▁▁▁▁▁▁▁▁▁▁▁▁▁▁▁▁▁▁▁▁▁▁▁▁▁▁▁▁</td></tr><tr><td>_runtime</td><td>▁▅▅▅▅▅▅▅▅▅▅▅▅▅▅▅▅▅▅▅▅▅▅▅▅▅▅█████████████</td></tr><tr><td>_timestamp</td><td>▁▅▅▅▅▅▅▅▅▅▅▅▅▅▅▅▅▅▅▅▅▅▅▅▅▅▅█████████████</td></tr><tr><td>_step</td><td>▁▁▁▁▂▂▂▂▂▃▃▃▃▃▃▄▄▄▄▄▅▅▅▅▅▅▆▆▆▆▆▆▇▇▇▇▇███</td></tr><tr><td>loss</td><td>▁</td></tr><tr><td>epoch</td><td>▁</td></tr></table><br/>"
            ],
            "text/plain": [
              "<IPython.core.display.HTML object>"
            ]
          },
          "metadata": {},
          "output_type": "display_data"
        },
        {
          "data": {
            "text/html": [
              "Synced 5 W&B file(s), 0 media file(s), 0 artifact file(s) and 0 other file(s)"
            ],
            "text/plain": [
              "<IPython.core.display.HTML object>"
            ]
          },
          "metadata": {},
          "output_type": "display_data"
        },
        {
          "data": {
            "text/html": [
              "\n",
              "                    <br/>Synced <strong style=\"color:#cdcd00\">noble-sweep-18</strong>: <a href=\"https://wandb.ai/uwe-sterr/pytorch-sweeps-demo/runs/vi5xytuo\" target=\"_blank\">https://wandb.ai/uwe-sterr/pytorch-sweeps-demo/runs/vi5xytuo</a><br/>\n",
              "                "
            ],
            "text/plain": [
              "<IPython.core.display.HTML object>"
            ]
          },
          "metadata": {},
          "output_type": "display_data"
        },
        {
          "name": "stderr",
          "output_type": "stream",
          "text": [
            "\u001b[34m\u001b[1mwandb\u001b[0m: Agent Starting Run: 6uxzuf4o with config:\n",
            "\u001b[34m\u001b[1mwandb\u001b[0m: \tbatch_size: 66\n",
            "\u001b[34m\u001b[1mwandb\u001b[0m: \tdropout: 0.3\n",
            "\u001b[34m\u001b[1mwandb\u001b[0m: \tepochs: 1\n",
            "\u001b[34m\u001b[1mwandb\u001b[0m: \tfc_layer_size: 256\n",
            "\u001b[34m\u001b[1mwandb\u001b[0m: \tlearning_rate: 0.012273852205452176\n",
            "\u001b[34m\u001b[1mwandb\u001b[0m: \toptimizer: sgd\n"
          ]
        },
        {
          "data": {
            "text/html": [
              "\n",
              "                Tracking run with wandb version 0.10.33<br/>\n",
              "                Syncing run <strong style=\"color:#cdcd00\">upbeat-sweep-19</strong> to <a href=\"https://wandb.ai\" target=\"_blank\">Weights & Biases</a> <a href=\"https://docs.wandb.com/integrations/jupyter.html\" target=\"_blank\">(Documentation)</a>.<br/>\n",
              "                Project page: <a href=\"https://wandb.ai/uwe-sterr/pytorch-sweeps-demo\" target=\"_blank\">https://wandb.ai/uwe-sterr/pytorch-sweeps-demo</a><br/>\n",
              "                Sweep page: <a href=\"https://wandb.ai/uwe-sterr/pytorch-sweeps-demo/sweeps/4btb82if\" target=\"_blank\">https://wandb.ai/uwe-sterr/pytorch-sweeps-demo/sweeps/4btb82if</a><br/>\n",
              "Run page: <a href=\"https://wandb.ai/uwe-sterr/pytorch-sweeps-demo/runs/6uxzuf4o\" target=\"_blank\">https://wandb.ai/uwe-sterr/pytorch-sweeps-demo/runs/6uxzuf4o</a><br/>\n",
              "                Run data is saved locally in <code>/Users/uwesterr/CloudProjectsUnderWork/ProjectsUnderWork/SydneyAO/pytorchtestStudio/wandb/run-20210701_195120-6uxzuf4o</code><br/><br/>\n",
              "            "
            ],
            "text/plain": [
              "<IPython.core.display.HTML object>"
            ]
          },
          "metadata": {},
          "output_type": "display_data"
        },
        {
          "data": {
            "text/html": [
              "<br/>Waiting for W&B process to finish, PID 21401<br/>Program ended successfully."
            ],
            "text/plain": [
              "<IPython.core.display.HTML object>"
            ]
          },
          "metadata": {},
          "output_type": "display_data"
        },
        {
          "data": {
            "application/vnd.jupyter.widget-view+json": {
              "model_id": "6e5a17e84779483db17b03220ea35671",
              "version_major": 2,
              "version_minor": 0
            },
            "text/plain": [
              "VBox(children=(Label(value=' 0.00MB of 0.00MB uploaded (0.00MB deduped)\\r'), FloatProgress(value=1.0, max=1.0)…"
            ]
          },
          "metadata": {},
          "output_type": "display_data"
        },
        {
          "data": {
            "text/html": [
              "Find user logs for this run at: <code>/Users/uwesterr/CloudProjectsUnderWork/ProjectsUnderWork/SydneyAO/pytorchtestStudio/wandb/run-20210701_195120-6uxzuf4o/logs/debug.log</code>"
            ],
            "text/plain": [
              "<IPython.core.display.HTML object>"
            ]
          },
          "metadata": {},
          "output_type": "display_data"
        },
        {
          "data": {
            "text/html": [
              "Find internal logs for this run at: <code>/Users/uwesterr/CloudProjectsUnderWork/ProjectsUnderWork/SydneyAO/pytorchtestStudio/wandb/run-20210701_195120-6uxzuf4o/logs/debug-internal.log</code>"
            ],
            "text/plain": [
              "<IPython.core.display.HTML object>"
            ]
          },
          "metadata": {},
          "output_type": "display_data"
        },
        {
          "data": {
            "text/html": [
              "<h3>Run summary:</h3><br/><style>\n",
              "    table.wandb td:nth-child(1) { padding: 0 10px; text-align: right }\n",
              "    </style><table class=\"wandb\">\n",
              "<tr><td>batch loss</td><td>0.01274</td></tr><tr><td>_runtime</td><td>8</td></tr><tr><td>_timestamp</td><td>1625161888</td></tr><tr><td>_step</td><td>890</td></tr><tr><td>loss</td><td>0.0205</td></tr><tr><td>epoch</td><td>0</td></tr></table>"
            ],
            "text/plain": [
              "<IPython.core.display.HTML object>"
            ]
          },
          "metadata": {},
          "output_type": "display_data"
        },
        {
          "data": {
            "text/html": [
              "<h3>Run history:</h3><br/><style>\n",
              "    table.wandb td:nth-child(1) { padding: 0 10px; text-align: right }\n",
              "    </style><table class=\"wandb\">\n",
              "<tr><td>batch loss</td><td>█▅▂▂▂▂▂▂▁▂▂▁▁▁▁▁▁▁▁▁▁▁▁▁▁▁▁▁▁▁▁▁▁▁▁▁▁▁▁▁</td></tr><tr><td>_runtime</td><td>▁▅▅▅▅▅▅▅▅▅▅▅▅▅▅▅▅▅▅▅▅▅▅▅▅▅▅▅▅▅▅▅▅▅▅▅▅▅▅█</td></tr><tr><td>_timestamp</td><td>▁▅▅▅▅▅▅▅▅▅▅▅▅▅▅▅▅▅▅▅▅▅▅▅▅▅▅▅▅▅▅▅▅▅▅▅▅▅▅█</td></tr><tr><td>_step</td><td>▁▁▁▂▂▂▂▂▂▃▃▃▃▃▃▄▄▄▄▄▅▅▅▅▅▅▆▆▆▆▆▇▇▇▇▇▇███</td></tr><tr><td>loss</td><td>▁</td></tr><tr><td>epoch</td><td>▁</td></tr></table><br/>"
            ],
            "text/plain": [
              "<IPython.core.display.HTML object>"
            ]
          },
          "metadata": {},
          "output_type": "display_data"
        },
        {
          "data": {
            "text/html": [
              "Synced 5 W&B file(s), 0 media file(s), 0 artifact file(s) and 0 other file(s)"
            ],
            "text/plain": [
              "<IPython.core.display.HTML object>"
            ]
          },
          "metadata": {},
          "output_type": "display_data"
        },
        {
          "data": {
            "text/html": [
              "\n",
              "                    <br/>Synced <strong style=\"color:#cdcd00\">upbeat-sweep-19</strong>: <a href=\"https://wandb.ai/uwe-sterr/pytorch-sweeps-demo/runs/6uxzuf4o\" target=\"_blank\">https://wandb.ai/uwe-sterr/pytorch-sweeps-demo/runs/6uxzuf4o</a><br/>\n",
              "                "
            ],
            "text/plain": [
              "<IPython.core.display.HTML object>"
            ]
          },
          "metadata": {},
          "output_type": "display_data"
        },
        {
          "name": "stderr",
          "output_type": "stream",
          "text": [
            "\u001b[34m\u001b[1mwandb\u001b[0m: Agent Starting Run: iantfvx0 with config:\n",
            "\u001b[34m\u001b[1mwandb\u001b[0m: \tbatch_size: 55\n",
            "\u001b[34m\u001b[1mwandb\u001b[0m: \tdropout: 0.5\n",
            "\u001b[34m\u001b[1mwandb\u001b[0m: \tepochs: 1\n",
            "\u001b[34m\u001b[1mwandb\u001b[0m: \tfc_layer_size: 128\n",
            "\u001b[34m\u001b[1mwandb\u001b[0m: \tlearning_rate: 0.03212095445599195\n",
            "\u001b[34m\u001b[1mwandb\u001b[0m: \toptimizer: adam\n"
          ]
        },
        {
          "data": {
            "text/html": [
              "\n",
              "                Tracking run with wandb version 0.10.33<br/>\n",
              "                Syncing run <strong style=\"color:#cdcd00\">distinctive-sweep-20</strong> to <a href=\"https://wandb.ai\" target=\"_blank\">Weights & Biases</a> <a href=\"https://docs.wandb.com/integrations/jupyter.html\" target=\"_blank\">(Documentation)</a>.<br/>\n",
              "                Project page: <a href=\"https://wandb.ai/uwe-sterr/pytorch-sweeps-demo\" target=\"_blank\">https://wandb.ai/uwe-sterr/pytorch-sweeps-demo</a><br/>\n",
              "                Sweep page: <a href=\"https://wandb.ai/uwe-sterr/pytorch-sweeps-demo/sweeps/4btb82if\" target=\"_blank\">https://wandb.ai/uwe-sterr/pytorch-sweeps-demo/sweeps/4btb82if</a><br/>\n",
              "Run page: <a href=\"https://wandb.ai/uwe-sterr/pytorch-sweeps-demo/runs/iantfvx0\" target=\"_blank\">https://wandb.ai/uwe-sterr/pytorch-sweeps-demo/runs/iantfvx0</a><br/>\n",
              "                Run data is saved locally in <code>/Users/uwesterr/CloudProjectsUnderWork/ProjectsUnderWork/SydneyAO/pytorchtestStudio/wandb/run-20210701_195135-iantfvx0</code><br/><br/>\n",
              "            "
            ],
            "text/plain": [
              "<IPython.core.display.HTML object>"
            ]
          },
          "metadata": {},
          "output_type": "display_data"
        },
        {
          "data": {
            "text/html": [
              "<br/>Waiting for W&B process to finish, PID 21414<br/>Program ended successfully."
            ],
            "text/plain": [
              "<IPython.core.display.HTML object>"
            ]
          },
          "metadata": {},
          "output_type": "display_data"
        },
        {
          "data": {
            "application/vnd.jupyter.widget-view+json": {
              "model_id": "81a61ddad5a8474385e7df925b3f7fa7",
              "version_major": 2,
              "version_minor": 0
            },
            "text/plain": [
              "VBox(children=(Label(value=' 0.00MB of 0.00MB uploaded (0.00MB deduped)\\r'), FloatProgress(value=1.0, max=1.0)…"
            ]
          },
          "metadata": {},
          "output_type": "display_data"
        },
        {
          "data": {
            "text/html": [
              "Find user logs for this run at: <code>/Users/uwesterr/CloudProjectsUnderWork/ProjectsUnderWork/SydneyAO/pytorchtestStudio/wandb/run-20210701_195135-iantfvx0/logs/debug.log</code>"
            ],
            "text/plain": [
              "<IPython.core.display.HTML object>"
            ]
          },
          "metadata": {},
          "output_type": "display_data"
        },
        {
          "data": {
            "text/html": [
              "Find internal logs for this run at: <code>/Users/uwesterr/CloudProjectsUnderWork/ProjectsUnderWork/SydneyAO/pytorchtestStudio/wandb/run-20210701_195135-iantfvx0/logs/debug-internal.log</code>"
            ],
            "text/plain": [
              "<IPython.core.display.HTML object>"
            ]
          },
          "metadata": {},
          "output_type": "display_data"
        },
        {
          "data": {
            "text/html": [
              "<h3>Run summary:</h3><br/><style>\n",
              "    table.wandb td:nth-child(1) { padding: 0 10px; text-align: right }\n",
              "    </style><table class=\"wandb\">\n",
              "<tr><td>batch loss</td><td>0.0318</td></tr><tr><td>_runtime</td><td>7</td></tr><tr><td>_timestamp</td><td>1625161902</td></tr><tr><td>_step</td><td>1068</td></tr><tr><td>loss</td><td>0.03544</td></tr><tr><td>epoch</td><td>0</td></tr></table>"
            ],
            "text/plain": [
              "<IPython.core.display.HTML object>"
            ]
          },
          "metadata": {},
          "output_type": "display_data"
        },
        {
          "data": {
            "text/html": [
              "<h3>Run history:</h3><br/><style>\n",
              "    table.wandb td:nth-child(1) { padding: 0 10px; text-align: right }\n",
              "    </style><table class=\"wandb\">\n",
              "<tr><td>batch loss</td><td>██▄▅▄▃▅▆▂▆▂▄▆▃▁▃▃▄▂▂▄▆▄▆▅▄▅▃▅▂▃▂▄▆▂▂▆▅▅▄</td></tr><tr><td>_runtime</td><td>▁▁▁▁▁▁▁▁▁▁▁▁▁▁▁▁▁███████████████████████</td></tr><tr><td>_timestamp</td><td>▁▁▁▁▁▁▁▁▁▁▁▁▁▁▁▁▁███████████████████████</td></tr><tr><td>_step</td><td>▁▁▁▂▂▂▂▂▂▃▃▃▃▃▃▄▄▄▄▄▅▅▅▅▅▅▆▆▆▆▆▆▇▇▇▇▇███</td></tr><tr><td>loss</td><td>▁</td></tr><tr><td>epoch</td><td>▁</td></tr></table><br/>"
            ],
            "text/plain": [
              "<IPython.core.display.HTML object>"
            ]
          },
          "metadata": {},
          "output_type": "display_data"
        },
        {
          "data": {
            "text/html": [
              "Synced 5 W&B file(s), 0 media file(s), 0 artifact file(s) and 0 other file(s)"
            ],
            "text/plain": [
              "<IPython.core.display.HTML object>"
            ]
          },
          "metadata": {},
          "output_type": "display_data"
        },
        {
          "data": {
            "text/html": [
              "\n",
              "                    <br/>Synced <strong style=\"color:#cdcd00\">distinctive-sweep-20</strong>: <a href=\"https://wandb.ai/uwe-sterr/pytorch-sweeps-demo/runs/iantfvx0\" target=\"_blank\">https://wandb.ai/uwe-sterr/pytorch-sweeps-demo/runs/iantfvx0</a><br/>\n",
              "                "
            ],
            "text/plain": [
              "<IPython.core.display.HTML object>"
            ]
          },
          "metadata": {},
          "output_type": "display_data"
        },
        {
          "name": "stderr",
          "output_type": "stream",
          "text": [
            "\u001b[34m\u001b[1mwandb\u001b[0m: Agent Starting Run: 6amqw7ir with config:\n",
            "\u001b[34m\u001b[1mwandb\u001b[0m: \tbatch_size: 60\n",
            "\u001b[34m\u001b[1mwandb\u001b[0m: \tdropout: 0.3\n",
            "\u001b[34m\u001b[1mwandb\u001b[0m: \tepochs: 1\n",
            "\u001b[34m\u001b[1mwandb\u001b[0m: \tfc_layer_size: 512\n",
            "\u001b[34m\u001b[1mwandb\u001b[0m: \tlearning_rate: 0.04242804722628179\n",
            "\u001b[34m\u001b[1mwandb\u001b[0m: \toptimizer: sgd\n"
          ]
        },
        {
          "data": {
            "text/html": [
              "\n",
              "                Tracking run with wandb version 0.10.33<br/>\n",
              "                Syncing run <strong style=\"color:#cdcd00\">magic-sweep-21</strong> to <a href=\"https://wandb.ai\" target=\"_blank\">Weights & Biases</a> <a href=\"https://docs.wandb.com/integrations/jupyter.html\" target=\"_blank\">(Documentation)</a>.<br/>\n",
              "                Project page: <a href=\"https://wandb.ai/uwe-sterr/pytorch-sweeps-demo\" target=\"_blank\">https://wandb.ai/uwe-sterr/pytorch-sweeps-demo</a><br/>\n",
              "                Sweep page: <a href=\"https://wandb.ai/uwe-sterr/pytorch-sweeps-demo/sweeps/4btb82if\" target=\"_blank\">https://wandb.ai/uwe-sterr/pytorch-sweeps-demo/sweeps/4btb82if</a><br/>\n",
              "Run page: <a href=\"https://wandb.ai/uwe-sterr/pytorch-sweeps-demo/runs/6amqw7ir\" target=\"_blank\">https://wandb.ai/uwe-sterr/pytorch-sweeps-demo/runs/6amqw7ir</a><br/>\n",
              "                Run data is saved locally in <code>/Users/uwesterr/CloudProjectsUnderWork/ProjectsUnderWork/SydneyAO/pytorchtestStudio/wandb/run-20210701_195148-6amqw7ir</code><br/><br/>\n",
              "            "
            ],
            "text/plain": [
              "<IPython.core.display.HTML object>"
            ]
          },
          "metadata": {},
          "output_type": "display_data"
        },
        {
          "data": {
            "text/html": [
              "<br/>Waiting for W&B process to finish, PID 21424<br/>Program ended successfully."
            ],
            "text/plain": [
              "<IPython.core.display.HTML object>"
            ]
          },
          "metadata": {},
          "output_type": "display_data"
        },
        {
          "data": {
            "application/vnd.jupyter.widget-view+json": {
              "model_id": "97d8b2f458d84b57a8b8c9f2e2d8caca",
              "version_major": 2,
              "version_minor": 0
            },
            "text/plain": [
              "VBox(children=(Label(value=' 0.00MB of 0.00MB uploaded (0.00MB deduped)\\r'), FloatProgress(value=1.0, max=1.0)…"
            ]
          },
          "metadata": {},
          "output_type": "display_data"
        },
        {
          "data": {
            "text/html": [
              "Find user logs for this run at: <code>/Users/uwesterr/CloudProjectsUnderWork/ProjectsUnderWork/SydneyAO/pytorchtestStudio/wandb/run-20210701_195148-6amqw7ir/logs/debug.log</code>"
            ],
            "text/plain": [
              "<IPython.core.display.HTML object>"
            ]
          },
          "metadata": {},
          "output_type": "display_data"
        },
        {
          "data": {
            "text/html": [
              "Find internal logs for this run at: <code>/Users/uwesterr/CloudProjectsUnderWork/ProjectsUnderWork/SydneyAO/pytorchtestStudio/wandb/run-20210701_195148-6amqw7ir/logs/debug-internal.log</code>"
            ],
            "text/plain": [
              "<IPython.core.display.HTML object>"
            ]
          },
          "metadata": {},
          "output_type": "display_data"
        },
        {
          "data": {
            "text/html": [
              "<h3>Run summary:</h3><br/><style>\n",
              "    table.wandb td:nth-child(1) { padding: 0 10px; text-align: right }\n",
              "    </style><table class=\"wandb\">\n",
              "<tr><td>batch loss</td><td>0.01045</td></tr><tr><td>_runtime</td><td>7</td></tr><tr><td>_timestamp</td><td>1625161915</td></tr><tr><td>_step</td><td>979</td></tr><tr><td>loss</td><td>0.0141</td></tr><tr><td>epoch</td><td>0</td></tr></table>"
            ],
            "text/plain": [
              "<IPython.core.display.HTML object>"
            ]
          },
          "metadata": {},
          "output_type": "display_data"
        },
        {
          "data": {
            "text/html": [
              "<h3>Run history:</h3><br/><style>\n",
              "    table.wandb td:nth-child(1) { padding: 0 10px; text-align: right }\n",
              "    </style><table class=\"wandb\">\n",
              "<tr><td>batch loss</td><td>█▃▂▂▁▁▁▁▁▂▁▁▁▁▁▁▁▁▁▁▁▁▁▁▁▁▁▁▁▁▁▁▁▁▁▁▁▁▁▁</td></tr><tr><td>_runtime</td><td>▁▁▁▁▁▁▁▁▁▁▁▁▁▁▁▁▁▁██████████████████████</td></tr><tr><td>_timestamp</td><td>▁▁▁▁▁▁▁▁▁▁▁▁▁▁▁▁▁▁██████████████████████</td></tr><tr><td>_step</td><td>▁▁▁▂▂▂▂▂▂▃▃▃▃▃▃▄▄▄▄▄▅▅▅▅▅▅▆▆▆▆▆▇▇▇▇▇▇███</td></tr><tr><td>loss</td><td>▁</td></tr><tr><td>epoch</td><td>▁</td></tr></table><br/>"
            ],
            "text/plain": [
              "<IPython.core.display.HTML object>"
            ]
          },
          "metadata": {},
          "output_type": "display_data"
        },
        {
          "data": {
            "text/html": [
              "Synced 5 W&B file(s), 0 media file(s), 0 artifact file(s) and 0 other file(s)"
            ],
            "text/plain": [
              "<IPython.core.display.HTML object>"
            ]
          },
          "metadata": {},
          "output_type": "display_data"
        },
        {
          "data": {
            "text/html": [
              "\n",
              "                    <br/>Synced <strong style=\"color:#cdcd00\">magic-sweep-21</strong>: <a href=\"https://wandb.ai/uwe-sterr/pytorch-sweeps-demo/runs/6amqw7ir\" target=\"_blank\">https://wandb.ai/uwe-sterr/pytorch-sweeps-demo/runs/6amqw7ir</a><br/>\n",
              "                "
            ],
            "text/plain": [
              "<IPython.core.display.HTML object>"
            ]
          },
          "metadata": {},
          "output_type": "display_data"
        },
        {
          "name": "stderr",
          "output_type": "stream",
          "text": [
            "\u001b[34m\u001b[1mwandb\u001b[0m: Agent Starting Run: 36w76kjd with config:\n",
            "\u001b[34m\u001b[1mwandb\u001b[0m: \tbatch_size: 80\n",
            "\u001b[34m\u001b[1mwandb\u001b[0m: \tdropout: 0.3\n",
            "\u001b[34m\u001b[1mwandb\u001b[0m: \tepochs: 1\n",
            "\u001b[34m\u001b[1mwandb\u001b[0m: \tfc_layer_size: 512\n",
            "\u001b[34m\u001b[1mwandb\u001b[0m: \tlearning_rate: 0.08361205069664399\n",
            "\u001b[34m\u001b[1mwandb\u001b[0m: \toptimizer: sgd\n"
          ]
        },
        {
          "data": {
            "text/html": [
              "\n",
              "                Tracking run with wandb version 0.10.33<br/>\n",
              "                Syncing run <strong style=\"color:#cdcd00\">astral-sweep-22</strong> to <a href=\"https://wandb.ai\" target=\"_blank\">Weights & Biases</a> <a href=\"https://docs.wandb.com/integrations/jupyter.html\" target=\"_blank\">(Documentation)</a>.<br/>\n",
              "                Project page: <a href=\"https://wandb.ai/uwe-sterr/pytorch-sweeps-demo\" target=\"_blank\">https://wandb.ai/uwe-sterr/pytorch-sweeps-demo</a><br/>\n",
              "                Sweep page: <a href=\"https://wandb.ai/uwe-sterr/pytorch-sweeps-demo/sweeps/4btb82if\" target=\"_blank\">https://wandb.ai/uwe-sterr/pytorch-sweeps-demo/sweeps/4btb82if</a><br/>\n",
              "Run page: <a href=\"https://wandb.ai/uwe-sterr/pytorch-sweeps-demo/runs/36w76kjd\" target=\"_blank\">https://wandb.ai/uwe-sterr/pytorch-sweeps-demo/runs/36w76kjd</a><br/>\n",
              "                Run data is saved locally in <code>/Users/uwesterr/CloudProjectsUnderWork/ProjectsUnderWork/SydneyAO/pytorchtestStudio/wandb/run-20210701_195200-36w76kjd</code><br/><br/>\n",
              "            "
            ],
            "text/plain": [
              "<IPython.core.display.HTML object>"
            ]
          },
          "metadata": {},
          "output_type": "display_data"
        },
        {
          "data": {
            "text/html": [
              "<br/>Waiting for W&B process to finish, PID 21434<br/>Program ended successfully."
            ],
            "text/plain": [
              "<IPython.core.display.HTML object>"
            ]
          },
          "metadata": {},
          "output_type": "display_data"
        },
        {
          "data": {
            "application/vnd.jupyter.widget-view+json": {
              "model_id": "1246b1eaefd146b6a73547da94448877",
              "version_major": 2,
              "version_minor": 0
            },
            "text/plain": [
              "VBox(children=(Label(value=' 0.00MB of 0.00MB uploaded (0.00MB deduped)\\r'), FloatProgress(value=0.0, max=1.0)…"
            ]
          },
          "metadata": {},
          "output_type": "display_data"
        },
        {
          "data": {
            "text/html": [
              "Find user logs for this run at: <code>/Users/uwesterr/CloudProjectsUnderWork/ProjectsUnderWork/SydneyAO/pytorchtestStudio/wandb/run-20210701_195200-36w76kjd/logs/debug.log</code>"
            ],
            "text/plain": [
              "<IPython.core.display.HTML object>"
            ]
          },
          "metadata": {},
          "output_type": "display_data"
        },
        {
          "data": {
            "text/html": [
              "Find internal logs for this run at: <code>/Users/uwesterr/CloudProjectsUnderWork/ProjectsUnderWork/SydneyAO/pytorchtestStudio/wandb/run-20210701_195200-36w76kjd/logs/debug-internal.log</code>"
            ],
            "text/plain": [
              "<IPython.core.display.HTML object>"
            ]
          },
          "metadata": {},
          "output_type": "display_data"
        },
        {
          "data": {
            "text/html": [
              "<h3>Run summary:</h3><br/><style>\n",
              "    table.wandb td:nth-child(1) { padding: 0 10px; text-align: right }\n",
              "    </style><table class=\"wandb\">\n",
              "<tr><td>batch loss</td><td>0.00788</td></tr><tr><td>_runtime</td><td>7</td></tr><tr><td>_timestamp</td><td>1625161927</td></tr><tr><td>_step</td><td>735</td></tr><tr><td>loss</td><td>0.01284</td></tr><tr><td>epoch</td><td>0</td></tr></table>"
            ],
            "text/plain": [
              "<IPython.core.display.HTML object>"
            ]
          },
          "metadata": {},
          "output_type": "display_data"
        },
        {
          "data": {
            "text/html": [
              "<h3>Run history:</h3><br/><style>\n",
              "    table.wandb td:nth-child(1) { padding: 0 10px; text-align: right }\n",
              "    </style><table class=\"wandb\">\n",
              "<tr><td>batch loss</td><td>█▄▂▂▂▂▂▂▁▁▁▁▁▁▁▁▁▁▁▁▁▁▁▁▁▁▁▁▁▁▁▁▁▁▁▁▁▁▁▁</td></tr><tr><td>_runtime</td><td>▁▁▁▁▁▁▁▁▁▁▁█████████████████████████████</td></tr><tr><td>_timestamp</td><td>▁▁▁▁▁▁▁▁▁▁▁█████████████████████████████</td></tr><tr><td>_step</td><td>▁▁▁▂▂▂▂▂▂▃▃▃▃▃▃▄▄▄▄▄▅▅▅▅▅▅▆▆▆▆▆▇▇▇▇▇▇███</td></tr><tr><td>loss</td><td>▁</td></tr><tr><td>epoch</td><td>▁</td></tr></table><br/>"
            ],
            "text/plain": [
              "<IPython.core.display.HTML object>"
            ]
          },
          "metadata": {},
          "output_type": "display_data"
        },
        {
          "data": {
            "text/html": [
              "Synced 5 W&B file(s), 0 media file(s), 0 artifact file(s) and 0 other file(s)"
            ],
            "text/plain": [
              "<IPython.core.display.HTML object>"
            ]
          },
          "metadata": {},
          "output_type": "display_data"
        },
        {
          "data": {
            "text/html": [
              "\n",
              "                    <br/>Synced <strong style=\"color:#cdcd00\">astral-sweep-22</strong>: <a href=\"https://wandb.ai/uwe-sterr/pytorch-sweeps-demo/runs/36w76kjd\" target=\"_blank\">https://wandb.ai/uwe-sterr/pytorch-sweeps-demo/runs/36w76kjd</a><br/>\n",
              "                "
            ],
            "text/plain": [
              "<IPython.core.display.HTML object>"
            ]
          },
          "metadata": {},
          "output_type": "display_data"
        },
        {
          "name": "stderr",
          "output_type": "stream",
          "text": [
            "\u001b[34m\u001b[1mwandb\u001b[0m: Agent Starting Run: d1mphko7 with config:\n",
            "\u001b[34m\u001b[1mwandb\u001b[0m: \tbatch_size: 185\n",
            "\u001b[34m\u001b[1mwandb\u001b[0m: \tdropout: 0.3\n",
            "\u001b[34m\u001b[1mwandb\u001b[0m: \tepochs: 1\n",
            "\u001b[34m\u001b[1mwandb\u001b[0m: \tfc_layer_size: 256\n",
            "\u001b[34m\u001b[1mwandb\u001b[0m: \tlearning_rate: 0.053592560290806175\n",
            "\u001b[34m\u001b[1mwandb\u001b[0m: \toptimizer: adam\n"
          ]
        },
        {
          "data": {
            "text/html": [
              "\n",
              "                Tracking run with wandb version 0.10.33<br/>\n",
              "                Syncing run <strong style=\"color:#cdcd00\">flowing-sweep-23</strong> to <a href=\"https://wandb.ai\" target=\"_blank\">Weights & Biases</a> <a href=\"https://docs.wandb.com/integrations/jupyter.html\" target=\"_blank\">(Documentation)</a>.<br/>\n",
              "                Project page: <a href=\"https://wandb.ai/uwe-sterr/pytorch-sweeps-demo\" target=\"_blank\">https://wandb.ai/uwe-sterr/pytorch-sweeps-demo</a><br/>\n",
              "                Sweep page: <a href=\"https://wandb.ai/uwe-sterr/pytorch-sweeps-demo/sweeps/4btb82if\" target=\"_blank\">https://wandb.ai/uwe-sterr/pytorch-sweeps-demo/sweeps/4btb82if</a><br/>\n",
              "Run page: <a href=\"https://wandb.ai/uwe-sterr/pytorch-sweeps-demo/runs/d1mphko7\" target=\"_blank\">https://wandb.ai/uwe-sterr/pytorch-sweeps-demo/runs/d1mphko7</a><br/>\n",
              "                Run data is saved locally in <code>/Users/uwesterr/CloudProjectsUnderWork/ProjectsUnderWork/SydneyAO/pytorchtestStudio/wandb/run-20210701_195212-d1mphko7</code><br/><br/>\n",
              "            "
            ],
            "text/plain": [
              "<IPython.core.display.HTML object>"
            ]
          },
          "metadata": {},
          "output_type": "display_data"
        },
        {
          "data": {
            "text/html": [
              "<br/>Waiting for W&B process to finish, PID 21446<br/>Program ended successfully."
            ],
            "text/plain": [
              "<IPython.core.display.HTML object>"
            ]
          },
          "metadata": {},
          "output_type": "display_data"
        },
        {
          "data": {
            "application/vnd.jupyter.widget-view+json": {
              "model_id": "b339bbc0797a460f8dc3fe157b0a95a2",
              "version_major": 2,
              "version_minor": 0
            },
            "text/plain": [
              "VBox(children=(Label(value=' 0.00MB of 0.00MB uploaded (0.00MB deduped)\\r'), FloatProgress(value=1.0, max=1.0)…"
            ]
          },
          "metadata": {},
          "output_type": "display_data"
        },
        {
          "data": {
            "text/html": [
              "Find user logs for this run at: <code>/Users/uwesterr/CloudProjectsUnderWork/ProjectsUnderWork/SydneyAO/pytorchtestStudio/wandb/run-20210701_195212-d1mphko7/logs/debug.log</code>"
            ],
            "text/plain": [
              "<IPython.core.display.HTML object>"
            ]
          },
          "metadata": {},
          "output_type": "display_data"
        },
        {
          "data": {
            "text/html": [
              "Find internal logs for this run at: <code>/Users/uwesterr/CloudProjectsUnderWork/ProjectsUnderWork/SydneyAO/pytorchtestStudio/wandb/run-20210701_195212-d1mphko7/logs/debug-internal.log</code>"
            ],
            "text/plain": [
              "<IPython.core.display.HTML object>"
            ]
          },
          "metadata": {},
          "output_type": "display_data"
        },
        {
          "data": {
            "text/html": [
              "<h3>Run summary:</h3><br/><style>\n",
              "    table.wandb td:nth-child(1) { padding: 0 10px; text-align: right }\n",
              "    </style><table class=\"wandb\">\n",
              "<tr><td>batch loss</td><td>0.02404</td></tr><tr><td>_runtime</td><td>7</td></tr><tr><td>_timestamp</td><td>1625161939</td></tr><tr><td>_step</td><td>318</td></tr><tr><td>loss</td><td>0.13811</td></tr><tr><td>epoch</td><td>0</td></tr></table>"
            ],
            "text/plain": [
              "<IPython.core.display.HTML object>"
            ]
          },
          "metadata": {},
          "output_type": "display_data"
        },
        {
          "data": {
            "text/html": [
              "<h3>Run history:</h3><br/><style>\n",
              "    table.wandb td:nth-child(1) { padding: 0 10px; text-align: right }\n",
              "    </style><table class=\"wandb\">\n",
              "<tr><td>batch loss</td><td>█▃▂▂▂▁▁▁▁▁▁▁▁▁▁▁▁▁▁▁▁▁▁▁▁▁▁▁▁▁▁▁▁▁▁▁▁▁▁▁</td></tr><tr><td>_runtime</td><td>▁▁▁▁▁▁██████████████████████████████████</td></tr><tr><td>_timestamp</td><td>▁▁▁▁▁▁██████████████████████████████████</td></tr><tr><td>_step</td><td>▁▁▁▂▂▂▂▂▂▃▃▃▃▃▄▄▄▄▄▄▅▅▅▅▅▅▆▆▆▆▆▇▇▇▇▇▇███</td></tr><tr><td>loss</td><td>▁</td></tr><tr><td>epoch</td><td>▁</td></tr></table><br/>"
            ],
            "text/plain": [
              "<IPython.core.display.HTML object>"
            ]
          },
          "metadata": {},
          "output_type": "display_data"
        },
        {
          "data": {
            "text/html": [
              "Synced 5 W&B file(s), 0 media file(s), 0 artifact file(s) and 0 other file(s)"
            ],
            "text/plain": [
              "<IPython.core.display.HTML object>"
            ]
          },
          "metadata": {},
          "output_type": "display_data"
        },
        {
          "data": {
            "text/html": [
              "\n",
              "                    <br/>Synced <strong style=\"color:#cdcd00\">flowing-sweep-23</strong>: <a href=\"https://wandb.ai/uwe-sterr/pytorch-sweeps-demo/runs/d1mphko7\" target=\"_blank\">https://wandb.ai/uwe-sterr/pytorch-sweeps-demo/runs/d1mphko7</a><br/>\n",
              "                "
            ],
            "text/plain": [
              "<IPython.core.display.HTML object>"
            ]
          },
          "metadata": {},
          "output_type": "display_data"
        },
        {
          "name": "stderr",
          "output_type": "stream",
          "text": [
            "\u001b[34m\u001b[1mwandb\u001b[0m: Agent Starting Run: 1bc59wbr with config:\n",
            "\u001b[34m\u001b[1mwandb\u001b[0m: \tbatch_size: 37\n",
            "\u001b[34m\u001b[1mwandb\u001b[0m: \tdropout: 0.4\n",
            "\u001b[34m\u001b[1mwandb\u001b[0m: \tepochs: 1\n",
            "\u001b[34m\u001b[1mwandb\u001b[0m: \tfc_layer_size: 256\n",
            "\u001b[34m\u001b[1mwandb\u001b[0m: \tlearning_rate: 0.008013329783457774\n",
            "\u001b[34m\u001b[1mwandb\u001b[0m: \toptimizer: sgd\n"
          ]
        },
        {
          "data": {
            "text/html": [
              "\n",
              "                Tracking run with wandb version 0.10.33<br/>\n",
              "                Syncing run <strong style=\"color:#cdcd00\">morning-sweep-24</strong> to <a href=\"https://wandb.ai\" target=\"_blank\">Weights & Biases</a> <a href=\"https://docs.wandb.com/integrations/jupyter.html\" target=\"_blank\">(Documentation)</a>.<br/>\n",
              "                Project page: <a href=\"https://wandb.ai/uwe-sterr/pytorch-sweeps-demo\" target=\"_blank\">https://wandb.ai/uwe-sterr/pytorch-sweeps-demo</a><br/>\n",
              "                Sweep page: <a href=\"https://wandb.ai/uwe-sterr/pytorch-sweeps-demo/sweeps/4btb82if\" target=\"_blank\">https://wandb.ai/uwe-sterr/pytorch-sweeps-demo/sweeps/4btb82if</a><br/>\n",
              "Run page: <a href=\"https://wandb.ai/uwe-sterr/pytorch-sweeps-demo/runs/1bc59wbr\" target=\"_blank\">https://wandb.ai/uwe-sterr/pytorch-sweeps-demo/runs/1bc59wbr</a><br/>\n",
              "                Run data is saved locally in <code>/Users/uwesterr/CloudProjectsUnderWork/ProjectsUnderWork/SydneyAO/pytorchtestStudio/wandb/run-20210701_195224-1bc59wbr</code><br/><br/>\n",
              "            "
            ],
            "text/plain": [
              "<IPython.core.display.HTML object>"
            ]
          },
          "metadata": {},
          "output_type": "display_data"
        },
        {
          "data": {
            "text/html": [
              "<br/>Waiting for W&B process to finish, PID 21463<br/>Program ended successfully."
            ],
            "text/plain": [
              "<IPython.core.display.HTML object>"
            ]
          },
          "metadata": {},
          "output_type": "display_data"
        },
        {
          "data": {
            "application/vnd.jupyter.widget-view+json": {
              "model_id": "6ab09b55bf834512bbdbc5b462888e4b",
              "version_major": 2,
              "version_minor": 0
            },
            "text/plain": [
              "VBox(children=(Label(value=' 0.00MB of 0.00MB uploaded (0.00MB deduped)\\r'), FloatProgress(value=1.0, max=1.0)…"
            ]
          },
          "metadata": {},
          "output_type": "display_data"
        },
        {
          "data": {
            "text/html": [
              "Find user logs for this run at: <code>/Users/uwesterr/CloudProjectsUnderWork/ProjectsUnderWork/SydneyAO/pytorchtestStudio/wandb/run-20210701_195224-1bc59wbr/logs/debug.log</code>"
            ],
            "text/plain": [
              "<IPython.core.display.HTML object>"
            ]
          },
          "metadata": {},
          "output_type": "display_data"
        },
        {
          "data": {
            "text/html": [
              "Find internal logs for this run at: <code>/Users/uwesterr/CloudProjectsUnderWork/ProjectsUnderWork/SydneyAO/pytorchtestStudio/wandb/run-20210701_195224-1bc59wbr/logs/debug-internal.log</code>"
            ],
            "text/plain": [
              "<IPython.core.display.HTML object>"
            ]
          },
          "metadata": {},
          "output_type": "display_data"
        },
        {
          "data": {
            "text/html": [
              "<h3>Run summary:</h3><br/><style>\n",
              "    table.wandb td:nth-child(1) { padding: 0 10px; text-align: right }\n",
              "    </style><table class=\"wandb\">\n",
              "<tr><td>batch loss</td><td>0.01301</td></tr><tr><td>_runtime</td><td>7</td></tr><tr><td>_timestamp</td><td>1625161951</td></tr><tr><td>_step</td><td>1588</td></tr><tr><td>loss</td><td>0.02034</td></tr><tr><td>epoch</td><td>0</td></tr></table>"
            ],
            "text/plain": [
              "<IPython.core.display.HTML object>"
            ]
          },
          "metadata": {},
          "output_type": "display_data"
        },
        {
          "data": {
            "text/html": [
              "<h3>Run history:</h3><br/><style>\n",
              "    table.wandb td:nth-child(1) { padding: 0 10px; text-align: right }\n",
              "    </style><table class=\"wandb\">\n",
              "<tr><td>batch loss</td><td>█▃▂▂▂▂▂▂▁▁▁▁▁▁▁▁▁▁▁▁▁▁▁▁▁▁▁▁▁▁▁▁▁▁▁▁▁▁▁▁</td></tr><tr><td>_runtime</td><td>▁▁▁▁▁▁▁▁▁▁▁▁▁▁▁▁▁▁▁▁▁▁▁█████████████████</td></tr><tr><td>_timestamp</td><td>▁▁▁▁▁▁▁▁▁▁▁▁▁▁▁▁▁▁▁▁▁▁▁█████████████████</td></tr><tr><td>_step</td><td>▁▁▁▁▂▂▂▂▂▃▃▃▃▃▃▄▄▄▄▄▅▅▅▅▅▅▆▆▆▆▆▇▇▇▇▇▇███</td></tr><tr><td>loss</td><td>▁</td></tr><tr><td>epoch</td><td>▁</td></tr></table><br/>"
            ],
            "text/plain": [
              "<IPython.core.display.HTML object>"
            ]
          },
          "metadata": {},
          "output_type": "display_data"
        },
        {
          "data": {
            "text/html": [
              "Synced 5 W&B file(s), 0 media file(s), 0 artifact file(s) and 0 other file(s)"
            ],
            "text/plain": [
              "<IPython.core.display.HTML object>"
            ]
          },
          "metadata": {},
          "output_type": "display_data"
        },
        {
          "data": {
            "text/html": [
              "\n",
              "                    <br/>Synced <strong style=\"color:#cdcd00\">morning-sweep-24</strong>: <a href=\"https://wandb.ai/uwe-sterr/pytorch-sweeps-demo/runs/1bc59wbr\" target=\"_blank\">https://wandb.ai/uwe-sterr/pytorch-sweeps-demo/runs/1bc59wbr</a><br/>\n",
              "                "
            ],
            "text/plain": [
              "<IPython.core.display.HTML object>"
            ]
          },
          "metadata": {},
          "output_type": "display_data"
        },
        {
          "name": "stderr",
          "output_type": "stream",
          "text": [
            "\u001b[34m\u001b[1mwandb\u001b[0m: Agent Starting Run: 7zc4p4sd with config:\n",
            "\u001b[34m\u001b[1mwandb\u001b[0m: \tbatch_size: 60\n",
            "\u001b[34m\u001b[1mwandb\u001b[0m: \tdropout: 0.4\n",
            "\u001b[34m\u001b[1mwandb\u001b[0m: \tepochs: 1\n",
            "\u001b[34m\u001b[1mwandb\u001b[0m: \tfc_layer_size: 512\n",
            "\u001b[34m\u001b[1mwandb\u001b[0m: \tlearning_rate: 0.08544771285969897\n",
            "\u001b[34m\u001b[1mwandb\u001b[0m: \toptimizer: sgd\n"
          ]
        },
        {
          "data": {
            "text/html": [
              "\n",
              "                Tracking run with wandb version 0.10.33<br/>\n",
              "                Syncing run <strong style=\"color:#cdcd00\">restful-sweep-25</strong> to <a href=\"https://wandb.ai\" target=\"_blank\">Weights & Biases</a> <a href=\"https://docs.wandb.com/integrations/jupyter.html\" target=\"_blank\">(Documentation)</a>.<br/>\n",
              "                Project page: <a href=\"https://wandb.ai/uwe-sterr/pytorch-sweeps-demo\" target=\"_blank\">https://wandb.ai/uwe-sterr/pytorch-sweeps-demo</a><br/>\n",
              "                Sweep page: <a href=\"https://wandb.ai/uwe-sterr/pytorch-sweeps-demo/sweeps/4btb82if\" target=\"_blank\">https://wandb.ai/uwe-sterr/pytorch-sweeps-demo/sweeps/4btb82if</a><br/>\n",
              "Run page: <a href=\"https://wandb.ai/uwe-sterr/pytorch-sweeps-demo/runs/7zc4p4sd\" target=\"_blank\">https://wandb.ai/uwe-sterr/pytorch-sweeps-demo/runs/7zc4p4sd</a><br/>\n",
              "                Run data is saved locally in <code>/Users/uwesterr/CloudProjectsUnderWork/ProjectsUnderWork/SydneyAO/pytorchtestStudio/wandb/run-20210701_195236-7zc4p4sd</code><br/><br/>\n",
              "            "
            ],
            "text/plain": [
              "<IPython.core.display.HTML object>"
            ]
          },
          "metadata": {},
          "output_type": "display_data"
        },
        {
          "data": {
            "text/html": [
              "<br/>Waiting for W&B process to finish, PID 21475<br/>Program ended successfully."
            ],
            "text/plain": [
              "<IPython.core.display.HTML object>"
            ]
          },
          "metadata": {},
          "output_type": "display_data"
        },
        {
          "data": {
            "application/vnd.jupyter.widget-view+json": {
              "model_id": "461a221afb794f4380915f87c44c9acb",
              "version_major": 2,
              "version_minor": 0
            },
            "text/plain": [
              "VBox(children=(Label(value=' 0.00MB of 0.00MB uploaded (0.00MB deduped)\\r'), FloatProgress(value=1.0, max=1.0)…"
            ]
          },
          "metadata": {},
          "output_type": "display_data"
        },
        {
          "data": {
            "text/html": [
              "Find user logs for this run at: <code>/Users/uwesterr/CloudProjectsUnderWork/ProjectsUnderWork/SydneyAO/pytorchtestStudio/wandb/run-20210701_195236-7zc4p4sd/logs/debug.log</code>"
            ],
            "text/plain": [
              "<IPython.core.display.HTML object>"
            ]
          },
          "metadata": {},
          "output_type": "display_data"
        },
        {
          "data": {
            "text/html": [
              "Find internal logs for this run at: <code>/Users/uwesterr/CloudProjectsUnderWork/ProjectsUnderWork/SydneyAO/pytorchtestStudio/wandb/run-20210701_195236-7zc4p4sd/logs/debug-internal.log</code>"
            ],
            "text/plain": [
              "<IPython.core.display.HTML object>"
            ]
          },
          "metadata": {},
          "output_type": "display_data"
        },
        {
          "data": {
            "text/html": [
              "<h3>Run summary:</h3><br/><style>\n",
              "    table.wandb td:nth-child(1) { padding: 0 10px; text-align: right }\n",
              "    </style><table class=\"wandb\">\n",
              "<tr><td>batch loss</td><td>0.01232</td></tr><tr><td>_runtime</td><td>7</td></tr><tr><td>_timestamp</td><td>1625161963</td></tr><tr><td>_step</td><td>979</td></tr><tr><td>loss</td><td>0.01871</td></tr><tr><td>epoch</td><td>0</td></tr></table>"
            ],
            "text/plain": [
              "<IPython.core.display.HTML object>"
            ]
          },
          "metadata": {},
          "output_type": "display_data"
        },
        {
          "data": {
            "text/html": [
              "<h3>Run history:</h3><br/><style>\n",
              "    table.wandb td:nth-child(1) { padding: 0 10px; text-align: right }\n",
              "    </style><table class=\"wandb\">\n",
              "<tr><td>batch loss</td><td>█▃▂▂▂▂▂▂▂▁▁▂▁▁▁▁▁▁▁▁▁▁▁▁▁▁▁▁▁▁▁▁▁▁▁▁▁▁▁▁</td></tr><tr><td>_runtime</td><td>▁▁▁▁▁▁▁▁▁▁▁▁▁▁▁▁▁▁▁▁▁▁▁▁▁▁▁█████████████</td></tr><tr><td>_timestamp</td><td>▁▁▁▁▁▁▁▁▁▁▁▁▁▁▁▁▁▁▁▁▁▁▁▁▁▁▁█████████████</td></tr><tr><td>_step</td><td>▁▁▁▂▂▂▂▂▂▃▃▃▃▃▃▄▄▄▄▄▅▅▅▅▅▅▆▆▆▆▆▇▇▇▇▇▇███</td></tr><tr><td>loss</td><td>▁</td></tr><tr><td>epoch</td><td>▁</td></tr></table><br/>"
            ],
            "text/plain": [
              "<IPython.core.display.HTML object>"
            ]
          },
          "metadata": {},
          "output_type": "display_data"
        },
        {
          "data": {
            "text/html": [
              "Synced 5 W&B file(s), 0 media file(s), 0 artifact file(s) and 0 other file(s)"
            ],
            "text/plain": [
              "<IPython.core.display.HTML object>"
            ]
          },
          "metadata": {},
          "output_type": "display_data"
        },
        {
          "data": {
            "text/html": [
              "\n",
              "                    <br/>Synced <strong style=\"color:#cdcd00\">restful-sweep-25</strong>: <a href=\"https://wandb.ai/uwe-sterr/pytorch-sweeps-demo/runs/7zc4p4sd\" target=\"_blank\">https://wandb.ai/uwe-sterr/pytorch-sweeps-demo/runs/7zc4p4sd</a><br/>\n",
              "                "
            ],
            "text/plain": [
              "<IPython.core.display.HTML object>"
            ]
          },
          "metadata": {},
          "output_type": "display_data"
        }
      ],
      "source": [
        "wandb.agent(sweep_id, train, count=25)"
      ]
    },
    {
      "cell_type": "markdown",
      "metadata": {
        "id": "jnhWMrkodjdN"
      },
      "source": [
        "# 👀 Visualize Sweep Results\n"
      ]
    },
    {
      "cell_type": "markdown",
      "metadata": {
        "id": "rSWnRklz2m6d"
      },
      "source": [
        "\n",
        "## 🔀 Parallel Coordinates Plot\n",
        "This plot maps hyperparameter values to model metrics. It’s useful for honing in on combinations of hyperparameters that led to the best model performance.\n",
        "\n",
        "![](https://assets.website-files.com/5ac6b7f2924c652fd013a891/5e190366778ad831455f9af2_s_194708415DEC35F74A7691FF6810D3B14703D1EFE1672ED29000BA98171242A5_1578695138341_image.png)\n"
      ]
    },
    {
      "cell_type": "markdown",
      "metadata": {
        "id": "6IgMNFFT2qe_"
      },
      "source": [
        "## 📊 Hyperparameter Importance Plot\n",
        "The hyperparameter importance plot surfaces which hyperparameters were the best predictors of your metrics.\n",
        "We report feature importance (from a random forest model) and correlation (implicitly a linear model).\n",
        "\n",
        "![](https://assets.website-files.com/5ac6b7f2924c652fd013a891/5e190367778ad820b35f9af5_s_194708415DEC35F74A7691FF6810D3B14703D1EFE1672ED29000BA98171242A5_1578695757573_image.png)\n",
        "\n",
        "These visualizations can help you save both time and resources running expensive hyperparameter optimizations by honing in on the parameters (and value ranges) that are the most important, and thereby worthy of further exploration.\n"
      ]
    },
    {
      "cell_type": "markdown",
      "metadata": {
        "id": "K5KkvFWC2sjS"
      },
      "source": [
        "# 🧤 Get your hands dirty with sweeps\n",
        "\n",
        "We created a simple training script and [a few flavors of sweep configs](https://github.com/wandb/examples/tree/master/examples/keras/keras-cnn-fashion) for you to play with. We highly encourage you to give these a try.\n",
        "\n",
        "That repo also has examples to help you try more advanced sweep features like [Bayesian Hyperband](https://app.wandb.ai/wandb/examples-keras-cnn-fashion/sweeps/us0ifmrf?workspace=user-lavanyashukla), and [Hyperopt](https://app.wandb.ai/wandb/examples-keras-cnn-fashion/sweeps/xbs2wm5e?workspace=user-lavanyashukla)."
      ]
    }
  ],
  "metadata": {
    "colab": {
      "collapsed_sections": [],
      "name": "Organizing Hyperparameter Sweeps in PyTorch with W&B",
      "private_outputs": true,
      "provenance": [],
      "toc_visible": true
    },
    "interpreter": {
      "hash": "7240fa07bd5f0492db6e5998fcde1467c49f289639e3a06c91ae7c487c9ff707"
    },
    "kernelspec": {
      "display_name": "Python 3.8.8 64-bit ('base': conda)",
      "name": "python3"
    },
    "language_info": {
      "codemirror_mode": {
        "name": "ipython",
        "version": 3
      },
      "file_extension": ".py",
      "mimetype": "text/x-python",
      "name": "python",
      "nbconvert_exporter": "python",
      "pygments_lexer": "ipython3",
      "version": "3.8.8"
    }
  },
  "nbformat": 4,
  "nbformat_minor": 0
}