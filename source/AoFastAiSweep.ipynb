{
 "cells": [
  {
   "cell_type": "markdown",
   "source": [
    "# AO Sydney fastai sweep"
   ],
   "metadata": {}
  },
  {
   "cell_type": "markdown",
   "source": [
    "### Notebook setup"
   ],
   "metadata": {}
  },
  {
   "cell_type": "code",
   "execution_count": 2,
   "source": [
    "!pip install keras-one-cycle-lr"
   ],
   "outputs": [
    {
     "output_type": "stream",
     "name": "stdout",
     "text": [
      "Collecting keras-one-cycle-lr\n",
      "  Using cached keras_one_cycle_lr-0.0.1-py3-none-any.whl (5.7 kB)\n",
      "Installing collected packages: keras-one-cycle-lr\n",
      "Successfully installed keras-one-cycle-lr-0.0.1\n"
     ]
    }
   ],
   "metadata": {}
  },
  {
   "cell_type": "markdown",
   "source": [
    "Import pre-installed packages "
   ],
   "metadata": {}
  },
  {
   "cell_type": "code",
   "execution_count": 4,
   "source": [
    "import pandas as pd\n",
    "from clr import LRFinder\n",
    "from pathlib import Path\n",
    "import fastai\n",
    "from fastai.tabular.all import *\n",
    "from fastai.tabular.core import Normalize, TabularPandas, TabDataLoader\n",
    "from fastai.callback.wandb import *\n",
    "fastai.__version__"
   ],
   "outputs": [
    {
     "output_type": "error",
     "ename": "ModuleNotFoundError",
     "evalue": "No module named 'clr'",
     "traceback": [
      "\u001b[0;31m---------------------------------------------------------------------------\u001b[0m",
      "\u001b[0;31mModuleNotFoundError\u001b[0m                       Traceback (most recent call last)",
      "\u001b[0;32m<ipython-input-4-f3f25417ec62>\u001b[0m in \u001b[0;36m<module>\u001b[0;34m\u001b[0m\n\u001b[1;32m      1\u001b[0m \u001b[0;32mimport\u001b[0m \u001b[0mpandas\u001b[0m \u001b[0;32mas\u001b[0m \u001b[0mpd\u001b[0m\u001b[0;34m\u001b[0m\u001b[0;34m\u001b[0m\u001b[0m\n\u001b[0;32m----> 2\u001b[0;31m \u001b[0;32mfrom\u001b[0m \u001b[0mclr\u001b[0m \u001b[0;32mimport\u001b[0m \u001b[0mLRFinder\u001b[0m\u001b[0;34m\u001b[0m\u001b[0;34m\u001b[0m\u001b[0m\n\u001b[0m\u001b[1;32m      3\u001b[0m \u001b[0;32mfrom\u001b[0m \u001b[0mpathlib\u001b[0m \u001b[0;32mimport\u001b[0m \u001b[0mPath\u001b[0m\u001b[0;34m\u001b[0m\u001b[0;34m\u001b[0m\u001b[0m\n\u001b[1;32m      4\u001b[0m \u001b[0;32mimport\u001b[0m \u001b[0mfastai\u001b[0m\u001b[0;34m\u001b[0m\u001b[0;34m\u001b[0m\u001b[0m\n\u001b[1;32m      5\u001b[0m \u001b[0;32mfrom\u001b[0m \u001b[0mfastai\u001b[0m\u001b[0;34m.\u001b[0m\u001b[0mtabular\u001b[0m\u001b[0;34m.\u001b[0m\u001b[0mall\u001b[0m \u001b[0;32mimport\u001b[0m \u001b[0;34m*\u001b[0m\u001b[0;34m\u001b[0m\u001b[0;34m\u001b[0m\u001b[0m\n",
      "\u001b[0;31mModuleNotFoundError\u001b[0m: No module named 'clr'"
     ]
    }
   ],
   "metadata": {}
  },
  {
   "cell_type": "code",
   "execution_count": null,
   "source": [
    "from fastcore.basics import range_of, ifnone\n",
    "\n",
    "from fastai.callback.progress import ProgressCallback\n",
    "from fastai.callback.schedule import lr_find\n",
    "\n",
    "from fastai.data.block import CategoryBlock\n",
    "from fastai.data.core import DataLoaders\n",
    "from fastai.data.external import untar_data, URLs\n",
    "from fastai.data.transforms import RandomSplitter\n",
    "\n",
    "from fastai.learner import load_learner, Learner\n",
    "from fastai.metrics import accuracy\n",
    "\n",
    "from fastai.tabular.core import Categorify, FillMissing, FillStrategy, Normalize, TabularPandas, TabDataLoader\n",
    "from fastai.tabular.model import TabularModel\n",
    "from fastai.tabular.learner import tabular_learner"
   ],
   "outputs": [],
   "metadata": {}
  },
  {
   "cell_type": "markdown",
   "source": [
    "Package versions: \n",
    "* *Python v. 3.7.7*<br>\n",
    "* *Pandas v. 1.1.4*<br>\n",
    "* *PyTorch v. 1.6.0*<br>\n",
    "* *Fastai v. 2.0.11*"
   ],
   "metadata": {}
  },
  {
   "cell_type": "markdown",
   "source": [
    "Set seed for reproducable results"
   ],
   "metadata": {}
  },
  {
   "cell_type": "code",
   "execution_count": null,
   "source": [
    "seed = 42\n",
    "\n",
    "# python RNG\n",
    "import random\n",
    "random.seed(seed)\n",
    "\n",
    "# pytorch RNGs\n",
    "import torch\n",
    "torch.manual_seed(seed)\n",
    "torch.backends.cudnn.deterministic = True\n",
    "if torch.cuda.is_available(): torch.cuda.manual_seed_all(seed)\n",
    "\n",
    "# numpy RNG\n",
    "import numpy as np\n",
    "np.random.seed(seed)"
   ],
   "outputs": [],
   "metadata": {}
  },
  {
   "cell_type": "markdown",
   "source": [
    "Create paths to NSQIP data folder"
   ],
   "metadata": {}
  },
  {
   "cell_type": "code",
   "execution_count": null,
   "source": [
    "fluxData_df = pd.read_feather('data/fluxData.feather')\n",
    "zernikeData_df = pd.read_feather('data/zernikeData.feather')\n",
    "dataFrame = pd.concat([fluxData_df, zernikeData_df],axis = 1)\n"
   ],
   "outputs": [],
   "metadata": {}
  },
  {
   "cell_type": "code",
   "execution_count": null,
   "source": [
    "zernikeData_df.describe()"
   ],
   "outputs": [],
   "metadata": {}
  },
  {
   "cell_type": "code",
   "execution_count": null,
   "source": [
    "splits = RandomSplitter()(range_of(fluxData_df))"
   ],
   "outputs": [],
   "metadata": {}
  },
  {
   "cell_type": "code",
   "execution_count": null,
   "source": [
    "y_names =list(zernikeData_df.columns.values)\n",
    "x_names = list(fluxData_df.columns.values)\n",
    "norm = Normalize()\n",
    "to = TabularPandas(dataFrame,norm,  cont_names= x_names, y_names = y_names, splits= splits)\n",
    "norms = to.procs.normalize"
   ],
   "outputs": [],
   "metadata": {}
  },
  {
   "cell_type": "code",
   "execution_count": 27,
   "source": [
    "to.y_names"
   ],
   "outputs": [
    {
     "output_type": "execute_result",
     "data": {
      "text/plain": [
       "(#9) ['zernikeCoeef1','zernikeCoeef2','zernikeCoeef3','zernikeCoeef4','zernikeCoeef5','zernikeCoeef6','zernikeCoeef7','zernikeCoeef8','zernikeCoeef9']"
      ]
     },
     "metadata": {},
     "execution_count": 27
    }
   ],
   "metadata": {}
  },
  {
   "cell_type": "code",
   "execution_count": 22,
   "source": [
    "to.conts.describe()"
   ],
   "outputs": [
    {
     "output_type": "execute_result",
     "data": {
      "text/plain": [
       "         FluxCoeef1    FluxCoeef2    FluxCoeef3    FluxCoeef4    FluxCoeef5  \\\n",
       "count  58740.000000  58740.000000  58740.000000  58740.000000  58740.000000   \n",
       "mean      -0.000646     -0.001099     -0.000491      0.000792      0.000554   \n",
       "std        1.000740      1.000308      1.000037      1.000388      1.000174   \n",
       "min       -3.170261     -2.039658     -1.510622     -2.118599     -2.948699   \n",
       "25%       -0.735536     -0.764998     -0.816176     -0.753933     -0.711789   \n",
       "50%        0.027266     -0.116311     -0.169947     -0.075162     -0.041012   \n",
       "75%        0.779837      0.660905      0.629065      0.662446      0.673908   \n",
       "max        2.446889      4.019042      4.890652      3.832741      5.047637   \n",
       "\n",
       "         FluxCoeef6    FluxCoeef7    FluxCoeef8    FluxCoeef9   FluxCoeef10  \\\n",
       "count  58740.000000  58740.000000  58740.000000  58740.000000  58740.000000   \n",
       "mean       0.001122      0.001910      0.001645     -0.000436      0.003208   \n",
       "std        0.999119      1.000171      1.000778      0.999263      1.001906   \n",
       "min       -2.490017     -1.789847     -2.587601     -1.376331     -1.224014   \n",
       "25%       -0.767949     -0.776244     -0.746119     -0.779701     -0.669968   \n",
       "50%       -0.038722     -0.144902     -0.085099     -0.226624     -0.311660   \n",
       "75%        0.712550      0.644501      0.669253      0.558697      0.332114   \n",
       "max        3.429444      4.136732      3.896131      5.736265      7.782055   \n",
       "\n",
       "        FluxCoeef11   FluxCoeef12   FluxCoeef13   FluxCoeef14   FluxCoeef15  \\\n",
       "count  58740.000000  58740.000000  58740.000000  58740.000000  58740.000000   \n",
       "mean      -0.003271     -0.001035     -0.001496      0.000856     -0.000353   \n",
       "std        0.998667      1.000121      1.000983      1.001988      0.997984   \n",
       "min       -2.118872     -2.845668     -1.961091     -1.428087     -1.240800   \n",
       "25%       -0.764225     -0.709663     -0.787686     -0.724918     -0.700702   \n",
       "50%       -0.085128     -0.093792     -0.119502     -0.243746     -0.313004   \n",
       "75%        0.667285      0.624278      0.682407      0.463252      0.395634   \n",
       "max        6.025187      5.223766      3.619025      6.431697      6.375229   \n",
       "\n",
       "        FluxCoeef16   FluxCoeef17   FluxCoeef18   FluxCoeef19  \n",
       "count  58740.000000  58740.000000  58740.000000  58740.000000  \n",
       "mean       0.002753      0.002000     -0.002226     -0.001174  \n",
       "std        1.001484      1.000311      1.001660      0.997171  \n",
       "min       -1.454210     -1.370395     -2.037752     -1.401945  \n",
       "25%       -0.804573     -0.774073     -0.757406     -0.744749  \n",
       "50%       -0.199387     -0.247279     -0.126250     -0.245513  \n",
       "75%        0.607782      0.522053      0.631649      0.489440  \n",
       "max        4.729100      5.257224      5.134041      6.683915  "
      ],
      "text/html": [
       "<div>\n",
       "<style scoped>\n",
       "    .dataframe tbody tr th:only-of-type {\n",
       "        vertical-align: middle;\n",
       "    }\n",
       "\n",
       "    .dataframe tbody tr th {\n",
       "        vertical-align: top;\n",
       "    }\n",
       "\n",
       "    .dataframe thead th {\n",
       "        text-align: right;\n",
       "    }\n",
       "</style>\n",
       "<table border=\"1\" class=\"dataframe\">\n",
       "  <thead>\n",
       "    <tr style=\"text-align: right;\">\n",
       "      <th></th>\n",
       "      <th>FluxCoeef1</th>\n",
       "      <th>FluxCoeef2</th>\n",
       "      <th>FluxCoeef3</th>\n",
       "      <th>FluxCoeef4</th>\n",
       "      <th>FluxCoeef5</th>\n",
       "      <th>FluxCoeef6</th>\n",
       "      <th>FluxCoeef7</th>\n",
       "      <th>FluxCoeef8</th>\n",
       "      <th>FluxCoeef9</th>\n",
       "      <th>FluxCoeef10</th>\n",
       "      <th>FluxCoeef11</th>\n",
       "      <th>FluxCoeef12</th>\n",
       "      <th>FluxCoeef13</th>\n",
       "      <th>FluxCoeef14</th>\n",
       "      <th>FluxCoeef15</th>\n",
       "      <th>FluxCoeef16</th>\n",
       "      <th>FluxCoeef17</th>\n",
       "      <th>FluxCoeef18</th>\n",
       "      <th>FluxCoeef19</th>\n",
       "    </tr>\n",
       "  </thead>\n",
       "  <tbody>\n",
       "    <tr>\n",
       "      <th>count</th>\n",
       "      <td>58740.000000</td>\n",
       "      <td>58740.000000</td>\n",
       "      <td>58740.000000</td>\n",
       "      <td>58740.000000</td>\n",
       "      <td>58740.000000</td>\n",
       "      <td>58740.000000</td>\n",
       "      <td>58740.000000</td>\n",
       "      <td>58740.000000</td>\n",
       "      <td>58740.000000</td>\n",
       "      <td>58740.000000</td>\n",
       "      <td>58740.000000</td>\n",
       "      <td>58740.000000</td>\n",
       "      <td>58740.000000</td>\n",
       "      <td>58740.000000</td>\n",
       "      <td>58740.000000</td>\n",
       "      <td>58740.000000</td>\n",
       "      <td>58740.000000</td>\n",
       "      <td>58740.000000</td>\n",
       "      <td>58740.000000</td>\n",
       "    </tr>\n",
       "    <tr>\n",
       "      <th>mean</th>\n",
       "      <td>-0.000646</td>\n",
       "      <td>-0.001099</td>\n",
       "      <td>-0.000491</td>\n",
       "      <td>0.000792</td>\n",
       "      <td>0.000554</td>\n",
       "      <td>0.001122</td>\n",
       "      <td>0.001910</td>\n",
       "      <td>0.001645</td>\n",
       "      <td>-0.000436</td>\n",
       "      <td>0.003208</td>\n",
       "      <td>-0.003271</td>\n",
       "      <td>-0.001035</td>\n",
       "      <td>-0.001496</td>\n",
       "      <td>0.000856</td>\n",
       "      <td>-0.000353</td>\n",
       "      <td>0.002753</td>\n",
       "      <td>0.002000</td>\n",
       "      <td>-0.002226</td>\n",
       "      <td>-0.001174</td>\n",
       "    </tr>\n",
       "    <tr>\n",
       "      <th>std</th>\n",
       "      <td>1.000740</td>\n",
       "      <td>1.000308</td>\n",
       "      <td>1.000037</td>\n",
       "      <td>1.000388</td>\n",
       "      <td>1.000174</td>\n",
       "      <td>0.999119</td>\n",
       "      <td>1.000171</td>\n",
       "      <td>1.000778</td>\n",
       "      <td>0.999263</td>\n",
       "      <td>1.001906</td>\n",
       "      <td>0.998667</td>\n",
       "      <td>1.000121</td>\n",
       "      <td>1.000983</td>\n",
       "      <td>1.001988</td>\n",
       "      <td>0.997984</td>\n",
       "      <td>1.001484</td>\n",
       "      <td>1.000311</td>\n",
       "      <td>1.001660</td>\n",
       "      <td>0.997171</td>\n",
       "    </tr>\n",
       "    <tr>\n",
       "      <th>min</th>\n",
       "      <td>-3.170261</td>\n",
       "      <td>-2.039658</td>\n",
       "      <td>-1.510622</td>\n",
       "      <td>-2.118599</td>\n",
       "      <td>-2.948699</td>\n",
       "      <td>-2.490017</td>\n",
       "      <td>-1.789847</td>\n",
       "      <td>-2.587601</td>\n",
       "      <td>-1.376331</td>\n",
       "      <td>-1.224014</td>\n",
       "      <td>-2.118872</td>\n",
       "      <td>-2.845668</td>\n",
       "      <td>-1.961091</td>\n",
       "      <td>-1.428087</td>\n",
       "      <td>-1.240800</td>\n",
       "      <td>-1.454210</td>\n",
       "      <td>-1.370395</td>\n",
       "      <td>-2.037752</td>\n",
       "      <td>-1.401945</td>\n",
       "    </tr>\n",
       "    <tr>\n",
       "      <th>25%</th>\n",
       "      <td>-0.735536</td>\n",
       "      <td>-0.764998</td>\n",
       "      <td>-0.816176</td>\n",
       "      <td>-0.753933</td>\n",
       "      <td>-0.711789</td>\n",
       "      <td>-0.767949</td>\n",
       "      <td>-0.776244</td>\n",
       "      <td>-0.746119</td>\n",
       "      <td>-0.779701</td>\n",
       "      <td>-0.669968</td>\n",
       "      <td>-0.764225</td>\n",
       "      <td>-0.709663</td>\n",
       "      <td>-0.787686</td>\n",
       "      <td>-0.724918</td>\n",
       "      <td>-0.700702</td>\n",
       "      <td>-0.804573</td>\n",
       "      <td>-0.774073</td>\n",
       "      <td>-0.757406</td>\n",
       "      <td>-0.744749</td>\n",
       "    </tr>\n",
       "    <tr>\n",
       "      <th>50%</th>\n",
       "      <td>0.027266</td>\n",
       "      <td>-0.116311</td>\n",
       "      <td>-0.169947</td>\n",
       "      <td>-0.075162</td>\n",
       "      <td>-0.041012</td>\n",
       "      <td>-0.038722</td>\n",
       "      <td>-0.144902</td>\n",
       "      <td>-0.085099</td>\n",
       "      <td>-0.226624</td>\n",
       "      <td>-0.311660</td>\n",
       "      <td>-0.085128</td>\n",
       "      <td>-0.093792</td>\n",
       "      <td>-0.119502</td>\n",
       "      <td>-0.243746</td>\n",
       "      <td>-0.313004</td>\n",
       "      <td>-0.199387</td>\n",
       "      <td>-0.247279</td>\n",
       "      <td>-0.126250</td>\n",
       "      <td>-0.245513</td>\n",
       "    </tr>\n",
       "    <tr>\n",
       "      <th>75%</th>\n",
       "      <td>0.779837</td>\n",
       "      <td>0.660905</td>\n",
       "      <td>0.629065</td>\n",
       "      <td>0.662446</td>\n",
       "      <td>0.673908</td>\n",
       "      <td>0.712550</td>\n",
       "      <td>0.644501</td>\n",
       "      <td>0.669253</td>\n",
       "      <td>0.558697</td>\n",
       "      <td>0.332114</td>\n",
       "      <td>0.667285</td>\n",
       "      <td>0.624278</td>\n",
       "      <td>0.682407</td>\n",
       "      <td>0.463252</td>\n",
       "      <td>0.395634</td>\n",
       "      <td>0.607782</td>\n",
       "      <td>0.522053</td>\n",
       "      <td>0.631649</td>\n",
       "      <td>0.489440</td>\n",
       "    </tr>\n",
       "    <tr>\n",
       "      <th>max</th>\n",
       "      <td>2.446889</td>\n",
       "      <td>4.019042</td>\n",
       "      <td>4.890652</td>\n",
       "      <td>3.832741</td>\n",
       "      <td>5.047637</td>\n",
       "      <td>3.429444</td>\n",
       "      <td>4.136732</td>\n",
       "      <td>3.896131</td>\n",
       "      <td>5.736265</td>\n",
       "      <td>7.782055</td>\n",
       "      <td>6.025187</td>\n",
       "      <td>5.223766</td>\n",
       "      <td>3.619025</td>\n",
       "      <td>6.431697</td>\n",
       "      <td>6.375229</td>\n",
       "      <td>4.729100</td>\n",
       "      <td>5.257224</td>\n",
       "      <td>5.134041</td>\n",
       "      <td>6.683915</td>\n",
       "    </tr>\n",
       "  </tbody>\n",
       "</table>\n",
       "</div>"
      ]
     },
     "metadata": {},
     "execution_count": 22
    }
   ],
   "metadata": {}
  },
  {
   "cell_type": "markdown",
   "source": [
    "## The dataloader"
   ],
   "metadata": {}
  },
  {
   "cell_type": "code",
   "execution_count": null,
   "source": [
    "dls = to.dataloaders()\n",
    "dls.show_batch()"
   ],
   "outputs": [],
   "metadata": {}
  },
  {
   "cell_type": "code",
   "execution_count": null,
   "source": [
    "#dls = TabularDataLoaders.from_df(dataFrame, y_names = y_names)"
   ],
   "outputs": [],
   "metadata": {}
  },
  {
   "cell_type": "code",
   "execution_count": null,
   "source": [
    "trn_dl = TabDataLoader(to.train, bs=64, shuffle=True, drop_last=True)\n",
    "val_dl = TabDataLoader(to.valid, bs=128)"
   ],
   "outputs": [],
   "metadata": {}
  },
  {
   "cell_type": "code",
   "execution_count": null,
   "source": [],
   "outputs": [],
   "metadata": {}
  },
  {
   "cell_type": "code",
   "execution_count": null,
   "source": [
    "dls.show_batch()"
   ],
   "outputs": [],
   "metadata": {}
  },
  {
   "cell_type": "markdown",
   "source": [
    "## Define learner"
   ],
   "metadata": {}
  },
  {
   "cell_type": "code",
   "execution_count": null,
   "source": [
    "import wandb\n",
    "wandb.init(project= \"FastAiSweepLoop\");"
   ],
   "outputs": [],
   "metadata": {}
  },
  {
   "cell_type": "code",
   "execution_count": 28,
   "source": [
    "learn = tabular_learner(dls ,metrics = rmse, layers = [2000, 1050, 100], y_range= [-.5,.5], wd= 0.1)\n",
    "learn.summary()"
   ],
   "outputs": [
    {
     "output_type": "display_data",
     "data": {
      "text/plain": [
       "<IPython.core.display.HTML object>"
      ],
      "text/html": []
     },
     "metadata": {}
    },
    {
     "output_type": "execute_result",
     "data": {
      "text/plain": [
       "TabularModel (Input shape: 64 x torch.Size([64, 19]))\n",
       "============================================================================\n",
       "Layer (type)         Output Shape         Param #    Trainable \n",
       "============================================================================\n",
       "                     64 x 19             \n",
       "BatchNorm1d                               38         True      \n",
       "____________________________________________________________________________\n",
       "                     64 x 2000           \n",
       "Linear                                    38000      True      \n",
       "ReLU                                                           \n",
       "BatchNorm1d                               4000       True      \n",
       "____________________________________________________________________________\n",
       "                     64 x 1050           \n",
       "Linear                                    2100000    True      \n",
       "ReLU                                                           \n",
       "BatchNorm1d                               2100       True      \n",
       "____________________________________________________________________________\n",
       "                     64 x 100            \n",
       "Linear                                    105000     True      \n",
       "ReLU                                                           \n",
       "BatchNorm1d                               200        True      \n",
       "____________________________________________________________________________\n",
       "                     64 x 9              \n",
       "Linear                                    909        True      \n",
       "SigmoidRange                                                   \n",
       "____________________________________________________________________________\n",
       "\n",
       "Total params: 2,250,247\n",
       "Total trainable params: 2,250,247\n",
       "Total non-trainable params: 0\n",
       "\n",
       "Optimizer used: <function Adam at 0x7f1c232074c0>\n",
       "Loss function: FlattenedLoss of MSELoss()\n",
       "\n",
       "Callbacks:\n",
       "  - TrainEvalCallback\n",
       "  - Recorder\n",
       "  - ProgressCallback"
      ]
     },
     "metadata": {},
     "execution_count": 28
    }
   ],
   "metadata": {}
  },
  {
   "cell_type": "code",
   "execution_count": null,
   "source": [
    "# import wandb\n",
    "# #!wandb login\n",
    "# wandb.init(project= \"FastAiSweep\")\n"
   ],
   "outputs": [],
   "metadata": {}
  },
  {
   "cell_type": "code",
   "execution_count": null,
   "source": [
    " #lr_steep = learn.lr_find()\n",
    "#printf(F\"minimimum/10: {lr_min:.2e}, steepest point: {lr_steep:.2e}\")"
   ],
   "outputs": [],
   "metadata": {}
  },
  {
   "cell_type": "code",
   "execution_count": 31,
   "source": [
    "learn.fit_one_clyle(100)"
   ],
   "outputs": [
    {
     "output_type": "error",
     "ename": "ModuleAttributeError",
     "evalue": "'TabularModel' object has no attribute 'fit_one_clyle'",
     "traceback": [
      "\u001b[0;31m---------------------------------------------------------------------------\u001b[0m",
      "\u001b[0;31mModuleAttributeError\u001b[0m                      Traceback (most recent call last)",
      "\u001b[0;32m<ipython-input-31-df04acef9367>\u001b[0m in \u001b[0;36m<module>\u001b[0;34m\u001b[0m\n\u001b[0;32m----> 1\u001b[0;31m \u001b[0mlearn\u001b[0m\u001b[0;34m.\u001b[0m\u001b[0mfit_one_clyle\u001b[0m\u001b[0;34m(\u001b[0m \u001b[0;36m100\u001b[0m\u001b[0;34m)\u001b[0m\u001b[0;34m\u001b[0m\u001b[0;34m\u001b[0m\u001b[0m\n\u001b[0m",
      "\u001b[0;32m~/anaconda3/lib/python3.8/site-packages/fastcore/basics.py\u001b[0m in \u001b[0;36m__getattr__\u001b[0;34m(self, k)\u001b[0m\n\u001b[1;32m    376\u001b[0m         \u001b[0;32mif\u001b[0m \u001b[0mself\u001b[0m\u001b[0;34m.\u001b[0m\u001b[0m_component_attr_filter\u001b[0m\u001b[0;34m(\u001b[0m\u001b[0mk\u001b[0m\u001b[0;34m)\u001b[0m\u001b[0;34m:\u001b[0m\u001b[0;34m\u001b[0m\u001b[0;34m\u001b[0m\u001b[0m\n\u001b[1;32m    377\u001b[0m             \u001b[0mattr\u001b[0m \u001b[0;34m=\u001b[0m \u001b[0mgetattr\u001b[0m\u001b[0;34m(\u001b[0m\u001b[0mself\u001b[0m\u001b[0;34m,\u001b[0m\u001b[0mself\u001b[0m\u001b[0;34m.\u001b[0m\u001b[0m_default\u001b[0m\u001b[0;34m,\u001b[0m\u001b[0;32mNone\u001b[0m\u001b[0;34m)\u001b[0m\u001b[0;34m\u001b[0m\u001b[0;34m\u001b[0m\u001b[0m\n\u001b[0;32m--> 378\u001b[0;31m             \u001b[0;32mif\u001b[0m \u001b[0mattr\u001b[0m \u001b[0;32mis\u001b[0m \u001b[0;32mnot\u001b[0m \u001b[0;32mNone\u001b[0m\u001b[0;34m:\u001b[0m \u001b[0;32mreturn\u001b[0m \u001b[0mgetattr\u001b[0m\u001b[0;34m(\u001b[0m\u001b[0mattr\u001b[0m\u001b[0;34m,\u001b[0m\u001b[0mk\u001b[0m\u001b[0;34m)\u001b[0m\u001b[0;34m\u001b[0m\u001b[0;34m\u001b[0m\u001b[0m\n\u001b[0m\u001b[1;32m    379\u001b[0m         \u001b[0;32mraise\u001b[0m \u001b[0mAttributeError\u001b[0m\u001b[0;34m(\u001b[0m\u001b[0mk\u001b[0m\u001b[0;34m)\u001b[0m\u001b[0;34m\u001b[0m\u001b[0;34m\u001b[0m\u001b[0m\n\u001b[1;32m    380\u001b[0m     \u001b[0;32mdef\u001b[0m \u001b[0m__dir__\u001b[0m\u001b[0;34m(\u001b[0m\u001b[0mself\u001b[0m\u001b[0;34m)\u001b[0m\u001b[0;34m:\u001b[0m \u001b[0;32mreturn\u001b[0m \u001b[0mcustom_dir\u001b[0m\u001b[0;34m(\u001b[0m\u001b[0mself\u001b[0m\u001b[0;34m,\u001b[0m\u001b[0mself\u001b[0m\u001b[0;34m.\u001b[0m\u001b[0m_dir\u001b[0m\u001b[0;34m(\u001b[0m\u001b[0;34m)\u001b[0m\u001b[0;34m)\u001b[0m\u001b[0;34m\u001b[0m\u001b[0;34m\u001b[0m\u001b[0m\n",
      "\u001b[0;32m~/anaconda3/lib/python3.8/site-packages/torch/nn/modules/module.py\u001b[0m in \u001b[0;36m__getattr__\u001b[0;34m(self, name)\u001b[0m\n\u001b[1;32m    776\u001b[0m             \u001b[0;32mif\u001b[0m \u001b[0mname\u001b[0m \u001b[0;32min\u001b[0m \u001b[0mmodules\u001b[0m\u001b[0;34m:\u001b[0m\u001b[0;34m\u001b[0m\u001b[0;34m\u001b[0m\u001b[0m\n\u001b[1;32m    777\u001b[0m                 \u001b[0;32mreturn\u001b[0m \u001b[0mmodules\u001b[0m\u001b[0;34m[\u001b[0m\u001b[0mname\u001b[0m\u001b[0;34m]\u001b[0m\u001b[0;34m\u001b[0m\u001b[0;34m\u001b[0m\u001b[0m\n\u001b[0;32m--> 778\u001b[0;31m         raise ModuleAttributeError(\"'{}' object has no attribute '{}'\".format(\n\u001b[0m\u001b[1;32m    779\u001b[0m             type(self).__name__, name))\n\u001b[1;32m    780\u001b[0m \u001b[0;34m\u001b[0m\u001b[0m\n",
      "\u001b[0;31mModuleAttributeError\u001b[0m: 'TabularModel' object has no attribute 'fit_one_clyle'"
     ]
    }
   ],
   "metadata": {}
  },
  {
   "cell_type": "code",
   "execution_count": null,
   "source": [
    "learn.fit(100)"
   ],
   "outputs": [],
   "metadata": {}
  },
  {
   "cell_type": "code",
   "execution_count": null,
   "source": [
    "from fastai.callback.wandb import *\n",
    "learn.fit( 40, 1e-3, cbs = [WandbCallback(log_dataset = True, log_model=True)])"
   ],
   "outputs": [],
   "metadata": {}
  },
  {
   "cell_type": "code",
   "execution_count": null,
   "source": [],
   "outputs": [],
   "metadata": {}
  },
  {
   "cell_type": "code",
   "execution_count": null,
   "source": [],
   "outputs": [],
   "metadata": {}
  }
 ],
 "metadata": {
  "interpreter": {
   "hash": "643de512da3ef9692daa896915c9c6edbec44805ccf75c0ed51aafb5eb9790df"
  },
  "kernelspec": {
   "display_name": "Python 3.8.2 64-bit ('base': conda)",
   "name": "python3"
  },
  "language_info": {
   "codemirror_mode": {
    "name": "ipython",
    "version": 3
   },
   "file_extension": ".py",
   "mimetype": "text/x-python",
   "name": "python",
   "nbconvert_exporter": "python",
   "pygments_lexer": "ipython3",
   "version": "3.8.2"
  }
 },
 "nbformat": 4,
 "nbformat_minor": 4
}