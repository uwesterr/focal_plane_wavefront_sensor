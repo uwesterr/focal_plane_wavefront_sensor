{
  "cells": [
    {
      "cell_type": "markdown",
      "metadata": {
        "id": "PIIQxWeVW4Pj"
      },
      "source": [
        "# 🚀 Install, Import, and Log in"
      ]
    },
    {
      "cell_type": "markdown",
      "metadata": {
        "id": "wmlhYoBlOxYd"
      },
      "source": [
        "### Step 0️⃣: Install W&B"
      ]
    },
    {
      "cell_type": "code",
      "execution_count": null,
      "metadata": {
        "id": "sAZBTFNQq0ys"
      },
      "outputs": [],
      "source": [
        "%%capture\n",
        "#!pip install wandb"
      ]
    },
    {
      "cell_type": "markdown",
      "metadata": {
        "id": "Tu-KHLAeO3wi"
      },
      "source": [
        "### Step 1️⃣: Import W&B and Login"
      ]
    },
    {
      "cell_type": "code",
      "execution_count": null,
      "metadata": {
        "id": "jkWTZxIyysDm"
      },
      "outputs": [],
      "source": [
        "import tensorflow as tf\n",
        "from tensorflow import keras\n",
        "\n",
        "import os\n",
        "import numpy as np\n",
        "import pandas as pd\n",
        "import matplotlib.pyplot as plt\n",
        "import pyarrow.feather as feather\n",
        "from sklearn.model_selection import train_test_split \n",
        "from tensorflow.keras import regularizers\n",
        "import math\n",
        "\n",
        "%matplotlib inline"
      ]
    },
    {
      "cell_type": "code",
      "execution_count": null,
      "metadata": {
        "id": "XmVkQbw_q_07"
      },
      "outputs": [
        {
          "name": "stdout",
          "output_type": "stream",
          "text": [
            "zsh: parse error near `()'\n"
          ]
        }
      ],
      "source": [
        "import wandb\n",
        "from wandb.keras import WandbCallback\n",
        "\n",
        "\n",
        "!wandb.login()"
      ]
    },
    {
      "cell_type": "markdown",
      "metadata": {
        "id": "hNw4gP_Oqx7c"
      },
      "source": [
        "Read data in"
      ]
    },
    {
      "cell_type": "code",
      "execution_count": null,
      "metadata": {},
      "outputs": [],
      "source": [
        "fluxData_df = feather.read_feather('data/fluxData.feather')\n",
        "zernikeData_df = feather.read_feather('data/zernikeData.feather')\n",
        "#fluxData_df\n"
      ]
    },
    {
      "cell_type": "markdown",
      "metadata": {
        "id": "Nhe7pVMlwv4H"
      },
      "source": [
        "# 👩‍🍳 Prepare Dataset"
      ]
    },
    {
      "cell_type": "code",
      "execution_count": null,
      "metadata": {
        "id": "xnxsNbPmMvqr"
      },
      "outputs": [],
      "source": [
        "# Prepare the training dataset\n",
        "X = fluxData_df\n",
        "y = zernikeData_df\n",
        "x_train, x_test, y_train, y_test = train_test_split(\n",
        "    X, y, test_size=0.1, random_state=42)\n"
      ]
    },
    {
      "cell_type": "markdown",
      "metadata": {},
      "source": [
        "## Config parameter"
      ]
    },
    {
      "cell_type": "markdown",
      "metadata": {},
      "source": [
        "# Create Model"
      ]
    },
    {
      "cell_type": "code",
      "execution_count": null,
      "metadata": {},
      "outputs": [],
      "source": [
        "def Model():\n",
        "    inputs = keras.Input(shape=(19,), name=\"digits\")\n",
        "    x1 = keras.layers.Dense(wandb.config.layer1, activation=\"relu\", name = \"conv1D_1\")(inputs)\n",
        "    x2 = keras.layers.Dense(wandb.config.layer2, activation=\"relu\")(x1)\n",
        "    x3 = keras.layers.Dense(wandb.config.layer3, activation=\"relu\")(x2)\n",
        "    outputs = keras.layers.Dense(9, name=\"predictions\")(x3)\n",
        "\n",
        "    return keras.Model(inputs=inputs, outputs=outputs)\n",
        "    \n",
        "#AoSweepModel = Model()    \n",
        "#AoSweepModel.summary()"
      ]
    },
    {
      "cell_type": "code",
      "execution_count": null,
      "metadata": {},
      "outputs": [],
      "source": [
        "#keras.utils.plot_model(AoSweepModel, show_shapes=True)"
      ]
    },
    {
      "cell_type": "markdown",
      "metadata": {},
      "source": [
        "## Reshape training data"
      ]
    },
    {
      "cell_type": "code",
      "execution_count": null,
      "metadata": {},
      "outputs": [],
      "source": [
        "input_train = x_train.to_numpy()[:,:,np.newaxis]\n",
        "input_test = x_test.to_numpy()[:,:,np.newaxis]"
      ]
    },
    {
      "cell_type": "markdown",
      "metadata": {},
      "source": [
        "Train simple model"
      ]
    },
    {
      "cell_type": "code",
      "execution_count": null,
      "metadata": {},
      "outputs": [],
      "source": [
        "def training():\n",
        "    run = wandb.init(project=\"Ao_Paper_Model\",\n",
        "    notes=\"Learning rate scheduler\",\n",
        "    tags=['Ao', \"Paper\", \"lr_schedule\" ,\"1DConv\"])\n",
        "    AoSweepModel = Model() \n",
        "    opt = keras.optimizers.Adam(learning_rate= wandb.config.learning_rate)\n",
        "    AoSweepModel.compile(optimizer= opt,  loss=\"mse\", metrics=[keras.metrics.RootMeanSquaredError()])\n",
        "    AoSweepModel.fit(input_train, y_train, batch_size= 128, epochs= wandb.config.epochs, validation_split=0.1, callbacks=[WandbCallback()])\n",
        "    callbacks=[WandbCallback()]\n",
        "#training()"
      ]
    },
    {
      "cell_type": "markdown",
      "metadata": {},
      "source": [
        "## Define sweep"
      ]
    },
    {
      "cell_type": "code",
      "execution_count": null,
      "metadata": {},
      "outputs": [
        {
          "name": "stdout",
          "output_type": "stream",
          "text": [
            "Create sweep with ID: fzapdubz\n",
            "Sweep URL: https://wandb.ai/uwe-sterr/uncategorized/sweeps/fzapdubz\n"
          ]
        }
      ],
      "source": [
        "\n",
        "sweep_config = {\n",
        "  \"name\" : \"PaperVersionSweep\",\n",
        "  \"method\" : \"random\",\n",
        "  'metric': {\n",
        "       'name': 'accuracy',\n",
        "       'goal': 'maximize',\n",
        "    },\n",
        "  \"parameters\" : {\n",
        "    \"epochs\" : {\n",
        "      \"values\" : [20, 40]\n",
        "    },\n",
        "    \"layer1\" : {\n",
        "      \"values\" : [4000, 2000, 500]\n",
        "    },\n",
        "    \"layer2\" : {\n",
        "      \"values\" : [800, 300]\n",
        "    },\n",
        "    \"layer3\" : {\n",
        "      \"values\" : [100, 50]\n",
        "    },\n",
        "    \"learning_rate\" :{\n",
        "      \"min\": 1e-4,\n",
        "      \"max\": 5e-3\n",
        "    }\n",
        "  }\n",
        "}\n",
        "\n",
        "sweep_id = wandb.sweep(sweep_config)"
      ]
    },
    {
      "cell_type": "code",
      "execution_count": 129,
      "metadata": {},
      "outputs": [
        {
          "name": "stderr",
          "output_type": "stream",
          "text": [
            "\u001b[34m\u001b[1mwandb\u001b[0m: Agent Starting Run: uyfgbnjy with config:\n",
            "\u001b[34m\u001b[1mwandb\u001b[0m: \tepochs: 20\n",
            "\u001b[34m\u001b[1mwandb\u001b[0m: \tlayer1: 500\n",
            "\u001b[34m\u001b[1mwandb\u001b[0m: \tlayer2: 300\n",
            "\u001b[34m\u001b[1mwandb\u001b[0m: \tlayer3: 100\n",
            "\u001b[34m\u001b[1mwandb\u001b[0m: \tlearning_rate: 0.003848461703420855\n",
            "\u001b[34m\u001b[1mwandb\u001b[0m: \u001b[33mWARNING\u001b[0m Ignored wandb.init() arg project when running a sweep\n"
          ]
        },
        {
          "data": {
            "text/html": [
              "\n",
              "                Tracking run with wandb version 0.10.33<br/>\n",
              "                Syncing run <strong style=\"color:#cdcd00\">blooming-sweep-1</strong> to <a href=\"https://wandb.ai\" target=\"_blank\">Weights & Biases</a> <a href=\"https://docs.wandb.com/integrations/jupyter.html\" target=\"_blank\">(Documentation)</a>.<br/>\n",
              "                Project page: <a href=\"https://wandb.ai/uwe-sterr/uncategorized\" target=\"_blank\">https://wandb.ai/uwe-sterr/uncategorized</a><br/>\n",
              "                Sweep page: <a href=\"https://wandb.ai/uwe-sterr/uncategorized/sweeps/fzapdubz\" target=\"_blank\">https://wandb.ai/uwe-sterr/uncategorized/sweeps/fzapdubz</a><br/>\n",
              "Run page: <a href=\"https://wandb.ai/uwe-sterr/uncategorized/runs/uyfgbnjy\" target=\"_blank\">https://wandb.ai/uwe-sterr/uncategorized/runs/uyfgbnjy</a><br/>\n",
              "                Run data is saved locally in <code>/Users/uwesterr/CloudProjectsUnderWork/ProjectsUnderWork/SydneyAO/KerasTestStudio/wandb/run-20210630_182621-uyfgbnjy</code><br/><br/>\n",
              "            "
            ],
            "text/plain": [
              "<IPython.core.display.HTML object>"
            ]
          },
          "metadata": {},
          "output_type": "display_data"
        },
        {
          "name": "stdout",
          "output_type": "stream",
          "text": [
            "Epoch 1/20\n",
            "372/372 [==============================] - 1s 2ms/step - loss: 319.8333 - root_mean_squared_error: 0.2119 - val_loss: 185.2486 - val_root_mean_squared_error: 0.1927\n",
            "Epoch 2/20\n",
            "372/372 [==============================] - 1s 2ms/step - loss: 187.6159 - root_mean_squared_error: 0.1912 - val_loss: 159.8002 - val_root_mean_squared_error: 0.1886\n",
            "Epoch 3/20\n",
            "372/372 [==============================] - 1s 2ms/step - loss: 151.3302 - root_mean_squared_error: 0.1878 - val_loss: 118.7548 - val_root_mean_squared_error: 0.1875\n",
            "Epoch 4/20\n",
            "372/372 [==============================] - 1s 2ms/step - loss: 137.6492 - root_mean_squared_error: 0.1880 - val_loss: 119.4920 - val_root_mean_squared_error: 0.1873\n",
            "Epoch 5/20\n",
            "372/372 [==============================] - 1s 2ms/step - loss: 136.6908 - root_mean_squared_error: 0.1882 - val_loss: 138.9327 - val_root_mean_squared_error: 0.1878\n",
            "Epoch 6/20\n",
            "372/372 [==============================] - 1s 2ms/step - loss: 138.9151 - root_mean_squared_error: 0.1880 - val_loss: 121.8530 - val_root_mean_squared_error: 0.1872\n",
            "Epoch 7/20\n",
            "372/372 [==============================] - 1s 2ms/step - loss: 133.0212 - root_mean_squared_error: 0.1881 - val_loss: 134.1828 - val_root_mean_squared_error: 0.1878\n",
            "Epoch 8/20\n",
            "372/372 [==============================] - 1s 2ms/step - loss: 128.9449 - root_mean_squared_error: 0.1879 - val_loss: 149.1080 - val_root_mean_squared_error: 0.1882\n",
            "Epoch 9/20\n",
            "372/372 [==============================] - 1s 2ms/step - loss: 148.3450 - root_mean_squared_error: 0.1884 - val_loss: 124.4348 - val_root_mean_squared_error: 0.1871\n",
            "Epoch 10/20\n",
            "372/372 [==============================] - 1s 2ms/step - loss: 138.9176 - root_mean_squared_error: 0.1882 - val_loss: 139.0709 - val_root_mean_squared_error: 0.1877\n",
            "Epoch 11/20\n",
            "372/372 [==============================] - 1s 2ms/step - loss: 134.8544 - root_mean_squared_error: 0.1884 - val_loss: 145.4453 - val_root_mean_squared_error: 0.1879\n",
            "Epoch 12/20\n",
            "372/372 [==============================] - 1s 2ms/step - loss: 131.8139 - root_mean_squared_error: 0.1879 - val_loss: 156.0731 - val_root_mean_squared_error: 0.1882\n",
            "Epoch 13/20\n",
            "372/372 [==============================] - 1s 2ms/step - loss: 142.8116 - root_mean_squared_error: 0.1883 - val_loss: 122.3889 - val_root_mean_squared_error: 0.1872\n",
            "Epoch 14/20\n",
            "372/372 [==============================] - 1s 2ms/step - loss: 136.8970 - root_mean_squared_error: 0.1882 - val_loss: 148.0033 - val_root_mean_squared_error: 0.1885\n",
            "Epoch 15/20\n",
            "372/372 [==============================] - 1s 2ms/step - loss: 141.6469 - root_mean_squared_error: 0.1880 - val_loss: 123.3539 - val_root_mean_squared_error: 0.1878\n",
            "Epoch 16/20\n",
            "372/372 [==============================] - 1s 3ms/step - loss: 140.6922 - root_mean_squared_error: 0.1884 - val_loss: 144.4281 - val_root_mean_squared_error: 0.1875\n",
            "Epoch 17/20\n",
            "372/372 [==============================] - 1s 2ms/step - loss: 148.5862 - root_mean_squared_error: 0.1883 - val_loss: 113.7375 - val_root_mean_squared_error: 0.1874\n",
            "Epoch 18/20\n",
            "372/372 [==============================] - 1s 2ms/step - loss: 137.0763 - root_mean_squared_error: 0.1880 - val_loss: 137.8701 - val_root_mean_squared_error: 0.1878\n",
            "Epoch 19/20\n",
            "372/372 [==============================] - 1s 2ms/step - loss: 135.4287 - root_mean_squared_error: 0.1881 - val_loss: 131.6313 - val_root_mean_squared_error: 0.1878\n",
            "Epoch 20/20\n",
            "372/372 [==============================] - 1s 2ms/step - loss: 139.9069 - root_mean_squared_error: 0.1883 - val_loss: 152.2414 - val_root_mean_squared_error: 0.1879\n"
          ]
        },
        {
          "data": {
            "text/html": [
              "<br/>Waiting for W&B process to finish, PID 5856<br/>Program ended successfully."
            ],
            "text/plain": [
              "<IPython.core.display.HTML object>"
            ]
          },
          "metadata": {},
          "output_type": "display_data"
        },
        {
          "data": {
            "application/vnd.jupyter.widget-view+json": {
              "model_id": "25094fa91aa04d8d88f6f530a7a9a31e",
              "version_major": 2,
              "version_minor": 0
            },
            "text/plain": [
              "VBox(children=(Label(value=' 1.02MB of 2.23MB uploaded (0.00MB deduped)\\r'), FloatProgress(value=0.45638310209…"
            ]
          },
          "metadata": {},
          "output_type": "display_data"
        },
        {
          "data": {
            "text/html": [
              "Find user logs for this run at: <code>/Users/uwesterr/CloudProjectsUnderWork/ProjectsUnderWork/SydneyAO/KerasTestStudio/wandb/run-20210630_182621-uyfgbnjy/logs/debug.log</code>"
            ],
            "text/plain": [
              "<IPython.core.display.HTML object>"
            ]
          },
          "metadata": {},
          "output_type": "display_data"
        },
        {
          "data": {
            "text/html": [
              "Find internal logs for this run at: <code>/Users/uwesterr/CloudProjectsUnderWork/ProjectsUnderWork/SydneyAO/KerasTestStudio/wandb/run-20210630_182621-uyfgbnjy/logs/debug-internal.log</code>"
            ],
            "text/plain": [
              "<IPython.core.display.HTML object>"
            ]
          },
          "metadata": {},
          "output_type": "display_data"
        },
        {
          "data": {
            "text/html": [
              "<h3>Run summary:</h3><br/><style>\n",
              "    table.wandb td:nth-child(1) { padding: 0 10px; text-align: right }\n",
              "    </style><table class=\"wandb\">\n",
              "<tr><td>epoch</td><td>19</td></tr><tr><td>loss</td><td>139.90686</td></tr><tr><td>root_mean_squared_error</td><td>0.18825</td></tr><tr><td>val_loss</td><td>152.24138</td></tr><tr><td>val_root_mean_squared_error</td><td>0.18794</td></tr><tr><td>_runtime</td><td>23</td></tr><tr><td>_timestamp</td><td>1625070404</td></tr><tr><td>_step</td><td>19</td></tr><tr><td>best_val_loss</td><td>113.7375</td></tr><tr><td>best_epoch</td><td>16</td></tr></table>"
            ],
            "text/plain": [
              "<IPython.core.display.HTML object>"
            ]
          },
          "metadata": {},
          "output_type": "display_data"
        },
        {
          "data": {
            "text/html": [
              "<h3>Run history:</h3><br/><style>\n",
              "    table.wandb td:nth-child(1) { padding: 0 10px; text-align: right }\n",
              "    </style><table class=\"wandb\">\n",
              "<tr><td>epoch</td><td>▁▁▂▂▂▃▃▄▄▄▅▅▅▆▆▇▇▇██</td></tr><tr><td>loss</td><td>█▃▂▁▁▁▁▁▂▁▁▁▂▁▁▁▂▁▁▁</td></tr><tr><td>root_mean_squared_error</td><td>█▂▁▁▁▁▁▁▁▁▁▁▁▁▁▁▁▁▁▁</td></tr><tr><td>val_loss</td><td>█▆▁▂▃▂▃▄▂▃▄▅▂▄▂▄▁▃▃▅</td></tr><tr><td>val_root_mean_squared_error</td><td>█▃▂▁▂▁▂▂▁▂▂▂▁▃▂▂▁▂▂▂</td></tr><tr><td>_runtime</td><td>▁▁▂▂▃▃▃▃▄▄▅▅▅▅▆▇▇▇▇█</td></tr><tr><td>_timestamp</td><td>▁▁▂▂▃▃▃▃▄▄▅▅▅▅▆▇▇▇▇█</td></tr><tr><td>_step</td><td>▁▁▂▂▂▃▃▄▄▄▅▅▅▆▆▇▇▇██</td></tr></table><br/>"
            ],
            "text/plain": [
              "<IPython.core.display.HTML object>"
            ]
          },
          "metadata": {},
          "output_type": "display_data"
        },
        {
          "data": {
            "text/html": [
              "Synced 6 W&B file(s), 1 media file(s), 0 artifact file(s) and 1 other file(s)"
            ],
            "text/plain": [
              "<IPython.core.display.HTML object>"
            ]
          },
          "metadata": {},
          "output_type": "display_data"
        },
        {
          "data": {
            "text/html": [
              "\n",
              "                    <br/>Synced <strong style=\"color:#cdcd00\">blooming-sweep-1</strong>: <a href=\"https://wandb.ai/uwe-sterr/uncategorized/runs/uyfgbnjy\" target=\"_blank\">https://wandb.ai/uwe-sterr/uncategorized/runs/uyfgbnjy</a><br/>\n",
              "                "
            ],
            "text/plain": [
              "<IPython.core.display.HTML object>"
            ]
          },
          "metadata": {},
          "output_type": "display_data"
        },
        {
          "name": "stderr",
          "output_type": "stream",
          "text": [
            "\u001b[34m\u001b[1mwandb\u001b[0m: Agent Starting Run: jwbqclr2 with config:\n",
            "\u001b[34m\u001b[1mwandb\u001b[0m: \tepochs: 40\n",
            "\u001b[34m\u001b[1mwandb\u001b[0m: \tlayer1: 500\n",
            "\u001b[34m\u001b[1mwandb\u001b[0m: \tlayer2: 800\n",
            "\u001b[34m\u001b[1mwandb\u001b[0m: \tlayer3: 50\n",
            "\u001b[34m\u001b[1mwandb\u001b[0m: \tlearning_rate: 0.004897998971538776\n",
            "\u001b[34m\u001b[1mwandb\u001b[0m: \u001b[33mWARNING\u001b[0m Ignored wandb.init() arg project when running a sweep\n"
          ]
        },
        {
          "data": {
            "text/html": [
              "\n",
              "                Tracking run with wandb version 0.10.33<br/>\n",
              "                Syncing run <strong style=\"color:#cdcd00\">icy-sweep-2</strong> to <a href=\"https://wandb.ai\" target=\"_blank\">Weights & Biases</a> <a href=\"https://docs.wandb.com/integrations/jupyter.html\" target=\"_blank\">(Documentation)</a>.<br/>\n",
              "                Project page: <a href=\"https://wandb.ai/uwe-sterr/uncategorized\" target=\"_blank\">https://wandb.ai/uwe-sterr/uncategorized</a><br/>\n",
              "                Sweep page: <a href=\"https://wandb.ai/uwe-sterr/uncategorized/sweeps/fzapdubz\" target=\"_blank\">https://wandb.ai/uwe-sterr/uncategorized/sweeps/fzapdubz</a><br/>\n",
              "Run page: <a href=\"https://wandb.ai/uwe-sterr/uncategorized/runs/jwbqclr2\" target=\"_blank\">https://wandb.ai/uwe-sterr/uncategorized/runs/jwbqclr2</a><br/>\n",
              "                Run data is saved locally in <code>/Users/uwesterr/CloudProjectsUnderWork/ProjectsUnderWork/SydneyAO/KerasTestStudio/wandb/run-20210630_182649-jwbqclr2</code><br/><br/>\n",
              "            "
            ],
            "text/plain": [
              "<IPython.core.display.HTML object>"
            ]
          },
          "metadata": {},
          "output_type": "display_data"
        },
        {
          "name": "stdout",
          "output_type": "stream",
          "text": [
            "Epoch 1/40\n",
            "372/372 [==============================] - 1s 3ms/step - loss: 274.9749 - root_mean_squared_error: 0.2659 - val_loss: 145.7840 - val_root_mean_squared_error: 0.1879\n",
            "Epoch 2/40\n",
            "372/372 [==============================] - 1s 3ms/step - loss: 145.3334 - root_mean_squared_error: 0.1884 - val_loss: 115.2731 - val_root_mean_squared_error: 0.1870\n",
            "Epoch 3/40\n",
            "372/372 [==============================] - 1s 3ms/step - loss: 144.0066 - root_mean_squared_error: 0.1881 - val_loss: 157.9593 - val_root_mean_squared_error: 0.1889\n",
            "Epoch 4/40\n",
            "372/372 [==============================] - 1s 3ms/step - loss: 148.0186 - root_mean_squared_error: 0.1883 - val_loss: 146.9990 - val_root_mean_squared_error: 0.1888\n",
            "Epoch 5/40\n",
            "372/372 [==============================] - 1s 3ms/step - loss: 146.8109 - root_mean_squared_error: 0.1884 - val_loss: 123.3115 - val_root_mean_squared_error: 0.1874\n",
            "Epoch 6/40\n",
            "372/372 [==============================] - 1s 3ms/step - loss: 146.5704 - root_mean_squared_error: 0.1883 - val_loss: 137.2405 - val_root_mean_squared_error: 0.1877\n",
            "Epoch 7/40\n",
            "372/372 [==============================] - 1s 3ms/step - loss: 140.6595 - root_mean_squared_error: 0.1885 - val_loss: 143.9755 - val_root_mean_squared_error: 0.1879\n",
            "Epoch 8/40\n",
            "372/372 [==============================] - 1s 3ms/step - loss: 152.6298 - root_mean_squared_error: 0.1884 - val_loss: 136.2652 - val_root_mean_squared_error: 0.1876\n",
            "Epoch 9/40\n",
            "372/372 [==============================] - 1s 3ms/step - loss: 146.9144 - root_mean_squared_error: 0.1885 - val_loss: 140.8295 - val_root_mean_squared_error: 0.1881\n",
            "Epoch 10/40\n",
            "372/372 [==============================] - 1s 3ms/step - loss: 155.9385 - root_mean_squared_error: 0.1883 - val_loss: 116.1024 - val_root_mean_squared_error: 0.1867\n",
            "Epoch 11/40\n",
            "372/372 [==============================] - 1s 3ms/step - loss: 141.5685 - root_mean_squared_error: 0.1881 - val_loss: 137.8779 - val_root_mean_squared_error: 0.1880\n",
            "Epoch 12/40\n",
            "372/372 [==============================] - 1s 3ms/step - loss: 142.6547 - root_mean_squared_error: 0.1882 - val_loss: 142.0946 - val_root_mean_squared_error: 0.1880\n",
            "Epoch 13/40\n",
            "372/372 [==============================] - 1s 3ms/step - loss: 156.3402 - root_mean_squared_error: 0.1886 - val_loss: 143.5635 - val_root_mean_squared_error: 0.1881\n",
            "Epoch 14/40\n",
            "372/372 [==============================] - 1s 3ms/step - loss: 150.4607 - root_mean_squared_error: 0.1892 - val_loss: 109.0066 - val_root_mean_squared_error: 0.1866\n",
            "Epoch 15/40\n",
            "372/372 [==============================] - 1s 3ms/step - loss: 142.9872 - root_mean_squared_error: 0.1883 - val_loss: 145.0515 - val_root_mean_squared_error: 0.1886\n",
            "Epoch 16/40\n",
            "372/372 [==============================] - 1s 3ms/step - loss: 149.6807 - root_mean_squared_error: 0.1889 - val_loss: 139.1977 - val_root_mean_squared_error: 0.1879\n",
            "Epoch 17/40\n",
            "372/372 [==============================] - 1s 3ms/step - loss: 150.7865 - root_mean_squared_error: 0.1885 - val_loss: 140.0098 - val_root_mean_squared_error: 0.1882\n",
            "Epoch 18/40\n",
            "372/372 [==============================] - 1s 3ms/step - loss: 146.6488 - root_mean_squared_error: 0.1889 - val_loss: 126.3253 - val_root_mean_squared_error: 0.1876\n",
            "Epoch 19/40\n",
            "372/372 [==============================] - 1s 3ms/step - loss: 135.6704 - root_mean_squared_error: 0.1881 - val_loss: 164.4836 - val_root_mean_squared_error: 0.1884\n",
            "Epoch 20/40\n",
            "372/372 [==============================] - 1s 3ms/step - loss: 153.3282 - root_mean_squared_error: 0.1887 - val_loss: 163.6901 - val_root_mean_squared_error: 0.1892\n",
            "Epoch 21/40\n",
            "372/372 [==============================] - 1s 3ms/step - loss: 155.8842 - root_mean_squared_error: 0.1887 - val_loss: 138.7759 - val_root_mean_squared_error: 0.1883\n",
            "Epoch 22/40\n",
            "372/372 [==============================] - 1s 3ms/step - loss: 157.2789 - root_mean_squared_error: 0.1887 - val_loss: 108.3852 - val_root_mean_squared_error: 0.1866\n",
            "Epoch 23/40\n",
            "372/372 [==============================] - 1s 3ms/step - loss: 146.9766 - root_mean_squared_error: 0.1885 - val_loss: 127.9054 - val_root_mean_squared_error: 0.1876\n",
            "Epoch 24/40\n",
            "372/372 [==============================] - 1s 3ms/step - loss: 148.3414 - root_mean_squared_error: 0.1883 - val_loss: 129.7219 - val_root_mean_squared_error: 0.1871\n",
            "Epoch 25/40\n",
            "372/372 [==============================] - 1s 3ms/step - loss: 139.0150 - root_mean_squared_error: 0.1882 - val_loss: 138.0096 - val_root_mean_squared_error: 0.1877\n",
            "Epoch 26/40\n",
            "372/372 [==============================] - 1s 3ms/step - loss: 146.9087 - root_mean_squared_error: 0.1885 - val_loss: 183.6519 - val_root_mean_squared_error: 0.1910\n",
            "Epoch 27/40\n",
            "372/372 [==============================] - 1s 3ms/step - loss: 146.7538 - root_mean_squared_error: 0.1886 - val_loss: 161.4226 - val_root_mean_squared_error: 0.1895\n",
            "Epoch 28/40\n",
            "372/372 [==============================] - 1s 3ms/step - loss: 160.8285 - root_mean_squared_error: 0.1898 - val_loss: 123.7475 - val_root_mean_squared_error: 0.1871\n",
            "Epoch 29/40\n",
            "372/372 [==============================] - 1s 3ms/step - loss: 142.3032 - root_mean_squared_error: 0.1880 - val_loss: 139.0727 - val_root_mean_squared_error: 0.1881\n",
            "Epoch 30/40\n",
            "372/372 [==============================] - 1s 3ms/step - loss: 146.6097 - root_mean_squared_error: 0.1887 - val_loss: 134.1704 - val_root_mean_squared_error: 0.1874\n",
            "Epoch 31/40\n",
            "372/372 [==============================] - 1s 3ms/step - loss: 157.7175 - root_mean_squared_error: 0.1887 - val_loss: 117.6405 - val_root_mean_squared_error: 0.1870\n",
            "Epoch 32/40\n",
            "372/372 [==============================] - 1s 3ms/step - loss: 144.0957 - root_mean_squared_error: 0.1882 - val_loss: 142.2528 - val_root_mean_squared_error: 0.1882\n",
            "Epoch 33/40\n",
            "372/372 [==============================] - 1s 3ms/step - loss: 155.0751 - root_mean_squared_error: 0.1883 - val_loss: 108.6272 - val_root_mean_squared_error: 0.1866\n",
            "Epoch 34/40\n",
            "372/372 [==============================] - 1s 4ms/step - loss: 143.6695 - root_mean_squared_error: 0.1885 - val_loss: 136.9196 - val_root_mean_squared_error: 0.1876\n",
            "Epoch 35/40\n",
            "372/372 [==============================] - 1s 4ms/step - loss: 134.9010 - root_mean_squared_error: 0.1883 - val_loss: 143.8304 - val_root_mean_squared_error: 0.1888\n",
            "Epoch 36/40\n",
            "372/372 [==============================] - 1s 4ms/step - loss: 156.0952 - root_mean_squared_error: 0.1887 - val_loss: 135.1909 - val_root_mean_squared_error: 0.1876\n",
            "Epoch 37/40\n",
            "372/372 [==============================] - 1s 3ms/step - loss: 151.8011 - root_mean_squared_error: 0.1886 - val_loss: 121.5408 - val_root_mean_squared_error: 0.1870\n",
            "Epoch 38/40\n",
            "372/372 [==============================] - 1s 3ms/step - loss: 142.9672 - root_mean_squared_error: 0.1884 - val_loss: 141.7223 - val_root_mean_squared_error: 0.1879\n",
            "Epoch 39/40\n",
            "372/372 [==============================] - 1s 4ms/step - loss: 148.4468 - root_mean_squared_error: 0.1885 - val_loss: 129.9498 - val_root_mean_squared_error: 0.1875\n",
            "Epoch 40/40\n",
            "372/372 [==============================] - 1s 4ms/step - loss: 147.6793 - root_mean_squared_error: 0.1886 - val_loss: 132.3286 - val_root_mean_squared_error: 0.1884\n"
          ]
        },
        {
          "data": {
            "text/html": [
              "<br/>Waiting for W&B process to finish, PID 5870<br/>Program ended successfully."
            ],
            "text/plain": [
              "<IPython.core.display.HTML object>"
            ]
          },
          "metadata": {},
          "output_type": "display_data"
        },
        {
          "data": {
            "application/vnd.jupyter.widget-view+json": {
              "model_id": "123f1f87decd42cb9043b5c54b62bd92",
              "version_major": 2,
              "version_minor": 0
            },
            "text/plain": [
              "VBox(children=(Label(value=' 1.78MB of 5.20MB uploaded (0.00MB deduped)\\r'), FloatProgress(value=0.34261876832…"
            ]
          },
          "metadata": {},
          "output_type": "display_data"
        },
        {
          "data": {
            "text/html": [
              "Find user logs for this run at: <code>/Users/uwesterr/CloudProjectsUnderWork/ProjectsUnderWork/SydneyAO/KerasTestStudio/wandb/run-20210630_182649-jwbqclr2/logs/debug.log</code>"
            ],
            "text/plain": [
              "<IPython.core.display.HTML object>"
            ]
          },
          "metadata": {},
          "output_type": "display_data"
        },
        {
          "data": {
            "text/html": [
              "Find internal logs for this run at: <code>/Users/uwesterr/CloudProjectsUnderWork/ProjectsUnderWork/SydneyAO/KerasTestStudio/wandb/run-20210630_182649-jwbqclr2/logs/debug-internal.log</code>"
            ],
            "text/plain": [
              "<IPython.core.display.HTML object>"
            ]
          },
          "metadata": {},
          "output_type": "display_data"
        },
        {
          "data": {
            "text/html": [
              "<h3>Run summary:</h3><br/><style>\n",
              "    table.wandb td:nth-child(1) { padding: 0 10px; text-align: right }\n",
              "    </style><table class=\"wandb\">\n",
              "<tr><td>epoch</td><td>39</td></tr><tr><td>loss</td><td>147.67934</td></tr><tr><td>root_mean_squared_error</td><td>0.18863</td></tr><tr><td>val_loss</td><td>132.32858</td></tr><tr><td>val_root_mean_squared_error</td><td>0.18844</td></tr><tr><td>_runtime</td><td>55</td></tr><tr><td>_timestamp</td><td>1625070464</td></tr><tr><td>_step</td><td>39</td></tr><tr><td>best_val_loss</td><td>108.38522</td></tr><tr><td>best_epoch</td><td>21</td></tr></table>"
            ],
            "text/plain": [
              "<IPython.core.display.HTML object>"
            ]
          },
          "metadata": {},
          "output_type": "display_data"
        },
        {
          "data": {
            "text/html": [
              "<h3>Run history:</h3><br/><style>\n",
              "    table.wandb td:nth-child(1) { padding: 0 10px; text-align: right }\n",
              "    </style><table class=\"wandb\">\n",
              "<tr><td>epoch</td><td>▁▁▁▂▂▂▂▂▂▃▃▃▃▃▄▄▄▄▄▄▅▅▅▅▅▅▆▆▆▆▆▇▇▇▇▇▇███</td></tr><tr><td>loss</td><td>█▂▁▂▂▂▁▂▂▂▁▁▂▂▁▂▂▂▁▂▂▂▂▂▁▂▂▂▁▂▂▁▂▁▁▂▂▁▂▂</td></tr><tr><td>root_mean_squared_error</td><td>█▁▁▁▁▁▁▁▁▁▁▁▁▁▁▁▁▁▁▁▁▁▁▁▁▁▁▁▁▁▁▁▁▁▁▁▁▁▁▁</td></tr><tr><td>val_loss</td><td>▄▂▆▅▂▄▄▄▄▂▄▄▄▁▄▄▄▃▆▆▄▁▃▃▄█▆▂▄▃▂▄▁▄▄▃▂▄▃▃</td></tr><tr><td>val_root_mean_squared_error</td><td>▃▂▅▅▂▃▃▃▃▁▃▃▃▁▄▃▄▃▄▅▄▁▃▂▃█▆▂▃▂▂▄▁▃▅▃▂▃▂▄</td></tr><tr><td>_runtime</td><td>▁▁▁▁▂▂▂▂▂▃▃▃▃▃▃▃▄▄▄▄▄▅▅▅▅▅▅▆▆▆▆▆▆▇▇▇▇███</td></tr><tr><td>_timestamp</td><td>▁▁▁▁▂▂▂▂▂▃▃▃▃▃▃▃▄▄▄▄▄▅▅▅▅▅▅▆▆▆▆▆▆▇▇▇▇███</td></tr><tr><td>_step</td><td>▁▁▁▂▂▂▂▂▂▃▃▃▃▃▄▄▄▄▄▄▅▅▅▅▅▅▆▆▆▆▆▇▇▇▇▇▇███</td></tr></table><br/>"
            ],
            "text/plain": [
              "<IPython.core.display.HTML object>"
            ]
          },
          "metadata": {},
          "output_type": "display_data"
        },
        {
          "data": {
            "text/html": [
              "Synced 6 W&B file(s), 1 media file(s), 0 artifact file(s) and 1 other file(s)"
            ],
            "text/plain": [
              "<IPython.core.display.HTML object>"
            ]
          },
          "metadata": {},
          "output_type": "display_data"
        },
        {
          "data": {
            "text/html": [
              "\n",
              "                    <br/>Synced <strong style=\"color:#cdcd00\">icy-sweep-2</strong>: <a href=\"https://wandb.ai/uwe-sterr/uncategorized/runs/jwbqclr2\" target=\"_blank\">https://wandb.ai/uwe-sterr/uncategorized/runs/jwbqclr2</a><br/>\n",
              "                "
            ],
            "text/plain": [
              "<IPython.core.display.HTML object>"
            ]
          },
          "metadata": {},
          "output_type": "display_data"
        },
        {
          "name": "stderr",
          "output_type": "stream",
          "text": [
            "\u001b[34m\u001b[1mwandb\u001b[0m: Agent Starting Run: svxyv05v with config:\n",
            "\u001b[34m\u001b[1mwandb\u001b[0m: \tepochs: 40\n",
            "\u001b[34m\u001b[1mwandb\u001b[0m: \tlayer1: 4000\n",
            "\u001b[34m\u001b[1mwandb\u001b[0m: \tlayer2: 300\n",
            "\u001b[34m\u001b[1mwandb\u001b[0m: \tlayer3: 50\n",
            "\u001b[34m\u001b[1mwandb\u001b[0m: \tlearning_rate: 0.004854276971887511\n",
            "\u001b[34m\u001b[1mwandb\u001b[0m: \u001b[33mWARNING\u001b[0m Ignored wandb.init() arg project when running a sweep\n"
          ]
        },
        {
          "data": {
            "text/html": [
              "\n",
              "                Tracking run with wandb version 0.10.33<br/>\n",
              "                Syncing run <strong style=\"color:#cdcd00\">worldly-sweep-3</strong> to <a href=\"https://wandb.ai\" target=\"_blank\">Weights & Biases</a> <a href=\"https://docs.wandb.com/integrations/jupyter.html\" target=\"_blank\">(Documentation)</a>.<br/>\n",
              "                Project page: <a href=\"https://wandb.ai/uwe-sterr/uncategorized\" target=\"_blank\">https://wandb.ai/uwe-sterr/uncategorized</a><br/>\n",
              "                Sweep page: <a href=\"https://wandb.ai/uwe-sterr/uncategorized/sweeps/fzapdubz\" target=\"_blank\">https://wandb.ai/uwe-sterr/uncategorized/sweeps/fzapdubz</a><br/>\n",
              "Run page: <a href=\"https://wandb.ai/uwe-sterr/uncategorized/runs/svxyv05v\" target=\"_blank\">https://wandb.ai/uwe-sterr/uncategorized/runs/svxyv05v</a><br/>\n",
              "                Run data is saved locally in <code>/Users/uwesterr/CloudProjectsUnderWork/ProjectsUnderWork/SydneyAO/KerasTestStudio/wandb/run-20210630_182753-svxyv05v</code><br/><br/>\n",
              "            "
            ],
            "text/plain": [
              "<IPython.core.display.HTML object>"
            ]
          },
          "metadata": {},
          "output_type": "display_data"
        },
        {
          "name": "stdout",
          "output_type": "stream",
          "text": [
            "Epoch 1/40\n",
            "372/372 [==============================] - 5s 13ms/step - loss: 350.7385 - root_mean_squared_error: 0.3088 - val_loss: 122.7404 - val_root_mean_squared_error: 0.1872\n",
            "Epoch 2/40\n",
            "372/372 [==============================] - 5s 13ms/step - loss: 152.2803 - root_mean_squared_error: 0.1882 - val_loss: 137.0056 - val_root_mean_squared_error: 0.1874\n",
            "Epoch 3/40\n",
            "372/372 [==============================] - 5s 13ms/step - loss: 144.0707 - root_mean_squared_error: 0.1885 - val_loss: 141.4674 - val_root_mean_squared_error: 0.1876\n",
            "Epoch 4/40\n",
            "372/372 [==============================] - 5s 13ms/step - loss: 149.4908 - root_mean_squared_error: 0.1886 - val_loss: 125.5539 - val_root_mean_squared_error: 0.1872\n",
            "Epoch 5/40\n",
            "372/372 [==============================] - 5s 13ms/step - loss: 134.7935 - root_mean_squared_error: 0.1879 - val_loss: 142.4535 - val_root_mean_squared_error: 0.1881\n",
            "Epoch 6/40\n",
            "372/372 [==============================] - 5s 13ms/step - loss: 161.4949 - root_mean_squared_error: 0.1889 - val_loss: 137.9033 - val_root_mean_squared_error: 0.1877\n",
            "Epoch 7/40\n",
            "372/372 [==============================] - 5s 13ms/step - loss: 142.8899 - root_mean_squared_error: 0.1883 - val_loss: 119.0803 - val_root_mean_squared_error: 0.1868\n",
            "Epoch 8/40\n",
            "372/372 [==============================] - 5s 13ms/step - loss: 147.5882 - root_mean_squared_error: 0.1884 - val_loss: 135.4651 - val_root_mean_squared_error: 0.1874\n",
            "Epoch 9/40\n",
            "372/372 [==============================] - 5s 14ms/step - loss: 149.4543 - root_mean_squared_error: 0.1882 - val_loss: 125.4962 - val_root_mean_squared_error: 0.1878\n",
            "Epoch 10/40\n",
            "372/372 [==============================] - 5s 14ms/step - loss: 136.2839 - root_mean_squared_error: 0.1883 - val_loss: 169.0388 - val_root_mean_squared_error: 0.1894\n",
            "Epoch 11/40\n",
            "372/372 [==============================] - 5s 14ms/step - loss: 161.9442 - root_mean_squared_error: 0.1886 - val_loss: 123.6528 - val_root_mean_squared_error: 0.1877\n",
            "Epoch 12/40\n",
            "372/372 [==============================] - 5s 14ms/step - loss: 149.7631 - root_mean_squared_error: 0.1886 - val_loss: 119.5529 - val_root_mean_squared_error: 0.1877\n",
            "Epoch 13/40\n",
            "372/372 [==============================] - 5s 14ms/step - loss: 134.9092 - root_mean_squared_error: 0.1883 - val_loss: 164.7910 - val_root_mean_squared_error: 0.1892\n",
            "Epoch 14/40\n",
            "372/372 [==============================] - 5s 14ms/step - loss: 160.3744 - root_mean_squared_error: 0.1885 - val_loss: 118.9632 - val_root_mean_squared_error: 0.1868\n",
            "Epoch 15/40\n",
            "372/372 [==============================] - 5s 14ms/step - loss: 134.7679 - root_mean_squared_error: 0.1879 - val_loss: 156.3699 - val_root_mean_squared_error: 0.1884\n",
            "Epoch 16/40\n",
            "372/372 [==============================] - 5s 14ms/step - loss: 161.5800 - root_mean_squared_error: 0.1886 - val_loss: 112.3341 - val_root_mean_squared_error: 0.1866\n",
            "Epoch 17/40\n",
            "372/372 [==============================] - 5s 14ms/step - loss: 142.9244 - root_mean_squared_error: 0.1885 - val_loss: 139.2254 - val_root_mean_squared_error: 0.1881\n",
            "Epoch 18/40\n",
            "372/372 [==============================] - 5s 14ms/step - loss: 144.0481 - root_mean_squared_error: 0.1885 - val_loss: 145.8026 - val_root_mean_squared_error: 0.1882\n",
            "Epoch 19/40\n",
            "372/372 [==============================] - 5s 14ms/step - loss: 148.8811 - root_mean_squared_error: 0.1886 - val_loss: 146.9602 - val_root_mean_squared_error: 0.1881\n",
            "Epoch 20/40\n",
            "372/372 [==============================] - 5s 14ms/step - loss: 147.7679 - root_mean_squared_error: 0.1887 - val_loss: 141.3660 - val_root_mean_squared_error: 0.1879\n",
            "Epoch 21/40\n",
            "372/372 [==============================] - 5s 14ms/step - loss: 152.3527 - root_mean_squared_error: 0.1887 - val_loss: 138.8961 - val_root_mean_squared_error: 0.1884\n",
            "Epoch 22/40\n",
            "372/372 [==============================] - 5s 14ms/step - loss: 147.7154 - root_mean_squared_error: 0.1885 - val_loss: 127.9579 - val_root_mean_squared_error: 0.1875\n",
            "Epoch 23/40\n",
            "372/372 [==============================] - 5s 14ms/step - loss: 144.0029 - root_mean_squared_error: 0.1882 - val_loss: 128.8477 - val_root_mean_squared_error: 0.1888\n",
            "Epoch 24/40\n",
            "372/372 [==============================] - 5s 14ms/step - loss: 155.6432 - root_mean_squared_error: 0.1887 - val_loss: 127.3272 - val_root_mean_squared_error: 0.1871\n",
            "Epoch 25/40\n",
            "372/372 [==============================] - 5s 14ms/step - loss: 139.6537 - root_mean_squared_error: 0.1882 - val_loss: 149.6484 - val_root_mean_squared_error: 0.1886\n",
            "Epoch 26/40\n",
            "372/372 [==============================] - 5s 14ms/step - loss: 139.8957 - root_mean_squared_error: 0.1886 - val_loss: 156.8417 - val_root_mean_squared_error: 0.1888\n",
            "Epoch 27/40\n",
            "372/372 [==============================] - 5s 14ms/step - loss: 154.4682 - root_mean_squared_error: 0.1887 - val_loss: 141.7647 - val_root_mean_squared_error: 0.1880\n",
            "Epoch 28/40\n",
            "372/372 [==============================] - 5s 14ms/step - loss: 146.2936 - root_mean_squared_error: 0.1887 - val_loss: 131.7359 - val_root_mean_squared_error: 0.1881\n",
            "Epoch 29/40\n",
            "372/372 [==============================] - 5s 14ms/step - loss: 135.3802 - root_mean_squared_error: 0.1878 - val_loss: 171.5475 - val_root_mean_squared_error: 0.1899\n",
            "Epoch 30/40\n",
            "372/372 [==============================] - 5s 14ms/step - loss: 167.9293 - root_mean_squared_error: 0.1891 - val_loss: 118.3465 - val_root_mean_squared_error: 0.1869\n",
            "Epoch 31/40\n",
            "372/372 [==============================] - 5s 14ms/step - loss: 146.1389 - root_mean_squared_error: 0.1883 - val_loss: 122.8973 - val_root_mean_squared_error: 0.1869\n",
            "Epoch 32/40\n",
            "372/372 [==============================] - 5s 14ms/step - loss: 142.4057 - root_mean_squared_error: 0.1881 - val_loss: 146.1269 - val_root_mean_squared_error: 0.1895\n",
            "Epoch 33/40\n",
            "372/372 [==============================] - 5s 14ms/step - loss: 152.3779 - root_mean_squared_error: 0.1884 - val_loss: 112.0182 - val_root_mean_squared_error: 0.1867\n",
            "Epoch 34/40\n",
            "372/372 [==============================] - 5s 13ms/step - loss: 140.4253 - root_mean_squared_error: 0.1884 - val_loss: 168.4370 - val_root_mean_squared_error: 0.1898\n",
            "Epoch 35/40\n",
            "372/372 [==============================] - 5s 14ms/step - loss: 156.4147 - root_mean_squared_error: 0.1883 - val_loss: 111.0584 - val_root_mean_squared_error: 0.1866\n",
            "Epoch 36/40\n",
            "372/372 [==============================] - 5s 14ms/step - loss: 137.3907 - root_mean_squared_error: 0.1885 - val_loss: 145.8415 - val_root_mean_squared_error: 0.1880\n",
            "Epoch 37/40\n",
            "372/372 [==============================] - 5s 14ms/step - loss: 157.2458 - root_mean_squared_error: 0.1885 - val_loss: 126.5778 - val_root_mean_squared_error: 0.1877\n",
            "Epoch 38/40\n",
            "372/372 [==============================] - 6s 15ms/step - loss: 140.7463 - root_mean_squared_error: 0.1888 - val_loss: 146.7327 - val_root_mean_squared_error: 0.1890\n",
            "Epoch 39/40\n",
            "372/372 [==============================] - 5s 15ms/step - loss: 153.9980 - root_mean_squared_error: 0.1886 - val_loss: 140.7324 - val_root_mean_squared_error: 0.1883\n",
            "Epoch 40/40\n",
            "372/372 [==============================] - 5s 14ms/step - loss: 142.0458 - root_mean_squared_error: 0.1888 - val_loss: 152.4934 - val_root_mean_squared_error: 0.1896\n"
          ]
        },
        {
          "data": {
            "text/html": [
              "<br/>Waiting for W&B process to finish, PID 5896<br/>Program ended successfully."
            ],
            "text/plain": [
              "<IPython.core.display.HTML object>"
            ]
          },
          "metadata": {},
          "output_type": "display_data"
        },
        {
          "data": {
            "application/vnd.jupyter.widget-view+json": {
              "model_id": "e018f8c12c8b4097b3ae870a4ba2e2fc",
              "version_major": 2,
              "version_minor": 0
            },
            "text/plain": [
              "VBox(children=(Label(value=' 0.17MB of 14.87MB uploaded (0.00MB deduped)\\r'), FloatProgress(value=0.0116585386…"
            ]
          },
          "metadata": {},
          "output_type": "display_data"
        },
        {
          "data": {
            "text/html": [
              "Find user logs for this run at: <code>/Users/uwesterr/CloudProjectsUnderWork/ProjectsUnderWork/SydneyAO/KerasTestStudio/wandb/run-20210630_182753-svxyv05v/logs/debug.log</code>"
            ],
            "text/plain": [
              "<IPython.core.display.HTML object>"
            ]
          },
          "metadata": {},
          "output_type": "display_data"
        },
        {
          "data": {
            "text/html": [
              "Find internal logs for this run at: <code>/Users/uwesterr/CloudProjectsUnderWork/ProjectsUnderWork/SydneyAO/KerasTestStudio/wandb/run-20210630_182753-svxyv05v/logs/debug-internal.log</code>"
            ],
            "text/plain": [
              "<IPython.core.display.HTML object>"
            ]
          },
          "metadata": {},
          "output_type": "display_data"
        },
        {
          "data": {
            "text/html": [
              "<h3>Run summary:</h3><br/><style>\n",
              "    table.wandb td:nth-child(1) { padding: 0 10px; text-align: right }\n",
              "    </style><table class=\"wandb\">\n",
              "<tr><td>epoch</td><td>39</td></tr><tr><td>loss</td><td>142.04582</td></tr><tr><td>root_mean_squared_error</td><td>0.18878</td></tr><tr><td>val_loss</td><td>152.49336</td></tr><tr><td>val_root_mean_squared_error</td><td>0.18959</td></tr><tr><td>_runtime</td><td>215</td></tr><tr><td>_timestamp</td><td>1625070688</td></tr><tr><td>_step</td><td>39</td></tr><tr><td>best_val_loss</td><td>111.05841</td></tr><tr><td>best_epoch</td><td>34</td></tr></table>"
            ],
            "text/plain": [
              "<IPython.core.display.HTML object>"
            ]
          },
          "metadata": {},
          "output_type": "display_data"
        },
        {
          "data": {
            "text/html": [
              "<h3>Run history:</h3><br/><style>\n",
              "    table.wandb td:nth-child(1) { padding: 0 10px; text-align: right }\n",
              "    </style><table class=\"wandb\">\n",
              "<tr><td>epoch</td><td>▁▁▁▂▂▂▂▂▂▃▃▃▃▃▄▄▄▄▄▄▅▅▅▅▅▅▆▆▆▆▆▇▇▇▇▇▇███</td></tr><tr><td>loss</td><td>█▂▁▁▁▂▁▁▁▁▂▁▁▂▁▂▁▁▁▁▂▁▁▂▁▁▂▁▁▂▁▁▂▁▂▁▂▁▂▁</td></tr><tr><td>root_mean_squared_error</td><td>█▁▁▁▁▁▁▁▁▁▁▁▁▁▁▁▁▁▁▁▁▁▁▁▁▁▁▁▁▁▁▁▁▁▁▁▁▁▁▁</td></tr><tr><td>val_loss</td><td>▂▄▅▃▅▄▂▄▃█▂▂▇▂▆▁▄▅▅▅▄▃▃▃▅▆▅▃█▂▂▅▁█▁▅▃▅▄▆</td></tr><tr><td>val_root_mean_squared_error</td><td>▂▃▃▂▄▃▂▃▄▇▃▃▇▁▅▁▄▄▄▄▅▃▆▂▅▆▄▄█▂▂▇▁█▁▄▃▆▅▇</td></tr><tr><td>_runtime</td><td>▁▁▁▂▂▂▂▂▂▃▃▃▃▃▃▄▄▄▄▄▅▅▅▅▅▅▆▆▆▆▆▇▇▇▇▇▇███</td></tr><tr><td>_timestamp</td><td>▁▁▁▂▂▂▂▂▂▃▃▃▃▃▃▄▄▄▄▄▅▅▅▅▅▅▆▆▆▆▆▇▇▇▇▇▇███</td></tr><tr><td>_step</td><td>▁▁▁▂▂▂▂▂▂▃▃▃▃▃▄▄▄▄▄▄▅▅▅▅▅▅▆▆▆▆▆▇▇▇▇▇▇███</td></tr></table><br/>"
            ],
            "text/plain": [
              "<IPython.core.display.HTML object>"
            ]
          },
          "metadata": {},
          "output_type": "display_data"
        },
        {
          "data": {
            "text/html": [
              "Synced 6 W&B file(s), 1 media file(s), 0 artifact file(s) and 1 other file(s)"
            ],
            "text/plain": [
              "<IPython.core.display.HTML object>"
            ]
          },
          "metadata": {},
          "output_type": "display_data"
        },
        {
          "data": {
            "text/html": [
              "\n",
              "                    <br/>Synced <strong style=\"color:#cdcd00\">worldly-sweep-3</strong>: <a href=\"https://wandb.ai/uwe-sterr/uncategorized/runs/svxyv05v\" target=\"_blank\">https://wandb.ai/uwe-sterr/uncategorized/runs/svxyv05v</a><br/>\n",
              "                "
            ],
            "text/plain": [
              "<IPython.core.display.HTML object>"
            ]
          },
          "metadata": {},
          "output_type": "display_data"
        },
        {
          "name": "stderr",
          "output_type": "stream",
          "text": [
            "\u001b[34m\u001b[1mwandb\u001b[0m: Agent Starting Run: 3dzuywyc with config:\n",
            "\u001b[34m\u001b[1mwandb\u001b[0m: \tepochs: 20\n",
            "\u001b[34m\u001b[1mwandb\u001b[0m: \tlayer1: 2000\n",
            "\u001b[34m\u001b[1mwandb\u001b[0m: \tlayer2: 800\n",
            "\u001b[34m\u001b[1mwandb\u001b[0m: \tlayer3: 50\n",
            "\u001b[34m\u001b[1mwandb\u001b[0m: \tlearning_rate: 0.000574967415642092\n",
            "\u001b[34m\u001b[1mwandb\u001b[0m: \u001b[33mWARNING\u001b[0m Ignored wandb.init() arg project when running a sweep\n"
          ]
        },
        {
          "data": {
            "text/html": [
              "\n",
              "                Tracking run with wandb version 0.10.33<br/>\n",
              "                Syncing run <strong style=\"color:#cdcd00\">fanciful-sweep-4</strong> to <a href=\"https://wandb.ai\" target=\"_blank\">Weights & Biases</a> <a href=\"https://docs.wandb.com/integrations/jupyter.html\" target=\"_blank\">(Documentation)</a>.<br/>\n",
              "                Project page: <a href=\"https://wandb.ai/uwe-sterr/uncategorized\" target=\"_blank\">https://wandb.ai/uwe-sterr/uncategorized</a><br/>\n",
              "                Sweep page: <a href=\"https://wandb.ai/uwe-sterr/uncategorized/sweeps/fzapdubz\" target=\"_blank\">https://wandb.ai/uwe-sterr/uncategorized/sweeps/fzapdubz</a><br/>\n",
              "Run page: <a href=\"https://wandb.ai/uwe-sterr/uncategorized/runs/3dzuywyc\" target=\"_blank\">https://wandb.ai/uwe-sterr/uncategorized/runs/3dzuywyc</a><br/>\n",
              "                Run data is saved locally in <code>/Users/uwesterr/CloudProjectsUnderWork/ProjectsUnderWork/SydneyAO/KerasTestStudio/wandb/run-20210630_183152-3dzuywyc</code><br/><br/>\n",
              "            "
            ],
            "text/plain": [
              "<IPython.core.display.HTML object>"
            ]
          },
          "metadata": {},
          "output_type": "display_data"
        },
        {
          "name": "stdout",
          "output_type": "stream",
          "text": [
            "Epoch 1/20\n",
            "372/372 [==============================] - 4s 10ms/step - loss: 132.9272 - root_mean_squared_error: 0.1908 - val_loss: 101.8695 - val_root_mean_squared_error: 0.1865\n",
            "Epoch 2/20\n",
            "372/372 [==============================] - 4s 10ms/step - loss: 103.9684 - root_mean_squared_error: 0.1874 - val_loss: 106.5616 - val_root_mean_squared_error: 0.1866\n",
            "Epoch 3/20\n",
            "372/372 [==============================] - 3s 9ms/step - loss: 106.5630 - root_mean_squared_error: 0.1874 - val_loss: 102.8687 - val_root_mean_squared_error: 0.1865\n",
            "Epoch 4/20\n",
            "372/372 [==============================] - 4s 10ms/step - loss: 106.0384 - root_mean_squared_error: 0.1874 - val_loss: 102.5014 - val_root_mean_squared_error: 0.1865\n",
            "Epoch 5/20\n",
            "372/372 [==============================] - 3s 9ms/step - loss: 104.3486 - root_mean_squared_error: 0.1874 - val_loss: 103.8155 - val_root_mean_squared_error: 0.1865\n",
            "Epoch 6/20\n",
            "372/372 [==============================] - 3s 9ms/step - loss: 106.0209 - root_mean_squared_error: 0.1874 - val_loss: 101.9676 - val_root_mean_squared_error: 0.1865\n",
            "Epoch 7/20\n",
            "372/372 [==============================] - 3s 9ms/step - loss: 104.7009 - root_mean_squared_error: 0.1874 - val_loss: 104.3272 - val_root_mean_squared_error: 0.1866\n",
            "Epoch 8/20\n",
            "372/372 [==============================] - 3s 9ms/step - loss: 105.2100 - root_mean_squared_error: 0.1874 - val_loss: 103.2305 - val_root_mean_squared_error: 0.1866\n",
            "Epoch 9/20\n",
            "372/372 [==============================] - 3s 9ms/step - loss: 106.0409 - root_mean_squared_error: 0.1874 - val_loss: 102.3206 - val_root_mean_squared_error: 0.1865\n",
            "Epoch 10/20\n",
            "372/372 [==============================] - 4s 10ms/step - loss: 105.0087 - root_mean_squared_error: 0.1874 - val_loss: 104.3303 - val_root_mean_squared_error: 0.1866\n",
            "Epoch 11/20\n",
            "175/372 [=============>................] - ETA: 1s - loss: 102.7618 - root_mean_squared_error: 0.1874"
          ]
        }
      ],
      "source": [
        "count = 100 # number of runs to execute\n",
        "wandb.agent(sweep_id, function=training, count=count)"
      ]
    },
    {
      "cell_type": "code",
      "execution_count": null,
      "metadata": {},
      "outputs": [],
      "source": []
    }
  ],
  "metadata": {
    "accelerator": "GPU",
    "colab": {
      "collapsed_sections": [],
      "name": "Hyperparameter Optimization in TensorFlow using W&B Sweeps",
      "private_outputs": true,
      "provenance": [],
      "toc_visible": true
    },
    "interpreter": {
      "hash": "7240fa07bd5f0492db6e5998fcde1467c49f289639e3a06c91ae7c487c9ff707"
    },
    "kernelspec": {
      "display_name": "Python 3.8.8 64-bit ('base': conda)",
      "name": "python3"
    },
    "language_info": {
      "codemirror_mode": {
        "name": "ipython",
        "version": 3
      },
      "file_extension": ".py",
      "mimetype": "text/x-python",
      "name": "python",
      "nbconvert_exporter": "python",
      "pygments_lexer": "ipython3",
      "version": "3.8.8"
    }
  },
  "nbformat": 4,
  "nbformat_minor": 0
}