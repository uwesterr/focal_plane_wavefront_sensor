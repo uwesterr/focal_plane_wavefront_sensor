{
  "cells": [
    {
      "cell_type": "markdown",
      "source": [
        "# 🚀 Install, Import, and Log in"
      ],
      "metadata": {
        "id": "PIIQxWeVW4Pj"
      }
    },
    {
      "cell_type": "markdown",
      "source": [
        "### Step 0️⃣: Install W&B"
      ],
      "metadata": {
        "id": "wmlhYoBlOxYd"
      }
    },
    {
      "cell_type": "code",
      "execution_count": 1,
      "source": [
        "%%capture\n",
        "#!pip install wandb"
      ],
      "outputs": [],
      "metadata": {
        "id": "sAZBTFNQq0ys"
      }
    },
    {
      "cell_type": "markdown",
      "source": [
        "### Step 1️⃣: Import W&B and Login"
      ],
      "metadata": {
        "id": "Tu-KHLAeO3wi"
      }
    },
    {
      "cell_type": "code",
      "execution_count": 4,
      "source": [
        "import tensorflow as tf\n",
        "from tensorflow import keras\n",
        "\n",
        "import os\n",
        "import numpy as np\n",
        "import pandas as pd\n",
        "#import matplotlib.pyplot as plt\n",
        "#import pyarrow.feather as feather\n",
        "from sklearn.model_selection import train_test_split \n",
        "from tensorflow.keras import regularizers\n",
        "import math\n",
        "\n",
        "#%matplotlib inline"
      ],
      "outputs": [],
      "metadata": {
        "id": "jkWTZxIyysDm"
      }
    },
    {
      "cell_type": "code",
      "execution_count": 3,
      "source": [
        "# import wandb\n",
        "# from wandb.keras import WandbCallback\n",
        "\n",
        "\n",
        "# !wandb.login()"
      ],
      "outputs": [
        {
          "output_type": "stream",
          "name": "stdout",
          "text": [
            "zsh: parse error near `()'\n"
          ]
        }
      ],
      "metadata": {
        "id": "XmVkQbw_q_07"
      }
    },
    {
      "cell_type": "markdown",
      "source": [
        "Read data in"
      ],
      "metadata": {
        "id": "hNw4gP_Oqx7c"
      }
    },
    {
      "cell_type": "code",
      "execution_count": 5,
      "source": [
        "fluxData_df =pd.read_hdf(\"data/fluxData_df.h5\", key=\"fluxData_df\")\n",
        "\n",
        "zernikeData_df =pd.read_hdf(\"data/zernikeData_df.h5\", key=\"zernikeData_df\")\n",
        "#fluxData_df\n"
      ],
      "outputs": [],
      "metadata": {}
    },
    {
      "cell_type": "markdown",
      "source": [
        "# 👩‍🍳 Prepare Dataset"
      ],
      "metadata": {
        "id": "Nhe7pVMlwv4H"
      }
    },
    {
      "cell_type": "code",
      "execution_count": 6,
      "source": [
        "# Prepare the training dataset\n",
        "x_train = fluxData_df\n",
        "y_train = zernikeData_df\n",
        "\n",
        "x_train_norm = (x_train - x_train.mean(axis=0)) / x_train.std(axis=0)\n",
        "x_train_norm\n",
        "# x_train, x_test, y_train, y_test = train_test_split(\n",
        "#     X, y, test_size=0.1, random_state=42)\n"
      ],
      "outputs": [
        {
          "output_type": "execute_result",
          "data": {
            "text/plain": [
              "       FluxCoeef1  FluxCoeef2  FluxCoeef3  FluxCoeef4  FluxCoeef5  FluxCoeef6  \\\n",
              "0        0.900396   -0.312539   -0.772603   -0.136057   -0.515690    1.002374   \n",
              "1       -0.006083    0.690461    0.706083    0.001087   -0.135921   -0.396939   \n",
              "2        0.181662   -1.537365    0.046234   -0.595047    0.581989   -0.771069   \n",
              "3        1.104926   -0.493233    1.156159    1.508609   -0.510300   -0.986929   \n",
              "4       -2.766798    0.836719   -1.246774   -1.907403   -2.494540    2.514527   \n",
              "...           ...         ...         ...         ...         ...         ...   \n",
              "58735    1.111759   -1.962699    1.064218    0.667639   -1.961451   -1.014588   \n",
              "58736   -0.892319   -0.834533   -1.203572   -1.178698    0.789761    0.682359   \n",
              "58737    0.783504   -1.503598   -0.629578    1.116959    1.017882    0.327938   \n",
              "58738   -1.123925    2.829232    0.281349    0.459110   -0.539199    0.814040   \n",
              "58739   -0.419711    0.062863    1.067361   -0.669245   -0.445627    0.173409   \n",
              "\n",
              "       FluxCoeef7  FluxCoeef8  FluxCoeef9  FluxCoeef10  FluxCoeef11  \\\n",
              "0       -1.519562   -1.267677    2.596329    -1.010410    -0.143842   \n",
              "1       -0.426242    0.680082   -1.163970     0.370308    -0.359454   \n",
              "2        0.281238    0.494130   -1.038512    -0.823826     2.898185   \n",
              "3       -1.012457    0.279925    0.245774     0.918173    -0.830261   \n",
              "4        1.213441   -0.793285   -1.033874    -0.097034     0.795638   \n",
              "...           ...         ...         ...          ...          ...   \n",
              "58735    0.223547   -1.405704   -0.003764    -0.830787    -0.682253   \n",
              "58736    2.491787   -0.012967   -1.165161    -0.431385     0.405629   \n",
              "58737    1.402795   -0.098698   -0.405518     0.629009    -1.205222   \n",
              "58738   -0.162167    0.123279   -0.639389     1.866671    -1.661150   \n",
              "58739    1.245322    1.689096   -1.082880     1.649623    -0.570011   \n",
              "\n",
              "       FluxCoeef12  FluxCoeef13  FluxCoeef14  FluxCoeef15  FluxCoeef16  \\\n",
              "0        -2.373536     1.105245     2.871782    -0.608565    -0.844337   \n",
              "1        -0.103394    -0.670624     0.551241    -0.832305    -0.111359   \n",
              "2         1.414300    -0.651543    -1.063024     0.513900     1.057111   \n",
              "3        -0.717984    -0.352607     0.253269     0.497768     0.852767   \n",
              "4         1.403599     0.435049    -0.978962     2.012168    -0.004434   \n",
              "...            ...          ...          ...          ...          ...   \n",
              "58735    -0.615273     0.168018    -0.899590     0.452977     1.137328   \n",
              "58736    -0.740750    -0.911497     0.110287    -0.775899     2.467752   \n",
              "58737    -0.989608    -1.052450    -1.082164    -0.551245     2.690250   \n",
              "58738    -1.217272    -0.752796     0.835984    -0.637278    -0.090449   \n",
              "58739    -0.560612    -1.209715     0.385461    -0.904895     0.965109   \n",
              "\n",
              "       FluxCoeef17  FluxCoeef18  FluxCoeef19  \n",
              "0         0.683551     1.348749    -1.338257  \n",
              "1        -0.335083     0.090348    -0.070232  \n",
              "2        -0.846276    -0.285620     0.325633  \n",
              "3         0.561766    -0.343766    -0.816310  \n",
              "4         0.344632     0.770427     1.462520  \n",
              "...            ...          ...          ...  \n",
              "58735     0.070017     3.806415     0.336357  \n",
              "58736     0.814036    -0.972636     1.145398  \n",
              "58737    -0.919279    -1.418809    -0.327146  \n",
              "58738     2.143275     1.077346    -0.202596  \n",
              "58739     0.192485    -0.500860     0.058454  \n",
              "\n",
              "[58740 rows x 19 columns]"
            ],
            "text/html": [
              "<div>\n",
              "<style scoped>\n",
              "    .dataframe tbody tr th:only-of-type {\n",
              "        vertical-align: middle;\n",
              "    }\n",
              "\n",
              "    .dataframe tbody tr th {\n",
              "        vertical-align: top;\n",
              "    }\n",
              "\n",
              "    .dataframe thead th {\n",
              "        text-align: right;\n",
              "    }\n",
              "</style>\n",
              "<table border=\"1\" class=\"dataframe\">\n",
              "  <thead>\n",
              "    <tr style=\"text-align: right;\">\n",
              "      <th></th>\n",
              "      <th>FluxCoeef1</th>\n",
              "      <th>FluxCoeef2</th>\n",
              "      <th>FluxCoeef3</th>\n",
              "      <th>FluxCoeef4</th>\n",
              "      <th>FluxCoeef5</th>\n",
              "      <th>FluxCoeef6</th>\n",
              "      <th>FluxCoeef7</th>\n",
              "      <th>FluxCoeef8</th>\n",
              "      <th>FluxCoeef9</th>\n",
              "      <th>FluxCoeef10</th>\n",
              "      <th>FluxCoeef11</th>\n",
              "      <th>FluxCoeef12</th>\n",
              "      <th>FluxCoeef13</th>\n",
              "      <th>FluxCoeef14</th>\n",
              "      <th>FluxCoeef15</th>\n",
              "      <th>FluxCoeef16</th>\n",
              "      <th>FluxCoeef17</th>\n",
              "      <th>FluxCoeef18</th>\n",
              "      <th>FluxCoeef19</th>\n",
              "    </tr>\n",
              "  </thead>\n",
              "  <tbody>\n",
              "    <tr>\n",
              "      <th>0</th>\n",
              "      <td>0.900396</td>\n",
              "      <td>-0.312539</td>\n",
              "      <td>-0.772603</td>\n",
              "      <td>-0.136057</td>\n",
              "      <td>-0.515690</td>\n",
              "      <td>1.002374</td>\n",
              "      <td>-1.519562</td>\n",
              "      <td>-1.267677</td>\n",
              "      <td>2.596329</td>\n",
              "      <td>-1.010410</td>\n",
              "      <td>-0.143842</td>\n",
              "      <td>-2.373536</td>\n",
              "      <td>1.105245</td>\n",
              "      <td>2.871782</td>\n",
              "      <td>-0.608565</td>\n",
              "      <td>-0.844337</td>\n",
              "      <td>0.683551</td>\n",
              "      <td>1.348749</td>\n",
              "      <td>-1.338257</td>\n",
              "    </tr>\n",
              "    <tr>\n",
              "      <th>1</th>\n",
              "      <td>-0.006083</td>\n",
              "      <td>0.690461</td>\n",
              "      <td>0.706083</td>\n",
              "      <td>0.001087</td>\n",
              "      <td>-0.135921</td>\n",
              "      <td>-0.396939</td>\n",
              "      <td>-0.426242</td>\n",
              "      <td>0.680082</td>\n",
              "      <td>-1.163970</td>\n",
              "      <td>0.370308</td>\n",
              "      <td>-0.359454</td>\n",
              "      <td>-0.103394</td>\n",
              "      <td>-0.670624</td>\n",
              "      <td>0.551241</td>\n",
              "      <td>-0.832305</td>\n",
              "      <td>-0.111359</td>\n",
              "      <td>-0.335083</td>\n",
              "      <td>0.090348</td>\n",
              "      <td>-0.070232</td>\n",
              "    </tr>\n",
              "    <tr>\n",
              "      <th>2</th>\n",
              "      <td>0.181662</td>\n",
              "      <td>-1.537365</td>\n",
              "      <td>0.046234</td>\n",
              "      <td>-0.595047</td>\n",
              "      <td>0.581989</td>\n",
              "      <td>-0.771069</td>\n",
              "      <td>0.281238</td>\n",
              "      <td>0.494130</td>\n",
              "      <td>-1.038512</td>\n",
              "      <td>-0.823826</td>\n",
              "      <td>2.898185</td>\n",
              "      <td>1.414300</td>\n",
              "      <td>-0.651543</td>\n",
              "      <td>-1.063024</td>\n",
              "      <td>0.513900</td>\n",
              "      <td>1.057111</td>\n",
              "      <td>-0.846276</td>\n",
              "      <td>-0.285620</td>\n",
              "      <td>0.325633</td>\n",
              "    </tr>\n",
              "    <tr>\n",
              "      <th>3</th>\n",
              "      <td>1.104926</td>\n",
              "      <td>-0.493233</td>\n",
              "      <td>1.156159</td>\n",
              "      <td>1.508609</td>\n",
              "      <td>-0.510300</td>\n",
              "      <td>-0.986929</td>\n",
              "      <td>-1.012457</td>\n",
              "      <td>0.279925</td>\n",
              "      <td>0.245774</td>\n",
              "      <td>0.918173</td>\n",
              "      <td>-0.830261</td>\n",
              "      <td>-0.717984</td>\n",
              "      <td>-0.352607</td>\n",
              "      <td>0.253269</td>\n",
              "      <td>0.497768</td>\n",
              "      <td>0.852767</td>\n",
              "      <td>0.561766</td>\n",
              "      <td>-0.343766</td>\n",
              "      <td>-0.816310</td>\n",
              "    </tr>\n",
              "    <tr>\n",
              "      <th>4</th>\n",
              "      <td>-2.766798</td>\n",
              "      <td>0.836719</td>\n",
              "      <td>-1.246774</td>\n",
              "      <td>-1.907403</td>\n",
              "      <td>-2.494540</td>\n",
              "      <td>2.514527</td>\n",
              "      <td>1.213441</td>\n",
              "      <td>-0.793285</td>\n",
              "      <td>-1.033874</td>\n",
              "      <td>-0.097034</td>\n",
              "      <td>0.795638</td>\n",
              "      <td>1.403599</td>\n",
              "      <td>0.435049</td>\n",
              "      <td>-0.978962</td>\n",
              "      <td>2.012168</td>\n",
              "      <td>-0.004434</td>\n",
              "      <td>0.344632</td>\n",
              "      <td>0.770427</td>\n",
              "      <td>1.462520</td>\n",
              "    </tr>\n",
              "    <tr>\n",
              "      <th>...</th>\n",
              "      <td>...</td>\n",
              "      <td>...</td>\n",
              "      <td>...</td>\n",
              "      <td>...</td>\n",
              "      <td>...</td>\n",
              "      <td>...</td>\n",
              "      <td>...</td>\n",
              "      <td>...</td>\n",
              "      <td>...</td>\n",
              "      <td>...</td>\n",
              "      <td>...</td>\n",
              "      <td>...</td>\n",
              "      <td>...</td>\n",
              "      <td>...</td>\n",
              "      <td>...</td>\n",
              "      <td>...</td>\n",
              "      <td>...</td>\n",
              "      <td>...</td>\n",
              "      <td>...</td>\n",
              "    </tr>\n",
              "    <tr>\n",
              "      <th>58735</th>\n",
              "      <td>1.111759</td>\n",
              "      <td>-1.962699</td>\n",
              "      <td>1.064218</td>\n",
              "      <td>0.667639</td>\n",
              "      <td>-1.961451</td>\n",
              "      <td>-1.014588</td>\n",
              "      <td>0.223547</td>\n",
              "      <td>-1.405704</td>\n",
              "      <td>-0.003764</td>\n",
              "      <td>-0.830787</td>\n",
              "      <td>-0.682253</td>\n",
              "      <td>-0.615273</td>\n",
              "      <td>0.168018</td>\n",
              "      <td>-0.899590</td>\n",
              "      <td>0.452977</td>\n",
              "      <td>1.137328</td>\n",
              "      <td>0.070017</td>\n",
              "      <td>3.806415</td>\n",
              "      <td>0.336357</td>\n",
              "    </tr>\n",
              "    <tr>\n",
              "      <th>58736</th>\n",
              "      <td>-0.892319</td>\n",
              "      <td>-0.834533</td>\n",
              "      <td>-1.203572</td>\n",
              "      <td>-1.178698</td>\n",
              "      <td>0.789761</td>\n",
              "      <td>0.682359</td>\n",
              "      <td>2.491787</td>\n",
              "      <td>-0.012967</td>\n",
              "      <td>-1.165161</td>\n",
              "      <td>-0.431385</td>\n",
              "      <td>0.405629</td>\n",
              "      <td>-0.740750</td>\n",
              "      <td>-0.911497</td>\n",
              "      <td>0.110287</td>\n",
              "      <td>-0.775899</td>\n",
              "      <td>2.467752</td>\n",
              "      <td>0.814036</td>\n",
              "      <td>-0.972636</td>\n",
              "      <td>1.145398</td>\n",
              "    </tr>\n",
              "    <tr>\n",
              "      <th>58737</th>\n",
              "      <td>0.783504</td>\n",
              "      <td>-1.503598</td>\n",
              "      <td>-0.629578</td>\n",
              "      <td>1.116959</td>\n",
              "      <td>1.017882</td>\n",
              "      <td>0.327938</td>\n",
              "      <td>1.402795</td>\n",
              "      <td>-0.098698</td>\n",
              "      <td>-0.405518</td>\n",
              "      <td>0.629009</td>\n",
              "      <td>-1.205222</td>\n",
              "      <td>-0.989608</td>\n",
              "      <td>-1.052450</td>\n",
              "      <td>-1.082164</td>\n",
              "      <td>-0.551245</td>\n",
              "      <td>2.690250</td>\n",
              "      <td>-0.919279</td>\n",
              "      <td>-1.418809</td>\n",
              "      <td>-0.327146</td>\n",
              "    </tr>\n",
              "    <tr>\n",
              "      <th>58738</th>\n",
              "      <td>-1.123925</td>\n",
              "      <td>2.829232</td>\n",
              "      <td>0.281349</td>\n",
              "      <td>0.459110</td>\n",
              "      <td>-0.539199</td>\n",
              "      <td>0.814040</td>\n",
              "      <td>-0.162167</td>\n",
              "      <td>0.123279</td>\n",
              "      <td>-0.639389</td>\n",
              "      <td>1.866671</td>\n",
              "      <td>-1.661150</td>\n",
              "      <td>-1.217272</td>\n",
              "      <td>-0.752796</td>\n",
              "      <td>0.835984</td>\n",
              "      <td>-0.637278</td>\n",
              "      <td>-0.090449</td>\n",
              "      <td>2.143275</td>\n",
              "      <td>1.077346</td>\n",
              "      <td>-0.202596</td>\n",
              "    </tr>\n",
              "    <tr>\n",
              "      <th>58739</th>\n",
              "      <td>-0.419711</td>\n",
              "      <td>0.062863</td>\n",
              "      <td>1.067361</td>\n",
              "      <td>-0.669245</td>\n",
              "      <td>-0.445627</td>\n",
              "      <td>0.173409</td>\n",
              "      <td>1.245322</td>\n",
              "      <td>1.689096</td>\n",
              "      <td>-1.082880</td>\n",
              "      <td>1.649623</td>\n",
              "      <td>-0.570011</td>\n",
              "      <td>-0.560612</td>\n",
              "      <td>-1.209715</td>\n",
              "      <td>0.385461</td>\n",
              "      <td>-0.904895</td>\n",
              "      <td>0.965109</td>\n",
              "      <td>0.192485</td>\n",
              "      <td>-0.500860</td>\n",
              "      <td>0.058454</td>\n",
              "    </tr>\n",
              "  </tbody>\n",
              "</table>\n",
              "<p>58740 rows × 19 columns</p>\n",
              "</div>"
            ]
          },
          "metadata": {},
          "execution_count": 6
        }
      ],
      "metadata": {
        "id": "xnxsNbPmMvqr"
      }
    },
    {
      "cell_type": "markdown",
      "source": [
        "# Build simple Model"
      ],
      "metadata": {}
    },
    {
      "cell_type": "code",
      "execution_count": null,
      "source": [
        "#AoModel = keras.Sequential([\n",
        "#    \n",
        "#     keras.layers.InputLayer(19, name=\"digits\"),\n",
        "#     keras.layers.Dense(2000, activation=\"relu\"),\n",
        "#     keras.layers.Dense(1050, activation=\"relu\"),\n",
        "#     keras.layers.Dense(100, activation=\"relu\"),\n",
        "#     keras.layers.Dense(9, name=\"predictions\"),\n",
        "#\n",
        "#])\n",
        "#AoModel.summary()"
      ],
      "outputs": [],
      "metadata": {}
    },
    {
      "cell_type": "markdown",
      "source": [
        "## Config parameter"
      ],
      "metadata": {}
    },
    {
      "cell_type": "code",
      "execution_count": null,
      "source": [
        "run = wandb.init(project=\"Ao_Paper_Model\",\n",
        "notes=\"Learning rate scheduler\",\n",
        "tags=['Ao', \"Paper\", \"lr_schedule\" ,\"1DConv\"])"
      ],
      "outputs": [],
      "metadata": {}
    },
    {
      "cell_type": "code",
      "execution_count": 7,
      "source": [
        "\n",
        "\n",
        "\n",
        "config = run.config\n",
        "\n",
        "\n",
        "\n",
        "\n",
        "config.conv1D_1 = 64\n",
        "config.conv1D_1_width = 4\n",
        "config.conv1D_2 = 32\n",
        "config.conv1D_2_width = 2"
      ],
      "outputs": [
        {
          "output_type": "error",
          "ename": "NameError",
          "evalue": "name 'run' is not defined",
          "traceback": [
            "\u001b[0;31m---------------------------------------------------------------------------\u001b[0m",
            "\u001b[0;31mNameError\u001b[0m                                 Traceback (most recent call last)",
            "\u001b[0;32m<ipython-input-7-0ca54417c4cd>\u001b[0m in \u001b[0;36m<module>\u001b[0;34m\u001b[0m\n\u001b[0;32m----> 1\u001b[0;31m \u001b[0mconfig\u001b[0m \u001b[0;34m=\u001b[0m \u001b[0mrun\u001b[0m\u001b[0;34m.\u001b[0m\u001b[0mconfig\u001b[0m\u001b[0;34m\u001b[0m\u001b[0;34m\u001b[0m\u001b[0m\n\u001b[0m\u001b[1;32m      2\u001b[0m \u001b[0;34m\u001b[0m\u001b[0m\n\u001b[1;32m      3\u001b[0m \u001b[0;34m\u001b[0m\u001b[0m\n\u001b[1;32m      4\u001b[0m \u001b[0;34m\u001b[0m\u001b[0m\n\u001b[1;32m      5\u001b[0m \u001b[0;34m\u001b[0m\u001b[0m\n",
            "\u001b[0;31mNameError\u001b[0m: name 'run' is not defined"
          ]
        }
      ],
      "metadata": {}
    },
    {
      "cell_type": "code",
      "execution_count": null,
      "source": [
        " input_shape = (4, 19, 1)\n",
        "AoModel = keras.Sequential([\n",
        "     \n",
        "     \n",
        "     #keras.layers.Conv1D(32, 3, activation='relu',input_shape=(None,19), name=\"conv1d\"),\n",
        "     keras.layers.Conv1D( config.conv1D_1, config.conv1D_1_width, activation='relu',input_shape=input_shape[1:]),\n",
        "     keras.layers.MaxPool1D(pool_size=2),\n",
        "     #keras.layers.Dropout(rate = 0.2),\n",
        "     keras.layers.Conv1D( config.conv1D_2, config.conv1D_2_width, activation='relu',input_shape=input_shape[1:]),\n",
        "     keras.layers.MaxPool1D(pool_size=2),\n",
        "\n",
        "\n",
        "     #keras.layers.Dropout(rate = 0.2),\n",
        "     keras.layers.Flatten(),\n",
        "     keras.layers.Dense(2000, activation=\"relu\"),\n",
        "     #keras.layers.Dropout(rate = 0.2),\n",
        "     keras.layers.Dense(1050, activation=\"relu\"),\n",
        "     #keras.layers.Dropout(rate = 0.1),\n",
        "\n",
        "     keras.layers.Dense(100, activation=\"relu\"),\n",
        "     #keras.layers.Dropout(rate = 0.2),\n",
        "\n",
        "     keras.layers.Dense(9,  name=\"predictions\"),\n",
        "\n",
        "])\n",
        "AoModel.summary()"
      ],
      "outputs": [],
      "metadata": {}
    },
    {
      "cell_type": "markdown",
      "source": [
        "## Reshape training data"
      ],
      "metadata": {}
    },
    {
      "cell_type": "code",
      "execution_count": null,
      "source": [
        "input_train = x_train.to_numpy()[:,:,np.newaxis]\n",
        "input_test = x_test.to_numpy()[:,:,np.newaxis]"
      ],
      "outputs": [],
      "metadata": {}
    },
    {
      "cell_type": "markdown",
      "source": [
        "Train simple model"
      ],
      "metadata": {}
    },
    {
      "cell_type": "code",
      "execution_count": null,
      "source": [
        "config.batch_size = 128\n",
        "config.epochs = 20\n",
        "config.loss = \"mse\"\n",
        "config.initalLearningRate = 5e-2\n",
        "\n",
        "lr_schedule = keras.optimizers.schedules.ExponentialDecay(\n",
        "    initial_learning_rate=config.initalLearningRate,\n",
        "    decay_steps=1000,\n",
        "    decay_rate=0.96)\n",
        "opt = keras.optimizers.Adam(learning_rate=lr_schedule)\n",
        "AoModel.compile(optimizer= \"adam\", loss=config.loss,\n",
        "    metrics=[keras.metrics.RootMeanSquaredError()])\n",
        "\n",
        "AoModel.fit(input_train, y_train, batch_size=config.batch_size, epochs=config.epochs, validation_split=0.1, callbacks=[WandbCallback()])\n",
        "\n"
      ],
      "outputs": [],
      "metadata": {}
    },
    {
      "cell_type": "code",
      "execution_count": null,
      "source": [],
      "outputs": [],
      "metadata": {}
    },
    {
      "cell_type": "code",
      "execution_count": null,
      "source": [
        "trainPredict = AoModel.predict(input_train)\n",
        "trainError = trainPredict - y_train\n",
        "tmp = trainError.to_numpy().flatten()\n",
        "np.sqrt(np.sum(tmp**2)/tmp.size)/math.pi/.0051"
      ],
      "outputs": [],
      "metadata": {}
    },
    {
      "cell_type": "code",
      "execution_count": null,
      "source": [
        "trainPredict = AoModel.predict(input_test)\n",
        "trainError = trainPredict - y_test\n",
        "tmp = trainError.to_numpy().flatten()\n",
        "np.sqrt(np.sum(tmp**2)/tmp.size)/math.pi/.0051"
      ],
      "outputs": [],
      "metadata": {}
    },
    {
      "cell_type": "code",
      "execution_count": null,
      "source": [
        "np.sqrt(np.sum(tmp**2)/tmp.size)"
      ],
      "outputs": [],
      "metadata": {}
    },
    {
      "cell_type": "code",
      "execution_count": null,
      "source": [],
      "outputs": [],
      "metadata": {}
    },
    {
      "cell_type": "code",
      "execution_count": null,
      "source": [],
      "outputs": [],
      "metadata": {}
    }
  ],
  "metadata": {
    "accelerator": "GPU",
    "colab": {
      "collapsed_sections": [],
      "name": "Hyperparameter Optimization in TensorFlow using W&B Sweeps",
      "private_outputs": true,
      "provenance": [],
      "toc_visible": true
    },
    "interpreter": {
      "hash": "7240fa07bd5f0492db6e5998fcde1467c49f289639e3a06c91ae7c487c9ff707"
    },
    "kernelspec": {
      "display_name": "Python 3.8.8 64-bit ('base': conda)",
      "name": "python3"
    },
    "language_info": {
      "codemirror_mode": {
        "name": "ipython",
        "version": 3
      },
      "file_extension": ".py",
      "mimetype": "text/x-python",
      "name": "python",
      "nbconvert_exporter": "python",
      "pygments_lexer": "ipython3",
      "version": "3.8.8"
    }
  },
  "nbformat": 4,
  "nbformat_minor": 2
}