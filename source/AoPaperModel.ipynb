{
  "cells": [
    {
      "cell_type": "markdown",
      "metadata": {
        "id": "PIIQxWeVW4Pj"
      },
      "source": [
        "# 🚀 Install, Import, and Log in"
      ]
    },
    {
      "cell_type": "markdown",
      "metadata": {
        "id": "wmlhYoBlOxYd"
      },
      "source": [
        "### Step 0️⃣: Install W&B"
      ]
    },
    {
      "cell_type": "code",
      "execution_count": 1,
      "metadata": {
        "id": "sAZBTFNQq0ys"
      },
      "outputs": [],
      "source": [
        "%%capture\n",
        "#!pip install wandb"
      ]
    },
    {
      "cell_type": "markdown",
      "metadata": {
        "id": "Tu-KHLAeO3wi"
      },
      "source": [
        "### Step 1️⃣: Import W&B and Login"
      ]
    },
    {
      "cell_type": "code",
      "execution_count": 2,
      "metadata": {
        "id": "jkWTZxIyysDm"
      },
      "outputs": [],
      "source": [
        "import tensorflow as tf\n",
        "from tensorflow import keras\n",
        "\n",
        "import os\n",
        "import numpy as np\n",
        "import pandas as pd\n",
        "import matplotlib.pyplot as plt\n",
        "import pyarrow.feather as feather\n",
        "from sklearn.model_selection import train_test_split \n",
        "from tensorflow.keras import regularizers\n",
        "import math\n",
        "\n",
        "%matplotlib inline"
      ]
    },
    {
      "cell_type": "code",
      "execution_count": 3,
      "metadata": {
        "id": "XmVkQbw_q_07"
      },
      "outputs": [
        {
          "name": "stdout",
          "output_type": "stream",
          "text": [
            "zsh: parse error near `()'\n"
          ]
        }
      ],
      "source": [
        "import wandb\n",
        "from wandb.keras import WandbCallback\n",
        "\n",
        "\n",
        "!wandb.login()"
      ]
    },
    {
      "cell_type": "markdown",
      "metadata": {
        "id": "hNw4gP_Oqx7c"
      },
      "source": [
        "Read data in"
      ]
    },
    {
      "cell_type": "code",
      "execution_count": null,
      "metadata": {},
      "outputs": [],
      "source": [
        "fluxData_df = feather.read_feather('data/fluxData.feather')\n",
        "zernikeData_df = feather.read_feather('data/zernikeData.feather')\n",
        "#fluxData_df\n"
      ]
    },
    {
      "cell_type": "markdown",
      "metadata": {
        "id": "Nhe7pVMlwv4H"
      },
      "source": [
        "# 👩‍🍳 Prepare Dataset"
      ]
    },
    {
      "cell_type": "code",
      "execution_count": null,
      "metadata": {
        "id": "xnxsNbPmMvqr"
      },
      "outputs": [],
      "source": [
        "# Prepare the training dataset\n",
        "X = fluxData_df\n",
        "y = zernikeData_df\n",
        "x_train, x_test, y_train, y_test = train_test_split(\n",
        "    X, y, test_size=0.1, random_state=42)\n"
      ]
    },
    {
      "cell_type": "markdown",
      "metadata": {},
      "source": [
        "# Build simple Model"
      ]
    },
    {
      "cell_type": "code",
      "execution_count": null,
      "metadata": {},
      "outputs": [],
      "source": [
        "#AoModel = keras.Sequential([\n",
        "#    \n",
        "#     keras.layers.InputLayer(19, name=\"digits\"),\n",
        "#     keras.layers.Dense(2000, activation=\"relu\"),\n",
        "#     keras.layers.Dense(1050, activation=\"relu\"),\n",
        "#     keras.layers.Dense(100, activation=\"relu\"),\n",
        "#     keras.layers.Dense(9, name=\"predictions\"),\n",
        "#\n",
        "#])\n",
        "#AoModel.summary()"
      ]
    },
    {
      "cell_type": "markdown",
      "metadata": {},
      "source": [
        "## Config parameter"
      ]
    },
    {
      "cell_type": "code",
      "execution_count": null,
      "metadata": {},
      "outputs": [],
      "source": [
        "run = wandb.init(project=\"Ao_Paper_Model\",\n",
        "notes=\"Learning rate scheduler\",\n",
        "tags=['Ao', \"Paper\", \"lr_schedule\" ,\"1DConv\"])"
      ]
    },
    {
      "cell_type": "code",
      "execution_count": null,
      "metadata": {},
      "outputs": [],
      "source": [
        "\n",
        "\n",
        "\n",
        "config = run.config\n",
        "\n",
        "\n",
        "\n",
        "\n",
        "config.conv1D_1 = 64\n",
        "config.conv1D_1_width = 4\n",
        "config.conv1D_2 = 32\n",
        "config.conv1D_2_width = 2"
      ]
    },
    {
      "cell_type": "code",
      "execution_count": null,
      "metadata": {},
      "outputs": [],
      "source": [
        " input_shape = (4, 19, 1)\n",
        "AoModel = keras.Sequential([\n",
        "     \n",
        "     \n",
        "     #keras.layers.Conv1D(32, 3, activation='relu',input_shape=(None,19), name=\"conv1d\"),\n",
        "     keras.layers.Conv1D( config.conv1D_1, config.conv1D_1_width, activation='relu',input_shape=input_shape[1:]),\n",
        "     keras.layers.MaxPool1D(pool_size=2),\n",
        "     #keras.layers.Dropout(rate = 0.2),\n",
        "     keras.layers.Conv1D( config.conv1D_2, config.conv1D_2_width, activation='relu',input_shape=input_shape[1:]),\n",
        "     keras.layers.MaxPool1D(pool_size=2),\n",
        "\n",
        "\n",
        "     #keras.layers.Dropout(rate = 0.2),\n",
        "     keras.layers.Flatten(),\n",
        "     keras.layers.Dense(2000, activation=\"relu\"),\n",
        "     #keras.layers.Dropout(rate = 0.2),\n",
        "     keras.layers.Dense(1050, activation=\"relu\"),\n",
        "     #keras.layers.Dropout(rate = 0.1),\n",
        "\n",
        "     keras.layers.Dense(100, activation=\"relu\"),\n",
        "     #keras.layers.Dropout(rate = 0.2),\n",
        "\n",
        "     keras.layers.Dense(9,  name=\"predictions\"),\n",
        "\n",
        "])\n",
        "AoModel.summary()"
      ]
    },
    {
      "cell_type": "markdown",
      "metadata": {},
      "source": [
        "## Reshape training data"
      ]
    },
    {
      "cell_type": "code",
      "execution_count": null,
      "metadata": {},
      "outputs": [],
      "source": [
        "input_train = x_train.to_numpy()[:,:,np.newaxis]\n",
        "input_test = x_test.to_numpy()[:,:,np.newaxis]"
      ]
    },
    {
      "cell_type": "markdown",
      "metadata": {},
      "source": [
        "Train simple model"
      ]
    },
    {
      "cell_type": "code",
      "execution_count": null,
      "metadata": {},
      "outputs": [],
      "source": [
        "config.batch_size = 128\n",
        "config.epochs = 20\n",
        "config.loss = \"mse\"\n",
        "config.initalLearningRate = 5e-2\n",
        "\n",
        "lr_schedule = keras.optimizers.schedules.ExponentialDecay(\n",
        "    initial_learning_rate=config.initalLearningRate,\n",
        "    decay_steps=1000,\n",
        "    decay_rate=0.96)\n",
        "opt = keras.optimizers.Adam(learning_rate=lr_schedule)\n",
        "AoModel.compile(optimizer= \"adam\", loss=config.loss,\n",
        "    metrics=[keras.metrics.RootMeanSquaredError()])\n",
        "\n",
        "AoModel.fit(input_train, y_train, batch_size=config.batch_size, epochs=config.epochs, validation_split=0.1, callbacks=[WandbCallback()])\n",
        "\n"
      ]
    },
    {
      "cell_type": "code",
      "execution_count": null,
      "metadata": {},
      "outputs": [],
      "source": []
    },
    {
      "cell_type": "code",
      "execution_count": null,
      "metadata": {},
      "outputs": [],
      "source": [
        "trainPredict = AoModel.predict(input_train)\n",
        "trainError = trainPredict - y_train\n",
        "tmp = trainError.to_numpy().flatten()\n",
        "np.sqrt(np.sum(tmp**2)/tmp.size)/math.pi/.0051"
      ]
    },
    {
      "cell_type": "code",
      "execution_count": null,
      "metadata": {},
      "outputs": [],
      "source": [
        "trainPredict = AoModel.predict(input_test)\n",
        "trainError = trainPredict - y_test\n",
        "tmp = trainError.to_numpy().flatten()\n",
        "np.sqrt(np.sum(tmp**2)/tmp.size)/math.pi/.0051"
      ]
    },
    {
      "cell_type": "code",
      "execution_count": null,
      "metadata": {},
      "outputs": [],
      "source": [
        "np.sqrt(np.sum(tmp**2)/tmp.size)"
      ]
    },
    {
      "cell_type": "code",
      "execution_count": null,
      "metadata": {},
      "outputs": [],
      "source": []
    },
    {
      "cell_type": "code",
      "execution_count": null,
      "metadata": {},
      "outputs": [],
      "source": []
    }
  ],
  "metadata": {
    "accelerator": "GPU",
    "colab": {
      "collapsed_sections": [],
      "name": "Hyperparameter Optimization in TensorFlow using W&B Sweeps",
      "private_outputs": true,
      "provenance": [],
      "toc_visible": true
    },
    "interpreter": {
      "hash": "7240fa07bd5f0492db6e5998fcde1467c49f289639e3a06c91ae7c487c9ff707"
    },
    "kernelspec": {
      "display_name": "Python 3.8.8 64-bit ('base': conda)",
      "name": "python3"
    },
    "language_info": {
      "codemirror_mode": {
        "name": "ipython",
        "version": 3
      },
      "file_extension": ".py",
      "mimetype": "text/x-python",
      "name": "python",
      "nbconvert_exporter": "python",
      "pygments_lexer": "ipython3",
      "version": "3.8.8"
    }
  },
  "nbformat": 4,
  "nbformat_minor": 0
}