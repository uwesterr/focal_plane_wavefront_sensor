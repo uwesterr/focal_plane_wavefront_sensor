{
 "cells": [
  {
   "cell_type": "markdown",
   "source": [
    "## Setup"
   ],
   "metadata": {}
  },
  {
   "cell_type": "code",
   "execution_count": null,
   "source": [
    "import tensorflow as tf\n",
    "from tensorflow import keras\n",
    "from tensorflow.keras import layers\n",
    "import numpy as np\n",
    "import pandas as pd\n",
    "#import pyarrow.feather as feather\n",
    "from sklearn.model_selection import train_test_split \n",
    "\n",
    "from tensorflow.keras.callbacks import ReduceLROnPlateau\n",
    "from sklearn.preprocessing import PowerTransformer\n",
    "#from tensorflow.keras.layers.experimental import preprocessing\n"
   ],
   "outputs": [],
   "metadata": {}
  },
  {
   "cell_type": "markdown",
   "source": [
    "# W & B test"
   ],
   "metadata": {}
  },
  {
   "cell_type": "code",
   "execution_count": null,
   "source": [
    "# import wandb\n",
    "# from wandb.keras import WandbCallback\n",
    "# !wandb login\n"
   ],
   "outputs": [],
   "metadata": {}
  },
  {
   "cell_type": "markdown",
   "source": [
    "## Prepare the data"
   ],
   "metadata": {}
  },
  {
   "cell_type": "code",
   "execution_count": null,
   "source": [
    "# fluxData_df = feather.read_feather('data/fluxData.feather')\n",
    "# # zernikeData_df = feather.read_feather('data/zernikeData.feather')\n",
    "# fluxData_df\n"
   ],
   "outputs": [],
   "metadata": {}
  },
  {
   "cell_type": "markdown",
   "source": [
    "## import data as h5"
   ],
   "metadata": {}
  },
  {
   "cell_type": "code",
   "execution_count": null,
   "source": [
    "fluxData_df =pd.read_hdf(\"data/fluxData_df.h5\", key=\"fluxData_df\")\n",
    "\n",
    "zernikeData_df =pd.read_hdf(\"data/zernikeData_df.h5\", key=\"zernikeData_df\")"
   ],
   "outputs": [],
   "metadata": {}
  },
  {
   "cell_type": "code",
   "execution_count": null,
   "source": [
    "# Prepare the training dataset\n",
    "x_train = fluxData_df\n",
    "y_train = zernikeData_df\n",
    "# x_train, x_test, y_train, y_test = train_test_split(\n",
    "#     X, y, test_size=0.1, random_state=42)\n"
   ],
   "outputs": [],
   "metadata": {}
  },
  {
   "cell_type": "markdown",
   "source": [
    "## Box-Cox transform\n",
    "turned out to be of no effect"
   ],
   "metadata": {}
  },
  {
   "cell_type": "code",
   "execution_count": null,
   "source": [
    "pt = PowerTransformer()\n",
    "\n",
    "#x_trainTransform = pt.fit_transform(x_train)"
   ],
   "outputs": [],
   "metadata": {}
  },
  {
   "cell_type": "markdown",
   "source": [
    "## Normalize data\n",
    "as shown in https://keras.io/guides/preprocessing_layers/#normalizing-numerical-features "
   ],
   "metadata": {}
  },
  {
   "cell_type": "code",
   "execution_count": null,
   "source": [
    "\n",
    "x_train_norm = (x_train - x_train.mean(axis=0)) / x_train.std(axis=0)\n",
    "x_train_norm"
   ],
   "outputs": [],
   "metadata": {}
  },
  {
   "cell_type": "code",
   "execution_count": null,
   "source": [],
   "outputs": [],
   "metadata": {}
  },
  {
   "cell_type": "markdown",
   "source": [
    "# Build Model"
   ],
   "metadata": {}
  },
  {
   "cell_type": "code",
   "execution_count": null,
   "source": [
    "from tensorflow import keras\n",
    "AoModel = keras.Sequential([\n",
    "     layers.InputLayer(19, name=\"digits\"),\n",
    "     layers.Dense(2000, activation=\"relu\", name = \"Layer1\"),\n",
    "     #keras.layers.Dropout(0.5),\n",
    "     #keras.layers.BatchNormalization(),\n",
    "     layers.Dense(1050, activation=\"relu\", name=\"Layer2\"),\n",
    "     #keras.layers.Dropout(0.5),\n",
    "     #keras.layers.BatchNormalization(),\n",
    "     layers.Dense(100, activation=\"relu\", name=\"Layer3\"),\n",
    "     #keras.layers.BatchNormalization(),\n",
    "     layers.Dense(9, activation=\"linear\", name=\"predictions\"),\n",
    "\n",
    "])\n",
    "keras.utils.plot_model(AoModel, \"AoModel.png\", show_shapes = True)"
   ],
   "outputs": [],
   "metadata": {}
  },
  {
   "cell_type": "markdown",
   "source": [
    "## Compile and run model "
   ],
   "metadata": {}
  },
  {
   "cell_type": "code",
   "execution_count": null,
   "source": [
    "batch_size = 128\n",
    "epochs = 200\n",
    "tf.random.set_seed(2021)\n",
    "def root_mean_squared_error(y_true, y_pred):\n",
    "        return K.sqrt(K.mean(K.square(y_pred - y_true))) \n",
    "\n",
    "\n",
    "\n",
    "reduce_lr = ReduceLROnPlateau(monitor='val_loss', factor=0.8,\n",
    "                              patience=5, min_lr=0.000001, verbose=1, cooldown= 5)\n",
    "opt = keras.optimizers.Adam(learning_rate=0.001)\n",
    "\n",
    "AoModel.compile(loss= root_mean_squared_error,  optimizer=opt, metrics= [tf.keras.metrics.RootMeanSquaredError()])\n",
    "AoModel.fit(x_train_norm, y_train, batch_size=batch_size, epochs=epochs,validation_split = 0.2, verbose = 2, callbacks=[reduce_lr])\n",
    "\n",
    "#AoModel.fit(x_train, y_train, batch_size=batch_size, epochs=epochs, validation_split=0.1, callbacks=[WandbCallback()])"
   ],
   "outputs": [],
   "metadata": {}
  },
  {
   "cell_type": "code",
   "execution_count": null,
   "source": [
    "import tensorflow_addons as tfa\n",
    "opt = tf.ad"
   ],
   "outputs": [],
   "metadata": {}
  },
  {
   "cell_type": "markdown",
   "source": [],
   "metadata": {}
  },
  {
   "cell_type": "markdown",
   "source": [],
   "metadata": {}
  },
  {
   "cell_type": "markdown",
   "source": [
    "## Build model with funcitonal API"
   ],
   "metadata": {}
  },
  {
   "cell_type": "code",
   "execution_count": null,
   "source": [
    "NoLayers =4\n",
    "inputs = keras.Input(shape=(19,))\n",
    "Layer1 = layers.Dense(2000, activation=\"relu\", name = \"Layer1\")\n",
    "x = Layer1(inputs)\n",
    "x = layers.Dense(1050, activation=\"relu\", name = \"Layer2\")(x)\n",
    "x = layers.Dense(1000, activation=\"relu\", name = \"Layer3\")(x)\n",
    "if(NoLayers >3):\n",
    "    x = layers.Dense(100, activation=\"relu\", name = \"Layer4\")(x)\n",
    "outputs = layers.Dense(9, name = \"Output\")(x)\n",
    "AoFunctionalModel = keras.Model(inputs=inputs, outputs=outputs, name=\"AOModel\")\n",
    "\n",
    "AoFunctionalModel.summary()"
   ],
   "outputs": [],
   "metadata": {}
  },
  {
   "cell_type": "code",
   "execution_count": null,
   "source": [
    "keras.utils.plot_model(AoFunctionalModel, \"AoModel.png\", show_shapes = True)"
   ],
   "outputs": [],
   "metadata": {}
  },
  {
   "cell_type": "markdown",
   "source": [
    "## Run Ao funcitonal model"
   ],
   "metadata": {}
  },
  {
   "cell_type": "code",
   "execution_count": null,
   "source": [
    "batch_size = 128\n",
    "epochs = 200\n",
    "tf.random.set_seed(2021)\n",
    "reduce_lr = ReduceLROnPlateau(monitor='val_loss', factor=0.2,\n",
    "                              patience=5, min_lr=0.000001, verbose=1, cooldown= 5)\n",
    "opt = keras.optimizers.Adam(learning_rate=0.001)\n",
    "AoFunctionalModel.compile(loss= keras.losses.MeanSquaredError(),  optimizer=opt, metrics= [tf.keras.metrics.RootMeanSquaredError()])\n",
    "AoFunctionalModel.fit(x_train_norm, y_train, batch_size=batch_size, epochs=epochs,validation_split = 0.2, verbose = 2, callbacks=[reduce_lr])\n",
    "\n",
    "#AoModel.fit(x_train, y_train, batch_size=batch_size, epochs=epochs, validation_split=0.1, callbacks=[WandbCallback()])"
   ],
   "outputs": [],
   "metadata": {}
  },
  {
   "cell_type": "markdown",
   "source": [
    "## 9 different last hidden layers"
   ],
   "metadata": {}
  },
  {
   "cell_type": "code",
   "execution_count": null,
   "source": [
    "from keras.utils.generic_utils import get_custom_objects\n",
    "from keras.layers import Activation\n",
    "from keras import backend as K\n",
    "def custom_activation(x):\n",
    "    return (K.sigmoid(x) - 0.5) *2\n",
    "get_custom_objects().update({'linear': Activation(custom_activation)})\n",
    "\n",
    "\n",
    "inputs = keras.Input(shape=(19,))\n",
    "Layer1 = layers.Dense(2000, activation=\"linear\", name = \"Layer1\")\n",
    "x = Layer1(inputs)\n",
    "x = layers.Dense(1050, activation=\"relu\", name = \"Layer2\")(x)\n",
    "\n",
    "# create 9 outputs\n",
    "x1 = layers.Dense(100, activation=\"relu\", name = \"Layer3_1\")(x)\n",
    "out1 = layers.Dense(1, activation=custom_activation, name = \"out1\")(x1)\n",
    "\n",
    "x2 = layers.Dense(100, activation=\"relu\", name = \"Layer3_2\")(x)\n",
    "out2 = layers.Dense(1, activation=custom_activation, name = \"out2\")(x2)\n",
    "\n",
    "x3 = layers.Dense(100, activation=\"relu\", name = \"Layer3_3\")(x)\n",
    "out3 = layers.Dense(1, activation=custom_activation, name = \"out3\")(x3)\n",
    "\n",
    "x4 = layers.Dense(100, activation=\"relu\", name = \"Layer3_4\")(x)\n",
    "out4 = layers.Dense(1, activation=custom_activation, name = \"out4\")(x4)\n",
    "\n",
    "x5 = layers.Dense(100, activation=\"relu\", name = \"Layer3_5\")(x)\n",
    "out5 = layers.Dense(1, activation=custom_activation, name = \"out5\")(x5)\n",
    "\n",
    "x6 = layers.Dense(100, activation=\"relu\", name = \"Layer3_6\")(x)\n",
    "out6 = layers.Dense(1, activation=custom_activation, name = \"out6\")(x6)\n",
    "\n",
    "x7 = layers.Dense(100, activation=\"relu\", name = \"Layer3_7\")(x)\n",
    "out7 = layers.Dense(1, activation=custom_activation, name = \"out7\")(x7)\n",
    "\n",
    "x8 = layers.Dense(100, activation=\"relu\", name = \"Layer3_8\")(x)\n",
    "out8 = layers.Dense(1, activation=custom_activation, name = \"out8\")(x8)\n",
    "\n",
    "x9 = layers.Dense(100, activation=\"relu\", name = \"Layer3_9\")(x)\n",
    "out9 = layers.Dense(1, activation=custom_activation, name = \"out9\")(x9)\n",
    "\n",
    "\n",
    "outputs = tf.keras.layers.Concatenate(axis=1)([out1,out2,out3,out4,out5,out6,out7,out8,out9])\n",
    "\n",
    "\n",
    "#outputs = layers.Dense(9, name = \"Output\")(x)\n",
    "Ao9Exits = keras.Model(inputs=inputs, outputs=outputs, name=\"AOModel\")\n",
    "\n",
    "Ao9Exits.summary()"
   ],
   "outputs": [],
   "metadata": {}
  },
  {
   "cell_type": "code",
   "execution_count": null,
   "source": [
    "keras.utils.plot_model(AoFunctionalModel, \"AoModel.png\", show_shapes = True)"
   ],
   "outputs": [],
   "metadata": {}
  },
  {
   "cell_type": "code",
   "execution_count": null,
   "source": [],
   "outputs": [],
   "metadata": {}
  },
  {
   "cell_type": "markdown",
   "source": [
    "## train model"
   ],
   "metadata": {}
  },
  {
   "cell_type": "code",
   "execution_count": null,
   "source": [
    "batch_size = 128\n",
    "epochs = 200\n",
    "tf.random.set_seed(2021)\n",
    "reduce_lr = ReduceLROnPlateau(monitor='val_loss', factor=0.2,\n",
    "                              patience=5, min_lr=0.000001, verbose=1, cooldown= 5)\n",
    "opt = keras.optimizers.Adam(learning_rate=0.001)\n",
    "Ao9Exits.compile(loss= keras.losses.MeanSquaredError(),  optimizer=opt, metrics= [tf.keras.metrics.RootMeanSquaredError()])\n",
    "Ao9Exits.fit(x_train_norm, y_train, batch_size=batch_size, epochs=epochs,validation_split = 0.2, verbose = 2, callbacks=[reduce_lr])\n",
    "\n",
    "#AoModel.fit(x_train, y_train, batch_size=batch_size, epochs=epochs, validation_split=0.1, callbacks=[WandbCallback()])"
   ],
   "outputs": [],
   "metadata": {}
  },
  {
   "cell_type": "code",
   "execution_count": null,
   "source": [],
   "outputs": [],
   "metadata": {}
  },
  {
   "cell_type": "code",
   "execution_count": null,
   "source": [],
   "outputs": [],
   "metadata": {}
  },
  {
   "cell_type": "code",
   "execution_count": null,
   "source": [],
   "outputs": [],
   "metadata": {}
  }
 ],
 "metadata": {
  "interpreter": {
   "hash": "7240fa07bd5f0492db6e5998fcde1467c49f289639e3a06c91ae7c487c9ff707"
  },
  "kernelspec": {
   "display_name": "Python 3.8.8 64-bit ('base': conda)",
   "name": "python3"
  },
  "language_info": {
   "codemirror_mode": {
    "name": "ipython",
    "version": 3
   },
   "file_extension": ".py",
   "mimetype": "text/x-python",
   "name": "python",
   "nbconvert_exporter": "python",
   "pygments_lexer": "ipython3",
   "version": "3.8.8"
  },
  "orig_nbformat": 2
 },
 "nbformat": 4,
 "nbformat_minor": 2
}