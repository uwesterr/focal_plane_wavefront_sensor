{
 "cells": [
  {
   "cell_type": "markdown",
   "source": [
    "# XGBoost to learn AO Sydney mapping\n",
    "Runs with Py 3.8.8 on Mac  \n",
    "Feature importance is not available for MultiOutputRegressor, makes sense since it is an ensemble of models, for each model a different feature importance is likely.  \n",
    "Also there is no save method for MultiOutputRegressor, therefore no model was saved."
   ],
   "metadata": {}
  },
  {
   "cell_type": "code",
   "execution_count": null,
   "source": [
    "from sklearn.ensemble import RandomForestRegressor\n",
    "from sklearn.datasets import make_regression\n",
    "import pyarrow.feather as feather\n",
    "import numpy as np\n",
    "import math\n",
    "import xgboost as xgb\n",
    "from sklearn.multioutput import MultiOutputRegressor\n",
    "from sklearn.model_selection import train_test_split \n",
    "\n"
   ],
   "outputs": [],
   "metadata": {}
  },
  {
   "cell_type": "code",
   "execution_count": null,
   "source": [
    "fluxData_df = feather.read_feather('data/fluxData.feather')\n",
    "zernikeData_df = feather.read_feather('data/zernikeData.feather')\n",
    "fluxData_df\n"
   ],
   "outputs": [],
   "metadata": {}
  },
  {
   "cell_type": "code",
   "execution_count": null,
   "source": [
    "zernikeData_df.describe()"
   ],
   "outputs": [],
   "metadata": {}
  },
  {
   "cell_type": "markdown",
   "source": [
    "## XGBoost for multivariant regression \n",
    "https://scikit-learn.org/stable/modules/generated/sklearn.multioutput.MultiOutputRegressor.html#sklearn.multioutput.MultiOutputRegressor "
   ],
   "metadata": {}
  },
  {
   "cell_type": "code",
   "execution_count": null,
   "source": [
    "# split data\n",
    "\n",
    "X = fluxData_df\n",
    "y = zernikeData_df\n",
    "X_train, X_test, y_train, y_test = train_test_split(\n",
    "    X, y, test_size=0.2, random_state=42)\n",
    "\n",
    "\n",
    "xgb.set_config(verbosity=1)"
   ],
   "outputs": [],
   "metadata": {}
  },
  {
   "cell_type": "code",
   "execution_count": null,
   "source": [
    "# fitting\n",
    "result = MultiOutputRegressor(xgb.XGBRegressor(objective='reg:squarederror', colsample_bynode =.8, max_depth = 6, reg_alpha=.1668, reg_lambda =.5222, subsample = .4372,\n",
    "n_estimators = 20000, learning_rate = 0.04954, tree_method =\"hist\", booster =\"gbtree\")).fit(X_train, y_train)\n",
    "predictResult = result.predict(X_test)\n",
    "predictError =predictResult-y_test\n",
    "tmp = predictError.to_numpy().flatten()\n",
    "np.sqrt(np.sum(tmp**2)/tmp.size)/math.pi/.0051 # error relative to AO paper"
   ],
   "outputs": [],
   "metadata": {}
  },
  {
   "cell_type": "markdown",
   "source": [
    "### errror in absolute terms"
   ],
   "metadata": {}
  },
  {
   "cell_type": "code",
   "execution_count": null,
   "source": [
    "np.sqrt(np.sum(tmp**2)/tmp.size)"
   ],
   "outputs": [],
   "metadata": {}
  },
  {
   "cell_type": "code",
   "execution_count": 14,
   "source": [
    "result.get_params(deep=True)"
   ],
   "outputs": [
    {
     "output_type": "execute_result",
     "data": {
      "text/plain": [
       "{'estimator__objective': 'reg:squarederror',\n",
       " 'estimator__base_score': None,\n",
       " 'estimator__booster': 'gbtree',\n",
       " 'estimator__colsample_bylevel': None,\n",
       " 'estimator__colsample_bynode': 0.8,\n",
       " 'estimator__colsample_bytree': None,\n",
       " 'estimator__gamma': None,\n",
       " 'estimator__gpu_id': None,\n",
       " 'estimator__importance_type': 'gain',\n",
       " 'estimator__interaction_constraints': None,\n",
       " 'estimator__learning_rate': 0.04954,\n",
       " 'estimator__max_delta_step': None,\n",
       " 'estimator__max_depth': 6,\n",
       " 'estimator__min_child_weight': None,\n",
       " 'estimator__missing': nan,\n",
       " 'estimator__monotone_constraints': None,\n",
       " 'estimator__n_estimators': 20000,\n",
       " 'estimator__n_jobs': None,\n",
       " 'estimator__num_parallel_tree': None,\n",
       " 'estimator__random_state': None,\n",
       " 'estimator__reg_alpha': 0.1668,\n",
       " 'estimator__reg_lambda': 0.5222,\n",
       " 'estimator__scale_pos_weight': None,\n",
       " 'estimator__subsample': 0.4372,\n",
       " 'estimator__tree_method': 'hist',\n",
       " 'estimator__validate_parameters': None,\n",
       " 'estimator__verbosity': None,\n",
       " 'estimator': XGBRegressor(base_score=None, booster='gbtree', colsample_bylevel=None,\n",
       "              colsample_bynode=0.8, colsample_bytree=None, gamma=None,\n",
       "              gpu_id=None, importance_type='gain', interaction_constraints=None,\n",
       "              learning_rate=0.04954, max_delta_step=None, max_depth=6,\n",
       "              min_child_weight=None, missing=nan, monotone_constraints=None,\n",
       "              n_estimators=20000, n_jobs=None, num_parallel_tree=None,\n",
       "              random_state=None, reg_alpha=0.1668, reg_lambda=0.5222,\n",
       "              scale_pos_weight=None, subsample=0.4372, tree_method='hist',\n",
       "              validate_parameters=None, verbosity=None),\n",
       " 'n_jobs': None}"
      ]
     },
     "metadata": {},
     "execution_count": 14
    }
   ],
   "metadata": {}
  },
  {
   "cell_type": "markdown",
   "source": [],
   "metadata": {}
  }
 ],
 "metadata": {
  "interpreter": {
   "hash": "7240fa07bd5f0492db6e5998fcde1467c49f289639e3a06c91ae7c487c9ff707"
  },
  "kernelspec": {
   "name": "python3",
   "display_name": "Python 3.8.8 64-bit ('base': conda)"
  },
  "language_info": {
   "codemirror_mode": {
    "name": "ipython",
    "version": 3
   },
   "file_extension": ".py",
   "mimetype": "text/x-python",
   "name": "python",
   "nbconvert_exporter": "python",
   "pygments_lexer": "ipython3",
   "version": "3.8.8"
  },
  "orig_nbformat": 2
 },
 "nbformat": 4,
 "nbformat_minor": 2
}