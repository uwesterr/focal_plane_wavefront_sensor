{
  "cells": [
    {
      "cell_type": "markdown",
      "source": [
        "# 🚀 Install, Import, and Log in"
      ],
      "metadata": {
        "id": "PIIQxWeVW4Pj"
      }
    },
    {
      "cell_type": "markdown",
      "source": [
        "### Step 0️⃣: Install W&B"
      ],
      "metadata": {
        "id": "wmlhYoBlOxYd"
      }
    },
    {
      "cell_type": "code",
      "execution_count": null,
      "source": [
        "%%capture\n",
        "#!pip install wandb\n",
        "!pip install pandas"
      ],
      "outputs": [],
      "metadata": {
        "id": "sAZBTFNQq0ys"
      }
    },
    {
      "cell_type": "markdown",
      "source": [
        "### Step 1️⃣: Import W&B and Login"
      ],
      "metadata": {
        "id": "Tu-KHLAeO3wi"
      }
    },
    {
      "cell_type": "code",
      "execution_count": null,
      "source": [
        "import tensorflow as tf\n",
        "from tensorflow import keras\n",
        "from tensorflow.keras import layers\n",
        "\n",
        "import os\n",
        "import numpy as np\n",
        "import pandas as pd\n",
        "#import matplotlib.pyplot as plt\n",
        "\n",
        "from sklearn.model_selection import train_test_split \n",
        "from tensorflow.keras.callbacks import ReduceLROnPlateau\n",
        "\n",
        "\n",
        "#%matplotlib inline"
      ],
      "outputs": [],
      "metadata": {
        "id": "jkWTZxIyysDm"
      }
    },
    {
      "cell_type": "code",
      "execution_count": null,
      "source": [
        "import wandb\n",
        "from wandb.keras import WandbCallback\n",
        "\n",
        "#wandb.init()  # defaults are over-ridden during the sweep\n",
        "\n",
        "\n",
        "#wandb.login()"
      ],
      "outputs": [],
      "metadata": {
        "id": "XmVkQbw_q_07"
      }
    },
    {
      "cell_type": "code",
      "execution_count": null,
      "source": [
        "\n",
        "fluxData_df =pd.read_hdf(\"data/fluxData_df.h5\", key=\"fluxData_df\")\n",
        "\n",
        "zernikeData_df =pd.read_hdf(\"data/zernikeData_df.h5\", key=\"zernikeData_df\")"
      ],
      "outputs": [],
      "metadata": {}
    },
    {
      "cell_type": "markdown",
      "source": [
        "Read data in"
      ],
      "metadata": {
        "id": "hNw4gP_Oqx7c"
      }
    },
    {
      "cell_type": "markdown",
      "source": [
        "# 👩‍🍳 Prepare Dataset"
      ],
      "metadata": {
        "id": "Nhe7pVMlwv4H"
      }
    },
    {
      "cell_type": "code",
      "execution_count": null,
      "source": [
        "# Prepare the training dataset\n",
        "x_train = fluxData_df\n",
        "y_train = zernikeData_df\n",
        "\n",
        "x_train_norm = (x_train - x_train.mean(axis=0)) / x_train.std(axis=0)\n",
        "input_train = x_train_norm.to_numpy()[:,:,np.newaxis]"
      ],
      "outputs": [],
      "metadata": {
        "id": "xnxsNbPmMvqr"
      }
    },
    {
      "cell_type": "markdown",
      "source": [
        "# 🧠 Define the wandb sweep"
      ],
      "metadata": {
        "id": "ftU5d82stSdV"
      }
    },
    {
      "cell_type": "markdown",
      "source": [],
      "metadata": {}
    },
    {
      "cell_type": "code",
      "execution_count": null,
      "source": [
        "os.environ[\"WANDB_NOTEBOOK_NAME\"] = \"AoConv1DKerasStudio.ipynb\"\n",
        "\n",
        "sweep_config = {\n",
        "    \"method\": \"random\", # try grid or random\n",
        "    \"metric\": {\n",
        "        \"name\": \"val_root_mean_squared_error\",\n",
        "        \"goal\": \"minimize\"\n",
        "    },\n",
        "    \"parameters\": {\n",
        "\n",
        "    \"learning_rate\" :{\n",
        "        \"values\": [ 0.0005, 0.001]\n",
        "        }, \n",
        "    \"lrFactor\": {\n",
        "        \"values\": [0.5]\n",
        "    },                  \n",
        "  \n",
        "    \"batch_size\": {\n",
        "        \"values\": [128]\n",
        "    },\n",
        "    \"epochs\": {\n",
        "        \"values\": [100]\n",
        "    }, \n",
        "    \"conv1D_1\": {\n",
        "        \"values\": [64, 128]\n",
        "    }, \n",
        "    \"conv1D_1_width\": {\n",
        "        \"values\": [4, 8]\n",
        "    }, \n",
        "    \"conv1D_2\": {\n",
        "        \"values\": [32, 64]\n",
        "    }, \n",
        "    \"conv1D_2_width\": {\n",
        "        \"values\": [2, 4]\n",
        "    }                \n",
        "    }\n",
        "}"
      ],
      "outputs": [],
      "metadata": {}
    },
    {
      "cell_type": "code",
      "execution_count": null,
      "source": [
        "## Define training loop"
      ],
      "outputs": [],
      "metadata": {}
    },
    {
      "cell_type": "code",
      "execution_count": null,
      "source": [
        "def train():\n",
        " \n",
        "  wandb.init(tags=[\"Conv1D\"])  # defaults are over-ridden during the sweep\n",
        "  config = wandb.config\n",
        "  input_shape = (4, 19, 1)\n",
        "\n",
        "  AoConv1DModel = keras.Sequential([\n",
        "      keras.layers.Conv1D( config.conv1D_1, config.conv1D_1_width, activation='relu',input_shape=input_shape[1:]),\n",
        "      keras.layers.MaxPool1D(pool_size=2),\n",
        "      keras.layers.Conv1D( config.conv1D_2, config.conv1D_2_width, activation='relu',input_shape=input_shape[1:]),\n",
        "      keras.layers.MaxPool1D(pool_size=2),\n",
        "      keras.layers.Flatten(),\n",
        "      keras.layers.Dense(2000, activation=\"relu\"),\n",
        "      keras.layers.Dense(1050, activation=\"relu\"),\n",
        "      keras.layers.Dense(100, activation=\"relu\"),\n",
        "      keras.layers.Dense(9,  name=\"predictions\"),\n",
        "\n",
        "  ])\n",
        "\n",
        "\n",
        "  earlyStopping = keras.callbacks.EarlyStopping(monitor = \"val_loss\", patience =10)\n",
        "  reduce_lr = ReduceLROnPlateau(monitor='val_loss', factor=config.lrFactor,\n",
        "                                patience=5, min_lr=0.000001, verbose=1, cooldown= 5)\n",
        "\n",
        "  opt = keras.optimizers.Adam(learning_rate=config.learning_rate)\n",
        "  AoConv1DModel.compile(loss= keras.losses.MeanSquaredError(),  optimizer=opt, metrics= [tf.keras.metrics.RootMeanSquaredError()])\n",
        "  AoConv1DModel.fit(input_train, y_train, batch_size=config.batch_size, epochs=config.epochs,validation_split = 0.2, verbose = 2, callbacks=[reduce_lr, earlyStopping, WandbCallback()])\n",
        "\n"
      ],
      "outputs": [],
      "metadata": {}
    },
    {
      "cell_type": "markdown",
      "source": [
        "## Initialize sweep"
      ],
      "metadata": {}
    },
    {
      "cell_type": "code",
      "execution_count": null,
      "source": [
        "sweep_id = wandb.sweep(sweep_config, entity = \"uwe-sterr\",project=\"KerasAoSweep\")\n",
        "wandb.run"
      ],
      "outputs": [],
      "metadata": {}
    },
    {
      "cell_type": "markdown",
      "source": [
        "## Run sweep"
      ],
      "metadata": {}
    },
    {
      "cell_type": "code",
      "execution_count": null,
      "source": [
        "wandb.agent(sweep_id, train, count=400)"
      ],
      "outputs": [],
      "metadata": {}
    },
    {
      "cell_type": "markdown",
      "source": [],
      "metadata": {}
    }
  ],
  "metadata": {
    "accelerator": "GPU",
    "colab": {
      "collapsed_sections": [],
      "name": "Hyperparameter Optimization in TensorFlow using W&B Sweeps",
      "private_outputs": true,
      "provenance": [],
      "toc_visible": true
    },
    "interpreter": {
      "hash": "7240fa07bd5f0492db6e5998fcde1467c49f289639e3a06c91ae7c487c9ff707"
    },
    "kernelspec": {
      "display_name": "Python 3.8.8 64-bit ('base': conda)",
      "name": "python3"
    },
    "language_info": {
      "codemirror_mode": {
        "name": "ipython",
        "version": 3
      },
      "file_extension": ".py",
      "mimetype": "text/x-python",
      "name": "python",
      "nbconvert_exporter": "python",
      "pygments_lexer": "ipython3",
      "version": "3.8.8"
    }
  },
  "nbformat": 4,
  "nbformat_minor": 2
}