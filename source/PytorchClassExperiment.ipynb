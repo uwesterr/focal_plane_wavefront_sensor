{
 "cells": [
  {
   "cell_type": "markdown",
   "source": [
    "## Learn about class and pytorch"
   ],
   "metadata": {}
  },
  {
   "cell_type": "code",
   "execution_count": null,
   "source": [
    "import torch\n",
    "import torch.optim as optim\n",
    "import torch.nn.functional as F\n",
    "import torch.nn as nn"
   ],
   "outputs": [],
   "metadata": {}
  },
  {
   "cell_type": "markdown",
   "source": [
    " based on https://pytorch.org/docs/stable/notes/modules.html"
   ],
   "metadata": {}
  },
  {
   "cell_type": "code",
   "execution_count": null,
   "source": [
    "import torch\n",
    "from torch import nn\n",
    "\n",
    "class MyLinear(nn.Module):\n",
    "  def __init__(self, in_features, out_features):\n",
    "    super().__init__()\n",
    "    self.weight = nn.Parameter(torch.randn(in_features, out_features))\n",
    "    self.bias = nn.Parameter(torch.randn(out_features))\n",
    "\n",
    "  def forward(self, input):\n",
    "    return (input @ self.weight) + self.bias"
   ],
   "outputs": [],
   "metadata": {}
  },
  {
   "cell_type": "code",
   "execution_count": null,
   "source": [
    "m = MyLinear(4, 3)\n",
    "sample_input = torch.randn(4)\n",
    "m(sample_input)\n"
   ],
   "outputs": [],
   "metadata": {}
  },
  {
   "cell_type": "code",
   "execution_count": null,
   "source": [],
   "outputs": [],
   "metadata": {}
  },
  {
   "cell_type": "code",
   "execution_count": null,
   "source": [
    "for parameter in m.named_parameters():\n",
    "  print(parameter)"
   ],
   "outputs": [],
   "metadata": {}
  },
  {
   "cell_type": "markdown",
   "source": [
    "## Modules as Building blocks"
   ],
   "metadata": {}
  },
  {
   "cell_type": "code",
   "execution_count": null,
   "source": [
    "import torch.nn.functional as F\n",
    "\n",
    "class Net(nn.Module):\n",
    "  def __init__(self):\n",
    "    super().__init__()\n",
    "    self.l0 = MyLinear(4, 3)\n",
    "    self.l1 = MyLinear(3, 1)\n",
    "  def forward(self, x):\n",
    "    x = self.l0(x)\n",
    "    x = F.relu(x)\n",
    "    x = self.l1(x)\n",
    "    return x"
   ],
   "outputs": [],
   "metadata": {}
  },
  {
   "cell_type": "code",
   "execution_count": null,
   "source": [
    "net = Net()\n",
    "for child in net.named_children():\n",
    "  print(child)"
   ],
   "outputs": [],
   "metadata": {}
  },
  {
   "cell_type": "code",
   "execution_count": null,
   "source": [
    "class BigNet(nn.Module):\n",
    "    def __init__(self):\n",
    "        super().__init__()\n",
    "        self.l1 = MyLinear(5, 4)\n",
    "        self.net = Net()\n",
    "    def forward(self, x):\n",
    "        return self.net(self.l1(x))\n",
    "\n",
    "big_net = BigNet()\n",
    "for module in big_net.named_modules():\n",
    "    print(module)"
   ],
   "outputs": [],
   "metadata": {}
  },
  {
   "cell_type": "markdown",
   "source": [
    "## Dynamic submodules"
   ],
   "metadata": {}
  },
  {
   "cell_type": "code",
   "execution_count": null,
   "source": [
    "class DynamicNet(nn.Module):\n",
    "      def __init__(self, num_layers):\n",
    "    super().__init__()\n",
    "    self.linears = nn.ModuleList(\n",
    "      [MyLinear(4, 4) for _ in range(num_layers)])\n",
    "    self.activations = nn.ModuleDict({\n",
    "      'relu': nn.ReLU(),\n",
    "      'lrelu': nn.LeakyReLU()\n",
    "    })\n",
    "    self.final = MyLinear(4, 1)\n",
    "  def forward(self, x, act):\n",
    "    for linear in self.linears:\n",
    "      x = linear(x)\n",
    "    x = self.activations[act](x)\n",
    "    x = self.final(x)\n",
    "    return x\n",
    "\n",
    "dynamic_net = DynamicNet(3)\n",
    "sample_input = torch.randn(4)\n",
    "output = dynamic_net(sample_input, 'relu')"
   ],
   "outputs": [],
   "metadata": {}
  },
  {
   "cell_type": "markdown",
   "source": [
    "## Neural Network Training with Modules"
   ],
   "metadata": {}
  },
  {
   "cell_type": "code",
   "execution_count": null,
   "source": [
    "net = Net()\n",
    "optimizer = torch.optim.SGD(net.parameters(), lr=1e-4, weight_decay=1e-2, momentum=0.9)\n",
    "\n",
    "# Run a sample training loop that \"teaches\" the network\n",
    "# to output the constant zero function\n",
    "for _ in range(10000):\n",
    "  input = torch.randn(4)\n",
    "  output = net(input)\n",
    "  loss = torch.abs(output)\n",
    "  net.zero_grad()\n",
    "  loss.backward()\n",
    "  optimizer.step()"
   ],
   "outputs": [],
   "metadata": {}
  },
  {
   "cell_type": "code",
   "execution_count": null,
   "source": [
    "print(net.l1.weight)"
   ],
   "outputs": [],
   "metadata": {}
  },
  {
   "cell_type": "code",
   "execution_count": null,
   "source": [
    "net.l0.bias"
   ],
   "outputs": [],
   "metadata": {}
  },
  {
   "cell_type": "code",
   "execution_count": null,
   "source": [],
   "outputs": [],
   "metadata": {}
  },
  {
   "cell_type": "markdown",
   "source": [
    "## Build Ao model with Class"
   ],
   "metadata": {}
  },
  {
   "cell_type": "code",
   "execution_count": null,
   "source": [
    "\n",
    "network = nn.Sequential( \n",
    "nn.Linear(19,2000), nn.ReLU(),\n",
    "nn.Linear(2000,1050), nn.ReLU(),\n",
    "nn.Linear(1050,100), nn.ReLU(),\n",
    "nn.Linear(100, 9))\n",
    "for child in network.named_children():\n",
    "    print(child)"
   ],
   "outputs": [],
   "metadata": {}
  },
  {
   "cell_type": "code",
   "execution_count": null,
   "source": [
    "\n",
    "class Net(nn.Module):\n",
    "    def __init__(self):\n",
    "        super().__init__()\n",
    "        self.linear1 = nn.Linear(19,2000)\n",
    "        self.linear2 = nn.Linear(2000,1050)\n",
    "        self.linear3 = nn.Linear(1050,100)\n",
    "        self.linear3 = nn.Linear(1050,100)\n",
    "        self.out = nn.Linear(100,19)\n",
    "        self.activations = nn.ModuleDict({\n",
    "            'relu': nn.ReLU(),\n",
    "            'lrelu': nn.LeakyReLU()\n",
    "    })\n",
    "\n",
    "    def forward(self, x, act):\n",
    "        x = self.linear1(x)\n",
    "        x = self.activations[act](x)\n",
    "        x = self.linear2(x)\n",
    "        x = self.activations[act](x)\n",
    "        x = self.linear3(x)\n",
    "        x = self.activations[act](x)\n",
    "        x = self.out(x)\n",
    "        return(x)\n",
    "\n",
    "\n",
    "ClassNetwork = Net()\n",
    "sample_input = torch.randn(19)\n",
    "ClassNetwork(sample_input, \"relu\")\n",
    "#print(ClassNetwork)"
   ],
   "outputs": [],
   "metadata": {}
  },
  {
   "cell_type": "markdown",
   "source": [],
   "metadata": {}
  },
  {
   "cell_type": "code",
   "execution_count": null,
   "source": [
    "class DynamicNet(nn.Module):\n",
    " def __init__(self, num_layers):\n",
    "    super().__init__()\n",
    "    self.linears = nn.ModuleList(\n",
    "      [MyLinear(4, 4) for _ in range(num_layers)])\n",
    "    self.activations = nn.ModuleDict({\n",
    "      'relu': nn.ReLU(),\n",
    "      'lrelu': nn.LeakyReLU()\n",
    "    })\n",
    "    self.final = MyLinear(4, 1)\n",
    " def forward(self, x, act):\n",
    "    for linear in self.linears:\n",
    "      x = linear(x)\n",
    "    x = self.activations[act](x)\n",
    "    x = self.final(x)\n",
    "    return x\n",
    "\n",
    "dynamic_net = DynamicNet(3)\n",
    "sample_input = torch.randn(4)\n",
    "output = dynamic_net(sample_input, 'lrelu')"
   ],
   "outputs": [],
   "metadata": {}
  },
  {
   "cell_type": "code",
   "execution_count": null,
   "source": [
    "for parameter in dynamic_net.named_parameters():\n",
    "  print(parameter)"
   ],
   "outputs": [],
   "metadata": {}
  },
  {
   "cell_type": "code",
   "execution_count": null,
   "source": [],
   "outputs": [],
   "metadata": {}
  }
 ],
 "metadata": {
  "orig_nbformat": 4,
  "language_info": {
   "name": "python"
  }
 },
 "nbformat": 4,
 "nbformat_minor": 2
}